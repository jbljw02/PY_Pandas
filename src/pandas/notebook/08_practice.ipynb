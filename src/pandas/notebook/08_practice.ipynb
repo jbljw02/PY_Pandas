{
 "cells": [
  {
   "cell_type": "markdown",
   "source": [],
   "metadata": {
    "collapsed": false
   }
  },
  {
   "cell_type": "code",
   "execution_count": 12,
   "outputs": [
    {
     "name": "stdout",
     "output_type": "stream",
     "text": [
      "   total_bill   tip     sex smoker  day    time  size sex_str\n",
      "0       16.99  1.01    Male     No  Sun  Dinner     2    Male\n",
      "1       10.34  1.66    Male     No  Sun  Dinner     3     NaN\n",
      "2       21.01  3.50    Male     No  Sun  Dinner     3     NaN\n",
      "3       23.68  3.31    Male     No  Sun  Dinner     2     NaN\n",
      "4       24.59  3.61  Female     No  Sun  Dinner     4     NaN\n"
     ]
    }
   ],
   "source": [
    "import pandas as pd\n",
    "import seaborn as sns\n",
    "\n",
    "tips = sns.load_dataset(\"tips\")\n"
   ],
   "metadata": {
    "collapsed": false,
    "ExecuteTime": {
     "start_time": "2023-05-25T10:12:55.231742Z",
     "end_time": "2023-05-25T10:12:55.280610Z"
    }
   }
  },
  {
   "cell_type": "markdown",
   "source": [
    "# 첫번째 행 데이터의 'sex'값을 Male, 'sex_str'값을 Male로 변경"
   ],
   "metadata": {
    "collapsed": false
   }
  },
  {
   "cell_type": "code",
   "execution_count": null,
   "outputs": [],
   "source": [
    "tips.loc[0, 'sex'] = 'Male'\n",
    "tips.loc[0, 'sex_str'] = 'Male'\n",
    "print(tips.head())"
   ],
   "metadata": {
    "collapsed": false
   }
  },
  {
   "cell_type": "markdown",
   "metadata": {},
   "source": [
    "# dtypes 속성으로 데이터프레임의 자료형 살펴보기"
   ]
  },
  {
   "cell_type": "code",
   "execution_count": null,
   "metadata": {},
   "outputs": [],
   "source": []
  },
  {
   "cell_type": "markdown",
   "metadata": {},
   "source": [
    "# 여러 가지 자료형을 문자열로 변환하기"
   ]
  },
  {
   "cell_type": "code",
   "execution_count": null,
   "metadata": {},
   "outputs": [],
   "source": []
  },
  {
   "cell_type": "markdown",
   "metadata": {},
   "source": [
    "# 자료형을 변환한 데이터 다시 원래대로 만들기"
   ]
  },
  {
   "cell_type": "code",
   "execution_count": 13,
   "metadata": {
    "ExecuteTime": {
     "start_time": "2023-05-25T10:19:08.078733Z",
     "end_time": "2023-05-25T10:19:08.171482Z"
    }
   },
   "outputs": [
    {
     "name": "stdout",
     "output_type": "stream",
     "text": [
      "total_bill     float64\n",
      "tip            float64\n",
      "sex           category\n",
      "smoker        category\n",
      "day           category\n",
      "time          category\n",
      "size             int64\n",
      "sex_str         object\n",
      "dtype: object\n"
     ]
    }
   ],
   "source": [
    "tips['total_bill'].astype(str)\n",
    "print(tips.dtypes)"
   ]
  },
  {
   "cell_type": "markdown",
   "metadata": {},
   "source": [
    "# 잘못 입력한 문자열 처리하기"
   ]
  },
  {
   "cell_type": "code",
   "execution_count": null,
   "metadata": {},
   "outputs": [],
   "source": [
    "tips_sub_miss = tips.head(10)"
   ]
  },
  {
   "cell_type": "markdown",
   "metadata": {},
   "source": [
    "# 문자열을 카테고리로 변환하기"
   ]
  },
  {
   "cell_type": "code",
   "execution_count": 14,
   "metadata": {
    "ExecuteTime": {
     "start_time": "2023-05-25T10:34:16.978860Z",
     "end_time": "2023-05-25T10:34:17.152397Z"
    }
   },
   "outputs": [
    {
     "name": "stdout",
     "output_type": "stream",
     "text": [
      "     total_bill   tip     sex smoker   day    time  size sex_str\n",
      "0         16.99  1.01    Male     No   Sun  Dinner     2    Male\n",
      "1         10.34  1.66    Male     No   Sun  Dinner     3     NaN\n",
      "2         21.01  3.50    Male     No   Sun  Dinner     3     NaN\n",
      "3         23.68  3.31    Male     No   Sun  Dinner     2     NaN\n",
      "4         24.59  3.61  Female     No   Sun  Dinner     4     NaN\n",
      "..          ...   ...     ...    ...   ...     ...   ...     ...\n",
      "239       29.03  5.92    Male     No   Sat  Dinner     3     NaN\n",
      "240       27.18  2.00  Female    Yes   Sat  Dinner     2     NaN\n",
      "241       22.67  2.00    Male    Yes   Sat  Dinner     2     NaN\n",
      "242       17.82  1.75    Male     No   Sat  Dinner     2     NaN\n",
      "243       18.78  3.00  Female     No  Thur  Dinner     2     NaN\n",
      "\n",
      "[244 rows x 8 columns]\n"
     ]
    }
   ],
   "source": [
    "print(tips)"
   ]
  },
  {
   "cell_type": "code",
   "execution_count": 26,
   "outputs": [],
   "source": [
    "tips['smoker'] = tips['smoker'].astype('category')"
   ],
   "metadata": {
    "collapsed": false,
    "ExecuteTime": {
     "start_time": "2023-05-25T10:40:42.388811Z",
     "end_time": "2023-05-25T10:40:42.416934Z"
    }
   }
  },
  {
   "cell_type": "code",
   "execution_count": 29,
   "outputs": [
    {
     "name": "stdout",
     "output_type": "stream",
     "text": [
      "   total_bill   tip     sex smoker  day    time  size sex_str (0, smoker)\n",
      "0       16.99  1.01    Male   Both  Sun  Dinner     2    Male        Both\n",
      "1       10.34  1.66    Male     No  Sun  Dinner     3     NaN        Both\n",
      "2       21.01  3.50    Male     No  Sun  Dinner     3     NaN        Both\n",
      "3       23.68  3.31    Male   Both  Sun  Dinner     2     NaN        Both\n",
      "4       24.59  3.61  Female    Yes  Sun  Dinner     4     NaN        Both\n"
     ]
    }
   ],
   "source": [
    "tips.loc[0, 'smoker'] = 'Both'\n",
    "print(tips.head())"
   ],
   "metadata": {
    "collapsed": false,
    "ExecuteTime": {
     "start_time": "2023-05-25T10:41:42.232371Z",
     "end_time": "2023-05-25T10:41:42.261297Z"
    }
   }
  },
  {
   "cell_type": "code",
   "execution_count": null,
   "outputs": [],
   "source": [],
   "metadata": {
    "collapsed": false,
    "ExecuteTime": {
     "start_time": "2023-05-25T10:38:13.593275Z",
     "end_time": "2023-05-25T10:38:13.671065Z"
    }
   }
  },
  {
   "cell_type": "code",
   "execution_count": null,
   "outputs": [],
   "source": [],
   "metadata": {
    "collapsed": false,
    "ExecuteTime": {
     "start_time": "2023-05-25T10:39:12.090622Z",
     "end_time": "2023-05-25T10:39:12.148455Z"
    }
   }
  },
  {
   "cell_type": "code",
   "execution_count": null,
   "outputs": [],
   "source": [],
   "metadata": {
    "collapsed": false
   }
  }
 ],
 "metadata": {
  "kernelspec": {
   "display_name": "Python 3",
   "language": "python",
   "name": "python3"
  },
  "language_info": {
   "codemirror_mode": {
    "name": "ipython",
    "version": 3
   },
   "file_extension": ".py",
   "mimetype": "text/x-python",
   "name": "python",
   "nbconvert_exporter": "python",
   "pygments_lexer": "ipython3",
   "version": "3.6.5"
  }
 },
 "nbformat": 4,
 "nbformat_minor": 1
}
