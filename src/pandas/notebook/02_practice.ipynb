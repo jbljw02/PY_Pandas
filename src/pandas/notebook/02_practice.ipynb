{
 "cells": [
  {
   "cell_type": "markdown",
   "metadata": {},
   "source": [
    "# 갭마인더 데이터 집합 불러오기"
   ]
  },
  {
   "cell_type": "code",
   "execution_count": 3,
   "metadata": {
    "ExecuteTime": {
     "start_time": "2023-05-20T20:37:29.371345Z",
     "end_time": "2023-05-20T20:37:29.491026Z"
    }
   },
   "outputs": [],
   "source": [
    "import pandas as pd\n",
    "df = pd.read_csv('../data/gapminder.tsv', sep='\\t')"
   ]
  },
  {
   "cell_type": "markdown",
   "metadata": {},
   "source": [
    "# 불러온 데이터 집합 살펴보기"
   ]
  },
  {
   "cell_type": "code",
   "execution_count": 29,
   "metadata": {
    "ExecuteTime": {
     "start_time": "2023-05-20T20:47:05.169688Z",
     "end_time": "2023-05-20T20:47:05.252067Z"
    }
   },
   "outputs": [],
   "source": []
  },
  {
   "cell_type": "markdown",
   "metadata": {},
   "source": [
    "# 열 단위로 데이터 추출하기"
   ]
  },
  {
   "cell_type": "code",
   "execution_count": 29,
   "metadata": {
    "ExecuteTime": {
     "start_time": "2023-05-20T20:47:00.363364Z",
     "end_time": "2023-05-20T20:47:00.389434Z"
    }
   },
   "outputs": [],
   "source": []
  },
  {
   "cell_type": "markdown",
   "metadata": {},
   "source": [
    "# loc 속성으로 행 단위 데이터 추출하기"
   ]
  },
  {
   "cell_type": "code",
   "execution_count": 61,
   "outputs": [
    {
     "data": {
      "text/plain": "country        Zimbabwe\ncontinent        Africa\nyear               2007\nlifeExp          43.487\npop            12311143\ngdpPercap    469.709298\nName: 1703, dtype: object"
     },
     "execution_count": 61,
     "metadata": {},
     "output_type": "execute_result"
    }
   ],
   "source": [
    "df.loc[1703]"
   ],
   "metadata": {
    "collapsed": false,
    "ExecuteTime": {
     "start_time": "2023-05-20T20:58:01.711813Z",
     "end_time": "2023-05-20T20:58:01.777681Z"
    }
   }
  },
  {
   "cell_type": "markdown",
   "metadata": {},
   "source": []
  },
  {
   "cell_type": "markdown",
   "metadata": {},
   "source": [
    "# iloc 속성으로 행 단위 데이터 추출하기"
   ]
  },
  {
   "cell_type": "code",
   "execution_count": 60,
   "metadata": {
    "ExecuteTime": {
     "start_time": "2023-05-20T20:57:56.460035Z",
     "end_time": "2023-05-20T20:57:56.489953Z"
    }
   },
   "outputs": [
    {
     "data": {
      "text/plain": "country        Zimbabwe\ncontinent        Africa\nyear               2007\nlifeExp          43.487\npop            12311143\ngdpPercap    469.709298\nName: 1703, dtype: object"
     },
     "execution_count": 60,
     "metadata": {},
     "output_type": "execute_result"
    }
   ],
   "source": [
    "df.iloc[1703]"
   ]
  },
  {
   "cell_type": "markdown",
   "metadata": {},
   "source": [
    "# 파이썬 슬라이싱 구문을 조합하여 원하는 데이터 추출하기"
   ]
  },
  {
   "cell_type": "code",
   "execution_count": null,
   "metadata": {
    "ExecuteTime": {
     "start_time": "2023-05-20T21:02:31.901788Z",
     "end_time": "2023-05-20T21:02:31.979071Z"
    }
   },
   "outputs": [],
   "source": [
    "# df.loc[:, [2,4]]\n",
    "# df.iloc[:, [2,4,-1]]"
   ]
  },
  {
   "cell_type": "markdown",
   "metadata": {},
   "source": [
    "# iloc 속성과 range 메서드로 원하는 데이터 추출하기"
   ]
  },
  {
   "cell_type": "code",
   "execution_count": null,
   "outputs": [],
   "source": [],
   "metadata": {
    "collapsed": false,
    "ExecuteTime": {
     "start_time": "2023-05-20T21:06:11.051020Z",
     "end_time": "2023-05-20T21:06:11.189598Z"
    }
   }
  },
  {
   "cell_type": "code",
   "execution_count": null,
   "metadata": {
    "ExecuteTime": {
     "start_time": "2023-05-20T21:16:46.262319Z",
     "end_time": "2023-05-20T21:16:46.360067Z"
    }
   },
   "outputs": [],
   "source": [
    "df.iloc[:, range(0,6,2)]"
   ]
  },
  {
   "cell_type": "markdown",
   "metadata": {},
   "source": [
    "# 열 지정값에 파이썬 슬라이싱을 사용하여 원하는 데이터 추출하기"
   ]
  },
  {
   "cell_type": "code",
   "execution_count": null,
   "metadata": {},
   "outputs": [],
   "source": []
  },
  {
   "cell_type": "markdown",
   "metadata": {},
   "source": [
    "# loc, iloc 자유자재로 사용하기"
   ]
  },
  {
   "cell_type": "code",
   "execution_count": 85,
   "metadata": {
    "ExecuteTime": {
     "start_time": "2023-05-20T21:17:33.456620Z",
     "end_time": "2023-05-20T21:17:33.494550Z"
    }
   },
   "outputs": [
    {
     "name": "stdout",
     "output_type": "stream",
     "text": [
      "       country continent\n",
      "1  Afghanistan      Asia\n",
      "3  Afghanistan      Asia\n"
     ]
    }
   ],
   "source": []
  },
  {
   "cell_type": "markdown",
   "metadata": {},
   "source": [
    "# 그룹화한 데이터의 평균 구하기"
   ]
  },
  {
   "cell_type": "code",
   "execution_count": 105,
   "metadata": {
    "ExecuteTime": {
     "start_time": "2023-05-20T21:27:49.775935Z",
     "end_time": "2023-05-20T21:27:49.885673Z"
    }
   },
   "outputs": [
    {
     "data": {
      "text/plain": "                  lifeExp     gdpPercap\nyear continent                         \n1952 Africa     39.135500   1252.572466\n     Americas   53.279840   4079.062552\n     Asia       46.314394   5195.484004\n     Europe     64.408500   5661.057435\n     Oceania    69.255000  10298.085650\n1957 Africa     41.266346   1385.236062\n     Americas   55.960280   4616.043733\n     Asia       49.318544   5787.732940\n     Europe     66.703067   6963.012816\n     Oceania    70.295000  11598.522455\n1962 Africa     43.319442   1598.078825\n     Americas   58.398760   4901.541870\n     Asia       51.563223   5729.369625\n     Europe     68.539233   8365.486814\n     Oceania    71.085000  12696.452430\n1967 Africa     45.334538   2050.363801\n     Americas   60.410920   5668.253496\n     Asia       54.663640   5971.173374\n     Europe     69.737600  10143.823757\n     Oceania    71.310000  14495.021790\n1972 Africa     47.450942   2339.615674\n     Americas   62.394920   6491.334139\n     Asia       57.319269   8187.468699\n     Europe     70.775033  12479.575246\n     Oceania    71.910000  16417.333380\n1977 Africa     49.580423   2585.938508\n     Americas   64.391560   7352.007126\n     Asia       59.610556   7791.314020\n     Europe     71.937767  14283.979110\n     Oceania    72.855000  17283.957605\n1982 Africa     51.592865   2481.592960\n     Americas   66.228840   7506.737088\n     Asia       62.617939   7434.135157\n     Europe     72.806400  15617.896551\n     Oceania    74.290000  18554.709840\n1987 Africa     53.344788   2282.668991\n     Americas   68.090720   7793.400261\n     Asia       64.851182   7608.226508\n     Europe     73.642167  17214.310727\n     Oceania    75.320000  20448.040160\n1992 Africa     53.629577   2281.810333\n     Americas   69.568360   8044.934406\n     Asia       66.537212   8639.690248\n     Europe     74.440100  17061.568084\n     Oceania    76.945000  20894.045885\n1997 Africa     53.598269   2378.759555\n     Americas   71.150480   8889.300863\n     Asia       68.020515   9834.093295\n     Europe     75.505167  19076.781802\n     Oceania    78.190000  24024.175170\n2002 Africa     53.325231   2599.385159\n     Americas   72.422040   9287.677107\n     Asia       69.233879  10174.090397\n     Europe     76.700600  21711.732422\n     Oceania    79.740000  26938.778040\n2007 Africa     54.806038   3089.032605\n     Americas   73.608120  11003.031625\n     Asia       70.728485  12473.026870\n     Europe     77.648600  25054.481636\n     Oceania    80.719500  29810.188275",
      "text/html": "<div>\n<style scoped>\n    .dataframe tbody tr th:only-of-type {\n        vertical-align: middle;\n    }\n\n    .dataframe tbody tr th {\n        vertical-align: top;\n    }\n\n    .dataframe thead th {\n        text-align: right;\n    }\n</style>\n<table border=\"1\" class=\"dataframe\">\n  <thead>\n    <tr style=\"text-align: right;\">\n      <th></th>\n      <th></th>\n      <th>lifeExp</th>\n      <th>gdpPercap</th>\n    </tr>\n    <tr>\n      <th>year</th>\n      <th>continent</th>\n      <th></th>\n      <th></th>\n    </tr>\n  </thead>\n  <tbody>\n    <tr>\n      <th rowspan=\"5\" valign=\"top\">1952</th>\n      <th>Africa</th>\n      <td>39.135500</td>\n      <td>1252.572466</td>\n    </tr>\n    <tr>\n      <th>Americas</th>\n      <td>53.279840</td>\n      <td>4079.062552</td>\n    </tr>\n    <tr>\n      <th>Asia</th>\n      <td>46.314394</td>\n      <td>5195.484004</td>\n    </tr>\n    <tr>\n      <th>Europe</th>\n      <td>64.408500</td>\n      <td>5661.057435</td>\n    </tr>\n    <tr>\n      <th>Oceania</th>\n      <td>69.255000</td>\n      <td>10298.085650</td>\n    </tr>\n    <tr>\n      <th rowspan=\"5\" valign=\"top\">1957</th>\n      <th>Africa</th>\n      <td>41.266346</td>\n      <td>1385.236062</td>\n    </tr>\n    <tr>\n      <th>Americas</th>\n      <td>55.960280</td>\n      <td>4616.043733</td>\n    </tr>\n    <tr>\n      <th>Asia</th>\n      <td>49.318544</td>\n      <td>5787.732940</td>\n    </tr>\n    <tr>\n      <th>Europe</th>\n      <td>66.703067</td>\n      <td>6963.012816</td>\n    </tr>\n    <tr>\n      <th>Oceania</th>\n      <td>70.295000</td>\n      <td>11598.522455</td>\n    </tr>\n    <tr>\n      <th rowspan=\"5\" valign=\"top\">1962</th>\n      <th>Africa</th>\n      <td>43.319442</td>\n      <td>1598.078825</td>\n    </tr>\n    <tr>\n      <th>Americas</th>\n      <td>58.398760</td>\n      <td>4901.541870</td>\n    </tr>\n    <tr>\n      <th>Asia</th>\n      <td>51.563223</td>\n      <td>5729.369625</td>\n    </tr>\n    <tr>\n      <th>Europe</th>\n      <td>68.539233</td>\n      <td>8365.486814</td>\n    </tr>\n    <tr>\n      <th>Oceania</th>\n      <td>71.085000</td>\n      <td>12696.452430</td>\n    </tr>\n    <tr>\n      <th rowspan=\"5\" valign=\"top\">1967</th>\n      <th>Africa</th>\n      <td>45.334538</td>\n      <td>2050.363801</td>\n    </tr>\n    <tr>\n      <th>Americas</th>\n      <td>60.410920</td>\n      <td>5668.253496</td>\n    </tr>\n    <tr>\n      <th>Asia</th>\n      <td>54.663640</td>\n      <td>5971.173374</td>\n    </tr>\n    <tr>\n      <th>Europe</th>\n      <td>69.737600</td>\n      <td>10143.823757</td>\n    </tr>\n    <tr>\n      <th>Oceania</th>\n      <td>71.310000</td>\n      <td>14495.021790</td>\n    </tr>\n    <tr>\n      <th rowspan=\"5\" valign=\"top\">1972</th>\n      <th>Africa</th>\n      <td>47.450942</td>\n      <td>2339.615674</td>\n    </tr>\n    <tr>\n      <th>Americas</th>\n      <td>62.394920</td>\n      <td>6491.334139</td>\n    </tr>\n    <tr>\n      <th>Asia</th>\n      <td>57.319269</td>\n      <td>8187.468699</td>\n    </tr>\n    <tr>\n      <th>Europe</th>\n      <td>70.775033</td>\n      <td>12479.575246</td>\n    </tr>\n    <tr>\n      <th>Oceania</th>\n      <td>71.910000</td>\n      <td>16417.333380</td>\n    </tr>\n    <tr>\n      <th rowspan=\"5\" valign=\"top\">1977</th>\n      <th>Africa</th>\n      <td>49.580423</td>\n      <td>2585.938508</td>\n    </tr>\n    <tr>\n      <th>Americas</th>\n      <td>64.391560</td>\n      <td>7352.007126</td>\n    </tr>\n    <tr>\n      <th>Asia</th>\n      <td>59.610556</td>\n      <td>7791.314020</td>\n    </tr>\n    <tr>\n      <th>Europe</th>\n      <td>71.937767</td>\n      <td>14283.979110</td>\n    </tr>\n    <tr>\n      <th>Oceania</th>\n      <td>72.855000</td>\n      <td>17283.957605</td>\n    </tr>\n    <tr>\n      <th rowspan=\"5\" valign=\"top\">1982</th>\n      <th>Africa</th>\n      <td>51.592865</td>\n      <td>2481.592960</td>\n    </tr>\n    <tr>\n      <th>Americas</th>\n      <td>66.228840</td>\n      <td>7506.737088</td>\n    </tr>\n    <tr>\n      <th>Asia</th>\n      <td>62.617939</td>\n      <td>7434.135157</td>\n    </tr>\n    <tr>\n      <th>Europe</th>\n      <td>72.806400</td>\n      <td>15617.896551</td>\n    </tr>\n    <tr>\n      <th>Oceania</th>\n      <td>74.290000</td>\n      <td>18554.709840</td>\n    </tr>\n    <tr>\n      <th rowspan=\"5\" valign=\"top\">1987</th>\n      <th>Africa</th>\n      <td>53.344788</td>\n      <td>2282.668991</td>\n    </tr>\n    <tr>\n      <th>Americas</th>\n      <td>68.090720</td>\n      <td>7793.400261</td>\n    </tr>\n    <tr>\n      <th>Asia</th>\n      <td>64.851182</td>\n      <td>7608.226508</td>\n    </tr>\n    <tr>\n      <th>Europe</th>\n      <td>73.642167</td>\n      <td>17214.310727</td>\n    </tr>\n    <tr>\n      <th>Oceania</th>\n      <td>75.320000</td>\n      <td>20448.040160</td>\n    </tr>\n    <tr>\n      <th rowspan=\"5\" valign=\"top\">1992</th>\n      <th>Africa</th>\n      <td>53.629577</td>\n      <td>2281.810333</td>\n    </tr>\n    <tr>\n      <th>Americas</th>\n      <td>69.568360</td>\n      <td>8044.934406</td>\n    </tr>\n    <tr>\n      <th>Asia</th>\n      <td>66.537212</td>\n      <td>8639.690248</td>\n    </tr>\n    <tr>\n      <th>Europe</th>\n      <td>74.440100</td>\n      <td>17061.568084</td>\n    </tr>\n    <tr>\n      <th>Oceania</th>\n      <td>76.945000</td>\n      <td>20894.045885</td>\n    </tr>\n    <tr>\n      <th rowspan=\"5\" valign=\"top\">1997</th>\n      <th>Africa</th>\n      <td>53.598269</td>\n      <td>2378.759555</td>\n    </tr>\n    <tr>\n      <th>Americas</th>\n      <td>71.150480</td>\n      <td>8889.300863</td>\n    </tr>\n    <tr>\n      <th>Asia</th>\n      <td>68.020515</td>\n      <td>9834.093295</td>\n    </tr>\n    <tr>\n      <th>Europe</th>\n      <td>75.505167</td>\n      <td>19076.781802</td>\n    </tr>\n    <tr>\n      <th>Oceania</th>\n      <td>78.190000</td>\n      <td>24024.175170</td>\n    </tr>\n    <tr>\n      <th rowspan=\"5\" valign=\"top\">2002</th>\n      <th>Africa</th>\n      <td>53.325231</td>\n      <td>2599.385159</td>\n    </tr>\n    <tr>\n      <th>Americas</th>\n      <td>72.422040</td>\n      <td>9287.677107</td>\n    </tr>\n    <tr>\n      <th>Asia</th>\n      <td>69.233879</td>\n      <td>10174.090397</td>\n    </tr>\n    <tr>\n      <th>Europe</th>\n      <td>76.700600</td>\n      <td>21711.732422</td>\n    </tr>\n    <tr>\n      <th>Oceania</th>\n      <td>79.740000</td>\n      <td>26938.778040</td>\n    </tr>\n    <tr>\n      <th rowspan=\"5\" valign=\"top\">2007</th>\n      <th>Africa</th>\n      <td>54.806038</td>\n      <td>3089.032605</td>\n    </tr>\n    <tr>\n      <th>Americas</th>\n      <td>73.608120</td>\n      <td>11003.031625</td>\n    </tr>\n    <tr>\n      <th>Asia</th>\n      <td>70.728485</td>\n      <td>12473.026870</td>\n    </tr>\n    <tr>\n      <th>Europe</th>\n      <td>77.648600</td>\n      <td>25054.481636</td>\n    </tr>\n    <tr>\n      <th>Oceania</th>\n      <td>80.719500</td>\n      <td>29810.188275</td>\n    </tr>\n  </tbody>\n</table>\n</div>"
     },
     "execution_count": 105,
     "metadata": {},
     "output_type": "execute_result"
    }
   ],
   "source": [
    "multi_group_var = df.groupby(['year', 'continent'])[['lifeExp','gdpPercap']]\n",
    "multi_group_var.mean()"
   ]
  },
  {
   "cell_type": "markdown",
   "metadata": {},
   "source": [
    "# 그룹화한 데이터의 개수 세어보기"
   ]
  },
  {
   "cell_type": "code",
   "execution_count": 107,
   "metadata": {
    "ExecuteTime": {
     "start_time": "2023-05-20T21:32:48.197887Z",
     "end_time": "2023-05-20T21:32:48.339510Z"
    }
   },
   "outputs": [
    {
     "data": {
      "text/plain": "continent\nAfrica      52\nAmericas    25\nAsia        33\nEurope      30\nOceania      2\nName: country, dtype: int64"
     },
     "execution_count": 107,
     "metadata": {},
     "output_type": "execute_result"
    }
   ],
   "source": []
  },
  {
   "cell_type": "markdown",
   "metadata": {},
   "source": [
    "# 그래프 만들기"
   ]
  },
  {
   "cell_type": "code",
   "execution_count": null,
   "metadata": {},
   "outputs": [],
   "source": []
  }
 ],
 "metadata": {
  "kernelspec": {
   "display_name": "Python 3",
   "language": "python",
   "name": "python3"
  },
  "language_info": {
   "codemirror_mode": {
    "name": "ipython",
    "version": 3
   },
   "file_extension": ".py",
   "mimetype": "text/x-python",
   "name": "python",
   "nbconvert_exporter": "python",
   "pygments_lexer": "ipython3",
   "version": "3.6.5"
  }
 },
 "nbformat": 4,
 "nbformat_minor": 2
}
