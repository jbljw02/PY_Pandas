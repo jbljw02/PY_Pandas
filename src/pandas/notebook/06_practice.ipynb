{
 "cells": [
  {
   "cell_type": "markdown",
   "metadata": {},
   "source": [
    "# 누락값 확인하기"
   ]
  },
  {
   "cell_type": "code",
   "execution_count": 1,
   "metadata": {
    "ExecuteTime": {
     "start_time": "2023-05-22T18:31:57.813595Z",
     "end_time": "2023-05-22T18:31:58.147700Z"
    }
   },
   "outputs": [],
   "source": [
    "from numpy import NaN, NAN, nan"
   ]
  },
  {
   "cell_type": "markdown",
   "metadata": {},
   "source": [
    "# 누락값을 포함한 데이터를 불러올 때"
   ]
  },
  {
   "cell_type": "code",
   "execution_count": 16,
   "metadata": {
    "ExecuteTime": {
     "start_time": "2023-05-22T18:39:46.927758Z",
     "end_time": "2023-05-22T18:39:47.094851Z"
    }
   },
   "outputs": [
    {
     "name": "stdout",
     "output_type": "stream",
     "text": [
      "False\n",
      "False\n",
      "False\n",
      "False\n",
      "-------------------------------------------------------------------------------------\n",
      "False\n",
      "False\n",
      "False\n",
      "False\n",
      "-------------------------------------------------------------------------------------\n",
      "True\n",
      "True\n",
      "True\n",
      "True\n",
      "True\n"
     ]
    }
   ],
   "source": [
    "print(NaN == True)\n",
    "print(NaN == False)\n",
    "print(NaN == 0)\n",
    "print(NaN == '')\n",
    "print(\"-------------------------------------------------------------------------------------\")\n",
    "print(NaN == NaN)\n",
    "print(NaN == nan)\n",
    "print(NaN == NAN)\n",
    "print(nan == NAN)\n",
    "print(\"-------------------------------------------------------------------------------------\")\n",
    "\n",
    "import pandas as pd\n",
    "print(pd.isnull(NaN))\n",
    "print(pd.isnull(nan))\n",
    "print(pd.isnull(NAN))\n",
    "print(pd.notnull(42))\n",
    "print(pd.notnull('missing'))"
   ]
  },
  {
   "cell_type": "markdown",
   "metadata": {},
   "source": [
    "# 데이터 집합을 연결할 때 누락값이 발생하는 경우"
   ]
  },
  {
   "cell_type": "code",
   "execution_count": 20,
   "metadata": {
    "ExecuteTime": {
     "start_time": "2023-05-22T18:42:12.286310Z",
     "end_time": "2023-05-22T18:42:12.393894Z"
    }
   },
   "outputs": [
    {
     "name": "stdout",
     "output_type": "stream",
     "text": [
      "    ident   site       dated  taken person quant  reading\n",
      "0     619   DR-1  1927-02-08    619   dyer   rad     9.82\n",
      "1     619   DR-1  1927-02-08    619   dyer   sal     0.13\n",
      "2     622   DR-1  1927-02-10    622   dyer   rad     7.80\n",
      "3     622   DR-1  1927-02-10    622   dyer   sal     0.09\n",
      "4     734   DR-3  1939-01-07    734     pb   rad     8.41\n",
      "5     734   DR-3  1939-01-07    734   lake   sal     0.05\n",
      "6     734   DR-3  1939-01-07    734     pb  temp   -21.50\n",
      "7     735   DR-3  1930-01-12    735     pb   rad     7.22\n",
      "8     735   DR-3  1930-01-12    735    NaN   sal     0.06\n",
      "9     735   DR-3  1930-01-12    735    NaN  temp   -26.00\n",
      "10    751   DR-3  1930-02-26    751     pb   rad     4.35\n",
      "11    751   DR-3  1930-02-26    751     pb  temp   -18.50\n",
      "12    751   DR-3  1930-02-26    751   lake   sal     0.10\n",
      "13    752   DR-3         NaN    752   lake   rad     2.19\n",
      "14    752   DR-3         NaN    752   lake   sal     0.09\n",
      "15    752   DR-3         NaN    752   lake  temp   -16.00\n",
      "16    752   DR-3         NaN    752    roe   sal    41.60\n",
      "17    837  MSK-4  1932-01-14    837   lake   rad     1.46\n",
      "18    837  MSK-4  1932-01-14    837   lake   sal     0.21\n",
      "19    837  MSK-4  1932-01-14    837    roe   sal    22.50\n",
      "20    844   DR-1  1932-03-22    844    roe   rad    11.25\n"
     ]
    }
   ],
   "source": [
    "visited = pd.read_csv('../data/survey_visited.csv')\n",
    "survey = pd.read_csv('../data/survey_survey.csv')\n",
    "\n",
    "# print(visited)\n",
    "# print(survey)\n",
    "\n",
    "vs = visited.merge(survey, left_on='ident', right_on='taken')\n",
    "print(vs)"
   ]
  },
  {
   "cell_type": "markdown",
   "metadata": {},
   "source": [
    "# 데이터를 입력할 때 누락값이 발생하는 경우"
   ]
  },
  {
   "cell_type": "code",
   "execution_count": 22,
   "metadata": {
    "ExecuteTime": {
     "start_time": "2023-05-22T18:43:27.961788Z",
     "end_time": "2023-05-22T18:43:28.108432Z"
    }
   },
   "outputs": [
    {
     "name": "stdout",
     "output_type": "stream",
     "text": [
      "goat      4.0\n",
      "amoeba    NaN\n",
      "dtype: float64\n",
      "<class 'pandas.core.series.Series'>\n"
     ]
    }
   ],
   "source": [
    "num_legs = pd.Series({'goat' : 4, 'amoeba' : nan})\n",
    "print(num_legs)\n",
    "print(type(num_legs))"
   ]
  },
  {
   "cell_type": "markdown",
   "metadata": {},
   "source": [
    "# 인덱스를 다시 만들 때 누락값이 발생하는 경우"
   ]
  },
  {
   "cell_type": "code",
   "execution_count": 32,
   "metadata": {
    "ExecuteTime": {
     "start_time": "2023-05-22T18:47:02.570743Z",
     "end_time": "2023-05-22T18:47:02.693413Z"
    }
   },
   "outputs": [
    {
     "name": "stdout",
     "output_type": "stream",
     "text": [
      "year\n",
      "2002    65.694923\n",
      "2007    67.007423\n",
      "Name: lifeExp, dtype: float64\n"
     ]
    }
   ],
   "source": [
    "gapminder = pd.read_csv('../data/gapminder.tsv', sep='\\t')\n",
    "life_exp = gapminder.groupby(['year'])['lifeExp'].mean()\n",
    "# print(life_exp)\n",
    "\n",
    "# print(life_exp.loc[range(2000, 2010), ])\n",
    "y2000 = life_exp[life_exp.index > 2000]\n",
    "# print(y2000)"
   ]
  },
  {
   "cell_type": "markdown",
   "metadata": {},
   "source": [
    "# 누락값의 개수 구하기"
   ]
  },
  {
   "cell_type": "code",
   "execution_count": 44,
   "metadata": {
    "ExecuteTime": {
     "start_time": "2023-05-22T18:53:02.834891Z",
     "end_time": "2023-05-22T18:53:02.947588Z"
    }
   },
   "outputs": [
    {
     "name": "stdout",
     "output_type": "stream",
     "text": [
      "Cases_Guinea\n",
      "NaN      29\n",
      "86.0      3\n",
      "495.0     2\n",
      "112.0     2\n",
      "390.0     2\n",
      "Name: count, dtype: int64\n"
     ]
    }
   ],
   "source": [
    "ebola = pd.read_csv('../data/country_timeseries.csv')\n",
    "# print(ebola.count())\n",
    "num_rows = ebola.shape[0]\n",
    "num_missing = num_rows - ebola.count()\n",
    "# print(num_rows)\n",
    "# print(num_missing)\n",
    "\n",
    "import numpy as np\n",
    "# print(np.count_nonzero(ebola.isnull()))\n",
    "# print(np.count_nonzero(ebola['Cases_Guinea'].isnull()))\n",
    "print(ebola.Cases_Guinea.value_counts(dropna=False).head())"
   ]
  },
  {
   "cell_type": "markdown",
   "metadata": {},
   "source": [
    "# 누락값을 다른 값으로 변경하기"
   ]
  },
  {
   "cell_type": "code",
   "execution_count": 50,
   "metadata": {
    "ExecuteTime": {
     "start_time": "2023-05-22T18:56:33.495862Z",
     "end_time": "2023-05-22T18:56:33.598584Z"
    }
   },
   "outputs": [
    {
     "name": "stdout",
     "output_type": "stream",
     "text": [
      "         Date  Day  Cases_Guinea  Cases_Liberia  Cases_SierraLeone\n",
      "0    1/5/2015  289        2776.0            NaN            10030.0\n",
      "1    1/4/2015  288        2775.0            NaN             9780.0\n",
      "2    1/3/2015  287        2769.0         8166.0             9722.0\n",
      "3    1/2/2015  286        2749.5         8157.0             9677.5\n",
      "4  12/31/2014  284        2730.0         8115.0             9633.0\n",
      "5  12/28/2014  281        2706.0         8018.0             9446.0\n",
      "6  12/27/2014  280        2695.0         7997.5             9409.0\n",
      "7  12/24/2014  277        2630.0         7977.0             9203.0\n",
      "8  12/21/2014  273        2597.0         7919.5             9004.0\n",
      "9  12/20/2014  272        2571.0         7862.0             8939.0\n"
     ]
    }
   ],
   "source": [
    "# print(ebola.fillna(0).iloc[0:10, 0:5])\n",
    "# print(ebola.fillna(method='ffill').iloc[0:10, 0:5])\n",
    "# print(ebola.fillna(method='bfill').iloc[0:10, 0:5])\n",
    "# print(ebola.interpolate().iloc[0:10, 0:5])"
   ]
  },
  {
   "cell_type": "markdown",
   "metadata": {},
   "source": [
    "# 누락값 삭제하기"
   ]
  },
  {
   "cell_type": "code",
   "execution_count": 57,
   "metadata": {
    "ExecuteTime": {
     "start_time": "2023-05-22T18:57:35.794927Z",
     "end_time": "2023-05-22T18:57:35.878546Z"
    }
   },
   "outputs": [
    {
     "name": "stdout",
     "output_type": "stream",
     "text": [
      "(122, 18)\n",
      "(1, 18)\n",
      "          Date  Day  Cases_Guinea  Cases_Liberia  Cases_SierraLeone   \n",
      "19  11/18/2014  241        2047.0         7082.0             6190.0  \\\n",
      "\n",
      "    Cases_Nigeria  Cases_Senegal  Cases_UnitedStates  Cases_Spain  Cases_Mali   \n",
      "19           20.0            1.0                 4.0          1.0         6.0  \\\n",
      "\n",
      "    Deaths_Guinea  Deaths_Liberia  Deaths_SierraLeone  Deaths_Nigeria   \n",
      "19         1214.0          2963.0              1267.0             8.0  \\\n",
      "\n",
      "    Deaths_Senegal  Deaths_UnitedStates  Deaths_Spain  Deaths_Mali  \n",
      "19             0.0                  1.0           0.0          6.0  \n"
     ]
    }
   ],
   "source": [
    "print(ebola.shape)\n",
    "\n",
    "ebola_dropna = ebola.dropna()\n",
    "print(ebola_dropna.shape)\n",
    "print(ebola_dropna)"
   ]
  },
  {
   "cell_type": "markdown",
   "metadata": {},
   "source": [
    "# 누락값이 포함된 데이터 계산하기"
   ]
  },
  {
   "cell_type": "code",
   "execution_count": 63,
   "metadata": {
    "ExecuteTime": {
     "start_time": "2023-05-22T19:00:07.700923Z",
     "end_time": "2023-05-22T19:00:07.769019Z"
    }
   },
   "outputs": [
    {
     "name": "stdout",
     "output_type": "stream",
     "text": [
      "84729.0\n"
     ]
    }
   ],
   "source": [
    "ebola['Cases_multiple'] = ebola['Cases_Guinea'] + ebola['Cases_Liberia'] + ebola['Cases_SierraLeone']\n",
    "ebola_subset = ebola.loc[:, ['Cases_Guinea', 'Cases_Liberia', 'Cases_SierraLeone', 'Cases_multiple']]\n",
    "# print(ebola_subset.head(n=10))\n",
    "\n",
    "print(ebola.Cases_Guinea.sum(skipna = True))"
   ]
  },
  {
   "cell_type": "code",
   "execution_count": 64,
   "outputs": [
    {
     "name": "stdout",
     "output_type": "stream",
     "text": [
      "nan\n"
     ]
    }
   ],
   "source": [
    "print(ebola.Cases_Guinea.sum(skipna = False))"
   ],
   "metadata": {
    "collapsed": false,
    "ExecuteTime": {
     "start_time": "2023-05-22T19:00:42.438543Z",
     "end_time": "2023-05-22T19:00:42.511868Z"
    }
   }
  },
  {
   "cell_type": "code",
   "execution_count": null,
   "outputs": [],
   "source": [],
   "metadata": {
    "collapsed": false
   }
  }
 ],
 "metadata": {
  "kernelspec": {
   "display_name": "Python 3",
   "language": "python",
   "name": "python3"
  },
  "language_info": {
   "codemirror_mode": {
    "name": "ipython",
    "version": 3
   },
   "file_extension": ".py",
   "mimetype": "text/x-python",
   "name": "python",
   "nbconvert_exporter": "python",
   "pygments_lexer": "ipython3",
   "version": "3.6.5"
  }
 },
 "nbformat": 4,
 "nbformat_minor": 2
}
