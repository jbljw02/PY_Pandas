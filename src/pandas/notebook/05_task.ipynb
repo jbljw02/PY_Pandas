{
 "cells": [
  {
   "cell_type": "markdown",
   "metadata": {},
   "source": [
    "# 05. Data Assembly 연습과제\n",
    "***"
   ]
  },
  {
   "cell_type": "markdown",
   "metadata": {
    "tags": []
   },
   "source": [
    "## 1. 데이터 만들기"
   ]
  },
  {
   "cell_type": "code",
   "execution_count": 54,
   "metadata": {
    "ExecuteTime": {
     "start_time": "2023-06-05T21:28:38.279715Z",
     "end_time": "2023-06-05T21:28:38.302013Z"
    }
   },
   "outputs": [],
   "source": [
    "import pandas as pd"
   ]
  },
  {
   "cell_type": "code",
   "execution_count": 55,
   "metadata": {
    "ExecuteTime": {
     "start_time": "2023-06-05T21:28:38.472784Z",
     "end_time": "2023-06-05T21:28:38.531863Z"
    }
   },
   "outputs": [],
   "source": [
    "# 2021학번 학생 데이터\n",
    "students_2021_df = pd.DataFrame({\n",
    "    'sid': [202101, 202102, 202103],\n",
    "    'name' : ['Emma', 'Jack', 'Smith'],\n",
    "    'sex': ['female', 'male', 'male']\n",
    "})\n",
    "\n",
    "# 2022학번 학생 데이터\n",
    "students_2022_df = pd.DataFrame({\n",
    "    'sid': [202201, 202202, 202203],\n",
    "    'name' : ['Michel', 'Jenny', 'Jack'],\n",
    "    'sex': ['male', 'female', 'male']\n",
    "})\n",
    "\n",
    "# 2023학번 학생 데이터\n",
    "students_2023_df = pd.DataFrame({\n",
    "    'sid': [202301, 202302, 202303],\n",
    "    'name' : ['Olivia', 'Kevin', 'Jack'],\n",
    "    'sex': ['female', 'male', 'male']\n",
    "})\n",
    "\n",
    "# 과목 데이터\n",
    "courses_df = pd.DataFrame({\n",
    "    'cid': [100, 200, 300],\n",
    "    'name': ['Python', 'Algorithm', 'Big Data']\n",
    "})\n",
    "\n",
    "# Python 중간시험 결과\n",
    "mid_py_scores_df = pd.DataFrame({\n",
    "    'sid': [202301, 202302, 202303, 202201, 202302],\n",
    "    'score': [70, 55, 85, 92, 100],\n",
    "})\n",
    "\n",
    "# Algorithm 중간시험 결과\n",
    "mid_algo_scores_df = pd.DataFrame({\n",
    "    'sid': [202201, 202202, 202203, 202101],\n",
    "    'score': [85, 95, 90, 92]\n",
    "})\n",
    "\n",
    "# Big Data 중간시험 결과\n",
    "mid_big_scores_df = pd.DataFrame({\n",
    "    'sid': [202101, 202102, 202103],\n",
    "    'score': [85, 95, 90]\n",
    "})"
   ]
  },
  {
   "cell_type": "markdown",
   "metadata": {
    "tags": []
   },
   "source": [
    "## 2. 모든 학생 데이터 합치기 (concat)"
   ]
  },
  {
   "cell_type": "code",
   "execution_count": 58,
   "outputs": [
    {
     "name": "stdout",
     "output_type": "stream",
     "text": [
      "      sid    name     sex\n",
      "0  202101    Emma  female\n",
      "1  202102    Jack    male\n",
      "2  202103   Smith    male\n",
      "0  202201  Michel    male\n",
      "1  202202   Jenny  female\n",
      "2  202203    Jack    male\n",
      "0  202301  Olivia  female\n",
      "1  202302   Kevin    male\n",
      "2  202303    Jack    male\n"
     ]
    }
   ],
   "source": [
    "all_students = pd.concat([students_2021_df, students_2022_df, students_2023_df])\n",
    "print(all_students)"
   ],
   "metadata": {
    "collapsed": false,
    "ExecuteTime": {
     "start_time": "2023-06-05T21:31:02.322777Z",
     "end_time": "2023-06-05T21:31:02.377928Z"
    }
   }
  },
  {
   "cell_type": "markdown",
   "metadata": {
    "tags": []
   },
   "source": [
    "## 3. 파이썬 중간시험 결과와 학생 데이터 연결하기 (merge)"
   ]
  },
  {
   "cell_type": "code",
   "execution_count": 60,
   "outputs": [
    {
     "name": "stdout",
     "output_type": "stream",
     "text": [
      "      sid  score    name     sex\n",
      "0  202301     70  Olivia  female\n",
      "1  202302     55   Kevin    male\n",
      "2  202302    100   Kevin    male\n",
      "3  202303     85    Jack    male\n",
      "4  202201     92  Michel    male\n"
     ]
    }
   ],
   "source": [
    "mid_py = mid_py_scores_df.merge(all_students, left_on='sid', right_on='sid')\n",
    "print(mid_py)"
   ],
   "metadata": {
    "collapsed": false,
    "ExecuteTime": {
     "start_time": "2023-06-05T21:33:29.755696Z",
     "end_time": "2023-06-05T21:33:29.834454Z"
    }
   }
  },
  {
   "cell_type": "markdown",
   "metadata": {
    "tags": []
   },
   "source": [
    "## 4. 알고리즘 중간시험 결과와 학생 데이터 연결하기 (merge)"
   ]
  },
  {
   "cell_type": "code",
   "execution_count": 62,
   "outputs": [
    {
     "name": "stdout",
     "output_type": "stream",
     "text": [
      "      sid  score    name     sex\n",
      "0  202201     85  Michel    male\n",
      "1  202202     95   Jenny  female\n",
      "2  202203     90    Jack    male\n",
      "3  202101     92    Emma  female\n"
     ]
    }
   ],
   "source": [
    "mid_algo = mid_algo_scores_df.merge(all_students, left_on='sid', right_on='sid')\n",
    "print(mid_algo)"
   ],
   "metadata": {
    "collapsed": false,
    "ExecuteTime": {
     "start_time": "2023-06-05T21:34:10.353524Z",
     "end_time": "2023-06-05T21:34:10.431235Z"
    }
   }
  },
  {
   "cell_type": "markdown",
   "metadata": {
    "tags": []
   },
   "source": [
    "## 5. 빅데이터 중간시험 결과와 학생 데이터 연결하기 (merge)"
   ]
  },
  {
   "cell_type": "code",
   "execution_count": 63,
   "outputs": [
    {
     "name": "stdout",
     "output_type": "stream",
     "text": [
      "      sid  score   name     sex\n",
      "0  202101     85   Emma  female\n",
      "1  202102     95   Jack    male\n",
      "2  202103     90  Smith    male\n"
     ]
    }
   ],
   "source": [
    "mid_big = mid_big_scores_df.merge(all_students, left_on='sid', right_on='sid')\n",
    "print(mid_big)"
   ],
   "metadata": {
    "collapsed": false,
    "ExecuteTime": {
     "start_time": "2023-06-05T21:35:02.614337Z",
     "end_time": "2023-06-05T21:35:02.669038Z"
    }
   }
  },
  {
   "cell_type": "markdown",
   "metadata": {
    "tags": []
   },
   "source": [
    "## 6. 모든 시험결과와 학생 데이터 연결하기 (concat & merge)"
   ]
  },
  {
   "cell_type": "code",
   "execution_count": 64,
   "outputs": [],
   "source": [
    "# 이용 X\n",
    "all_mid = pd.concat([mid_py_scores_df, mid_big_scores_df, mid_algo_scores_df])\n",
    "all_mid_students = all_mid.merge(all_students, left_on='sid', right_on='sid')"
   ],
   "metadata": {
    "collapsed": false,
    "ExecuteTime": {
     "start_time": "2023-06-05T21:38:51.360126Z",
     "end_time": "2023-06-05T21:38:51.391120Z"
    }
   }
  },
  {
   "cell_type": "code",
   "execution_count": 65,
   "outputs": [],
   "source": [
    "# 이용 O\n",
    "all_mid_students = pd.concat([mid_py, mid_algo, mid_big])"
   ],
   "metadata": {
    "collapsed": false,
    "ExecuteTime": {
     "start_time": "2023-06-05T21:39:32.557515Z",
     "end_time": "2023-06-05T21:39:32.567140Z"
    }
   }
  },
  {
   "cell_type": "markdown",
   "metadata": {
    "tags": []
   },
   "source": [
    "## 7. 과목정보가 유지되도록 모든 시험결과와 학생 데이터 연결하기 (new column & concat & merge)"
   ]
  },
  {
   "cell_type": "code",
   "execution_count": 77,
   "outputs": [
    {
     "name": "stdout",
     "output_type": "stream",
     "text": [
      "       sid  score  cid    name     sex\n",
      "0   202301     70  100  Olivia  female\n",
      "1   202302     55  100   Kevin    male\n",
      "2   202302    100  100   Kevin    male\n",
      "3   202303     85  100    Jack    male\n",
      "4   202201     92  100  Michel    male\n",
      "5   202201     85  200  Michel    male\n",
      "6   202101     85  300    Emma  female\n",
      "7   202101     92  200    Emma  female\n",
      "8   202102     95  300    Jack    male\n",
      "9   202103     90  300   Smith    male\n",
      "10  202202     95  200   Jenny  female\n",
      "11  202203     90  200    Jack    male\n"
     ]
    }
   ],
   "source": [
    "mid_py_scores_df['cid'] = 100\n",
    "mid_algo_scores_df['cid'] = 200\n",
    "mid_big_scores_df['cid'] = 300\n",
    "\n",
    "mid_all = pd.concat([mid_py_scores_df, mid_big_scores_df, mid_algo_scores_df])\n",
    "mid_all_stu = mid_all.merge(all_students, left_on='sid', right_on='sid')\n",
    "\n",
    "print(mid_all_stu)"
   ],
   "metadata": {
    "collapsed": false,
    "ExecuteTime": {
     "start_time": "2023-06-05T21:47:36.865716Z",
     "end_time": "2023-06-05T21:47:36.961459Z"
    }
   }
  },
  {
   "cell_type": "markdown",
   "metadata": {
    "tags": []
   },
   "source": [
    "## 8. 7 단계에서 생성된 데이터 프레임을 이용하여 파이썬 과목 평균점수 구하기(mean)"
   ]
  },
  {
   "cell_type": "code",
   "execution_count": 87,
   "outputs": [
    {
     "name": "stdout",
     "output_type": "stream",
     "text": [
      "80.4\n"
     ]
    }
   ],
   "source": [
    "print(mid_all_stu['score'][mid_all_stu['cid'] == 100].mean())"
   ],
   "metadata": {
    "collapsed": false,
    "ExecuteTime": {
     "start_time": "2023-06-05T21:54:40.958166Z",
     "end_time": "2023-06-05T21:54:40.999975Z"
    }
   }
  },
  {
   "cell_type": "markdown",
   "metadata": {
    "tags": []
   },
   "source": [
    "## 9. 7 단계에서 생성된 데이터 프레임을 이용하여 알고리즘 과목 남학생 평균점수 구하기(mean)"
   ]
  },
  {
   "cell_type": "code",
   "execution_count": 89,
   "outputs": [
    {
     "name": "stdout",
     "output_type": "stream",
     "text": [
      "87.5\n"
     ]
    }
   ],
   "source": [
    "print(mid_all_stu['score'][(mid_all_stu['cid'] == 200) & (mid_all_stu['sex'] == 'male')].mean())"
   ],
   "metadata": {
    "collapsed": false,
    "ExecuteTime": {
     "start_time": "2023-06-05T21:55:50.093522Z",
     "end_time": "2023-06-05T21:55:50.132452Z"
    }
   }
  }
 ],
 "metadata": {
  "kernelspec": {
   "name": "python3",
   "language": "python",
   "display_name": "Python 3 (ipykernel)"
  },
  "language_info": {
   "codemirror_mode": {
    "name": "ipython",
    "version": 3
   },
   "file_extension": ".py",
   "mimetype": "text/x-python",
   "name": "python",
   "nbconvert_exporter": "python",
   "pygments_lexer": "ipython3",
   "version": "3.9.12"
  }
 },
 "nbformat": 4,
 "nbformat_minor": 4
}
