{
 "cells": [
  {
   "cell_type": "markdown",
   "metadata": {},
   "source": [
    "# 05. Data Assembly 연습과제\n",
    "***"
   ]
  },
  {
   "cell_type": "markdown",
   "metadata": {
    "tags": []
   },
   "source": [
    "## 1. 데이터 만들기"
   ]
  },
  {
   "cell_type": "code",
   "execution_count": 3,
   "metadata": {
    "ExecuteTime": {
     "start_time": "2023-05-18T10:09:46.377851Z",
     "end_time": "2023-05-18T10:09:46.612224Z"
    }
   },
   "outputs": [],
   "source": [
    "import pandas as pd"
   ]
  },
  {
   "cell_type": "code",
   "execution_count": 4,
   "metadata": {
    "ExecuteTime": {
     "start_time": "2023-05-18T10:09:46.389818Z",
     "end_time": "2023-05-18T10:09:46.666083Z"
    }
   },
   "outputs": [],
   "source": [
    "# 2021학번 학생 데이터\n",
    "students_2021_df = pd.DataFrame({\n",
    "    'sid': [202101, 202102, 202103],\n",
    "    'name' : ['Emma', 'Jack', 'Smith'],\n",
    "    'sex': ['female', 'male', 'male']\n",
    "})\n",
    "\n",
    "# 2022학번 학생 데이터\n",
    "students_2022_df = pd.DataFrame({\n",
    "    'sid': [202201, 202202, 202203],\n",
    "    'name' : ['Michel', 'Jenny', 'Jack'],\n",
    "    'sex': ['male', 'female', 'male']\n",
    "})\n",
    "\n",
    "# 2023학번 학생 데이터\n",
    "students_2023_df = pd.DataFrame({\n",
    "    'sid': [202301, 202302, 202303],\n",
    "    'name' : ['Olivia', 'Kevin', 'Jack'],\n",
    "    'sex': ['female', 'male', 'male']\n",
    "})\n",
    "\n",
    "# 과목 데이터\n",
    "courses_df = pd.DataFrame({\n",
    "    'cid': [100, 200, 300],\n",
    "    'name': ['Python', 'Algorithm', 'Big Data']\n",
    "})\n",
    "\n",
    "# Python 중간시험 결과\n",
    "mid_py_scores_df = pd.DataFrame({\n",
    "    'sid': [202301, 202302, 202303, 202201, 202302],\n",
    "    'score': [70, 55, 85, 92, 100],\n",
    "})\n",
    "\n",
    "# Algorithm 중간시험 결과\n",
    "mid_algo_scores_df = pd.DataFrame({\n",
    "    'sid': [202201, 202202, 202203, 202101],\n",
    "    'score': [85, 95, 90, 92]\n",
    "})\n",
    "\n",
    "# Big Data 중간시험 결과\n",
    "mid_big_scores_df = pd.DataFrame({\n",
    "    'sid': [202101, 202102, 202103],\n",
    "    'score': [85, 95, 90]\n",
    "})"
   ]
  },
  {
   "cell_type": "code",
   "execution_count": 15,
   "outputs": [
    {
     "name": "stdout",
     "output_type": "stream",
     "text": [
      "      sid    name     sex\n",
      "0  202101    Emma  female\n",
      "1  202102    Jack    male\n",
      "2  202103   Smith    male\n",
      "0  202201  Michel    male\n",
      "1  202202   Jenny  female\n",
      "2  202203    Jack    male\n",
      "0  202301  Olivia  female\n",
      "1  202302   Kevin    male\n",
      "2  202303    Jack    male\n"
     ]
    }
   ],
   "source": [
    "## 2. 모든 학생 데이터 합치기 (concat)\n",
    "students_all_df = pd.concat([students_2021_df, students_2022_df, students_2023_df])\n",
    "print(students_all_df)"
   ],
   "metadata": {
    "collapsed": false,
    "ExecuteTime": {
     "start_time": "2023-05-18T10:27:26.810845Z",
     "end_time": "2023-05-18T10:27:26.810845Z"
    }
   }
  },
  {
   "cell_type": "code",
   "execution_count": 16,
   "outputs": [
    {
     "name": "stdout",
     "output_type": "stream",
     "text": [
      "      sid  score    name     sex\n",
      "0  202301     70  Olivia  female\n",
      "1  202302     55   Kevin    male\n",
      "2  202302    100   Kevin    male\n",
      "3  202303     85    Jack    male\n",
      "4  202201     92  Michel    male\n"
     ]
    }
   ],
   "source": [
    "## 3. 파이썬 중간시험 결과와 학생 데이터 연결하기 (merge)\n",
    "mid_py_scores_students_df = mid_py_scores_df.merge(students_all_df, left_on='sid', right_on='sid')\n",
    "print(mid_py_scores_students_df)"
   ],
   "metadata": {
    "collapsed": false,
    "ExecuteTime": {
     "start_time": "2023-05-18T10:27:28.599929Z",
     "end_time": "2023-05-18T10:27:28.599929Z"
    }
   }
  },
  {
   "cell_type": "code",
   "execution_count": 17,
   "outputs": [
    {
     "name": "stdout",
     "output_type": "stream",
     "text": [
      "      sid  score    name     sex\n",
      "0  202201     85  Michel    male\n",
      "1  202202     95   Jenny  female\n",
      "2  202203     90    Jack    male\n",
      "3  202101     92    Emma  female\n"
     ]
    }
   ],
   "source": [
    "## 4. 알고리즘 중간시험 결과와 학생 데이터 연결하기 (merge)\n",
    "mid_algo_scores_students_df = mid_algo_scores_df.merge(students_all_df, left_on='sid', right_on='sid')\n",
    "print(mid_algo_scores_students_df)"
   ],
   "metadata": {
    "collapsed": false,
    "ExecuteTime": {
     "start_time": "2023-05-18T10:28:35.637469Z",
     "end_time": "2023-05-18T10:28:35.637469Z"
    }
   }
  },
  {
   "cell_type": "code",
   "execution_count": 21,
   "outputs": [
    {
     "name": "stdout",
     "output_type": "stream",
     "text": [
      "      sid  score   name     sex\n",
      "0  202101     85   Emma  female\n",
      "1  202102     95   Jack    male\n",
      "2  202103     90  Smith    male\n"
     ]
    }
   ],
   "source": [
    "## 5. 빅데이터 중간시험 결과와 학생 데이터 연결하기 (merge)\n",
    "mid_big_scores_students_df = mid_big_scores_df.merge(mid_py_scores_students_df, mid_algo_scores_students_df)\n",
    "print(mid_big_scores_students_df)"
   ],
   "metadata": {
    "collapsed": false,
    "ExecuteTime": {
     "start_time": "2023-05-18T10:32:22.360343Z",
     "end_time": "2023-05-18T10:32:22.361194Z"
    }
   }
  },
  {
   "cell_type": "code",
   "execution_count": 24,
   "outputs": [
    {
     "name": "stdout",
     "output_type": "stream",
     "text": [
      "      sid  score\n",
      "0  202301     70\n",
      "1  202302     55\n",
      "2  202303     85\n",
      "3  202201     92\n",
      "4  202302    100\n",
      "0  202201     85\n",
      "1  202202     95\n",
      "2  202203     90\n",
      "3  202101     92\n",
      "0  202101     85\n",
      "1  202102     95\n",
      "2  202103     90\n",
      "       sid  score    name     sex\n",
      "0   202301     70  Olivia  female\n",
      "1   202302     55   Kevin    male\n",
      "2   202302    100   Kevin    male\n",
      "3   202303     85    Jack    male\n",
      "4   202201     92  Michel    male\n",
      "5   202201     85  Michel    male\n",
      "6   202202     95   Jenny  female\n",
      "7   202203     90    Jack    male\n",
      "8   202101     92    Emma  female\n",
      "9   202101     85    Emma  female\n",
      "10  202102     95    Jack    male\n",
      "11  202103     90   Smith    male\n"
     ]
    }
   ],
   "source": [
    "## 6. 모든 시험결과와 학생 데이터 연결하기 (concat & merge)\n",
    "mid_all_scores_df = pd.concat([mid_py_scores_df, mid_algo_scores_df, mid_big_scores_df])\n",
    "print(mid_all_scores_df)\n",
    "mid_all_scores_students_df = mid_all_scores_df.merge(students_all_df, left_on='sid', right_on='sid')\n",
    "print(mid_all_scores_students_df)"
   ],
   "metadata": {
    "collapsed": false,
    "ExecuteTime": {
     "start_time": "2023-05-18T10:37:30.778459Z",
     "end_time": "2023-05-18T10:37:30.779528Z"
    }
   }
  },
  {
   "cell_type": "code",
   "execution_count": 32,
   "outputs": [
    {
     "name": "stdout",
     "output_type": "stream",
     "text": [
      "      sid  score  cid\n",
      "0  202301     70  100\n",
      "1  202302     55  100\n",
      "2  202303     85  100\n",
      "3  202201     92  100\n",
      "4  202302    100  100\n",
      "0  202201     85  200\n",
      "1  202202     95  200\n",
      "2  202203     90  200\n",
      "3  202101     92  200\n",
      "0  202101     85  300\n",
      "1  202102     95  300\n",
      "2  202103     90  300\n",
      "       sid  score  cid    name     sex\n",
      "0   202301     70  100  Olivia  female\n",
      "1   202302     55  100   Kevin    male\n",
      "2   202302    100  100   Kevin    male\n",
      "3   202303     85  100    Jack    male\n",
      "4   202201     92  100  Michel    male\n",
      "5   202201     85  200  Michel    male\n",
      "6   202202     95  200   Jenny  female\n",
      "7   202203     90  200    Jack    male\n",
      "8   202101     92  200    Emma  female\n",
      "9   202101     85  300    Emma  female\n",
      "10  202102     95  300    Jack    male\n",
      "11  202103     90  300   Smith    male\n"
     ]
    }
   ],
   "source": [
    "## 7. 과목정보가 유지되도록 모든 시험결과와 학생 데이터 연결하기 (new column & concat & merge)\n",
    "mid_py_scores_df['cid'] = 100\n",
    "mid_algo_scores_df['cid'] = 200\n",
    "mid_big_scores_df['cid'] = 300\n",
    "\n",
    "mid_all_scores_df = pd.concat([mid_py_scores_df, mid_algo_scores_df, mid_big_scores_df])\n",
    "print(mid_all_scores_df)\n",
    "\n",
    "mid_all_scores_students_df = mid_all_scores_df.merge(students_all_df, on='sid')\n",
    "print(mid_all_scores_students_df)"
   ],
   "metadata": {
    "collapsed": false,
    "ExecuteTime": {
     "start_time": "2023-05-18T10:44:29.177542Z",
     "end_time": "2023-05-18T10:44:29.178261Z"
    }
   }
  },
  {
   "cell_type": "code",
   "execution_count": 37,
   "outputs": [
    {
     "data": {
      "text/plain": "80.4"
     },
     "execution_count": 37,
     "metadata": {},
     "output_type": "execute_result"
    }
   ],
   "source": [
    "## 8. 7 단계에서 생성된 데이터 프레임을 이용하여 파이썬 과목 평균점수 구하기(mean)\n",
    "mid_all_scores_students_df[mid_all_scores_students_df['cid'] == 100]['score'].mean()"
   ],
   "metadata": {
    "collapsed": false,
    "ExecuteTime": {
     "start_time": "2023-05-18T10:48:51.298342Z",
     "end_time": "2023-05-18T10:48:51.299265Z"
    }
   }
  },
  {
   "cell_type": "code",
   "execution_count": 40,
   "outputs": [
    {
     "data": {
      "text/plain": "87.5"
     },
     "execution_count": 40,
     "metadata": {},
     "output_type": "execute_result"
    }
   ],
   "source": [
    "## 9. 7 단계에서 생성된 데이터 프레임을 이용하여 알고리즘 과목 남학생 평균점수 구하기(mean)\n",
    "mid_all_scores_students_df[(mid_all_scores_students_df['cid'] == 200) & (mid_all_scores_students_df['sex'] == 'male')]['score'].mean()"
   ],
   "metadata": {
    "collapsed": false,
    "ExecuteTime": {
     "start_time": "2023-05-18T10:51:32.910103Z",
     "end_time": "2023-05-18T10:51:32.910103Z"
    }
   }
  },
  {
   "cell_type": "code",
   "execution_count": null,
   "outputs": [],
   "source": [],
   "metadata": {
    "collapsed": false
   }
  }
 ],
 "metadata": {
  "kernelspec": {
   "name": "python3",
   "language": "python",
   "display_name": "Python 3 (ipykernel)"
  },
  "language_info": {
   "codemirror_mode": {
    "name": "ipython",
    "version": 3
   },
   "file_extension": ".py",
   "mimetype": "text/x-python",
   "name": "python",
   "nbconvert_exporter": "python",
   "pygments_lexer": "ipython3",
   "version": "3.9.12"
  }
 },
 "nbformat": 4,
 "nbformat_minor": 4
}
