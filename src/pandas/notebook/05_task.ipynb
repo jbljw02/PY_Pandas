{
 "cells": [
  {
   "cell_type": "markdown",
   "metadata": {},
   "source": [
    "# 05. Data Assembly 연습과제\n",
    "***"
   ]
  },
  {
   "cell_type": "markdown",
   "metadata": {
    "tags": []
   },
   "source": [
    "## 1. 데이터 만들기"
   ]
  },
  {
   "cell_type": "code",
   "execution_count": 3,
   "metadata": {
    "ExecuteTime": {
     "start_time": "2023-06-08T21:53:06.363804Z",
     "end_time": "2023-06-08T21:53:06.377803Z"
    }
   },
   "outputs": [],
   "source": [
    "import pandas as pd"
   ]
  },
  {
   "cell_type": "code",
   "execution_count": 4,
   "metadata": {
    "ExecuteTime": {
     "start_time": "2023-06-08T21:53:06.386786Z",
     "end_time": "2023-06-08T21:53:06.451827Z"
    }
   },
   "outputs": [],
   "source": [
    "# 2021학번 학생 데이터\n",
    "students_2021_df = pd.DataFrame({\n",
    "    'sid': [202101, 202102, 202103],\n",
    "    'name' : ['Emma', 'Jack', 'Smith'],\n",
    "    'sex': ['female', 'male', 'male']\n",
    "})\n",
    "\n",
    "# 2022학번 학생 데이터\n",
    "students_2022_df = pd.DataFrame({\n",
    "    'sid': [202201, 202202, 202203],\n",
    "    'name' : ['Michel', 'Jenny', 'Jack'],\n",
    "    'sex': ['male', 'female', 'male']\n",
    "})\n",
    "\n",
    "# 2023학번 학생 데이터\n",
    "students_2023_df = pd.DataFrame({\n",
    "    'sid': [202301, 202302, 202303],\n",
    "    'name' : ['Olivia', 'Kevin', 'Jack'],\n",
    "    'sex': ['female', 'male', 'male']\n",
    "})\n",
    "\n",
    "# 과목 데이터\n",
    "courses_df = pd.DataFrame({\n",
    "    'cid': [100, 200, 300],\n",
    "    'name': ['Python', 'Algorithm', 'Big Data']\n",
    "})\n",
    "\n",
    "# Python 중간시험 결과\n",
    "mid_py_scores_df = pd.DataFrame({\n",
    "    'sid': [202301, 202302, 202303, 202201, 202302],\n",
    "    'score': [70, 55, 85, 92, 100],\n",
    "})\n",
    "\n",
    "# Algorithm 중간시험 결과\n",
    "mid_algo_scores_df = pd.DataFrame({\n",
    "    'sid': [202201, 202202, 202203, 202101],\n",
    "    'score': [85, 95, 90, 92]\n",
    "})\n",
    "\n",
    "# Big Data 중간시험 결과\n",
    "mid_big_scores_df = pd.DataFrame({\n",
    "    'sid': [202101, 202102, 202103],\n",
    "    'score': [85, 95, 90]\n",
    "})"
   ]
  },
  {
   "cell_type": "code",
   "execution_count": 9,
   "outputs": [
    {
     "name": "stdout",
     "output_type": "stream",
     "text": [
      "      sid   name     sex\n",
      "0  202101   Emma  female\n",
      "1  202102   Jack    male\n",
      "2  202103  Smith    male\n",
      "      sid    name     sex\n",
      "0  202201  Michel    male\n",
      "1  202202   Jenny  female\n",
      "2  202203    Jack    male\n",
      "      sid    name     sex\n",
      "0  202301  Olivia  female\n",
      "1  202302   Kevin    male\n",
      "2  202303    Jack    male\n"
     ]
    }
   ],
   "source": [
    "print(students_2021_df)\n",
    "print(students_2022_df)\n",
    "print(students_2023_df)"
   ],
   "metadata": {
    "collapsed": false,
    "ExecuteTime": {
     "start_time": "2023-06-08T21:58:38.573042Z",
     "end_time": "2023-06-08T21:58:38.655824Z"
    }
   }
  },
  {
   "cell_type": "markdown",
   "metadata": {
    "tags": []
   },
   "source": [
    "## 2. 모든 학생 데이터 합치기 (concat)"
   ]
  },
  {
   "cell_type": "code",
   "execution_count": 36,
   "outputs": [
    {
     "name": "stdout",
     "output_type": "stream",
     "text": [
      "      sid    name     sex\n",
      "0  202101    Emma  female\n",
      "1  202102    Jack    male\n",
      "2  202103   Smith    male\n",
      "0  202201  Michel    male\n",
      "1  202202   Jenny  female\n",
      "2  202203    Jack    male\n",
      "0  202301  Olivia  female\n",
      "1  202302   Kevin    male\n",
      "2  202303    Jack    male\n"
     ]
    }
   ],
   "source": [
    "all_students = pd.concat([students_2021_df, students_2022_df, students_2023_df])\n",
    "print(all_students)"
   ],
   "metadata": {
    "collapsed": false,
    "ExecuteTime": {
     "start_time": "2023-06-08T22:14:42.294765Z",
     "end_time": "2023-06-08T22:14:42.328674Z"
    }
   }
  },
  {
   "cell_type": "code",
   "execution_count": 43,
   "outputs": [
    {
     "name": "stdout",
     "output_type": "stream",
     "text": [
      "      sid    name     sex\n",
      "0  202101    Emma  female\n",
      "1  202102    Jack    male\n",
      "2  202103   Smith    male\n",
      "3  202201  Michel    male\n",
      "4  202202   Jenny  female\n",
      "5  202203    Jack    male\n",
      "6  202301  Olivia  female\n",
      "7  202302   Kevin    male\n",
      "8  202303    Jack    male\n"
     ]
    }
   ],
   "source": [
    "all_students = pd.concat([students_2021_df, students_2022_df, students_2023_df], ignore_index=True)\n",
    "print(all_students)"
   ],
   "metadata": {
    "collapsed": false,
    "ExecuteTime": {
     "start_time": "2023-06-08T23:54:02.745114Z",
     "end_time": "2023-06-08T23:54:02.788001Z"
    }
   }
  },
  {
   "cell_type": "markdown",
   "metadata": {
    "tags": []
   },
   "source": [
    "## 3. 파이썬 중간시험 결과와 학생 데이터 연결하기 (merge)"
   ]
  },
  {
   "cell_type": "code",
   "execution_count": 21,
   "outputs": [
    {
     "name": "stdout",
     "output_type": "stream",
     "text": [
      "      sid  score    name     sex\n",
      "0  202301     70  Olivia  female\n",
      "1  202302     55   Kevin    male\n",
      "2  202302    100   Kevin    male\n",
      "3  202303     85    Jack    male\n",
      "4  202201     92  Michel    male\n"
     ]
    }
   ],
   "source": [
    "mid_py = mid_py_scores_df.merge(all_students, left_on='sid', right_on='sid')\n",
    "print(mid_py)"
   ],
   "metadata": {
    "collapsed": false,
    "ExecuteTime": {
     "start_time": "2023-06-08T22:11:18.969408Z",
     "end_time": "2023-06-08T22:11:19.016282Z"
    }
   }
  },
  {
   "cell_type": "markdown",
   "metadata": {
    "tags": []
   },
   "source": [
    "## 4. 알고리즘 중간시험 결과와 학생 데이터 연결하기 (merge)"
   ]
  },
  {
   "cell_type": "code",
   "execution_count": 22,
   "outputs": [
    {
     "name": "stdout",
     "output_type": "stream",
     "text": [
      "      sid  score    name     sex\n",
      "0  202201     85  Michel    male\n",
      "1  202202     95   Jenny  female\n",
      "2  202203     90    Jack    male\n",
      "3  202101     92    Emma  female\n"
     ]
    }
   ],
   "source": [
    "mid_algo = mid_algo_scores_df.merge(all_students, left_on='sid', right_on='sid')\n",
    "print(mid_algo)"
   ],
   "metadata": {
    "collapsed": false,
    "ExecuteTime": {
     "start_time": "2023-06-08T22:11:24.250107Z",
     "end_time": "2023-06-08T22:11:24.296163Z"
    }
   }
  },
  {
   "cell_type": "markdown",
   "metadata": {
    "tags": []
   },
   "source": [
    "## 5. 빅데이터 중간시험 결과와 학생 데이터 연결하기 (merge)"
   ]
  },
  {
   "cell_type": "code",
   "execution_count": 19,
   "outputs": [],
   "source": [
    "mid_big = mid_big_scores_df.merge(all_students, left_on='sid', right_on='sid')"
   ],
   "metadata": {
    "collapsed": false,
    "ExecuteTime": {
     "start_time": "2023-06-08T22:10:51.935771Z",
     "end_time": "2023-06-08T22:10:52.001366Z"
    }
   }
  },
  {
   "cell_type": "markdown",
   "metadata": {
    "tags": []
   },
   "source": [
    "## 6. 모든 시험결과와 학생 데이터 연결하기 (concat & merge)"
   ]
  },
  {
   "cell_type": "code",
   "execution_count": 44,
   "outputs": [
    {
     "name": "stdout",
     "output_type": "stream",
     "text": [
      "       sid    name     sex  score  cid\n",
      "0   202101    Emma  female     92  200\n",
      "1   202101    Emma  female     85  300\n",
      "2   202102    Jack    male     95  300\n",
      "3   202103   Smith    male     90  300\n",
      "4   202201  Michel    male     92  100\n",
      "5   202201  Michel    male     85  200\n",
      "6   202202   Jenny  female     95  200\n",
      "7   202203    Jack    male     90  200\n",
      "8   202301  Olivia  female     70  100\n",
      "9   202302   Kevin    male     55  100\n",
      "10  202302   Kevin    male    100  100\n",
      "11  202303    Jack    male     85  100\n"
     ]
    }
   ],
   "source": [
    "# 위 사용 X\n",
    "\n",
    "students_all = pd.concat([students_2021_df, students_2022_df, students_2023_df])\n",
    "scores_all = pd.concat([mid_py_scores_df, mid_algo_scores_df, mid_big_scores_df])\n",
    "\n",
    "mid_all = students_all.merge(scores_all, left_on='sid', right_on='sid')\n",
    "print(mid_all)"
   ],
   "metadata": {
    "collapsed": false,
    "ExecuteTime": {
     "start_time": "2023-06-09T00:33:13.008368Z",
     "end_time": "2023-06-09T00:33:13.306573Z"
    }
   }
  },
  {
   "cell_type": "code",
   "execution_count": 51,
   "outputs": [
    {
     "name": "stdout",
     "output_type": "stream",
     "text": [
      "      sid  score    name     sex\n",
      "0  202301     70  Olivia  female\n",
      "1  202302     55   Kevin    male\n",
      "2  202302    100   Kevin    male\n",
      "3  202303     85    Jack    male\n",
      "4  202201     92  Michel    male\n",
      "0  202201     85  Michel    male\n",
      "1  202202     95   Jenny  female\n",
      "2  202203     90    Jack    male\n",
      "3  202101     92    Emma  female\n",
      "0  202101     85    Emma  female\n",
      "1  202102     95    Jack    male\n",
      "2  202103     90   Smith    male\n"
     ]
    }
   ],
   "source": [
    "# 위 사용\n",
    "\n",
    "mid_all = pd.concat([mid_py, mid_algo, mid_big])\n",
    "print(mid_all)"
   ],
   "metadata": {
    "collapsed": false,
    "ExecuteTime": {
     "start_time": "2023-06-09T00:34:08.936217Z",
     "end_time": "2023-06-09T00:34:09.041938Z"
    }
   }
  },
  {
   "cell_type": "markdown",
   "metadata": {
    "tags": []
   },
   "source": [
    "## 7. 과목정보가 유지되도록 모든 시험결과와 학생 데이터 연결하기 (new column & concat & merge)"
   ]
  },
  {
   "cell_type": "code",
   "execution_count": 39,
   "outputs": [
    {
     "name": "stdout",
     "output_type": "stream",
     "text": [
      "       sid    name     sex  score  cid\n",
      "0   202101    Emma  female     92  200\n",
      "1   202101    Emma  female     85  300\n",
      "2   202102    Jack    male     95  300\n",
      "3   202103   Smith    male     90  300\n",
      "4   202201  Michel    male     92  100\n",
      "5   202201  Michel    male     85  200\n",
      "6   202202   Jenny  female     95  200\n",
      "7   202203    Jack    male     90  200\n",
      "8   202301  Olivia  female     70  100\n",
      "9   202302   Kevin    male     55  100\n",
      "10  202302   Kevin    male    100  100\n",
      "11  202303    Jack    male     85  100\n"
     ]
    }
   ],
   "source": [
    "mid_py_scores_df['cid'] = 100\n",
    "mid_algo_scores_df['cid'] = 200\n",
    "mid_big_scores_df['cid'] = 300\n",
    "\n",
    "all_scores = pd.concat([mid_py_scores_df, mid_algo_scores_df, mid_big_scores_df])\n",
    "mid_all = all_students.merge(all_scores, left_on='sid', right_on='sid')\n",
    "\n",
    "print(mid_all)"
   ],
   "metadata": {
    "collapsed": false,
    "ExecuteTime": {
     "start_time": "2023-06-08T22:18:15.394232Z",
     "end_time": "2023-06-08T22:18:15.472057Z"
    }
   }
  },
  {
   "cell_type": "markdown",
   "metadata": {
    "tags": []
   },
   "source": [
    "## 8. 7 단계에서 생성된 데이터 프레임을 이용하여 파이썬 과목 평균점수 구하기(mean)"
   ]
  },
  {
   "cell_type": "code",
   "execution_count": 40,
   "outputs": [
    {
     "data": {
      "text/plain": "80.4"
     },
     "execution_count": 40,
     "metadata": {},
     "output_type": "execute_result"
    }
   ],
   "source": [
    "mid_all['score'][mid_all['cid'] == 100].mean()"
   ],
   "metadata": {
    "collapsed": false,
    "ExecuteTime": {
     "start_time": "2023-06-08T22:22:07.153637Z",
     "end_time": "2023-06-08T22:22:07.186583Z"
    }
   }
  },
  {
   "cell_type": "markdown",
   "metadata": {
    "tags": []
   },
   "source": [
    "## 9. 7 단계에서 생성된 데이터 프레임을 이용하여 알고리즘 과목 남학생 평균점수 구하기(mean)"
   ]
  },
  {
   "cell_type": "code",
   "execution_count": 42,
   "outputs": [
    {
     "data": {
      "text/plain": "87.5"
     },
     "execution_count": 42,
     "metadata": {},
     "output_type": "execute_result"
    }
   ],
   "source": [
    "mid_all['score'][(mid_all['cid'] == 200) & (mid_all['sex'] == 'male')].mean()"
   ],
   "metadata": {
    "collapsed": false,
    "ExecuteTime": {
     "start_time": "2023-06-08T22:25:25.958662Z",
     "end_time": "2023-06-08T22:25:26.023746Z"
    }
   }
  }
 ],
 "metadata": {
  "kernelspec": {
   "name": "python3",
   "language": "python",
   "display_name": "Python 3 (ipykernel)"
  },
  "language_info": {
   "codemirror_mode": {
    "name": "ipython",
    "version": 3
   },
   "file_extension": ".py",
   "mimetype": "text/x-python",
   "name": "python",
   "nbconvert_exporter": "python",
   "pygments_lexer": "ipython3",
   "version": "3.9.12"
  }
 },
 "nbformat": 4,
 "nbformat_minor": 4
}
