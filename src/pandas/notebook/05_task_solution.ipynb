{
 "cells": [
  {
   "cell_type": "markdown",
   "metadata": {},
   "source": [
    "# 05. Data Assembly 연습과제\n",
    "***"
   ]
  },
  {
   "cell_type": "markdown",
   "metadata": {
    "tags": []
   },
   "source": [
    "## 1. 데이터 만들기"
   ]
  },
  {
   "cell_type": "code",
   "execution_count": 1,
   "metadata": {
    "ExecuteTime": {
     "start_time": "2023-06-06T18:10:50.019801Z",
     "end_time": "2023-06-06T18:10:50.731115Z"
    }
   },
   "outputs": [],
   "source": [
    "import pandas as pd"
   ]
  },
  {
   "cell_type": "code",
   "execution_count": 2,
   "metadata": {
    "ExecuteTime": {
     "start_time": "2023-06-06T18:10:50.674268Z",
     "end_time": "2023-06-06T18:10:50.732112Z"
    }
   },
   "outputs": [],
   "source": [
    "# 2021학번 학생 데이터\n",
    "students_2021_df = pd.DataFrame({\n",
    "    'sid': [202101, 202102, 202103],\n",
    "    'name' : ['Emma', 'Jack', 'Smith'],\n",
    "    'sex': ['female', 'male', 'male']\n",
    "})\n",
    "\n",
    "# 2022학번 학생 데이터\n",
    "students_2022_df = pd.DataFrame({\n",
    "    'sid': [202201, 202202, 202203],\n",
    "    'name' : ['Michel', 'Jenny', 'Jack'],\n",
    "    'sex': ['male', 'female', 'male']\n",
    "})\n",
    "\n",
    "# 2023학번 학생 데이터\n",
    "students_2023_df = pd.DataFrame({\n",
    "    'sid': [202301, 202302, 202303],\n",
    "    'name' : ['Olivia', 'Kevin', 'Jack'],\n",
    "    'sex': ['female', 'male', 'male']\n",
    "})\n",
    "\n",
    "# 과목 데이터\n",
    "courses_df = pd.DataFrame({\n",
    "    'cid': [100, 200, 300],\n",
    "    'name': ['Python', 'Algorithm', 'Big Data']\n",
    "})\n",
    "\n",
    "# Python 중간시험 결과\n",
    "mid_py_scores_df = pd.DataFrame({\n",
    "    'sid': [202301, 202302, 202303, 202201, 202302],\n",
    "    'score': [70, 55, 85, 92, 100],\n",
    "})\n",
    "\n",
    "# Algorithm 중간시험 결과\n",
    "mid_algo_scores_df = pd.DataFrame({\n",
    "    'sid': [202201, 202202, 202203, 202101],\n",
    "    'score': [85, 95, 90, 92]\n",
    "})\n",
    "\n",
    "# Big Data 중간시험 결과\n",
    "mid_big_scores_df = pd.DataFrame({\n",
    "    'sid': [202101, 202102, 202103],\n",
    "    'score': [85, 95, 90]\n",
    "})"
   ]
  },
  {
   "cell_type": "markdown",
   "metadata": {
    "tags": []
   },
   "source": [
    "## 2. 모든 학생 데이터 합치기 (concat)"
   ]
  },
  {
   "cell_type": "code",
   "execution_count": 4,
   "metadata": {
    "ExecuteTime": {
     "start_time": "2023-06-05T17:18:56.521660Z",
     "end_time": "2023-06-05T17:18:56.588579Z"
    }
   },
   "outputs": [
    {
     "name": "stdout",
     "output_type": "stream",
     "text": [
      "      sid    name     sex\n",
      "0  202101    Emma  female\n",
      "1  202102    Jack    male\n",
      "2  202103   Smith    male\n",
      "0  202201  Michel    male\n",
      "1  202202   Jenny  female\n",
      "2  202203    Jack    male\n",
      "0  202301  Olivia  female\n",
      "1  202302   Kevin    male\n",
      "2  202303    Jack    male\n"
     ]
    }
   ],
   "source": [
    "students_all_df = pd.concat([students_2021_df, students_2022_df, students_2023_df])\n",
    "print(students_all_df)"
   ]
  },
  {
   "cell_type": "markdown",
   "metadata": {
    "tags": []
   },
   "source": [
    "## 3. 파이썬 중간시험 결과와 학생 데이터 연결하기 (merge)"
   ]
  },
  {
   "cell_type": "code",
   "execution_count": 5,
   "metadata": {
    "tags": [],
    "ExecuteTime": {
     "start_time": "2023-06-05T17:18:57.989049Z",
     "end_time": "2023-06-05T17:18:58.032931Z"
    }
   },
   "outputs": [
    {
     "name": "stdout",
     "output_type": "stream",
     "text": [
      "      sid  score    name     sex\n",
      "0  202301     70  Olivia  female\n",
      "1  202302     55   Kevin    male\n",
      "2  202302    100   Kevin    male\n",
      "3  202303     85    Jack    male\n",
      "4  202201     92  Michel    male\n"
     ]
    }
   ],
   "source": [
    "mid_py_scores_students_df = mid_py_scores_df.merge(students_all_df, left_on='sid', right_on='sid')\n",
    "print(mid_py_scores_students_df)"
   ]
  },
  {
   "cell_type": "markdown",
   "metadata": {
    "tags": []
   },
   "source": [
    "## 4. 알고리즘 중간시험 결과와 학생 데이터 연결하기 (merge)"
   ]
  },
  {
   "cell_type": "code",
   "execution_count": 7,
   "metadata": {
    "tags": [],
    "ExecuteTime": {
     "start_time": "2023-06-05T17:19:02.256746Z",
     "end_time": "2023-06-05T17:19:02.309613Z"
    }
   },
   "outputs": [
    {
     "name": "stdout",
     "output_type": "stream",
     "text": [
      "      sid  score    name     sex\n",
      "0  202201     85  Michel    male\n",
      "1  202202     95   Jenny  female\n",
      "2  202203     90    Jack    male\n",
      "3  202101     92    Emma  female\n"
     ]
    }
   ],
   "source": [
    "mid_algo_scores_students_df = mid_algo_scores_df.merge(students_all_df, left_on='sid', right_on='sid')\n",
    "print(mid_algo_scores_students_df)"
   ]
  },
  {
   "cell_type": "markdown",
   "metadata": {
    "tags": []
   },
   "source": [
    "## 5. 빅데이터 중간시험 결과와 학생 데이터 연결하기 (merge)"
   ]
  },
  {
   "cell_type": "code",
   "execution_count": 8,
   "metadata": {
    "tags": [],
    "ExecuteTime": {
     "start_time": "2023-06-05T17:19:04.841315Z",
     "end_time": "2023-06-05T17:19:04.924949Z"
    }
   },
   "outputs": [
    {
     "name": "stdout",
     "output_type": "stream",
     "text": [
      "      sid  score   name     sex\n",
      "0  202101     85   Emma  female\n",
      "1  202102     95   Jack    male\n",
      "2  202103     90  Smith    male\n"
     ]
    }
   ],
   "source": [
    "mid_big_scores_students_df = mid_big_scores_df.merge(students_all_df, left_on='sid', right_on='sid')\n",
    "print(mid_big_scores_students_df)"
   ]
  },
  {
   "cell_type": "markdown",
   "metadata": {
    "tags": []
   },
   "source": [
    "## 6. 모든 시험결과와 학생 데이터 연결하기 (concat & merge)"
   ]
  },
  {
   "cell_type": "code",
   "execution_count": 9,
   "metadata": {
    "ExecuteTime": {
     "start_time": "2023-06-05T17:19:10.630585Z",
     "end_time": "2023-06-05T17:19:10.651428Z"
    }
   },
   "outputs": [
    {
     "name": "stdout",
     "output_type": "stream",
     "text": [
      "       sid  score    name     sex\n",
      "0   202301     70  Olivia  female\n",
      "1   202302     55   Kevin    male\n",
      "2   202302    100   Kevin    male\n",
      "3   202303     85    Jack    male\n",
      "4   202201     92  Michel    male\n",
      "5   202201     85  Michel    male\n",
      "6   202202     95   Jenny  female\n",
      "7   202203     90    Jack    male\n",
      "8   202101     92    Emma  female\n",
      "9   202101     85    Emma  female\n",
      "10  202102     95    Jack    male\n",
      "11  202103     90   Smith    male\n"
     ]
    }
   ],
   "source": [
    "# 3/4/5 단계 결과를 이용하지 않은 방식\n",
    "mid_all_scores_df = pd.concat([mid_py_scores_df, mid_algo_scores_df, mid_big_scores_df])\n",
    "mid_all_df = mid_all_scores_df.merge(students_all_df, left_on='sid', right_on='sid')\n",
    "print(mid_all_df)"
   ]
  },
  {
   "cell_type": "code",
   "execution_count": 10,
   "metadata": {
    "ExecuteTime": {
     "start_time": "2023-06-05T17:19:11.588034Z",
     "end_time": "2023-06-05T17:19:11.697739Z"
    }
   },
   "outputs": [
    {
     "name": "stdout",
     "output_type": "stream",
     "text": [
      "      sid  score    name     sex\n",
      "0  202301     70  Olivia  female\n",
      "1  202302     55   Kevin    male\n",
      "2  202302    100   Kevin    male\n",
      "3  202303     85    Jack    male\n",
      "4  202201     92  Michel    male\n",
      "0  202201     85  Michel    male\n",
      "1  202202     95   Jenny  female\n",
      "2  202203     90    Jack    male\n",
      "3  202101     92    Emma  female\n",
      "0  202101     85    Emma  female\n",
      "1  202102     95    Jack    male\n",
      "2  202103     90   Smith    male\n"
     ]
    }
   ],
   "source": [
    "# 3/4/5 단계 결과를 이용한 방식\n",
    "mid_all_df = pd.concat([mid_py_scores_students_df, \n",
    "                        mid_algo_scores_students_df, \n",
    "                        mid_big_scores_students_df])\n",
    "print(mid_all_df)"
   ]
  },
  {
   "cell_type": "markdown",
   "metadata": {
    "tags": []
   },
   "source": [
    "## 7. 과목정보가 유지되도록 모든 시험결과와 학생 데이터 연결하기 (new column & concat & merge)"
   ]
  },
  {
   "cell_type": "code",
   "execution_count": 9,
   "metadata": {},
   "outputs": [
    {
     "name": "stdout",
     "output_type": "stream",
     "text": [
      "      sid  score  cid\n",
      "0  202301     70  100\n",
      "1  202302     55  100\n",
      "2  202303     85  100\n",
      "3  202201     92  100\n",
      "4  202302    100  100\n",
      "0  202201     85  200\n",
      "1  202202     95  200\n",
      "2  202203     90  200\n",
      "3  202101     92  200\n",
      "0  202101     85  300\n",
      "1  202102     95  300\n",
      "2  202103     90  300\n"
     ]
    }
   ],
   "source": [
    "mid_py_scores_df['cid'] = 100\n",
    "mid_algo_scores_df['cid'] = 200\n",
    "mid_big_scores_df['cid'] = 300\n",
    "\n",
    "mid_all_scores_df = pd.concat([mid_py_scores_df, mid_algo_scores_df, mid_big_scores_df])\n",
    "print(mid_all_scores_df)"
   ]
  },
  {
   "cell_type": "code",
   "execution_count": 10,
   "metadata": {},
   "outputs": [
    {
     "name": "stdout",
     "output_type": "stream",
     "text": [
      "       sid  score  cid    name     sex\n",
      "0   202301     70  100  Olivia  female\n",
      "1   202302     55  100   Kevin    male\n",
      "2   202302    100  100   Kevin    male\n",
      "3   202303     85  100    Jack    male\n",
      "4   202201     92  100  Michel    male\n",
      "5   202201     85  200  Michel    male\n",
      "6   202202     95  200   Jenny  female\n",
      "7   202203     90  200    Jack    male\n",
      "8   202101     92  200    Emma  female\n",
      "9   202101     85  300    Emma  female\n",
      "10  202102     95  300    Jack    male\n",
      "11  202103     90  300   Smith    male\n"
     ]
    }
   ],
   "source": [
    "mid_all_scores_students_df = mid_all_scores_df.merge(students_all_df, left_on='sid', right_on='sid')\n",
    "print(mid_all_scores_students_df)"
   ]
  },
  {
   "cell_type": "code",
   "execution_count": 11,
   "metadata": {},
   "outputs": [
    {
     "name": "stdout",
     "output_type": "stream",
     "text": [
      "       sid  score  cid  name_x     sex     name_y\n",
      "0   202301     70  100  Olivia  female     Python\n",
      "1   202302     55  100   Kevin    male     Python\n",
      "2   202302    100  100   Kevin    male     Python\n",
      "3   202303     85  100    Jack    male     Python\n",
      "4   202201     92  100  Michel    male     Python\n",
      "5   202201     85  200  Michel    male  Algorithm\n",
      "6   202202     95  200   Jenny  female  Algorithm\n",
      "7   202203     90  200    Jack    male  Algorithm\n",
      "8   202101     92  200    Emma  female  Algorithm\n",
      "9   202101     85  300    Emma  female   Big Data\n",
      "10  202102     95  300    Jack    male   Big Data\n",
      "11  202103     90  300   Smith    male   Big Data\n"
     ]
    }
   ],
   "source": [
    "mid_all_df = mid_all_scores_students_df.merge(courses_df, left_on='cid', right_on='cid')\n",
    "print(mid_all_df)"
   ]
  },
  {
   "cell_type": "markdown",
   "metadata": {
    "tags": []
   },
   "source": [
    "## 8. 7 단계에서 생성된 데이터 프레임을 이용하여 파이썬 과목 평균점수 구하기(mean)"
   ]
  },
  {
   "cell_type": "code",
   "execution_count": 12,
   "metadata": {},
   "outputs": [
    {
     "data": {
      "text/plain": [
       "80.4"
      ]
     },
     "execution_count": 12,
     "metadata": {},
     "output_type": "execute_result"
    }
   ],
   "source": [
    "mid_all_df[mid_all_df['cid'] == 100]['score'].mean()\n",
    "#mid_all_df[mid_all_df.cid == 100].score.mean()\n",
    "\n",
    "# mid_all['score'][mid_all['cid'] == 100].mean()"
   ]
  },
  {
   "cell_type": "markdown",
   "metadata": {
    "tags": []
   },
   "source": [
    "## 9. 7 단계에서 생성된 데이터 프레임을 이용하여 알고리즘 과목 남학생 평균점수 구하기(mean)"
   ]
  },
  {
   "cell_type": "code",
   "execution_count": 13,
   "metadata": {},
   "outputs": [
    {
     "data": {
      "text/plain": [
       "87.5"
      ]
     },
     "execution_count": 13,
     "metadata": {},
     "output_type": "execute_result"
    }
   ],
   "source": [
    "mid_all_df[(mid_all_df['cid'] == 200) & (mid_all_df['sex'] == 'male')]['score'].mean()\n",
    "#mid_all_df[(mid_all_df.cid == 200) & (mid_all_df.sex == 'male')].score.mean()"
   ]
  }
 ],
 "metadata": {
  "kernelspec": {
   "name": "python3",
   "language": "python",
   "display_name": "Python 3 (ipykernel)"
  },
  "language_info": {
   "codemirror_mode": {
    "name": "ipython",
    "version": 3
   },
   "file_extension": ".py",
   "mimetype": "text/x-python",
   "name": "python",
   "nbconvert_exporter": "python",
   "pygments_lexer": "ipython3",
   "version": "3.9.12"
  }
 },
 "nbformat": 4,
 "nbformat_minor": 4
}
