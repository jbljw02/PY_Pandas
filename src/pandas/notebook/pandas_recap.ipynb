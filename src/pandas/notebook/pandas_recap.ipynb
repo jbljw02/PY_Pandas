{
 "cells": [
  {
   "cell_type": "markdown",
   "metadata": {},
   "source": [
    "# Pandas Recap"
   ]
  },
  {
   "cell_type": "markdown",
   "metadata": {
    "jp-MarkdownHeadingCollapsed": true,
    "tags": []
   },
   "source": [
    "# 1. Pandas DataFrame Basics\n",
    "***"
   ]
  },
  {
   "cell_type": "markdown",
   "metadata": {
    "tags": []
   },
   "source": [
    "## 1.1 데이터 집합 불러오기"
   ]
  },
  {
   "cell_type": "code",
   "execution_count": 1,
   "metadata": {
    "ExecuteTime": {
     "start_time": "2023-06-02T17:47:21.777679Z",
     "end_time": "2023-06-02T17:47:22.872329Z"
    }
   },
   "outputs": [],
   "source": [
    "import pandas as pd\n",
    "df = pd.read_csv('../data/gapminder.tsv', sep='\\t')"
   ]
  },
  {
   "cell_type": "code",
   "execution_count": 2,
   "metadata": {
    "ExecuteTime": {
     "start_time": "2023-06-02T17:47:31.022106Z",
     "end_time": "2023-06-02T17:47:31.240266Z"
    }
   },
   "outputs": [
    {
     "data": {
      "text/plain": "       country continent  year  lifeExp       pop   gdpPercap\n0  Afghanistan      Asia  1952   28.801   8425333  779.445314\n1  Afghanistan      Asia  1957   30.332   9240934  820.853030\n2  Afghanistan      Asia  1962   31.997  10267083  853.100710\n3  Afghanistan      Asia  1967   34.020  11537966  836.197138\n4  Afghanistan      Asia  1972   36.088  13079460  739.981106",
      "text/html": "<div>\n<style scoped>\n    .dataframe tbody tr th:only-of-type {\n        vertical-align: middle;\n    }\n\n    .dataframe tbody tr th {\n        vertical-align: top;\n    }\n\n    .dataframe thead th {\n        text-align: right;\n    }\n</style>\n<table border=\"1\" class=\"dataframe\">\n  <thead>\n    <tr style=\"text-align: right;\">\n      <th></th>\n      <th>country</th>\n      <th>continent</th>\n      <th>year</th>\n      <th>lifeExp</th>\n      <th>pop</th>\n      <th>gdpPercap</th>\n    </tr>\n  </thead>\n  <tbody>\n    <tr>\n      <th>0</th>\n      <td>Afghanistan</td>\n      <td>Asia</td>\n      <td>1952</td>\n      <td>28.801</td>\n      <td>8425333</td>\n      <td>779.445314</td>\n    </tr>\n    <tr>\n      <th>1</th>\n      <td>Afghanistan</td>\n      <td>Asia</td>\n      <td>1957</td>\n      <td>30.332</td>\n      <td>9240934</td>\n      <td>820.853030</td>\n    </tr>\n    <tr>\n      <th>2</th>\n      <td>Afghanistan</td>\n      <td>Asia</td>\n      <td>1962</td>\n      <td>31.997</td>\n      <td>10267083</td>\n      <td>853.100710</td>\n    </tr>\n    <tr>\n      <th>3</th>\n      <td>Afghanistan</td>\n      <td>Asia</td>\n      <td>1967</td>\n      <td>34.020</td>\n      <td>11537966</td>\n      <td>836.197138</td>\n    </tr>\n    <tr>\n      <th>4</th>\n      <td>Afghanistan</td>\n      <td>Asia</td>\n      <td>1972</td>\n      <td>36.088</td>\n      <td>13079460</td>\n      <td>739.981106</td>\n    </tr>\n  </tbody>\n</table>\n</div>"
     },
     "execution_count": 2,
     "metadata": {},
     "output_type": "execute_result"
    }
   ],
   "source": [
    "df.head()"
   ]
  },
  {
   "cell_type": "markdown",
   "metadata": {
    "tags": []
   },
   "source": [
    "## 1.2 열단위 데이터 추출"
   ]
  },
  {
   "cell_type": "markdown",
   "metadata": {
    "tags": []
   },
   "source": [
    "### df에서 'country'열을 추출하여 country_sr 변수에 저장하기. (country_sr의 타입은 Series 가 되어야 한다)"
   ]
  },
  {
   "cell_type": "code",
   "execution_count": 12,
   "outputs": [
    {
     "data": {
      "text/plain": "pandas.core.series.Series"
     },
     "execution_count": 12,
     "metadata": {},
     "output_type": "execute_result"
    }
   ],
   "source": [
    "country_sr = df['country']\n",
    "country_sr\n",
    "type(country_sr)"
   ],
   "metadata": {
    "collapsed": false,
    "ExecuteTime": {
     "start_time": "2023-06-02T17:53:17.885432Z",
     "end_time": "2023-06-02T17:53:17.919329Z"
    }
   }
  },
  {
   "cell_type": "markdown",
   "metadata": {},
   "source": [
    "### 'year'열과 'pop'열을 동시에 추출하여 year_pop_df 변수에 저장하기. (year_pop_df의 타입은 DataFrame이 되어야 한다)"
   ]
  },
  {
   "cell_type": "code",
   "execution_count": 14,
   "outputs": [
    {
     "data": {
      "text/plain": "pandas.core.frame.DataFrame"
     },
     "execution_count": 14,
     "metadata": {},
     "output_type": "execute_result"
    }
   ],
   "source": [
    "year_pop_df = df[['year', 'pop']]\n",
    "year_pop_df\n",
    "type(year_pop_df)"
   ],
   "metadata": {
    "collapsed": false,
    "ExecuteTime": {
     "start_time": "2023-06-02T17:53:58.293602Z",
     "end_time": "2023-06-02T17:53:58.409812Z"
    }
   }
  },
  {
   "cell_type": "markdown",
   "metadata": {},
   "source": [
    "### 'year'열을 추출하여 year_df 변수에 저장하기. (year_df의 타입은 DataFrame이 되어야 한다)"
   ]
  },
  {
   "cell_type": "code",
   "execution_count": 15,
   "outputs": [
    {
     "data": {
      "text/plain": "      year\n0     1952\n1     1957\n2     1962\n3     1967\n4     1972\n...    ...\n1699  1987\n1700  1992\n1701  1997\n1702  2002\n1703  2007\n\n[1704 rows x 1 columns]",
      "text/html": "<div>\n<style scoped>\n    .dataframe tbody tr th:only-of-type {\n        vertical-align: middle;\n    }\n\n    .dataframe tbody tr th {\n        vertical-align: top;\n    }\n\n    .dataframe thead th {\n        text-align: right;\n    }\n</style>\n<table border=\"1\" class=\"dataframe\">\n  <thead>\n    <tr style=\"text-align: right;\">\n      <th></th>\n      <th>year</th>\n    </tr>\n  </thead>\n  <tbody>\n    <tr>\n      <th>0</th>\n      <td>1952</td>\n    </tr>\n    <tr>\n      <th>1</th>\n      <td>1957</td>\n    </tr>\n    <tr>\n      <th>2</th>\n      <td>1962</td>\n    </tr>\n    <tr>\n      <th>3</th>\n      <td>1967</td>\n    </tr>\n    <tr>\n      <th>4</th>\n      <td>1972</td>\n    </tr>\n    <tr>\n      <th>...</th>\n      <td>...</td>\n    </tr>\n    <tr>\n      <th>1699</th>\n      <td>1987</td>\n    </tr>\n    <tr>\n      <th>1700</th>\n      <td>1992</td>\n    </tr>\n    <tr>\n      <th>1701</th>\n      <td>1997</td>\n    </tr>\n    <tr>\n      <th>1702</th>\n      <td>2002</td>\n    </tr>\n    <tr>\n      <th>1703</th>\n      <td>2007</td>\n    </tr>\n  </tbody>\n</table>\n<p>1704 rows × 1 columns</p>\n</div>"
     },
     "execution_count": 15,
     "metadata": {},
     "output_type": "execute_result"
    }
   ],
   "source": [
    "year_df = df[['year']]\n",
    "year_df"
   ],
   "metadata": {
    "collapsed": false,
    "ExecuteTime": {
     "start_time": "2023-06-02T17:56:01.516507Z",
     "end_time": "2023-06-02T17:56:01.641173Z"
    }
   }
  },
  {
   "cell_type": "markdown",
   "metadata": {
    "tags": []
   },
   "source": [
    "## 1.3 행단위 데이터 추출"
   ]
  },
  {
   "cell_type": "markdown",
   "metadata": {
    "tags": []
   },
   "source": [
    "### df에서 2번째 행 데이터 추출하기 (loc 속성 이용)"
   ]
  },
  {
   "cell_type": "code",
   "execution_count": 46,
   "outputs": [
    {
     "name": "stdout",
     "output_type": "stream",
     "text": [
      "       country continent  year  lifeExp       pop   gdpPercap\n",
      "0  Afghanistan      Asia  1952   28.801   8425333  779.445314\n",
      "1  Afghanistan      Asia  1957   30.332   9240934  820.853030\n",
      "2  Afghanistan      Asia  1962   31.997  10267083  853.100710\n",
      "3  Afghanistan      Asia  1967   34.020  11537966  836.197138\n",
      "4  Afghanistan      Asia  1972   36.088  13079460  739.981106\n",
      "country      Afghanistan\n",
      "continent           Asia\n",
      "year                1957\n",
      "lifeExp           30.332\n",
      "pop              9240934\n",
      "gdpPercap      820.85303\n",
      "Name: 1, dtype: object\n"
     ]
    }
   ],
   "source": [
    "print(df.head())\n",
    "\n",
    "print(df.loc[1])"
   ],
   "metadata": {
    "collapsed": false,
    "ExecuteTime": {
     "start_time": "2023-06-02T18:03:21.722967Z",
     "end_time": "2023-06-02T18:03:21.756875Z"
    }
   }
  },
  {
   "cell_type": "markdown",
   "metadata": {},
   "source": [
    "### df에서 2번째 행 데이터 추출하기 (iloc 속성 이용)"
   ]
  },
  {
   "cell_type": "code",
   "execution_count": 45,
   "outputs": [
    {
     "name": "stdout",
     "output_type": "stream",
     "text": [
      "country      Afghanistan\n",
      "continent           Asia\n",
      "year                1957\n",
      "lifeExp           30.332\n",
      "pop              9240934\n",
      "gdpPercap      820.85303\n",
      "Name: 1, dtype: object\n"
     ]
    }
   ],
   "source": [
    "print(df.iloc[1])"
   ],
   "metadata": {
    "collapsed": false,
    "ExecuteTime": {
     "start_time": "2023-06-02T18:03:16.031655Z",
     "end_time": "2023-06-02T18:03:16.203198Z"
    }
   }
  },
  {
   "cell_type": "markdown",
   "metadata": {},
   "source": [
    "### df에서 마지막 행 데이터 추출하기 (loc 속성 이용)"
   ]
  },
  {
   "cell_type": "code",
   "execution_count": 49,
   "outputs": [
    {
     "name": "stdout",
     "output_type": "stream",
     "text": [
      "country        Zimbabwe\n",
      "continent        Africa\n",
      "year               2007\n",
      "lifeExp          43.487\n",
      "pop            12311143\n",
      "gdpPercap    469.709298\n",
      "Name: 1703, dtype: object\n"
     ]
    }
   ],
   "source": [
    "num_rows = df.shape[0] - 1\n",
    "print(df.loc[num_rows])"
   ],
   "metadata": {
    "collapsed": false,
    "ExecuteTime": {
     "start_time": "2023-06-02T18:04:24.439417Z",
     "end_time": "2023-06-02T18:04:24.504050Z"
    }
   }
  },
  {
   "cell_type": "markdown",
   "metadata": {},
   "source": [
    "### df에서 마지막 행 데이터 추출하기 (iloc 속성 이용)"
   ]
  },
  {
   "cell_type": "code",
   "execution_count": 50,
   "outputs": [
    {
     "name": "stdout",
     "output_type": "stream",
     "text": [
      "country        Zimbabwe\n",
      "continent        Africa\n",
      "year               2007\n",
      "lifeExp          43.487\n",
      "pop            12311143\n",
      "gdpPercap    469.709298\n",
      "Name: 1703, dtype: object\n"
     ]
    }
   ],
   "source": [
    "print(df.iloc[-1])"
   ],
   "metadata": {
    "collapsed": false,
    "ExecuteTime": {
     "start_time": "2023-06-02T18:08:05.851294Z",
     "end_time": "2023-06-02T18:08:05.887199Z"
    }
   }
  },
  {
   "cell_type": "markdown",
   "metadata": {
    "tags": []
   },
   "source": [
    "## 1.4 loc, iloc 속성 자유자재로 사용하기 - [ [ 행 ], [ 열 ] ]"
   ]
  },
  {
   "cell_type": "markdown",
   "metadata": {
    "tags": []
   },
   "source": [
    "### 'country', 'year', 'gdpPercap' 열에 대해 모든 행 데이터 추출하기(loc 사용)"
   ]
  },
  {
   "cell_type": "code",
   "execution_count": 53,
   "outputs": [
    {
     "name": "stdout",
     "output_type": "stream",
     "text": [
      "          country  year   gdpPercap\n",
      "0     Afghanistan  1952  779.445314\n",
      "1     Afghanistan  1957  820.853030\n",
      "2     Afghanistan  1962  853.100710\n",
      "3     Afghanistan  1967  836.197138\n",
      "4     Afghanistan  1972  739.981106\n",
      "...           ...   ...         ...\n",
      "1699     Zimbabwe  1987  706.157306\n",
      "1700     Zimbabwe  1992  693.420786\n",
      "1701     Zimbabwe  1997  792.449960\n",
      "1702     Zimbabwe  2002  672.038623\n",
      "1703     Zimbabwe  2007  469.709298\n",
      "\n",
      "[1704 rows x 3 columns]\n"
     ]
    }
   ],
   "source": [
    "print(df.loc[:, ['country', 'year', 'gdpPercap']])"
   ],
   "metadata": {
    "collapsed": false,
    "ExecuteTime": {
     "start_time": "2023-06-02T18:09:51.849261Z",
     "end_time": "2023-06-02T18:09:52.070674Z"
    }
   }
  },
  {
   "cell_type": "markdown",
   "metadata": {},
   "source": [
    "### 'country', 'year', 'gdpPercap' 열에 대해 처음부터 100개 행 데이터 추출하기(loc 사용)"
   ]
  },
  {
   "cell_type": "markdown",
   "metadata": {},
   "source": [
    "### 'country', 'year', 'gdpPercap' 열에 대해 처음부터 100개 행 데이터 추출하기(iloc 사용)"
   ]
  },
  {
   "cell_type": "markdown",
   "metadata": {
    "jp-MarkdownHeadingCollapsed": true,
    "tags": []
   },
   "source": [
    "# 2. Pandas Data Structures\n",
    "***"
   ]
  },
  {
   "cell_type": "markdown",
   "metadata": {
    "tags": []
   },
   "source": [
    "## 2.1 데이터 만들기"
   ]
  },
  {
   "cell_type": "code",
   "execution_count": 3,
   "metadata": {
    "ExecuteTime": {
     "start_time": "2023-06-02T18:44:20.139292Z",
     "end_time": "2023-06-02T18:44:21.514612Z"
    }
   },
   "outputs": [],
   "source": [
    "import pandas as pd"
   ]
  },
  {
   "cell_type": "code",
   "execution_count": 60,
   "metadata": {
    "ExecuteTime": {
     "start_time": "2023-06-02T18:14:02.768183Z",
     "end_time": "2023-06-02T18:14:02.845976Z"
    }
   },
   "outputs": [
    {
     "name": "stdout",
     "output_type": "stream",
     "text": [
      "                     Occupation        Born        Died  Age\n",
      "Rosaline Franklin       Chemist  1920-07-25  1958-04-16   37\n",
      "William Gosset     Statistician  1876-06-13  1937-10-16   61\n"
     ]
    }
   ],
   "source": [
    "scientists = pd.DataFrame(\n",
    "    data={'Occupation': ['Chemist', 'Statistician'], \n",
    "          'Born': ['1920-07-25', '1876-06-13'], \n",
    "          'Died': ['1958-04-16', '1937-10-16'],\n",
    "          'Age': [37, 61]},\n",
    "    index=['Rosaline Franklin', 'William Gosset'],\n",
    "    columns=['Occupation', 'Born', 'Died', 'Age'])\n",
    "\n",
    "print(scientists)"
   ]
  },
  {
   "cell_type": "markdown",
   "metadata": {},
   "source": [
    "## 2.2 데이터 추출"
   ]
  },
  {
   "cell_type": "markdown",
   "metadata": {
    "tags": []
   },
   "source": [
    "### 'William Gosset' 행 데이터 추출하기 (loc 사용)"
   ]
  },
  {
   "cell_type": "code",
   "execution_count": 63,
   "outputs": [
    {
     "name": "stdout",
     "output_type": "stream",
     "text": [
      "Occupation    Statistician\n",
      "Born            1876-06-13\n",
      "Died            1937-10-16\n",
      "Age                     61\n",
      "Name: William Gosset, dtype: object\n"
     ]
    }
   ],
   "source": [
    "print(scientists.loc['William Gosset'])"
   ],
   "metadata": {
    "collapsed": false,
    "ExecuteTime": {
     "start_time": "2023-06-02T18:17:15.343324Z",
     "end_time": "2023-06-02T18:17:15.455052Z"
    }
   }
  },
  {
   "cell_type": "markdown",
   "metadata": {},
   "source": [
    "### 'William Gosset' 행 데이터 추출하기 (iloc 사용)"
   ]
  },
  {
   "cell_type": "code",
   "execution_count": 61,
   "outputs": [
    {
     "name": "stdout",
     "output_type": "stream",
     "text": [
      "Occupation    Statistician\n",
      "Born            1876-06-13\n",
      "Died            1937-10-16\n",
      "Age                     61\n",
      "Name: William Gosset, dtype: object\n"
     ]
    }
   ],
   "source": [
    "print(scientists.iloc[1])"
   ],
   "metadata": {
    "collapsed": false,
    "ExecuteTime": {
     "start_time": "2023-06-02T18:16:36.763895Z",
     "end_time": "2023-06-02T18:16:36.819102Z"
    }
   }
  },
  {
   "cell_type": "markdown",
   "metadata": {},
   "source": [
    "### 'William Gosset'의 Occupation 추출 (loc 사용)"
   ]
  },
  {
   "cell_type": "code",
   "execution_count": 65,
   "outputs": [
    {
     "name": "stdout",
     "output_type": "stream",
     "text": [
      "Statistician\n"
     ]
    }
   ],
   "source": [
    "print(scientists.loc['William Gosset', 'Occupation'])"
   ],
   "metadata": {
    "collapsed": false,
    "ExecuteTime": {
     "start_time": "2023-06-02T18:18:29.519981Z",
     "end_time": "2023-06-02T18:18:29.572394Z"
    }
   }
  },
  {
   "cell_type": "markdown",
   "metadata": {},
   "source": [
    "### 'Rosaline Franklin'의 Occupation을 Programmer 로 변경(iloc 사용)"
   ]
  },
  {
   "cell_type": "code",
   "execution_count": 73,
   "outputs": [
    {
     "data": {
      "text/plain": "                     Occupation        Born        Died  Age\nRosaline Franklin    Programmer  1920-07-25  1958-04-16   37\nWilliam Gosset     Statistician  1876-06-13  1937-10-16   61",
      "text/html": "<div>\n<style scoped>\n    .dataframe tbody tr th:only-of-type {\n        vertical-align: middle;\n    }\n\n    .dataframe tbody tr th {\n        vertical-align: top;\n    }\n\n    .dataframe thead th {\n        text-align: right;\n    }\n</style>\n<table border=\"1\" class=\"dataframe\">\n  <thead>\n    <tr style=\"text-align: right;\">\n      <th></th>\n      <th>Occupation</th>\n      <th>Born</th>\n      <th>Died</th>\n      <th>Age</th>\n    </tr>\n  </thead>\n  <tbody>\n    <tr>\n      <th>Rosaline Franklin</th>\n      <td>Programmer</td>\n      <td>1920-07-25</td>\n      <td>1958-04-16</td>\n      <td>37</td>\n    </tr>\n    <tr>\n      <th>William Gosset</th>\n      <td>Statistician</td>\n      <td>1876-06-13</td>\n      <td>1937-10-16</td>\n      <td>61</td>\n    </tr>\n  </tbody>\n</table>\n</div>"
     },
     "execution_count": 73,
     "metadata": {},
     "output_type": "execute_result"
    }
   ],
   "source": [
    "scientists.iloc[0, 0] = 'Programmer'\n",
    "scientists"
   ],
   "metadata": {
    "collapsed": false,
    "ExecuteTime": {
     "start_time": "2023-06-02T18:21:05.004594Z",
     "end_time": "2023-06-02T18:21:05.046472Z"
    }
   }
  },
  {
   "cell_type": "markdown",
   "metadata": {
    "tags": []
   },
   "source": [
    "## 2.3 index, columns, values 속성 사용하기"
   ]
  },
  {
   "cell_type": "markdown",
   "metadata": {
    "tags": []
   },
   "source": [
    "### scientists의 index 가져오기"
   ]
  },
  {
   "cell_type": "code",
   "execution_count": 74,
   "outputs": [
    {
     "data": {
      "text/plain": "Index(['Rosaline Franklin', 'William Gosset'], dtype='object')"
     },
     "execution_count": 74,
     "metadata": {},
     "output_type": "execute_result"
    }
   ],
   "source": [
    "scientists.index"
   ],
   "metadata": {
    "collapsed": false,
    "ExecuteTime": {
     "start_time": "2023-06-02T18:24:31.169792Z",
     "end_time": "2023-06-02T18:24:31.211713Z"
    }
   }
  },
  {
   "cell_type": "markdown",
   "metadata": {
    "tags": []
   },
   "source": [
    "### scientists의 columns 가져오기"
   ]
  },
  {
   "cell_type": "code",
   "execution_count": 75,
   "outputs": [
    {
     "data": {
      "text/plain": "Index(['Occupation', 'Born', 'Died', 'Age'], dtype='object')"
     },
     "execution_count": 75,
     "metadata": {},
     "output_type": "execute_result"
    }
   ],
   "source": [
    "scientists.columns"
   ],
   "metadata": {
    "collapsed": false,
    "ExecuteTime": {
     "start_time": "2023-06-02T18:24:40.929702Z",
     "end_time": "2023-06-02T18:24:41.041125Z"
    }
   }
  },
  {
   "cell_type": "markdown",
   "metadata": {},
   "source": [
    "### scientists의 모든 values 가져오기"
   ]
  },
  {
   "cell_type": "code",
   "execution_count": 76,
   "outputs": [
    {
     "data": {
      "text/plain": "array([['Programmer', '1920-07-25', '1958-04-16', 37],\n       ['Statistician', '1876-06-13', '1937-10-16', 61]], dtype=object)"
     },
     "execution_count": 76,
     "metadata": {},
     "output_type": "execute_result"
    }
   ],
   "source": [
    "scientists.values"
   ],
   "metadata": {
    "collapsed": false,
    "ExecuteTime": {
     "start_time": "2023-06-02T18:24:46.124878Z",
     "end_time": "2023-06-02T18:24:46.194746Z"
    }
   }
  },
  {
   "cell_type": "markdown",
   "metadata": {
    "tags": []
   },
   "source": [
    "## 2.4 시리즈의 기초 통계 메서드 사용하기"
   ]
  },
  {
   "cell_type": "markdown",
   "metadata": {},
   "source": [
    "### 시리즈 메서드 정리\n",
    "\n",
    "| 시리즈 메서드    | 설명 |\n",
    "| ----------------| --- |\n",
    "| append          | 2개 이상의 시리즈 연결 |\n",
    "| describe        | 요약 통계량 계산 |\n",
    "| drop_duplicates | 중복값이 없는 시리즈 반환 |\n",
    "| equals          | 시리즈에 해당 값을 가진 요소가 있는지 확인 |\n",
    "| get_values      | 시리즈 값 구하기 (values 속성과 동일) |\n",
    "| isin            | 시리즈에 포함된 값이 있는지 확인 |\n",
    "| min             | 최솟값 반환 |\n",
    "| max             | 최댓값 반환 |\n",
    "| mean            | 산술 평균 반환 |\n",
    "| median          | 중간값 반환 |\n",
    "| replace         | 특정 값을 가진 시리즈 값을 교체 |\n",
    "| sample          | 시리즈에서 임의의 값을 반환 |\n",
    "| sort_values     | 값을 정렬 |\n",
    "| to_frame        | 시리즈를 데이터프레임으로 변환 |"
   ]
  },
  {
   "cell_type": "markdown",
   "metadata": {},
   "source": [
    "### scientiest 에서 평균 나이 ('Age'열) 구하기"
   ]
  },
  {
   "cell_type": "code",
   "execution_count": 83,
   "outputs": [
    {
     "name": "stdout",
     "output_type": "stream",
     "text": [
      "                     Occupation        Born        Died  Age\n",
      "Rosaline Franklin    Programmer  1920-07-25  1958-04-16   37\n",
      "William Gosset     Statistician  1876-06-13  1937-10-16   61\n"
     ]
    },
    {
     "data": {
      "text/plain": "49.0"
     },
     "execution_count": 83,
     "metadata": {},
     "output_type": "execute_result"
    }
   ],
   "source": [
    "print(scientists)\n",
    "\n",
    "scientists['Age'].mean()\n"
   ],
   "metadata": {
    "collapsed": false,
    "ExecuteTime": {
     "start_time": "2023-06-02T18:29:25.946497Z",
     "end_time": "2023-06-02T18:29:26.060130Z"
    }
   }
  },
  {
   "cell_type": "markdown",
   "metadata": {},
   "source": [
    "### scientiest 에서 최대 나이 ('Age'열) 구하기"
   ]
  },
  {
   "cell_type": "code",
   "execution_count": 84,
   "outputs": [
    {
     "data": {
      "text/plain": "61"
     },
     "execution_count": 84,
     "metadata": {},
     "output_type": "execute_result"
    }
   ],
   "source": [
    "scientists['Age'].max()"
   ],
   "metadata": {
    "collapsed": false,
    "ExecuteTime": {
     "start_time": "2023-06-02T18:29:55.885771Z",
     "end_time": "2023-06-02T18:29:55.928548Z"
    }
   }
  },
  {
   "cell_type": "markdown",
   "metadata": {},
   "source": [
    "### scientiest 에서 최소 나이 ('Age'열) 구하기"
   ]
  },
  {
   "cell_type": "code",
   "execution_count": 85,
   "outputs": [
    {
     "data": {
      "text/plain": "37"
     },
     "execution_count": 85,
     "metadata": {},
     "output_type": "execute_result"
    }
   ],
   "source": [
    "scientists['Age'].min()"
   ],
   "metadata": {
    "collapsed": false,
    "ExecuteTime": {
     "start_time": "2023-06-02T18:30:16.173909Z",
     "end_time": "2023-06-02T18:30:16.224877Z"
    }
   }
  },
  {
   "cell_type": "markdown",
   "metadata": {},
   "source": [
    "### scientiest 에서 나이('Age'열)에 대한 표준편차 구하기"
   ]
  },
  {
   "cell_type": "code",
   "execution_count": 86,
   "outputs": [
    {
     "data": {
      "text/plain": "16.97056274847714"
     },
     "execution_count": 86,
     "metadata": {},
     "output_type": "execute_result"
    }
   ],
   "source": [
    "scientists['Age'].std()"
   ],
   "metadata": {
    "collapsed": false,
    "ExecuteTime": {
     "start_time": "2023-06-02T18:30:24.527449Z",
     "end_time": "2023-06-02T18:30:24.596263Z"
    }
   }
  },
  {
   "cell_type": "markdown",
   "metadata": {
    "tags": []
   },
   "source": [
    "## 2.5 시리즈 다루기 - 응용"
   ]
  },
  {
   "cell_type": "code",
   "execution_count": 4,
   "metadata": {
    "tags": [],
    "ExecuteTime": {
     "start_time": "2023-06-02T18:44:27.880388Z",
     "end_time": "2023-06-02T18:44:28.072872Z"
    }
   },
   "outputs": [
    {
     "name": "stdout",
     "output_type": "stream",
     "text": [
      "                   Name        Born        Died  Age          Occupation\n",
      "0     Rosaline Franklin  1920-07-25  1958-04-16   37             Chemist\n",
      "1        William Gosset  1876-06-13  1937-10-16   61        Statistician\n",
      "2  Florence Nightingale  1820-05-12  1910-08-13   90               Nurse\n",
      "3           Marie Curie  1867-11-07  1934-07-04   66             Chemist\n",
      "4         Rachel Carson  1907-05-27  1964-04-14   56           Biologist\n",
      "5             John Snow  1813-03-15  1858-06-16   45           Physician\n",
      "6           Alan Turing  1912-06-23  1954-06-07   41  Computer Scientist\n",
      "7          Johann Gauss  1777-04-30  1855-02-23   77       Mathematician\n"
     ]
    }
   ],
   "source": [
    "scientists = pd.read_csv('../data/scientists.csv')\n",
    "print(scientists)"
   ]
  },
  {
   "cell_type": "markdown",
   "metadata": {},
   "source": [
    "### 수명(Age)이 평균수명 보다 적은 과학자들의 수명 데이터(시리즈) 추출하기"
   ]
  },
  {
   "cell_type": "code",
   "execution_count": 10,
   "outputs": [
    {
     "name": "stdout",
     "output_type": "stream",
     "text": [
      "0    False\n",
      "1     True\n",
      "2     True\n",
      "3     True\n",
      "4    False\n",
      "5    False\n",
      "6    False\n",
      "7     True\n",
      "Name: Age, dtype: bool\n"
     ]
    }
   ],
   "source": [
    "ages = scientists['Age']\n",
    "print(ages.mean() < ages)"
   ],
   "metadata": {
    "collapsed": false,
    "ExecuteTime": {
     "start_time": "2023-06-02T18:45:28.833316Z",
     "end_time": "2023-06-02T18:45:28.875199Z"
    }
   }
  },
  {
   "cell_type": "markdown",
   "metadata": {},
   "source": [
    "### 수명(Age)이 평균수명 보다 큰 과학자들의 이름(Name) 데이터(시리즈) 추출하기"
   ]
  },
  {
   "cell_type": "code",
   "execution_count": 14,
   "outputs": [
    {
     "name": "stdout",
     "output_type": "stream",
     "text": [
      "1    61\n",
      "2    90\n",
      "3    66\n",
      "7    77\n",
      "Name: Age, dtype: int64\n"
     ]
    }
   ],
   "source": [
    "ages = scientists['Age']\n",
    "print(ages[ages.mean() < ages])"
   ],
   "metadata": {
    "collapsed": false,
    "ExecuteTime": {
     "start_time": "2023-06-02T18:46:52.509530Z",
     "end_time": "2023-06-02T18:46:52.589313Z"
    }
   }
  },
  {
   "cell_type": "markdown",
   "metadata": {},
   "source": [
    "### 1800년대에 태어난 과학자들의 이름(Name) 데이터(시리즈) 추출하기 (& 연산자 사용)"
   ]
  },
  {
   "cell_type": "code",
   "execution_count": 17,
   "outputs": [
    {
     "name": "stdout",
     "output_type": "stream",
     "text": [
      "1          William Gosset\n",
      "2    Florence Nightingale\n",
      "3             Marie Curie\n",
      "5               John Snow\n",
      "Name: Name, dtype: object\n"
     ]
    }
   ],
   "source": [
    "names = scientists['Name']\n",
    "borns = scientists['Born']\n",
    "\n",
    "# 1800-01-01 <= x < 1900-01-01\n",
    "print(names[(borns >= '1800-01-01') & (borns < '1900-01-01')])"
   ],
   "metadata": {
    "collapsed": false,
    "ExecuteTime": {
     "start_time": "2023-06-02T18:56:15.664690Z",
     "end_time": "2023-06-02T18:56:15.889091Z"
    }
   }
  },
  {
   "cell_type": "markdown",
   "metadata": {},
   "source": [
    "### 직업(Occupation)이 Chemist 또는 Physician 인 과학자들의 이름(Name) 데이터(시리즈) 추출하기 (| 연산자 사용)"
   ]
  },
  {
   "cell_type": "code",
   "execution_count": 24,
   "outputs": [
    {
     "name": "stdout",
     "output_type": "stream",
     "text": [
      "                Name        Born        Died  Age Occupation\n",
      "0  Rosaline Franklin  1920-07-25  1958-04-16   37    Chemist\n",
      "3        Marie Curie  1867-11-07  1934-07-04   66    Chemist\n",
      "5          John Snow  1813-03-15  1858-06-16   45  Physician\n"
     ]
    }
   ],
   "source": [
    "scientists\n",
    "\n",
    "chemist_names = scientists['Occupation']\n",
    "physician_names = scientists['Occupation']\n",
    "\n",
    "print(scientists[(chemist_names == 'Chemist') | (physician_names == 'Physician')])"
   ],
   "metadata": {
    "collapsed": false,
    "ExecuteTime": {
     "start_time": "2023-06-02T19:04:33.097894Z",
     "end_time": "2023-06-02T19:04:33.243766Z"
    }
   }
  },
  {
   "cell_type": "markdown",
   "metadata": {
    "tags": []
   },
   "source": [
    "### 수명 데이터에 10 더하기"
   ]
  },
  {
   "cell_type": "code",
   "execution_count": 27,
   "outputs": [
    {
     "data": {
      "text/plain": "0     47\n1     71\n2    100\n3     76\n4     66\n5     55\n6     51\n7     87\nName: Age, dtype: int64"
     },
     "execution_count": 27,
     "metadata": {},
     "output_type": "execute_result"
    }
   ],
   "source": [
    "scientists\n",
    "\n",
    "scientists['Age'] + 10"
   ],
   "metadata": {
    "collapsed": false,
    "ExecuteTime": {
     "start_time": "2023-06-02T19:05:26.127902Z",
     "end_time": "2023-06-02T19:05:26.182789Z"
    }
   }
  },
  {
   "cell_type": "markdown",
   "metadata": {
    "tags": []
   },
   "source": [
    "## 2.6 데이터프레임 다루기"
   ]
  },
  {
   "cell_type": "markdown",
   "metadata": {
    "tags": []
   },
   "source": [
    "### 수명(Age)이 평균수명 보다 적은 과학자들의 전체 데이터(데이터프레임) 추출하기"
   ]
  },
  {
   "cell_type": "code",
   "execution_count": 38,
   "outputs": [
    {
     "name": "stdout",
     "output_type": "stream",
     "text": [
      "                Name        Born        Died  Age          Occupation\n",
      "0  Rosaline Franklin  1920-07-25  1958-04-16   37             Chemist\n",
      "4      Rachel Carson  1907-05-27  1964-04-14   56           Biologist\n",
      "5          John Snow  1813-03-15  1858-06-16   45           Physician\n",
      "6        Alan Turing  1912-06-23  1954-06-07   41  Computer Scientist\n"
     ]
    }
   ],
   "source": [
    "ages = scientists['Age']\n",
    "ages_mean = ages.mean()\n",
    "\n",
    "print(scientists[ages < ages_mean])"
   ],
   "metadata": {
    "collapsed": false,
    "ExecuteTime": {
     "start_time": "2023-06-02T19:15:12.980111Z",
     "end_time": "2023-06-02T19:15:13.035973Z"
    }
   }
  },
  {
   "cell_type": "markdown",
   "metadata": {},
   "source": [
    "### 출생일(Born) 데이터의 타입을 datetime 으로 변환하여 새로운 열(Born_dt)로 추가하기 (to_datetime 사용)"
   ]
  },
  {
   "cell_type": "code",
   "execution_count": 53,
   "outputs": [
    {
     "name": "stdout",
     "output_type": "stream",
     "text": [
      "                   Name                Born        Died  Age   \n",
      "0     Rosaline Franklin 1920-01-25 00:07:00  1958-04-16   37  \\\n",
      "1        William Gosset 1876-01-13 00:06:00  1937-10-16   61   \n",
      "2  Florence Nightingale 1820-01-12 00:05:00  1910-08-13   90   \n",
      "3           Marie Curie 1867-01-07 00:11:00  1934-07-04   66   \n",
      "4         Rachel Carson 1907-01-27 00:05:00  1964-04-14   56   \n",
      "5             John Snow 1813-01-15 00:03:00  1858-06-16   45   \n",
      "6           Alan Turing 1912-01-23 00:06:00  1954-06-07   41   \n",
      "7          Johann Gauss 1777-01-30 00:04:00  1855-02-23   77   \n",
      "\n",
      "           Occupation             Born_dt  \n",
      "0             Chemist 1920-01-25 00:07:00  \n",
      "1        Statistician 1876-01-13 00:06:00  \n",
      "2               Nurse 1820-01-12 00:05:00  \n",
      "3             Chemist 1867-01-07 00:11:00  \n",
      "4           Biologist 1907-01-27 00:05:00  \n",
      "5           Physician 1813-01-15 00:03:00  \n",
      "6  Computer Scientist 1912-01-23 00:06:00  \n",
      "7       Mathematician 1777-01-30 00:04:00  \n"
     ]
    }
   ],
   "source": [
    "scientists['Born_dt'] = pd.to_datetime(scientists['Born'], format='%y-%m-%d')\n",
    "print(scientists)"
   ],
   "metadata": {
    "collapsed": false,
    "ExecuteTime": {
     "start_time": "2023-06-02T19:27:21.254280Z",
     "end_time": "2023-06-02T19:27:21.394904Z"
    }
   }
  },
  {
   "cell_type": "markdown",
   "metadata": {},
   "source": [
    "### 출생일(Born_dt) 데이터를 사용하여 1850년 이후에 태어난 과학자의 전체데이터(데이터프레임) 추출하기"
   ]
  },
  {
   "cell_type": "code",
   "execution_count": 54,
   "outputs": [
    {
     "name": "stdout",
     "output_type": "stream",
     "text": [
      "                Name                Born        Died  Age          Occupation   \n",
      "0  Rosaline Franklin 1920-01-25 00:07:00  1958-04-16   37             Chemist  \\\n",
      "1     William Gosset 1876-01-13 00:06:00  1937-10-16   61        Statistician   \n",
      "3        Marie Curie 1867-01-07 00:11:00  1934-07-04   66             Chemist   \n",
      "4      Rachel Carson 1907-01-27 00:05:00  1964-04-14   56           Biologist   \n",
      "6        Alan Turing 1912-01-23 00:06:00  1954-06-07   41  Computer Scientist   \n",
      "\n",
      "              Born_dt  \n",
      "0 1920-01-25 00:07:00  \n",
      "1 1876-01-13 00:06:00  \n",
      "3 1867-01-07 00:11:00  \n",
      "4 1907-01-27 00:05:00  \n",
      "6 1912-01-23 00:06:00  \n"
     ]
    }
   ],
   "source": [
    "# scientists['Born_dt']\n",
    "\n",
    "print(scientists[scientists['Born_dt'] > '1850-01-01'])"
   ],
   "metadata": {
    "collapsed": false,
    "ExecuteTime": {
     "start_time": "2023-06-02T19:27:22.798271Z",
     "end_time": "2023-06-02T19:27:22.955850Z"
    }
   }
  },
  {
   "cell_type": "markdown",
   "metadata": {
    "tags": []
   },
   "source": [
    "### Born_dt 열 삭제하기 (drop 함수 사용)"
   ]
  },
  {
   "cell_type": "code",
   "execution_count": 55,
   "outputs": [
    {
     "name": "stdout",
     "output_type": "stream",
     "text": [
      "                   Name                Born        Died  Age   \n",
      "0     Rosaline Franklin 1920-01-25 00:07:00  1958-04-16   37  \\\n",
      "1        William Gosset 1876-01-13 00:06:00  1937-10-16   61   \n",
      "2  Florence Nightingale 1820-01-12 00:05:00  1910-08-13   90   \n",
      "3           Marie Curie 1867-01-07 00:11:00  1934-07-04   66   \n",
      "4         Rachel Carson 1907-01-27 00:05:00  1964-04-14   56   \n",
      "5             John Snow 1813-01-15 00:03:00  1858-06-16   45   \n",
      "6           Alan Turing 1912-01-23 00:06:00  1954-06-07   41   \n",
      "7          Johann Gauss 1777-01-30 00:04:00  1855-02-23   77   \n",
      "\n",
      "           Occupation  \n",
      "0             Chemist  \n",
      "1        Statistician  \n",
      "2               Nurse  \n",
      "3             Chemist  \n",
      "4           Biologist  \n",
      "5           Physician  \n",
      "6  Computer Scientist  \n",
      "7       Mathematician  \n"
     ]
    }
   ],
   "source": [
    "scientists.drop('Born_dt', axis=1, inplace=True)\n",
    "\n",
    "print(scientists)"
   ],
   "metadata": {
    "collapsed": false,
    "ExecuteTime": {
     "start_time": "2023-06-02T19:27:24.712097Z",
     "end_time": "2023-06-02T19:27:24.766949Z"
    }
   }
  },
  {
   "cell_type": "markdown",
   "metadata": {
    "jp-MarkdownHeadingCollapsed": true,
    "tags": []
   },
   "source": [
    "# 3. Data Assembly, Tidy Data, Data Types and Groupby\n",
    "***"
   ]
  },
  {
   "cell_type": "markdown",
   "metadata": {
    "tags": []
   },
   "source": [
    "## 3.1 데이터 불러오기"
   ]
  },
  {
   "cell_type": "code",
   "execution_count": 57,
   "metadata": {
    "ExecuteTime": {
     "start_time": "2023-06-02T20:26:26.034664Z",
     "end_time": "2023-06-02T20:26:26.087951Z"
    }
   },
   "outputs": [],
   "source": [
    "import pandas as pd"
   ]
  },
  {
   "cell_type": "code",
   "execution_count": 58,
   "metadata": {
    "ExecuteTime": {
     "start_time": "2023-06-02T20:26:26.979249Z",
     "end_time": "2023-06-02T20:26:27.074137Z"
    }
   },
   "outputs": [],
   "source": [
    "scores_1_1 = pd.read_csv('../data/scores_1_1.csv', header=None)\n",
    "scores_1_2 = pd.read_csv('../data/scores_1_2.csv', header=None)\n",
    "scores_2_1 = pd.read_csv('../data/scores_2_1.csv', header=None)\n",
    "scores_2_2 = pd.read_csv('../data/scores_2_2.csv', header=None)"
   ]
  },
  {
   "cell_type": "markdown",
   "metadata": {},
   "source": [
    "## 3.2 데이터 합치기"
   ]
  },
  {
   "cell_type": "markdown",
   "metadata": {
    "tags": []
   },
   "source": [
    "### scores_1_1 와 scores_1_2 를 열기준(axis=1) 으로 합쳐 scores_1 변수에 저장하기 (concat)"
   ]
  },
  {
   "cell_type": "code",
   "execution_count": 59,
   "outputs": [
    {
     "name": "stdout",
     "output_type": "stream",
     "text": [
      "     0   1   2    3    4   5   6   7    8   9   ...  15  16   17  18  19  20   \n",
      "0   NaN   0   0  0.0  1.0   0   0   1  0.0   0  ...   0   0  0.0   1   0   1  \\\n",
      "1   1.0   1   1  0.0  1.0   0   1   1  1.0   0  ...   0   0  0.0   1   1   0   \n",
      "2   0.0   0   1  1.0  1.0   1   0   1  0.0   0  ...   0   0  0.0   0   0   0   \n",
      "3   1.0   1   1  1.0  1.0   1   1   1  1.0   0  ...   1   1  1.0   1   1   0   \n",
      "4   1.0   1   1  0.0  1.0   0   0   1  1.0   0  ...   1   0  0.0   0   1   1   \n",
      "5   1.0   1   0  1.0  1.0   1   0   1  1.0   0  ...   1   0  1.0   1   1   1   \n",
      "6   1.0   1   0  1.0  0.0   1   1   1  1.0   0  ...   0   0  0.0   0   1   0   \n",
      "7   1.0   1   0  0.0  1.0   0   0   1  0.0   0  ...   1   0  0.0   1   1   0   \n",
      "8   1.0   0   1  1.0  1.0   0   0   1  1.0   0  ...   1   0  0.0   1   1   0   \n",
      "9   1.0   0   1  0.0  1.0   0   0   0  0.0   0  ...   0   0  1.0   0   0   1   \n",
      "10  1.0   0   0  0.0  1.0   0   0   1  0.0   0  ...   1   1  1.0   1   0   0   \n",
      "11  1.0   1   0  0.0  1.0   0   0   0  1.0   0  ...   1   0  0.0   0   0   0   \n",
      "12  1.0   1   0  0.0  0.0   0   0   1  0.0   0  ...   0   0  0.0   1   1   0   \n",
      "13  1.0   1   1  0.0  1.0   0   1   1  1.0   1  ...   1   1  0.0   0   1   0   \n",
      "14  1.0   1   0  1.0  1.0   1   0   1  1.0   1  ...   1   0  1.0   1   1   1   \n",
      "15  1.0   1   1  0.0  1.0   0   0   1  1.0   1  ...   1   1  1.0   1   1   0   \n",
      "16  1.0   1   0  0.0  0.0   0   0   0  1.0   0  ...   0   0  0.0   0   0   1   \n",
      "17  1.0   0   0  0.0  1.0   0   0   1  0.0   0  ...   1   1  1.0   1   1   0   \n",
      "18  1.0   1   0  0.0  1.0   0   0   1  0.0   0  ...   1   0  1.0   0   0   0   \n",
      "19  1.0   1   1  0.0  1.0   0   0   1  1.0   1  ...   0   0  0.0   1   0   0   \n",
      "20  1.0   1   1  0.0  0.0   0   0   1  0.0   1  ...   0   0  0.0   1   0   0   \n",
      "21  1.0   0   1  0.0  1.0   0   0   0  1.0   0  ...   1   0  0.0   0   1   0   \n",
      "22  1.0   0   1  0.0  0.0   0   0   0  0.0   0  ...   0   0  0.0   0   0   0   \n",
      "23  1.0   0   1  NaN  1.0   0   0   1  0.0   1  ...   0   1  0.0   1   0   0   \n",
      "24  1.0   0   1  0.0  0.0   0   1   0  1.0   0  ...   0   0  0.0   0   1   0   \n",
      "25  1.0   1   1  0.0  0.0   0   0   1  0.0   0  ...   1   0  0.0   1   0   1   \n",
      "26  1.0   0   0  0.0  NaN   1   0   0  1.0   1  ...   0   0  1.0   0   0   0   \n",
      "27  1.0   1   1  0.0  0.0   1   1   1  0.0   0  ...   0   0  NaN   0   0   1   \n",
      "28  1.0   0   0  0.0  1.0   0   0   0  1.0   1  ...   0   1  0.0   1   0   0   \n",
      "29  1.0   1   0  1.0  1.0   1   1   1  1.0   1  ...   1   1  1.0   1   1   0   \n",
      "30  1.0   0   1  0.0  1.0   0   0   1  1.0   0  ...   1   0  0.0   1   1   0   \n",
      "31  1.0   0   1  0.0  1.0   0   0   0  1.0   0  ...   0   0  0.0   0   0   1   \n",
      "32  1.0   0   1  0.0  1.0   0   0   0  1.0   0  ...   0   0  0.0   1   1   0   \n",
      "33  0.0   0   1  1.0  0.0   0   0   0  0.0   0  ...   0   0  0.0   0   1   1   \n",
      "34  1.0   0   1  1.0  0.0   1   0   1  0.0   0  ...   0   0  1.0   0   0   1   \n",
      "35  1.0   1   1  0.0  1.0   0   1   1  0.0   0  ...   1   1  1.0   1   1   1   \n",
      "36  1.0   1   0  1.0  0.0   1   0   0  NaN   0  ...   0   1  0.0   0   1   0   \n",
      "37  1.0   0   0  0.0  1.0   0   0   0  1.0   0  ...   1   0  0.0   1   1   1   \n",
      "\n",
      "     21   22   23  24  \n",
      "0   1.0  1.0  0.0   1  \n",
      "1   1.0  1.0  0.0   1  \n",
      "2   0.0  0.0  0.0   1  \n",
      "3   1.0  1.0  1.0   1  \n",
      "4   1.0  1.0  1.0   1  \n",
      "5   1.0  1.0  1.0   1  \n",
      "6   0.0  1.0  1.0   0  \n",
      "7   1.0  1.0  1.0   1  \n",
      "8   1.0  1.0  1.0   1  \n",
      "9   1.0  1.0  0.0   1  \n",
      "10  1.0  1.0  0.0   1  \n",
      "11  1.0  1.0  0.0   1  \n",
      "12  1.0  1.0  0.0   0  \n",
      "13  1.0  1.0  1.0   1  \n",
      "14  1.0  1.0  0.0   0  \n",
      "15  1.0  1.0  1.0   1  \n",
      "16  1.0  NaN  1.0   0  \n",
      "17  0.0  0.0  0.0   1  \n",
      "18  1.0  1.0  0.0   1  \n",
      "19  1.0  1.0  1.0   0  \n",
      "20  0.0  0.0  0.0   0  \n",
      "21  1.0  0.0  0.0   1  \n",
      "22  0.0  0.0  0.0   1  \n",
      "23  0.0  1.0  0.0   0  \n",
      "24  NaN  0.0  1.0   1  \n",
      "25  1.0  1.0  0.0   0  \n",
      "26  0.0  0.0  0.0   0  \n",
      "27  0.0  1.0  1.0   0  \n",
      "28  0.0  0.0  0.0   1  \n",
      "29  1.0  1.0  1.0   1  \n",
      "30  1.0  1.0  1.0   1  \n",
      "31  0.0  1.0  0.0   0  \n",
      "32  0.0  0.0  1.0   1  \n",
      "33  0.0  1.0  0.0   1  \n",
      "34  0.0  0.0  NaN   1  \n",
      "35  1.0  1.0  1.0   1  \n",
      "36  1.0  0.0  1.0   0  \n",
      "37  0.0  0.0  1.0   1  \n",
      "\n",
      "[38 rows x 25 columns]\n"
     ]
    }
   ],
   "source": [
    "scores_1 = pd.concat([scores_1_1, scores_1_2], axis=1, ignore_index=True)\n",
    "print(scores_1)"
   ],
   "metadata": {
    "collapsed": false,
    "ExecuteTime": {
     "start_time": "2023-06-02T20:26:27.993852Z",
     "end_time": "2023-06-02T20:26:28.099587Z"
    }
   }
  },
  {
   "cell_type": "markdown",
   "metadata": {},
   "source": [
    "### scores_1 의 열이름을 1, 2, 3, ... 로 변경하기"
   ]
  },
  {
   "cell_type": "code",
   "execution_count": 61,
   "outputs": [
    {
     "name": "stdout",
     "output_type": "stream",
     "text": [
      "     1   2   3    4    5   6   7   8    9   10  ...  16  17   18  19  20  21   \n",
      "0   NaN   0   0  0.0  1.0   0   0   1  0.0   0  ...   0   0  0.0   1   0   1  \\\n",
      "1   1.0   1   1  0.0  1.0   0   1   1  1.0   0  ...   0   0  0.0   1   1   0   \n",
      "2   0.0   0   1  1.0  1.0   1   0   1  0.0   0  ...   0   0  0.0   0   0   0   \n",
      "3   1.0   1   1  1.0  1.0   1   1   1  1.0   0  ...   1   1  1.0   1   1   0   \n",
      "4   1.0   1   1  0.0  1.0   0   0   1  1.0   0  ...   1   0  0.0   0   1   1   \n",
      "5   1.0   1   0  1.0  1.0   1   0   1  1.0   0  ...   1   0  1.0   1   1   1   \n",
      "6   1.0   1   0  1.0  0.0   1   1   1  1.0   0  ...   0   0  0.0   0   1   0   \n",
      "7   1.0   1   0  0.0  1.0   0   0   1  0.0   0  ...   1   0  0.0   1   1   0   \n",
      "8   1.0   0   1  1.0  1.0   0   0   1  1.0   0  ...   1   0  0.0   1   1   0   \n",
      "9   1.0   0   1  0.0  1.0   0   0   0  0.0   0  ...   0   0  1.0   0   0   1   \n",
      "10  1.0   0   0  0.0  1.0   0   0   1  0.0   0  ...   1   1  1.0   1   0   0   \n",
      "11  1.0   1   0  0.0  1.0   0   0   0  1.0   0  ...   1   0  0.0   0   0   0   \n",
      "12  1.0   1   0  0.0  0.0   0   0   1  0.0   0  ...   0   0  0.0   1   1   0   \n",
      "13  1.0   1   1  0.0  1.0   0   1   1  1.0   1  ...   1   1  0.0   0   1   0   \n",
      "14  1.0   1   0  1.0  1.0   1   0   1  1.0   1  ...   1   0  1.0   1   1   1   \n",
      "15  1.0   1   1  0.0  1.0   0   0   1  1.0   1  ...   1   1  1.0   1   1   0   \n",
      "16  1.0   1   0  0.0  0.0   0   0   0  1.0   0  ...   0   0  0.0   0   0   1   \n",
      "17  1.0   0   0  0.0  1.0   0   0   1  0.0   0  ...   1   1  1.0   1   1   0   \n",
      "18  1.0   1   0  0.0  1.0   0   0   1  0.0   0  ...   1   0  1.0   0   0   0   \n",
      "19  1.0   1   1  0.0  1.0   0   0   1  1.0   1  ...   0   0  0.0   1   0   0   \n",
      "20  1.0   1   1  0.0  0.0   0   0   1  0.0   1  ...   0   0  0.0   1   0   0   \n",
      "21  1.0   0   1  0.0  1.0   0   0   0  1.0   0  ...   1   0  0.0   0   1   0   \n",
      "22  1.0   0   1  0.0  0.0   0   0   0  0.0   0  ...   0   0  0.0   0   0   0   \n",
      "23  1.0   0   1  NaN  1.0   0   0   1  0.0   1  ...   0   1  0.0   1   0   0   \n",
      "24  1.0   0   1  0.0  0.0   0   1   0  1.0   0  ...   0   0  0.0   0   1   0   \n",
      "25  1.0   1   1  0.0  0.0   0   0   1  0.0   0  ...   1   0  0.0   1   0   1   \n",
      "26  1.0   0   0  0.0  NaN   1   0   0  1.0   1  ...   0   0  1.0   0   0   0   \n",
      "27  1.0   1   1  0.0  0.0   1   1   1  0.0   0  ...   0   0  NaN   0   0   1   \n",
      "28  1.0   0   0  0.0  1.0   0   0   0  1.0   1  ...   0   1  0.0   1   0   0   \n",
      "29  1.0   1   0  1.0  1.0   1   1   1  1.0   1  ...   1   1  1.0   1   1   0   \n",
      "30  1.0   0   1  0.0  1.0   0   0   1  1.0   0  ...   1   0  0.0   1   1   0   \n",
      "31  1.0   0   1  0.0  1.0   0   0   0  1.0   0  ...   0   0  0.0   0   0   1   \n",
      "32  1.0   0   1  0.0  1.0   0   0   0  1.0   0  ...   0   0  0.0   1   1   0   \n",
      "33  0.0   0   1  1.0  0.0   0   0   0  0.0   0  ...   0   0  0.0   0   1   1   \n",
      "34  1.0   0   1  1.0  0.0   1   0   1  0.0   0  ...   0   0  1.0   0   0   1   \n",
      "35  1.0   1   1  0.0  1.0   0   1   1  0.0   0  ...   1   1  1.0   1   1   1   \n",
      "36  1.0   1   0  1.0  0.0   1   0   0  NaN   0  ...   0   1  0.0   0   1   0   \n",
      "37  1.0   0   0  0.0  1.0   0   0   0  1.0   0  ...   1   0  0.0   1   1   1   \n",
      "\n",
      "     22   23   24  25  \n",
      "0   1.0  1.0  0.0   1  \n",
      "1   1.0  1.0  0.0   1  \n",
      "2   0.0  0.0  0.0   1  \n",
      "3   1.0  1.0  1.0   1  \n",
      "4   1.0  1.0  1.0   1  \n",
      "5   1.0  1.0  1.0   1  \n",
      "6   0.0  1.0  1.0   0  \n",
      "7   1.0  1.0  1.0   1  \n",
      "8   1.0  1.0  1.0   1  \n",
      "9   1.0  1.0  0.0   1  \n",
      "10  1.0  1.0  0.0   1  \n",
      "11  1.0  1.0  0.0   1  \n",
      "12  1.0  1.0  0.0   0  \n",
      "13  1.0  1.0  1.0   1  \n",
      "14  1.0  1.0  0.0   0  \n",
      "15  1.0  1.0  1.0   1  \n",
      "16  1.0  NaN  1.0   0  \n",
      "17  0.0  0.0  0.0   1  \n",
      "18  1.0  1.0  0.0   1  \n",
      "19  1.0  1.0  1.0   0  \n",
      "20  0.0  0.0  0.0   0  \n",
      "21  1.0  0.0  0.0   1  \n",
      "22  0.0  0.0  0.0   1  \n",
      "23  0.0  1.0  0.0   0  \n",
      "24  NaN  0.0  1.0   1  \n",
      "25  1.0  1.0  0.0   0  \n",
      "26  0.0  0.0  0.0   0  \n",
      "27  0.0  1.0  1.0   0  \n",
      "28  0.0  0.0  0.0   1  \n",
      "29  1.0  1.0  1.0   1  \n",
      "30  1.0  1.0  1.0   1  \n",
      "31  0.0  1.0  0.0   0  \n",
      "32  0.0  0.0  1.0   1  \n",
      "33  0.0  1.0  0.0   1  \n",
      "34  0.0  0.0  NaN   1  \n",
      "35  1.0  1.0  1.0   1  \n",
      "36  1.0  0.0  1.0   0  \n",
      "37  0.0  0.0  1.0   1  \n",
      "\n",
      "[38 rows x 25 columns]\n"
     ]
    }
   ],
   "source": [
    "print(scores_1)"
   ],
   "metadata": {
    "collapsed": false,
    "ExecuteTime": {
     "start_time": "2023-06-02T20:28:26.074768Z",
     "end_time": "2023-06-02T20:28:26.189462Z"
    }
   }
  },
  {
   "cell_type": "markdown",
   "metadata": {
    "tags": []
   },
   "source": [
    "### scores_1 에서 누락 데이터를 0 으로 채우기 (fillna)"
   ]
  },
  {
   "cell_type": "code",
   "execution_count": 62,
   "outputs": [
    {
     "name": "stdout",
     "output_type": "stream",
     "text": [
      "    1   2   3    4    5   6   7   8    9   10  ...  16  17   18  19  20  21   \n",
      "0  0.0   0   0  0.0  1.0   0   0   1  0.0   0  ...   0   0  0.0   1   0   1  \\\n",
      "1  1.0   1   1  0.0  1.0   0   1   1  1.0   0  ...   0   0  0.0   1   1   0   \n",
      "2  0.0   0   1  1.0  1.0   1   0   1  0.0   0  ...   0   0  0.0   0   0   0   \n",
      "3  1.0   1   1  1.0  1.0   1   1   1  1.0   0  ...   1   1  1.0   1   1   0   \n",
      "4  1.0   1   1  0.0  1.0   0   0   1  1.0   0  ...   1   0  0.0   0   1   1   \n",
      "\n",
      "    22   23   24  25  \n",
      "0  1.0  1.0  0.0   1  \n",
      "1  1.0  1.0  0.0   1  \n",
      "2  0.0  0.0  0.0   1  \n",
      "3  1.0  1.0  1.0   1  \n",
      "4  1.0  1.0  1.0   1  \n",
      "\n",
      "[5 rows x 25 columns]\n"
     ]
    }
   ],
   "source": [
    "scores_1.fillna(0, inplace=True)\n",
    "print(scores_1.head())"
   ],
   "metadata": {
    "collapsed": false,
    "ExecuteTime": {
     "start_time": "2023-06-02T20:32:34.567662Z",
     "end_time": "2023-06-02T20:32:34.678974Z"
    }
   }
  },
  {
   "cell_type": "markdown",
   "metadata": {},
   "source": [
    "### scores_1 모든 데이터타입을 int32 으로 변경하기 (astype)"
   ]
  },
  {
   "cell_type": "code",
   "execution_count": 63,
   "outputs": [],
   "source": [
    "scores_1 = scores_1.astype('int32')"
   ],
   "metadata": {
    "collapsed": false,
    "ExecuteTime": {
     "start_time": "2023-06-02T20:34:01.443303Z",
     "end_time": "2023-06-02T20:34:01.499156Z"
    }
   }
  },
  {
   "cell_type": "markdown",
   "metadata": {},
   "source": [
    "### scores_1 의 모든 데이터에 4를 곱한 값으로 재지정 하기 (브로드캐스팅)"
   ]
  },
  {
   "cell_type": "code",
   "execution_count": 65,
   "outputs": [
    {
     "name": "stdout",
     "output_type": "stream",
     "text": [
      "    1   2   3   4   5   6   7   8   9   10  ...  16  17  18  19  20  21  22   \n",
      "0    0   0   0   0  16   0   0  16   0   0  ...   0   0   0  16   0  16  16  \\\n",
      "1   16  16  16   0  16   0  16  16  16   0  ...   0   0   0  16  16   0  16   \n",
      "2    0   0  16  16  16  16   0  16   0   0  ...   0   0   0   0   0   0   0   \n",
      "3   16  16  16  16  16  16  16  16  16   0  ...  16  16  16  16  16   0  16   \n",
      "4   16  16  16   0  16   0   0  16  16   0  ...  16   0   0   0  16  16  16   \n",
      "5   16  16   0  16  16  16   0  16  16   0  ...  16   0  16  16  16  16  16   \n",
      "6   16  16   0  16   0  16  16  16  16   0  ...   0   0   0   0  16   0   0   \n",
      "7   16  16   0   0  16   0   0  16   0   0  ...  16   0   0  16  16   0  16   \n",
      "8   16   0  16  16  16   0   0  16  16   0  ...  16   0   0  16  16   0  16   \n",
      "9   16   0  16   0  16   0   0   0   0   0  ...   0   0  16   0   0  16  16   \n",
      "10  16   0   0   0  16   0   0  16   0   0  ...  16  16  16  16   0   0  16   \n",
      "11  16  16   0   0  16   0   0   0  16   0  ...  16   0   0   0   0   0  16   \n",
      "12  16  16   0   0   0   0   0  16   0   0  ...   0   0   0  16  16   0  16   \n",
      "13  16  16  16   0  16   0  16  16  16  16  ...  16  16   0   0  16   0  16   \n",
      "14  16  16   0  16  16  16   0  16  16  16  ...  16   0  16  16  16  16  16   \n",
      "15  16  16  16   0  16   0   0  16  16  16  ...  16  16  16  16  16   0  16   \n",
      "16  16  16   0   0   0   0   0   0  16   0  ...   0   0   0   0   0  16  16   \n",
      "17  16   0   0   0  16   0   0  16   0   0  ...  16  16  16  16  16   0   0   \n",
      "18  16  16   0   0  16   0   0  16   0   0  ...  16   0  16   0   0   0  16   \n",
      "19  16  16  16   0  16   0   0  16  16  16  ...   0   0   0  16   0   0  16   \n",
      "20  16  16  16   0   0   0   0  16   0  16  ...   0   0   0  16   0   0   0   \n",
      "21  16   0  16   0  16   0   0   0  16   0  ...  16   0   0   0  16   0  16   \n",
      "22  16   0  16   0   0   0   0   0   0   0  ...   0   0   0   0   0   0   0   \n",
      "23  16   0  16   0  16   0   0  16   0  16  ...   0  16   0  16   0   0   0   \n",
      "24  16   0  16   0   0   0  16   0  16   0  ...   0   0   0   0  16   0   0   \n",
      "25  16  16  16   0   0   0   0  16   0   0  ...  16   0   0  16   0  16  16   \n",
      "26  16   0   0   0   0  16   0   0  16  16  ...   0   0  16   0   0   0   0   \n",
      "27  16  16  16   0   0  16  16  16   0   0  ...   0   0   0   0   0  16   0   \n",
      "28  16   0   0   0  16   0   0   0  16  16  ...   0  16   0  16   0   0   0   \n",
      "29  16  16   0  16  16  16  16  16  16  16  ...  16  16  16  16  16   0  16   \n",
      "30  16   0  16   0  16   0   0  16  16   0  ...  16   0   0  16  16   0  16   \n",
      "31  16   0  16   0  16   0   0   0  16   0  ...   0   0   0   0   0  16   0   \n",
      "32  16   0  16   0  16   0   0   0  16   0  ...   0   0   0  16  16   0   0   \n",
      "33   0   0  16  16   0   0   0   0   0   0  ...   0   0   0   0  16  16   0   \n",
      "34  16   0  16  16   0  16   0  16   0   0  ...   0   0  16   0   0  16   0   \n",
      "35  16  16  16   0  16   0  16  16   0   0  ...  16  16  16  16  16  16  16   \n",
      "36  16  16   0  16   0  16   0   0   0   0  ...   0  16   0   0  16   0  16   \n",
      "37  16   0   0   0  16   0   0   0  16   0  ...  16   0   0  16  16  16   0   \n",
      "\n",
      "    23  24  25  \n",
      "0   16   0  16  \n",
      "1   16   0  16  \n",
      "2    0   0  16  \n",
      "3   16  16  16  \n",
      "4   16  16  16  \n",
      "5   16  16  16  \n",
      "6   16  16   0  \n",
      "7   16  16  16  \n",
      "8   16  16  16  \n",
      "9   16   0  16  \n",
      "10  16   0  16  \n",
      "11  16   0  16  \n",
      "12  16   0   0  \n",
      "13  16  16  16  \n",
      "14  16   0   0  \n",
      "15  16  16  16  \n",
      "16   0  16   0  \n",
      "17   0   0  16  \n",
      "18  16   0  16  \n",
      "19  16  16   0  \n",
      "20   0   0   0  \n",
      "21   0   0  16  \n",
      "22   0   0  16  \n",
      "23  16   0   0  \n",
      "24   0  16  16  \n",
      "25  16   0   0  \n",
      "26   0   0   0  \n",
      "27  16  16   0  \n",
      "28   0   0  16  \n",
      "29  16  16  16  \n",
      "30  16  16  16  \n",
      "31  16   0   0  \n",
      "32   0  16  16  \n",
      "33  16   0  16  \n",
      "34   0   0  16  \n",
      "35  16  16  16  \n",
      "36   0  16   0  \n",
      "37   0  16  16  \n",
      "\n",
      "[38 rows x 25 columns]\n"
     ]
    }
   ],
   "source": [
    "scores_1 = scores_1 * 4\n",
    "print(scores_1)"
   ],
   "metadata": {
    "collapsed": false,
    "ExecuteTime": {
     "start_time": "2023-06-02T20:35:13.077675Z",
     "end_time": "2023-06-02T20:35:13.116868Z"
    }
   }
  },
  {
   "cell_type": "markdown",
   "metadata": {
    "tags": []
   },
   "source": [
    "### scores_1 에 새로운 class 열 추가하기(class 데이터 값은 모두 '1반')"
   ]
  },
  {
   "cell_type": "code",
   "execution_count": 68,
   "outputs": [],
   "source": [
    "scores_1['class'] = '1반'"
   ],
   "metadata": {
    "collapsed": false,
    "ExecuteTime": {
     "start_time": "2023-06-02T20:36:29.672953Z",
     "end_time": "2023-06-02T20:36:29.729799Z"
    }
   }
  },
  {
   "cell_type": "markdown",
   "metadata": {
    "tags": []
   },
   "source": [
    "### scores_2_1 와 scores_2_2 를 열기준(axis=1) 으로 합쳐 scores_2 변수에 저장하기 (concat)"
   ]
  },
  {
   "cell_type": "code",
   "execution_count": 71,
   "outputs": [
    {
     "name": "stdout",
     "output_type": "stream",
     "text": [
      "    0    1   2   3   4   5    6   7   8   9   ...  15  16  17  18  19  20  21   \n",
      "0    1  0.0   1   0   1   0  1.0   1   1   0  ...   0   1   0   1   1   1   0  \\\n",
      "1    1  1.0   1   0   1   0  1.0   1   1   1  ...   1   1   1   1   1   0   1   \n",
      "2    0  1.0   1   0   1   0  1.0   1   1   0  ...   1   0   1   0   0   1   0   \n",
      "3    1  0.0   0   1   1   1  1.0   0   0   0  ...   1   0   0   1   0   0   0   \n",
      "4    1  1.0   0   1   1   1  0.0   1   1   0  ...   0   0   0   0   0   1   0   \n",
      "5    0  0.0   0   1   1   1  NaN   0   1   0  ...   0   0   0   0   0   1   0   \n",
      "6    1  1.0   0   0   1   0  1.0   0   1   0  ...   1   0   0   0   0   1   1   \n",
      "7    1  1.0   1   1   1   1  0.0   0   1   0  ...   1   0   0   0   1   1   0   \n",
      "8    1  1.0   0   1   1   0  0.0   1   1   0  ...   1   0   0   1   0   1   1   \n",
      "9    1  1.0   0   1   1   1  1.0   1   1   0  ...   1   0   0   1   1   0   1   \n",
      "10   1  1.0   1   0   1   0  1.0   1   1   0  ...   1   0   0   1   1   1   1   \n",
      "11   1  0.0   0   1   1   1  0.0   1   0   1  ...   1   0   0   0   0   0   1   \n",
      "12   0  0.0   0   0   0   0  0.0   0   0   0  ...   0   0   0   0   0   0   0   \n",
      "13   1  1.0   1   1   1   0  0.0   1   1   0  ...   1   1   1   1   1   1   1   \n",
      "14   1  1.0   1   0   1   0  0.0   0   1   0  ...   0   0   0   0   0   1   0   \n",
      "15   1  0.0   0   0   0   0  0.0   0   1   0  ...   0   0   0   1   1   0   0   \n",
      "16   0  0.0   0   0   0   0  1.0   0   0   1  ...   0   1   0   1   0   0   0   \n",
      "17   1  0.0   1   0   1   0  0.0   1   1   0  ...   1   1   1   1   0   1   1   \n",
      "18   1  0.0   1   0   1   0  0.0   0   1   0  ...   0   1   0   1   0   1   0   \n",
      "19   1  1.0   0   0   0   0  0.0   0   1   0  ...   0   0   0   0   1   1   0   \n",
      "20   1  0.0   0   0   0   0  0.0   0   1   1  ...   1   0   0   0   1   1   0   \n",
      "21   1  1.0   1   0   0   0  0.0   1   1   0  ...   1   0   1   1   0   1   1   \n",
      "22   1  1.0   0   1   1   1  0.0   1   0   1  ...   1   0   0   1   1   1   1   \n",
      "23   1  0.0   1   0   0   0  0.0   0   1   0  ...   0   0   0   0   1   1   0   \n",
      "24   1  1.0   0   0   0   0  0.0   0   0   1  ...   0   0   0   0   0   0   1   \n",
      "25   1  1.0   0   0   1   0  0.0   0   0   1  ...   0   0   0   0   0   0   0   \n",
      "26   1  0.0   0   0   0   1  0.0   0   0   1  ...   0   0   0   0   0   1   0   \n",
      "27   1  0.0   0   0   0   0  0.0   1   0   0  ...   0   0   0   1   0   0   0   \n",
      "28   0  0.0   1   0   0   0  0.0   0   0   0  ...   0   0   0   1   1   1   0   \n",
      "29   1  1.0   0   1   1   1  0.0   0   0   0  ...   1   0   0   1   0   0   0   \n",
      "30   0  1.0   0   0   1   0  0.0   0   1   0  ...   1   0   0   0   0   0   0   \n",
      "31   1  1.0   1   0   1   0  0.0   1   1   0  ...   1   0   1   0   1   1   1   \n",
      "32   1  0.0   1   0   0   0  0.0   1   0   0  ...   1   0   0   1   1   1   0   \n",
      "33   1  1.0   1   1   1   1  1.0   0   1   0  ...   1   0   0   1   0   1   0   \n",
      "34   1  1.0   0   0   1   0  1.0   1   1   0  ...   0   0   0   1   0   0   1   \n",
      "35   1  0.0   1   0   1   0  1.0   0   1   1  ...   1   0   0   0   1   0   0   \n",
      "36   0  0.0   0   0   0   0  0.0   0   0   0  ...   0   0   0   0   0   0   0   \n",
      "37   1  NaN   1   0   1   0  0.0   1   1   0  ...   0   1   0   1   0   0   1   \n",
      "\n",
      "    22  23  24  \n",
      "0    1   1   1  \n",
      "1    1   1   1  \n",
      "2    0   1   1  \n",
      "3    0   0   1  \n",
      "4    1   1   1  \n",
      "5    0   0   1  \n",
      "6    1   0   0  \n",
      "7    1   1   1  \n",
      "8    0   1   1  \n",
      "9    1   1   1  \n",
      "10   1   1   1  \n",
      "11   1   1   1  \n",
      "12   0   0   0  \n",
      "13   1   1   1  \n",
      "14   0   0   1  \n",
      "15   0   1   1  \n",
      "16   0   1   0  \n",
      "17   1   1   1  \n",
      "18   1   1   1  \n",
      "19   0   0   0  \n",
      "20   0   0   1  \n",
      "21   1   0   0  \n",
      "22   1   1   1  \n",
      "23   0   0   1  \n",
      "24   1   1   1  \n",
      "25   0   0   1  \n",
      "26   0   1   1  \n",
      "27   1   0   1  \n",
      "28   0   0   1  \n",
      "29   0   1   0  \n",
      "30   1   1   1  \n",
      "31   1   0   1  \n",
      "32   0   0   1  \n",
      "33   1   0   1  \n",
      "34   1   1   0  \n",
      "35   0   0   1  \n",
      "36   0   0   0  \n",
      "37   1   0   1  \n",
      "\n",
      "[38 rows x 25 columns]\n"
     ]
    }
   ],
   "source": [
    "scores_2 = pd.concat([scores_2_1, scores_2_2], axis=True, ignore_index=True)\n",
    "print(scores_2)"
   ],
   "metadata": {
    "collapsed": false,
    "ExecuteTime": {
     "start_time": "2023-06-02T20:40:31.142409Z",
     "end_time": "2023-06-02T20:40:31.289523Z"
    }
   }
  },
  {
   "cell_type": "markdown",
   "metadata": {},
   "source": [
    "### scores_2 의 열이름을 1, 2, 3, ... 로 변경하기 (range)"
   ]
  },
  {
   "cell_type": "code",
   "execution_count": 74,
   "outputs": [
    {
     "name": "stdout",
     "output_type": "stream",
     "text": [
      "    1    2   3   4   5   6    7   8   9   10  ...  16  17  18  19  20  21  22   \n",
      "0    1  0.0   1   0   1   0  1.0   1   1   0  ...   0   1   0   1   1   1   0  \\\n",
      "1    1  1.0   1   0   1   0  1.0   1   1   1  ...   1   1   1   1   1   0   1   \n",
      "2    0  1.0   1   0   1   0  1.0   1   1   0  ...   1   0   1   0   0   1   0   \n",
      "3    1  0.0   0   1   1   1  1.0   0   0   0  ...   1   0   0   1   0   0   0   \n",
      "4    1  1.0   0   1   1   1  0.0   1   1   0  ...   0   0   0   0   0   1   0   \n",
      "5    0  0.0   0   1   1   1  NaN   0   1   0  ...   0   0   0   0   0   1   0   \n",
      "6    1  1.0   0   0   1   0  1.0   0   1   0  ...   1   0   0   0   0   1   1   \n",
      "7    1  1.0   1   1   1   1  0.0   0   1   0  ...   1   0   0   0   1   1   0   \n",
      "8    1  1.0   0   1   1   0  0.0   1   1   0  ...   1   0   0   1   0   1   1   \n",
      "9    1  1.0   0   1   1   1  1.0   1   1   0  ...   1   0   0   1   1   0   1   \n",
      "10   1  1.0   1   0   1   0  1.0   1   1   0  ...   1   0   0   1   1   1   1   \n",
      "11   1  0.0   0   1   1   1  0.0   1   0   1  ...   1   0   0   0   0   0   1   \n",
      "12   0  0.0   0   0   0   0  0.0   0   0   0  ...   0   0   0   0   0   0   0   \n",
      "13   1  1.0   1   1   1   0  0.0   1   1   0  ...   1   1   1   1   1   1   1   \n",
      "14   1  1.0   1   0   1   0  0.0   0   1   0  ...   0   0   0   0   0   1   0   \n",
      "15   1  0.0   0   0   0   0  0.0   0   1   0  ...   0   0   0   1   1   0   0   \n",
      "16   0  0.0   0   0   0   0  1.0   0   0   1  ...   0   1   0   1   0   0   0   \n",
      "17   1  0.0   1   0   1   0  0.0   1   1   0  ...   1   1   1   1   0   1   1   \n",
      "18   1  0.0   1   0   1   0  0.0   0   1   0  ...   0   1   0   1   0   1   0   \n",
      "19   1  1.0   0   0   0   0  0.0   0   1   0  ...   0   0   0   0   1   1   0   \n",
      "20   1  0.0   0   0   0   0  0.0   0   1   1  ...   1   0   0   0   1   1   0   \n",
      "21   1  1.0   1   0   0   0  0.0   1   1   0  ...   1   0   1   1   0   1   1   \n",
      "22   1  1.0   0   1   1   1  0.0   1   0   1  ...   1   0   0   1   1   1   1   \n",
      "23   1  0.0   1   0   0   0  0.0   0   1   0  ...   0   0   0   0   1   1   0   \n",
      "24   1  1.0   0   0   0   0  0.0   0   0   1  ...   0   0   0   0   0   0   1   \n",
      "25   1  1.0   0   0   1   0  0.0   0   0   1  ...   0   0   0   0   0   0   0   \n",
      "26   1  0.0   0   0   0   1  0.0   0   0   1  ...   0   0   0   0   0   1   0   \n",
      "27   1  0.0   0   0   0   0  0.0   1   0   0  ...   0   0   0   1   0   0   0   \n",
      "28   0  0.0   1   0   0   0  0.0   0   0   0  ...   0   0   0   1   1   1   0   \n",
      "29   1  1.0   0   1   1   1  0.0   0   0   0  ...   1   0   0   1   0   0   0   \n",
      "30   0  1.0   0   0   1   0  0.0   0   1   0  ...   1   0   0   0   0   0   0   \n",
      "31   1  1.0   1   0   1   0  0.0   1   1   0  ...   1   0   1   0   1   1   1   \n",
      "32   1  0.0   1   0   0   0  0.0   1   0   0  ...   1   0   0   1   1   1   0   \n",
      "33   1  1.0   1   1   1   1  1.0   0   1   0  ...   1   0   0   1   0   1   0   \n",
      "34   1  1.0   0   0   1   0  1.0   1   1   0  ...   0   0   0   1   0   0   1   \n",
      "35   1  0.0   1   0   1   0  1.0   0   1   1  ...   1   0   0   0   1   0   0   \n",
      "36   0  0.0   0   0   0   0  0.0   0   0   0  ...   0   0   0   0   0   0   0   \n",
      "37   1  NaN   1   0   1   0  0.0   1   1   0  ...   0   1   0   1   0   0   1   \n",
      "\n",
      "    23  24  25  \n",
      "0    1   1   1  \n",
      "1    1   1   1  \n",
      "2    0   1   1  \n",
      "3    0   0   1  \n",
      "4    1   1   1  \n",
      "5    0   0   1  \n",
      "6    1   0   0  \n",
      "7    1   1   1  \n",
      "8    0   1   1  \n",
      "9    1   1   1  \n",
      "10   1   1   1  \n",
      "11   1   1   1  \n",
      "12   0   0   0  \n",
      "13   1   1   1  \n",
      "14   0   0   1  \n",
      "15   0   1   1  \n",
      "16   0   1   0  \n",
      "17   1   1   1  \n",
      "18   1   1   1  \n",
      "19   0   0   0  \n",
      "20   0   0   1  \n",
      "21   1   0   0  \n",
      "22   1   1   1  \n",
      "23   0   0   1  \n",
      "24   1   1   1  \n",
      "25   0   0   1  \n",
      "26   0   1   1  \n",
      "27   1   0   1  \n",
      "28   0   0   1  \n",
      "29   0   1   0  \n",
      "30   1   1   1  \n",
      "31   1   0   1  \n",
      "32   0   0   1  \n",
      "33   1   0   1  \n",
      "34   1   1   0  \n",
      "35   0   0   1  \n",
      "36   0   0   0  \n",
      "37   1   0   1  \n",
      "\n",
      "[38 rows x 25 columns]\n"
     ]
    }
   ],
   "source": [
    "scores_2.columns = range(1, len(scores_2.columns) + 1)\n",
    "print(scores_2)"
   ],
   "metadata": {
    "collapsed": false,
    "ExecuteTime": {
     "start_time": "2023-06-02T20:43:08.058405Z",
     "end_time": "2023-06-02T20:43:08.103316Z"
    }
   }
  },
  {
   "cell_type": "markdown",
   "metadata": {
    "tags": []
   },
   "source": [
    "### scores_2 에서 누락 데이터를 0 으로 채우기 (fillna)"
   ]
  },
  {
   "cell_type": "code",
   "execution_count": 76,
   "outputs": [
    {
     "data": {
      "text/plain": "   1    2   3   4   5   6    7   8   9   10  ...  16  17  18  19  20  21  22   \n0   1  0.0   1   0   1   0  1.0   1   1   0  ...   0   1   0   1   1   1   0  \\\n1   1  1.0   1   0   1   0  1.0   1   1   1  ...   1   1   1   1   1   0   1   \n2   0  1.0   1   0   1   0  1.0   1   1   0  ...   1   0   1   0   0   1   0   \n3   1  0.0   0   1   1   1  1.0   0   0   0  ...   1   0   0   1   0   0   0   \n4   1  1.0   0   1   1   1  0.0   1   1   0  ...   0   0   0   0   0   1   0   \n\n   23  24  25  \n0   1   1   1  \n1   1   1   1  \n2   0   1   1  \n3   0   0   1  \n4   1   1   1  \n\n[5 rows x 25 columns]",
      "text/html": "<div>\n<style scoped>\n    .dataframe tbody tr th:only-of-type {\n        vertical-align: middle;\n    }\n\n    .dataframe tbody tr th {\n        vertical-align: top;\n    }\n\n    .dataframe thead th {\n        text-align: right;\n    }\n</style>\n<table border=\"1\" class=\"dataframe\">\n  <thead>\n    <tr style=\"text-align: right;\">\n      <th></th>\n      <th>1</th>\n      <th>2</th>\n      <th>3</th>\n      <th>4</th>\n      <th>5</th>\n      <th>6</th>\n      <th>7</th>\n      <th>8</th>\n      <th>9</th>\n      <th>10</th>\n      <th>...</th>\n      <th>16</th>\n      <th>17</th>\n      <th>18</th>\n      <th>19</th>\n      <th>20</th>\n      <th>21</th>\n      <th>22</th>\n      <th>23</th>\n      <th>24</th>\n      <th>25</th>\n    </tr>\n  </thead>\n  <tbody>\n    <tr>\n      <th>0</th>\n      <td>1</td>\n      <td>0.0</td>\n      <td>1</td>\n      <td>0</td>\n      <td>1</td>\n      <td>0</td>\n      <td>1.0</td>\n      <td>1</td>\n      <td>1</td>\n      <td>0</td>\n      <td>...</td>\n      <td>0</td>\n      <td>1</td>\n      <td>0</td>\n      <td>1</td>\n      <td>1</td>\n      <td>1</td>\n      <td>0</td>\n      <td>1</td>\n      <td>1</td>\n      <td>1</td>\n    </tr>\n    <tr>\n      <th>1</th>\n      <td>1</td>\n      <td>1.0</td>\n      <td>1</td>\n      <td>0</td>\n      <td>1</td>\n      <td>0</td>\n      <td>1.0</td>\n      <td>1</td>\n      <td>1</td>\n      <td>1</td>\n      <td>...</td>\n      <td>1</td>\n      <td>1</td>\n      <td>1</td>\n      <td>1</td>\n      <td>1</td>\n      <td>0</td>\n      <td>1</td>\n      <td>1</td>\n      <td>1</td>\n      <td>1</td>\n    </tr>\n    <tr>\n      <th>2</th>\n      <td>0</td>\n      <td>1.0</td>\n      <td>1</td>\n      <td>0</td>\n      <td>1</td>\n      <td>0</td>\n      <td>1.0</td>\n      <td>1</td>\n      <td>1</td>\n      <td>0</td>\n      <td>...</td>\n      <td>1</td>\n      <td>0</td>\n      <td>1</td>\n      <td>0</td>\n      <td>0</td>\n      <td>1</td>\n      <td>0</td>\n      <td>0</td>\n      <td>1</td>\n      <td>1</td>\n    </tr>\n    <tr>\n      <th>3</th>\n      <td>1</td>\n      <td>0.0</td>\n      <td>0</td>\n      <td>1</td>\n      <td>1</td>\n      <td>1</td>\n      <td>1.0</td>\n      <td>0</td>\n      <td>0</td>\n      <td>0</td>\n      <td>...</td>\n      <td>1</td>\n      <td>0</td>\n      <td>0</td>\n      <td>1</td>\n      <td>0</td>\n      <td>0</td>\n      <td>0</td>\n      <td>0</td>\n      <td>0</td>\n      <td>1</td>\n    </tr>\n    <tr>\n      <th>4</th>\n      <td>1</td>\n      <td>1.0</td>\n      <td>0</td>\n      <td>1</td>\n      <td>1</td>\n      <td>1</td>\n      <td>0.0</td>\n      <td>1</td>\n      <td>1</td>\n      <td>0</td>\n      <td>...</td>\n      <td>0</td>\n      <td>0</td>\n      <td>0</td>\n      <td>0</td>\n      <td>0</td>\n      <td>1</td>\n      <td>0</td>\n      <td>1</td>\n      <td>1</td>\n      <td>1</td>\n    </tr>\n  </tbody>\n</table>\n<p>5 rows × 25 columns</p>\n</div>"
     },
     "execution_count": 76,
     "metadata": {},
     "output_type": "execute_result"
    }
   ],
   "source": [
    "scores_2.fillna(0, inplace=True)\n",
    "scores_2.head()"
   ],
   "metadata": {
    "collapsed": false,
    "ExecuteTime": {
     "start_time": "2023-06-02T20:44:55.580999Z",
     "end_time": "2023-06-02T20:44:55.680901Z"
    }
   }
  },
  {
   "cell_type": "markdown",
   "metadata": {},
   "source": [
    "### scores_2 의 모든 데이터타입을 int32 으로 변경하기 (astype)"
   ]
  },
  {
   "cell_type": "code",
   "execution_count": 80,
   "outputs": [],
   "source": [
    "scores_2 = scores_2.astype('int32')"
   ],
   "metadata": {
    "collapsed": false,
    "ExecuteTime": {
     "start_time": "2023-06-02T20:46:10.085614Z",
     "end_time": "2023-06-02T20:46:10.208282Z"
    }
   }
  },
  {
   "cell_type": "markdown",
   "metadata": {},
   "source": [
    "### scores_2 의 모든 데이터에 4를 곱한 값으로 재지정하기 (브로드캐스팅)"
   ]
  },
  {
   "cell_type": "code",
   "execution_count": 81,
   "outputs": [],
   "source": [
    "scores_2 = scores_2 * 4"
   ],
   "metadata": {
    "collapsed": false,
    "ExecuteTime": {
     "start_time": "2023-06-02T20:46:25.972267Z",
     "end_time": "2023-06-02T20:46:26.044076Z"
    }
   }
  },
  {
   "cell_type": "markdown",
   "metadata": {},
   "source": [
    "### sores_2 에 새로운 class열 추가하기(class 데이터 값은 모두 '2반')"
   ]
  },
  {
   "cell_type": "code",
   "execution_count": 82,
   "outputs": [],
   "source": [
    "scores_2['class'] = '2반'"
   ],
   "metadata": {
    "collapsed": false,
    "ExecuteTime": {
     "start_time": "2023-06-02T20:47:00.694694Z",
     "end_time": "2023-06-02T20:47:00.851304Z"
    }
   }
  },
  {
   "cell_type": "markdown",
   "metadata": {},
   "source": [
    "### scores_1 과 scores_2 를 행기준(axis=0) 으로 합쳐 scores 변수에 저장하기 (concat)"
   ]
  },
  {
   "cell_type": "code",
   "execution_count": 85,
   "outputs": [
    {
     "name": "stdout",
     "output_type": "stream",
     "text": [
      "     1   2   3   4   5   6   7   8   9  10  ...  17  18  19  20  21  22  23   \n",
      "0    0   0   0   0  16   0   0  16   0   0  ...   0   0  16   0  16  16  16  \\\n",
      "1   16  16  16   0  16   0  16  16  16   0  ...   0   0  16  16   0  16  16   \n",
      "2    0   0  16  16  16  16   0  16   0   0  ...   0   0   0   0   0   0   0   \n",
      "3   16  16  16  16  16  16  16  16  16   0  ...  16  16  16  16   0  16  16   \n",
      "4   16  16  16   0  16   0   0  16  16   0  ...   0   0   0  16  16  16  16   \n",
      "..  ..  ..  ..  ..  ..  ..  ..  ..  ..  ..  ...  ..  ..  ..  ..  ..  ..  ..   \n",
      "71   4   4   4   4   4   4   4   0   4   0  ...   0   0   4   0   4   0   4   \n",
      "72   4   4   0   0   4   0   4   4   4   0  ...   0   0   4   0   0   4   4   \n",
      "73   4   0   4   0   4   0   4   0   4   4  ...   0   0   0   4   0   0   0   \n",
      "74   0   0   0   0   0   0   0   0   0   0  ...   0   0   0   0   0   0   0   \n",
      "75   4   0   4   0   4   0   0   4   4   0  ...   4   0   4   0   0   4   4   \n",
      "\n",
      "    24  25  class  \n",
      "0    0  16     1반  \n",
      "1    0  16     1반  \n",
      "2    0  16     1반  \n",
      "3   16  16     1반  \n",
      "4   16  16     1반  \n",
      "..  ..  ..    ...  \n",
      "71   0   4     2반  \n",
      "72   4   0     2반  \n",
      "73   0   4     2반  \n",
      "74   0   0     2반  \n",
      "75   0   4     2반  \n",
      "\n",
      "[76 rows x 26 columns]\n"
     ]
    }
   ],
   "source": [
    "scores = pd.concat([scores_1, scores_2], axis=0, ignore_index=True)\n",
    "print(scores)"
   ],
   "metadata": {
    "collapsed": false,
    "ExecuteTime": {
     "start_time": "2023-06-02T20:49:42.819792Z",
     "end_time": "2023-06-02T20:49:42.983241Z"
    }
   }
  },
  {
   "cell_type": "markdown",
   "metadata": {},
   "source": [
    "### scores에 새로운 id열(values = 1, 2, 3, ...) 추가하기"
   ]
  },
  {
   "cell_type": "code",
   "execution_count": 104,
   "outputs": [
    {
     "name": "stdout",
     "output_type": "stream",
     "text": [
      "     1   2   3   4   5   6   7   8   9  10  ...  18  19  20  21  22  23  24   \n",
      "0    0   0   0   0  16   0   0  16   0   0  ...   0  16   0  16  16  16   0  \\\n",
      "1   16  16  16   0  16   0  16  16  16   0  ...   0  16  16   0  16  16   0   \n",
      "2    0   0  16  16  16  16   0  16   0   0  ...   0   0   0   0   0   0   0   \n",
      "3   16  16  16  16  16  16  16  16  16   0  ...  16  16  16   0  16  16  16   \n",
      "4   16  16  16   0  16   0   0  16  16   0  ...   0   0  16  16  16  16  16   \n",
      "..  ..  ..  ..  ..  ..  ..  ..  ..  ..  ..  ...  ..  ..  ..  ..  ..  ..  ..   \n",
      "71   4   4   4   4   4   4   4   0   4   0  ...   0   4   0   4   0   4   0   \n",
      "72   4   4   0   0   4   0   4   4   4   0  ...   0   4   0   0   4   4   4   \n",
      "73   4   0   4   0   4   0   4   0   4   4  ...   0   0   4   0   0   0   0   \n",
      "74   0   0   0   0   0   0   0   0   0   0  ...   0   0   0   0   0   0   0   \n",
      "75   4   0   4   0   4   0   0   4   4   0  ...   0   4   0   0   4   4   0   \n",
      "\n",
      "    25  class  id  \n",
      "0   16     1반   1  \n",
      "1   16     1반   2  \n",
      "2   16     1반   3  \n",
      "3   16     1반   4  \n",
      "4   16     1반   5  \n",
      "..  ..    ...  ..  \n",
      "71   4     2반  72  \n",
      "72   0     2반  73  \n",
      "73   4     2반  74  \n",
      "74   0     2반  75  \n",
      "75   4     2반  76  \n",
      "\n",
      "[76 rows x 27 columns]\n"
     ]
    }
   ],
   "source": [
    "scores['id'] = range(1, len(scores) + 1)\n",
    "print(scores)"
   ],
   "metadata": {
    "collapsed": false,
    "ExecuteTime": {
     "start_time": "2023-06-02T21:32:36.455768Z",
     "end_time": "2023-06-02T21:32:36.574449Z"
    }
   }
  },
  {
   "cell_type": "markdown",
   "metadata": {},
   "source": [
    "### class 열의 데이터타입을 category 로 변경하기 (astype)"
   ]
  },
  {
   "cell_type": "code",
   "execution_count": 96,
   "outputs": [
    {
     "name": "stdout",
     "output_type": "stream",
     "text": [
      "1           int32\n",
      "2           int32\n",
      "3           int32\n",
      "4           int32\n",
      "5           int32\n",
      "6           int32\n",
      "7           int32\n",
      "8           int32\n",
      "9           int32\n",
      "10          int32\n",
      "11          int32\n",
      "12          int32\n",
      "13          int32\n",
      "14          int32\n",
      "15          int32\n",
      "16          int32\n",
      "17          int32\n",
      "18          int32\n",
      "19          int32\n",
      "20          int32\n",
      "21          int32\n",
      "22          int32\n",
      "23          int32\n",
      "24          int32\n",
      "25          int32\n",
      "class    category\n",
      "id          int64\n",
      "dtype: object\n"
     ]
    }
   ],
   "source": [
    "scores['class'] = scores['class'].astype('category')\n",
    "print(scores.dtypes)"
   ],
   "metadata": {
    "collapsed": false,
    "ExecuteTime": {
     "start_time": "2023-06-02T20:54:15.185121Z",
     "end_time": "2023-06-02T20:54:15.237312Z"
    }
   }
  },
  {
   "cell_type": "markdown",
   "metadata": {},
   "source": [
    "## 3.3 분석하기"
   ]
  },
  {
   "cell_type": "markdown",
   "metadata": {
    "tags": []
   },
   "source": [
    "### class, id 열을 고정하고, 나머지 열을 피벗하여 scores_long 변수에 저장하기 (melt - var_name='question', value_name='score')"
   ]
  },
  {
   "cell_type": "code",
   "execution_count": 97,
   "outputs": [
    {
     "name": "stdout",
     "output_type": "stream",
     "text": [
      "     class  id question  score\n",
      "0       1반   1        1      0\n",
      "1       1반   2        1     16\n",
      "2       1반   3        1      0\n",
      "3       1반   4        1     16\n",
      "4       1반   5        1     16\n",
      "...    ...  ..      ...    ...\n",
      "1895    2반  72       25      4\n",
      "1896    2반  73       25      0\n",
      "1897    2반  74       25      4\n",
      "1898    2반  75       25      0\n",
      "1899    2반  76       25      4\n",
      "\n",
      "[1900 rows x 4 columns]\n"
     ]
    }
   ],
   "source": [
    "scores_long = pd.melt(scores, id_vars=['class', 'id'], var_name='question', value_name='score')\n",
    "print(scores_long)"
   ],
   "metadata": {
    "collapsed": false,
    "ExecuteTime": {
     "start_time": "2023-06-02T21:19:45.199960Z",
     "end_time": "2023-06-02T21:19:45.330212Z"
    }
   }
  },
  {
   "cell_type": "markdown",
   "metadata": {
    "tags": []
   },
   "source": [
    "### scores_long 에서 학생별 점수 구하기 (groupby, sum)"
   ]
  },
  {
   "cell_type": "code",
   "execution_count": 100,
   "outputs": [
    {
     "name": "stdout",
     "output_type": "stream",
     "text": [
      "id\n",
      "1     160\n",
      "2     224\n",
      "3     160\n",
      "4     352\n",
      "5     240\n",
      "     ... \n",
      "72     72\n",
      "73     48\n",
      "74     52\n",
      "75      0\n",
      "76     52\n",
      "Name: score, Length: 76, dtype: int32\n"
     ]
    }
   ],
   "source": [
    "print(scores_long.groupby('id').score.sum())"
   ],
   "metadata": {
    "collapsed": false,
    "ExecuteTime": {
     "start_time": "2023-06-02T21:23:29.369462Z",
     "end_time": "2023-06-02T21:23:29.453520Z"
    }
   }
  },
  {
   "cell_type": "markdown",
   "metadata": {},
   "source": [
    "### scores_long 에서 반/학생별 평균 점수 구하여 class_scores 변수에 저장하기 (groupby, sum, reset_index)"
   ]
  },
  {
   "cell_type": "code",
   "execution_count": 110,
   "outputs": [
    {
     "name": "stdout",
     "output_type": "stream",
     "text": [
      "    class  id  score\n",
      "0      1반   1    160\n",
      "1      1반   2    224\n",
      "2      1반   3    160\n",
      "3      1반   4    352\n",
      "4      1반   5    240\n",
      "..    ...  ..    ...\n",
      "147    2반  72     72\n",
      "148    2반  73     48\n",
      "149    2반  74     52\n",
      "150    2반  75      0\n",
      "151    2반  76     52\n",
      "\n",
      "[152 rows x 3 columns]\n"
     ]
    }
   ],
   "source": [
    "class_scores = scores_long.groupby(['class', 'id']).score.sum().reset_index()\n",
    "print(class_scores)"
   ],
   "metadata": {
    "collapsed": false,
    "ExecuteTime": {
     "start_time": "2023-06-02T21:34:50.212228Z",
     "end_time": "2023-06-02T21:34:50.370477Z"
    }
   }
  },
  {
   "cell_type": "markdown",
   "metadata": {},
   "source": [
    "### class_scores에서 반별 평균 점수 구하기 (groupby, mean)"
   ]
  },
  {
   "cell_type": "code",
   "execution_count": 112,
   "outputs": [
    {
     "name": "stdout",
     "output_type": "stream",
     "text": [
      "class\n",
      "1반    103.157895\n",
      "2반     23.526316\n",
      "Name: score, dtype: float64\n"
     ]
    }
   ],
   "source": [
    "print(class_scores.groupby('class').score.mean())"
   ],
   "metadata": {
    "collapsed": false,
    "ExecuteTime": {
     "start_time": "2023-06-02T21:37:26.154671Z",
     "end_time": "2023-06-02T21:37:26.296292Z"
    }
   }
  },
  {
   "cell_type": "markdown",
   "metadata": {},
   "source": [
    "### class_scores에서 반별 기술통계 항목 구하기 (groupby, describe)"
   ]
  },
  {
   "cell_type": "code",
   "execution_count": 114,
   "outputs": [
    {
     "name": "stdout",
     "output_type": "stream",
     "text": [
      "       count        mean         std  min  25%   50%    75%    max\n",
      "class                                                             \n",
      "1반      76.0  103.157895  113.720717  0.0  0.0  40.0  192.0  352.0\n",
      "2반      76.0   23.526316   27.542681  0.0  0.0   0.0   48.0   88.0\n"
     ]
    }
   ],
   "source": [
    "print(class_scores.groupby('class').score.describe())"
   ],
   "metadata": {
    "collapsed": false,
    "ExecuteTime": {
     "start_time": "2023-06-02T21:38:09.398851Z",
     "end_time": "2023-06-02T21:38:09.521522Z"
    }
   }
  },
  {
   "cell_type": "markdown",
   "metadata": {
    "jp-MarkdownHeadingCollapsed": true,
    "tags": []
   },
   "source": [
    "# 4. Regular Expression\n",
    "***"
   ]
  },
  {
   "cell_type": "markdown",
   "metadata": {
    "tags": []
   },
   "source": [
    "## 4.1 문자열에서 찾기"
   ]
  },
  {
   "cell_type": "code",
   "execution_count": 118,
   "metadata": {
    "ExecuteTime": {
     "start_time": "2023-06-02T21:57:27.146933Z",
     "end_time": "2023-06-02T21:57:27.191345Z"
    }
   },
   "outputs": [],
   "source": [
    "import pandas as pd\n",
    "import re\n",
    "\n",
    "sample = \"\"\"\n",
    "750101-1123146 01012345677\n",
    "900201-2123121 010-2234-7799\n",
    "950722-2027193 010-2987-7222\n",
    "000321-3123142 011_1234_9087\n",
    "001105-4333127 010 4422 1485\n",
    "0009213876575  01045845987\n",
    "\"\"\""
   ]
  },
  {
   "cell_type": "markdown",
   "metadata": {},
   "source": [
    "### 전화번호 추출하기"
   ]
  },
  {
   "cell_type": "code",
   "execution_count": 120,
   "outputs": [
    {
     "name": "stdout",
     "output_type": "stream",
     "text": [
      "['101-1123', '146 0101', '2345677', '201-2123', '010-2234', '799\\n9507', '2027193', '010-2987', '222\\n0003', '3123142', '011_1234', '087\\n0011', '4333127', '010 4422', '485\\n0009', '21387657', '01045845']\n"
     ]
    }
   ],
   "source": [
    "p = re.compile('\\d{3}[-_\\s\\?\\d{4}[-_\\s]?\\d{4}', re.MULTILINE)\n",
    "print(p.findall(sample))"
   ],
   "metadata": {
    "collapsed": false,
    "ExecuteTime": {
     "start_time": "2023-06-02T21:57:51.064471Z",
     "end_time": "2023-06-02T21:57:51.111089Z"
    }
   }
  },
  {
   "cell_type": "markdown",
   "metadata": {
    "tags": []
   },
   "source": [
    "### 주민등록번호 추출하기"
   ]
  },
  {
   "cell_type": "code",
   "execution_count": 123,
   "outputs": [
    {
     "name": "stdout",
     "output_type": "stream",
     "text": [
      "['750101-1123146', '900201-2123121', '950722-2027193', '000321-3123142', '001105-4333127', '0009213876575']\n"
     ]
    }
   ],
   "source": [
    "p = re.compile('^\\d{6}-?\\d{7}', re.MULTILINE)\n",
    "print(p.findall(sample))"
   ],
   "metadata": {
    "collapsed": false,
    "ExecuteTime": {
     "start_time": "2023-06-02T22:00:47.503751Z",
     "end_time": "2023-06-02T22:00:47.574558Z"
    }
   }
  },
  {
   "cell_type": "markdown",
   "metadata": {},
   "source": [
    "### 여성 주민등록번호 추출하기"
   ]
  },
  {
   "cell_type": "code",
   "execution_count": 124,
   "outputs": [
    {
     "name": "stdout",
     "output_type": "stream",
     "text": [
      "['900201-2123121', '950722-2027193', '001105-4333127']\n"
     ]
    }
   ],
   "source": [
    "p = re.compile('^\\d{6}-?[24]\\d{6}', re.MULTILINE)\n",
    "print(p.findall(sample))"
   ],
   "metadata": {
    "collapsed": false,
    "ExecuteTime": {
     "start_time": "2023-06-02T22:06:36.581440Z",
     "end_time": "2023-06-02T22:06:36.638288Z"
    }
   }
  },
  {
   "cell_type": "markdown",
   "metadata": {
    "tags": []
   },
   "source": [
    "## 4.2 데이터프레임에서 찾기"
   ]
  },
  {
   "cell_type": "code",
   "execution_count": 129,
   "outputs": [
    {
     "name": "stdout",
     "output_type": "stream",
     "text": [
      "                   Name        Born        Died  Age          Occupation\n",
      "0     Rosaline Franklin  1920-07-25  1958-04-16   37             Chemist\n",
      "1        William Gosset  1876-06-13  1937-10-16   61        Statistician\n",
      "2  Florence Nightingale  1820-05-12  1910-08-13   90               Nurse\n",
      "3           Marie Curie  1867-11-07  1934-07-04   66             Chemist\n",
      "4         Rachel Carson  1907-05-27  1964-04-14   56           Biologist\n",
      "5             John Snow  1813-03-15  1858-06-16   45           Physician\n",
      "6           Alan Turing  1912-06-23  1954-06-07   41  Computer Scientist\n",
      "7          Johann Gauss  1777-04-30  1855-02-23   77       Mathematician\n"
     ]
    }
   ],
   "source": [
    "scientists = pd.read_csv('../data/scientists.csv')\n",
    "print(scientists)"
   ],
   "metadata": {
    "collapsed": false,
    "ExecuteTime": {
     "start_time": "2023-06-02T22:10:57.423321Z",
     "end_time": "2023-06-02T22:10:57.522056Z"
    }
   }
  },
  {
   "cell_type": "markdown",
   "metadata": {},
   "source": [
    "### 5월에 태어난 과학자 추출"
   ]
  },
  {
   "cell_type": "code",
   "execution_count": 134,
   "outputs": [
    {
     "name": "stdout",
     "output_type": "stream",
     "text": [
      "                   Name        Born        Died  Age Occupation\n",
      "2  Florence Nightingale  1820-05-12  1910-08-13   90      Nurse\n",
      "4         Rachel Carson  1907-05-27  1964-04-14   56  Biologist\n"
     ]
    }
   ],
   "source": [
    "print(scientists[scientists['Born'].str.match('\\d{4}-05-\\d{2}')])"
   ],
   "metadata": {
    "collapsed": false,
    "ExecuteTime": {
     "start_time": "2023-06-02T22:12:31.597749Z",
     "end_time": "2023-06-02T22:12:31.687543Z"
    }
   }
  },
  {
   "cell_type": "markdown",
   "metadata": {},
   "source": [
    "### 성(last name)이 C로 시작하는 과학자 추출"
   ]
  },
  {
   "cell_type": "code",
   "execution_count": 136,
   "outputs": [
    {
     "name": "stdout",
     "output_type": "stream",
     "text": [
      "                   Name        Born        Died  Age Occupation\n",
      "2  Florence Nightingale  1820-05-12  1910-08-13   90      Nurse\n",
      "4         Rachel Carson  1907-05-27  1964-04-14   56  Biologist\n"
     ]
    }
   ],
   "source": [
    "print(scientists[scientists['Name'].str.match('\\w+\\w[cC]\\w+')])"
   ],
   "metadata": {
    "collapsed": false,
    "ExecuteTime": {
     "start_time": "2023-06-02T22:14:15.890684Z",
     "end_time": "2023-06-02T22:14:15.935651Z"
    }
   }
  }
 ],
 "metadata": {
  "kernelspec": {
   "name": "python3",
   "language": "python",
   "display_name": "Python 3 (ipykernel)"
  },
  "language_info": {
   "codemirror_mode": {
    "name": "ipython",
    "version": 3
   },
   "file_extension": ".py",
   "mimetype": "text/x-python",
   "name": "python",
   "nbconvert_exporter": "python",
   "pygments_lexer": "ipython3",
   "version": "3.9.12"
  }
 },
 "nbformat": 4,
 "nbformat_minor": 4
}
