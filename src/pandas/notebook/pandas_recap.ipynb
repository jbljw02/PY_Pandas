{
 "cells": [
  {
   "cell_type": "markdown",
   "metadata": {},
   "source": [
    "# Pandas Recap"
   ]
  },
  {
   "cell_type": "markdown",
   "metadata": {
    "jp-MarkdownHeadingCollapsed": true,
    "tags": []
   },
   "source": [
    "# 1. Pandas DataFrame Basics\n",
    "***"
   ]
  },
  {
   "cell_type": "markdown",
   "metadata": {
    "tags": []
   },
   "source": [
    "## 1.1 데이터 집합 불러오기"
   ]
  },
  {
   "cell_type": "code",
   "execution_count": 1,
   "metadata": {
    "ExecuteTime": {
     "start_time": "2023-06-03T18:11:19.053377Z",
     "end_time": "2023-06-03T18:11:20.049083Z"
    }
   },
   "outputs": [],
   "source": [
    "import pandas as pd\n",
    "df = pd.read_csv('../data/gapminder.tsv', sep='\\t')"
   ]
  },
  {
   "cell_type": "code",
   "execution_count": 65,
   "metadata": {
    "ExecuteTime": {
     "start_time": "2023-06-03T18:54:01.128468Z",
     "end_time": "2023-06-03T18:54:01.237181Z"
    }
   },
   "outputs": [
    {
     "data": {
      "text/plain": "       country continent  year  lifeExp       pop   gdpPercap\n0  Afghanistan      Asia  1952   28.801   8425333  779.445314\n1  Afghanistan      Asia  1957   30.332   9240934  820.853030\n2  Afghanistan      Asia  1962   31.997  10267083  853.100710\n3  Afghanistan      Asia  1967   34.020  11537966  836.197138\n4  Afghanistan      Asia  1972   36.088  13079460  739.981106",
      "text/html": "<div>\n<style scoped>\n    .dataframe tbody tr th:only-of-type {\n        vertical-align: middle;\n    }\n\n    .dataframe tbody tr th {\n        vertical-align: top;\n    }\n\n    .dataframe thead th {\n        text-align: right;\n    }\n</style>\n<table border=\"1\" class=\"dataframe\">\n  <thead>\n    <tr style=\"text-align: right;\">\n      <th></th>\n      <th>country</th>\n      <th>continent</th>\n      <th>year</th>\n      <th>lifeExp</th>\n      <th>pop</th>\n      <th>gdpPercap</th>\n    </tr>\n  </thead>\n  <tbody>\n    <tr>\n      <th>0</th>\n      <td>Afghanistan</td>\n      <td>Asia</td>\n      <td>1952</td>\n      <td>28.801</td>\n      <td>8425333</td>\n      <td>779.445314</td>\n    </tr>\n    <tr>\n      <th>1</th>\n      <td>Afghanistan</td>\n      <td>Asia</td>\n      <td>1957</td>\n      <td>30.332</td>\n      <td>9240934</td>\n      <td>820.853030</td>\n    </tr>\n    <tr>\n      <th>2</th>\n      <td>Afghanistan</td>\n      <td>Asia</td>\n      <td>1962</td>\n      <td>31.997</td>\n      <td>10267083</td>\n      <td>853.100710</td>\n    </tr>\n    <tr>\n      <th>3</th>\n      <td>Afghanistan</td>\n      <td>Asia</td>\n      <td>1967</td>\n      <td>34.020</td>\n      <td>11537966</td>\n      <td>836.197138</td>\n    </tr>\n    <tr>\n      <th>4</th>\n      <td>Afghanistan</td>\n      <td>Asia</td>\n      <td>1972</td>\n      <td>36.088</td>\n      <td>13079460</td>\n      <td>739.981106</td>\n    </tr>\n  </tbody>\n</table>\n</div>"
     },
     "execution_count": 65,
     "metadata": {},
     "output_type": "execute_result"
    }
   ],
   "source": [
    "df.head()"
   ]
  },
  {
   "cell_type": "markdown",
   "metadata": {
    "tags": []
   },
   "source": [
    "## 1.2 열단위 데이터 추출"
   ]
  },
  {
   "cell_type": "markdown",
   "metadata": {
    "tags": []
   },
   "source": [
    "### df에서 'country'열을 추출하여 country_sr 변수에 저장하기. (country_sr의 타입은 Series 가 되어야 한다)"
   ]
  },
  {
   "cell_type": "code",
   "execution_count": 5,
   "outputs": [
    {
     "data": {
      "text/plain": "pandas.core.series.Series"
     },
     "execution_count": 5,
     "metadata": {},
     "output_type": "execute_result"
    }
   ],
   "source": [
    "country_sr = df['country']\n",
    "country_sr"
   ],
   "metadata": {
    "collapsed": false,
    "ExecuteTime": {
     "start_time": "2023-06-03T18:13:29.167798Z",
     "end_time": "2023-06-03T18:13:29.199711Z"
    }
   }
  },
  {
   "cell_type": "markdown",
   "metadata": {},
   "source": [
    "### 'year'열과 'pop'열을 동시에 추출하여 year_pop_df 변수에 저장하기. (year_pop_df의 타입은 DataFrame이 되어야 한다)"
   ]
  },
  {
   "cell_type": "code",
   "execution_count": 9,
   "outputs": [
    {
     "data": {
      "text/plain": "      year       pop\n0     1952   8425333\n1     1957   9240934\n2     1962  10267083\n3     1967  11537966\n4     1972  13079460\n...    ...       ...\n1699  1987   9216418\n1700  1992  10704340\n1701  1997  11404948\n1702  2002  11926563\n1703  2007  12311143\n\n[1704 rows x 2 columns]",
      "text/html": "<div>\n<style scoped>\n    .dataframe tbody tr th:only-of-type {\n        vertical-align: middle;\n    }\n\n    .dataframe tbody tr th {\n        vertical-align: top;\n    }\n\n    .dataframe thead th {\n        text-align: right;\n    }\n</style>\n<table border=\"1\" class=\"dataframe\">\n  <thead>\n    <tr style=\"text-align: right;\">\n      <th></th>\n      <th>year</th>\n      <th>pop</th>\n    </tr>\n  </thead>\n  <tbody>\n    <tr>\n      <th>0</th>\n      <td>1952</td>\n      <td>8425333</td>\n    </tr>\n    <tr>\n      <th>1</th>\n      <td>1957</td>\n      <td>9240934</td>\n    </tr>\n    <tr>\n      <th>2</th>\n      <td>1962</td>\n      <td>10267083</td>\n    </tr>\n    <tr>\n      <th>3</th>\n      <td>1967</td>\n      <td>11537966</td>\n    </tr>\n    <tr>\n      <th>4</th>\n      <td>1972</td>\n      <td>13079460</td>\n    </tr>\n    <tr>\n      <th>...</th>\n      <td>...</td>\n      <td>...</td>\n    </tr>\n    <tr>\n      <th>1699</th>\n      <td>1987</td>\n      <td>9216418</td>\n    </tr>\n    <tr>\n      <th>1700</th>\n      <td>1992</td>\n      <td>10704340</td>\n    </tr>\n    <tr>\n      <th>1701</th>\n      <td>1997</td>\n      <td>11404948</td>\n    </tr>\n    <tr>\n      <th>1702</th>\n      <td>2002</td>\n      <td>11926563</td>\n    </tr>\n    <tr>\n      <th>1703</th>\n      <td>2007</td>\n      <td>12311143</td>\n    </tr>\n  </tbody>\n</table>\n<p>1704 rows × 2 columns</p>\n</div>"
     },
     "execution_count": 9,
     "metadata": {},
     "output_type": "execute_result"
    }
   ],
   "source": [
    "year_pop_df = df[['year', 'pop']]\n",
    "year_pop_df"
   ],
   "metadata": {
    "collapsed": false,
    "ExecuteTime": {
     "start_time": "2023-06-03T18:14:08.828086Z",
     "end_time": "2023-06-03T18:14:08.955743Z"
    }
   }
  },
  {
   "cell_type": "markdown",
   "metadata": {},
   "source": [
    "### 'year'열을 추출하여 year_df 변수에 저장하기. (year_df의 타입은 DataFrame이 되어야 한다)"
   ]
  },
  {
   "cell_type": "code",
   "execution_count": 11,
   "outputs": [
    {
     "data": {
      "text/plain": "pandas.core.frame.DataFrame"
     },
     "execution_count": 11,
     "metadata": {},
     "output_type": "execute_result"
    }
   ],
   "source": [
    "year_df = df[['year']]\n",
    "year_df"
   ],
   "metadata": {
    "collapsed": false,
    "ExecuteTime": {
     "start_time": "2023-06-03T18:15:22.993111Z",
     "end_time": "2023-06-03T18:15:23.136983Z"
    }
   }
  },
  {
   "cell_type": "markdown",
   "metadata": {
    "tags": []
   },
   "source": [
    "## 1.3 행단위 데이터 추출"
   ]
  },
  {
   "cell_type": "markdown",
   "metadata": {
    "tags": []
   },
   "source": [
    "### df에서 2번째 행 데이터 추출하기 (loc 속성 이용)"
   ]
  },
  {
   "cell_type": "code",
   "execution_count": 82,
   "outputs": [
    {
     "name": "stdout",
     "output_type": "stream",
     "text": [
      "          country continent  year  lifeExp       pop   gdpPercap\n",
      "0     Afghanistan      Asia  1952   28.801   8425333  779.445314\n",
      "1     Afghanistan      Asia  1957   30.332   9240934  820.853030\n",
      "2     Afghanistan      Asia  1962   31.997  10267083  853.100710\n",
      "3     Afghanistan      Asia  1967   34.020  11537966  836.197138\n",
      "4     Afghanistan      Asia  1972   36.088  13079460  739.981106\n",
      "...           ...       ...   ...      ...       ...         ...\n",
      "1699     Zimbabwe    Africa  1987   62.351   9216418  706.157306\n",
      "1700     Zimbabwe    Africa  1992   60.377  10704340  693.420786\n",
      "1701     Zimbabwe    Africa  1997   46.809  11404948  792.449960\n",
      "1702     Zimbabwe    Africa  2002   39.989  11926563  672.038623\n",
      "1703     Zimbabwe    Africa  2007   43.487  12311143  469.709298\n",
      "\n",
      "[1704 rows x 6 columns]\n",
      "country      Afghanistan\n",
      "continent           Asia\n",
      "year                1957\n",
      "lifeExp           30.332\n",
      "pop              9240934\n",
      "gdpPercap      820.85303\n",
      "Name: 1, dtype: object\n"
     ]
    }
   ],
   "source": [
    "print(df)\n",
    "\n",
    "print(df.loc[1])"
   ],
   "metadata": {
    "collapsed": false,
    "ExecuteTime": {
     "start_time": "2023-06-03T19:03:27.647498Z",
     "end_time": "2023-06-03T19:03:27.691380Z"
    }
   }
  },
  {
   "cell_type": "markdown",
   "metadata": {},
   "source": [
    "### df에서 2번째 행 데이터 추출하기 (iloc 속성 이용)"
   ]
  },
  {
   "cell_type": "code",
   "execution_count": 50,
   "outputs": [
    {
     "name": "stdout",
     "output_type": "stream",
     "text": [
      "country      Afghanistan\n",
      "continent           Asia\n",
      "year                1957\n",
      "lifeExp           30.332\n",
      "pop              9240934\n",
      "gdpPercap      820.85303\n",
      "Name: 1, dtype: object\n"
     ]
    }
   ],
   "source": [
    "print(df.iloc[1])"
   ],
   "metadata": {
    "collapsed": false,
    "ExecuteTime": {
     "start_time": "2023-06-03T18:43:31.678667Z",
     "end_time": "2023-06-03T18:43:31.705119Z"
    }
   }
  },
  {
   "cell_type": "markdown",
   "metadata": {},
   "source": [
    "### df에서 마지막 행 데이터 추출하기 (loc 속성 이용)"
   ]
  },
  {
   "cell_type": "code",
   "execution_count": 51,
   "outputs": [
    {
     "name": "stdout",
     "output_type": "stream",
     "text": [
      "country        Zimbabwe\n",
      "continent        Africa\n",
      "year               2007\n",
      "lifeExp          43.487\n",
      "pop            12311143\n",
      "gdpPercap    469.709298\n",
      "Name: 1703, dtype: object\n"
     ]
    }
   ],
   "source": [
    "num_rows = df.shape[0]\n",
    "print(df.loc[num_rows-1])"
   ],
   "metadata": {
    "collapsed": false,
    "ExecuteTime": {
     "start_time": "2023-06-03T18:43:44.448054Z",
     "end_time": "2023-06-03T18:43:44.560756Z"
    }
   }
  },
  {
   "cell_type": "markdown",
   "metadata": {},
   "source": [
    "### df에서 마지막 행 데이터 추출하기 (iloc 속성 이용)"
   ]
  },
  {
   "cell_type": "code",
   "execution_count": 28,
   "outputs": [
    {
     "name": "stdout",
     "output_type": "stream",
     "text": [
      "country        Zimbabwe\n",
      "continent        Africa\n",
      "year               2007\n",
      "lifeExp          43.487\n",
      "pop            12311143\n",
      "gdpPercap    469.709298\n",
      "Name: 1703, dtype: object\n"
     ]
    }
   ],
   "source": [
    "print(df.iloc[-1])"
   ],
   "metadata": {
    "collapsed": false,
    "ExecuteTime": {
     "start_time": "2023-06-03T18:23:05.988246Z",
     "end_time": "2023-06-03T18:23:06.011181Z"
    }
   }
  },
  {
   "cell_type": "markdown",
   "metadata": {
    "tags": []
   },
   "source": [
    "## 1.4 loc, iloc 속성 자유자재로 사용하기 - [ [ 행 ], [ 열 ] ]"
   ]
  },
  {
   "cell_type": "markdown",
   "metadata": {
    "tags": []
   },
   "source": [
    "### 'country', 'year', 'gdpPercap' 열에 대해 모든 행 데이터 추출하기(loc 사용)"
   ]
  },
  {
   "cell_type": "code",
   "execution_count": 73,
   "outputs": [
    {
     "name": "stdout",
     "output_type": "stream",
     "text": [
      "          country  year   gdpPercap\n",
      "0     Afghanistan  1952  779.445314\n",
      "1     Afghanistan  1957  820.853030\n",
      "2     Afghanistan  1962  853.100710\n",
      "3     Afghanistan  1967  836.197138\n",
      "4     Afghanistan  1972  739.981106\n",
      "...           ...   ...         ...\n",
      "1699     Zimbabwe  1987  706.157306\n",
      "1700     Zimbabwe  1992  693.420786\n",
      "1701     Zimbabwe  1997  792.449960\n",
      "1702     Zimbabwe  2002  672.038623\n",
      "1703     Zimbabwe  2007  469.709298\n",
      "\n",
      "[1704 rows x 3 columns]\n"
     ]
    }
   ],
   "source": [
    "print(df.loc[:, ['country', 'year', 'gdpPercap']])"
   ],
   "metadata": {
    "collapsed": false,
    "ExecuteTime": {
     "start_time": "2023-06-03T18:57:54.999091Z",
     "end_time": "2023-06-03T18:57:55.042973Z"
    }
   }
  },
  {
   "cell_type": "markdown",
   "metadata": {},
   "source": [
    "### 'country', 'year', 'gdpPercap' 열에 대해 처음부터 100개 행 데이터 추출하기(loc 사용)"
   ]
  },
  {
   "cell_type": "code",
   "execution_count": 53,
   "outputs": [
    {
     "name": "stdout",
     "output_type": "stream",
     "text": [
      "        country  year     gdpPercap\n",
      "0   Afghanistan  1952    779.445314\n",
      "1   Afghanistan  1957    820.853030\n",
      "2   Afghanistan  1962    853.100710\n",
      "3   Afghanistan  1967    836.197138\n",
      "4   Afghanistan  1972    739.981106\n",
      "..          ...   ...           ...\n",
      "95      Bahrain  2007  29796.048340\n",
      "96   Bangladesh  1952    684.244172\n",
      "97   Bangladesh  1957    661.637458\n",
      "98   Bangladesh  1962    686.341554\n",
      "99   Bangladesh  1967    721.186086\n",
      "\n",
      "[100 rows x 3 columns]\n"
     ]
    }
   ],
   "source": [
    "print(df.loc[:99, ['country','year','gdpPercap']])"
   ],
   "metadata": {
    "collapsed": false,
    "ExecuteTime": {
     "start_time": "2023-06-03T18:45:02.729690Z",
     "end_time": "2023-06-03T18:45:02.829504Z"
    }
   }
  },
  {
   "cell_type": "markdown",
   "metadata": {},
   "source": [
    "### 'country', 'year', 'gdpPercap' 열에 대해 처음부터 100개 행 데이터 추출하기(iloc 사용)"
   ]
  },
  {
   "cell_type": "code",
   "execution_count": 63,
   "outputs": [
    {
     "name": "stdout",
     "output_type": "stream",
     "text": [
      "        country  year     gdpPercap\n",
      "0   Afghanistan  1952    779.445314\n",
      "1   Afghanistan  1957    820.853030\n",
      "2   Afghanistan  1962    853.100710\n",
      "3   Afghanistan  1967    836.197138\n",
      "4   Afghanistan  1972    739.981106\n",
      "..          ...   ...           ...\n",
      "95      Bahrain  2007  29796.048340\n",
      "96   Bangladesh  1952    684.244172\n",
      "97   Bangladesh  1957    661.637458\n",
      "98   Bangladesh  1962    686.341554\n",
      "99   Bangladesh  1967    721.186086\n",
      "\n",
      "[100 rows x 3 columns]\n"
     ]
    }
   ],
   "source": [
    "print(df.iloc[:100, [0,2,5]])"
   ],
   "metadata": {
    "collapsed": false,
    "ExecuteTime": {
     "start_time": "2023-06-03T18:53:09.137622Z",
     "end_time": "2023-06-03T18:53:09.171531Z"
    }
   }
  },
  {
   "cell_type": "markdown",
   "metadata": {
    "jp-MarkdownHeadingCollapsed": true,
    "tags": []
   },
   "source": [
    "# 2. Pandas Data Structures\n",
    "***"
   ]
  },
  {
   "cell_type": "markdown",
   "metadata": {
    "tags": []
   },
   "source": [
    "## 2.1 데이터 만들기"
   ]
  },
  {
   "cell_type": "code",
   "execution_count": 67,
   "metadata": {
    "ExecuteTime": {
     "start_time": "2023-06-03T18:54:44.849611Z",
     "end_time": "2023-06-03T18:54:44.888508Z"
    }
   },
   "outputs": [],
   "source": [
    "import pandas as pd"
   ]
  },
  {
   "cell_type": "code",
   "execution_count": 93,
   "metadata": {
    "ExecuteTime": {
     "start_time": "2023-06-03T19:08:10.941337Z",
     "end_time": "2023-06-03T19:08:10.979235Z"
    }
   },
   "outputs": [
    {
     "name": "stdout",
     "output_type": "stream",
     "text": [
      "                     Occupation        Born        Died  Age\n",
      "Rosaline Franklin       Chemist  1920-07-25  1958-04-16   37\n",
      "William Gosset     Statistician  1876-06-13  1937-10-16   61\n"
     ]
    }
   ],
   "source": [
    "scientists = pd.DataFrame(\n",
    "    data={'Occupation': ['Chemist', 'Statistician'], \n",
    "          'Born': ['1920-07-25', '1876-06-13'], \n",
    "          'Died': ['1958-04-16', '1937-10-16'],\n",
    "          'Age': [37, 61]},\n",
    "    index=['Rosaline Franklin', 'William Gosset'],\n",
    "    columns=['Occupation', 'Born', 'Died', 'Age'])\n",
    "\n",
    "print(scientists)"
   ]
  },
  {
   "cell_type": "markdown",
   "metadata": {},
   "source": [
    "## 2.2 데이터 추출"
   ]
  },
  {
   "cell_type": "markdown",
   "metadata": {
    "tags": []
   },
   "source": [
    "### 'William Gosset' 행 데이터 추출하기 (loc 사용)"
   ]
  },
  {
   "cell_type": "code",
   "execution_count": 85,
   "outputs": [
    {
     "name": "stdout",
     "output_type": "stream",
     "text": [
      "Occupation    Statistician\n",
      "Born            1876-06-13\n",
      "Died            1937-10-16\n",
      "Age                     61\n",
      "Name: William Gosset, dtype: object\n"
     ]
    }
   ],
   "source": [
    "print(scientists.loc['William Gosset'])"
   ],
   "metadata": {
    "collapsed": false,
    "ExecuteTime": {
     "start_time": "2023-06-03T19:04:00.286794Z",
     "end_time": "2023-06-03T19:04:00.339659Z"
    }
   }
  },
  {
   "cell_type": "markdown",
   "metadata": {},
   "source": [
    "### 'William Gosset' 행 데이터 추출하기 (iloc 사용)"
   ]
  },
  {
   "cell_type": "code",
   "execution_count": 89,
   "outputs": [
    {
     "name": "stdout",
     "output_type": "stream",
     "text": [
      "Occupation    Statistician\n",
      "Born            1876-06-13\n",
      "Died            1937-10-16\n",
      "Age                     61\n",
      "Name: William Gosset, dtype: object\n"
     ]
    }
   ],
   "source": [
    "print(scientists.iloc[1])"
   ],
   "metadata": {
    "collapsed": false,
    "ExecuteTime": {
     "start_time": "2023-06-03T19:04:28.625669Z",
     "end_time": "2023-06-03T19:04:28.655588Z"
    }
   }
  },
  {
   "cell_type": "markdown",
   "metadata": {},
   "source": [
    "### 'William Gosset'의 Occupation 추출 (loc 사용)"
   ]
  },
  {
   "cell_type": "code",
   "execution_count": 80,
   "outputs": [
    {
     "name": "stdout",
     "output_type": "stream",
     "text": [
      "Statistician\n"
     ]
    }
   ],
   "source": [
    "print(scientists.loc['William Gosset', 'Occupation'])"
   ],
   "metadata": {
    "collapsed": false,
    "ExecuteTime": {
     "start_time": "2023-06-03T19:01:08.982662Z",
     "end_time": "2023-06-03T19:01:09.044066Z"
    }
   }
  },
  {
   "cell_type": "markdown",
   "metadata": {},
   "source": [
    "### 'Rosaline Franklin'의 Occupation을 Programmer 로 변경(iloc 사용)"
   ]
  },
  {
   "cell_type": "code",
   "execution_count": 94,
   "outputs": [
    {
     "name": "stdout",
     "output_type": "stream",
     "text": [
      "                     Occupation        Born        Died  Age\n",
      "Rosaline Franklin    Programmer  1920-07-25  1958-04-16   37\n",
      "William Gosset     Statistician  1876-06-13  1937-10-16   61\n"
     ]
    }
   ],
   "source": [
    "scientists.iloc[0, 0] = 'Programmer'\n",
    "print(scientists)"
   ],
   "metadata": {
    "collapsed": false,
    "ExecuteTime": {
     "start_time": "2023-06-03T19:08:13.564754Z",
     "end_time": "2023-06-03T19:08:13.597063Z"
    }
   }
  },
  {
   "cell_type": "markdown",
   "metadata": {
    "tags": []
   },
   "source": [
    "## 2.3 index, columns, values 속성 사용하기"
   ]
  },
  {
   "cell_type": "markdown",
   "metadata": {
    "tags": []
   },
   "source": [
    "### scientists의 index 가져오기"
   ]
  },
  {
   "cell_type": "code",
   "execution_count": 96,
   "outputs": [
    {
     "data": {
      "text/plain": "Index(['Rosaline Franklin', 'William Gosset'], dtype='object')"
     },
     "execution_count": 96,
     "metadata": {},
     "output_type": "execute_result"
    }
   ],
   "source": [
    "scientists.index"
   ],
   "metadata": {
    "collapsed": false,
    "ExecuteTime": {
     "start_time": "2023-06-03T19:08:37.901249Z",
     "end_time": "2023-06-03T19:08:38.007961Z"
    }
   }
  },
  {
   "cell_type": "markdown",
   "metadata": {
    "tags": []
   },
   "source": [
    "### scientists의 columns 가져오기"
   ]
  },
  {
   "cell_type": "code",
   "execution_count": 97,
   "outputs": [
    {
     "data": {
      "text/plain": "Index(['Occupation', 'Born', 'Died', 'Age'], dtype='object')"
     },
     "execution_count": 97,
     "metadata": {},
     "output_type": "execute_result"
    }
   ],
   "source": [
    "scientists.columns"
   ],
   "metadata": {
    "collapsed": false,
    "ExecuteTime": {
     "start_time": "2023-06-03T19:08:42.266214Z",
     "end_time": "2023-06-03T19:08:42.316072Z"
    }
   }
  },
  {
   "cell_type": "markdown",
   "metadata": {},
   "source": [
    "### scientists의 모든 values 가져오기"
   ]
  },
  {
   "cell_type": "code",
   "execution_count": 98,
   "outputs": [
    {
     "data": {
      "text/plain": "array([['Programmer', '1920-07-25', '1958-04-16', 37],\n       ['Statistician', '1876-06-13', '1937-10-16', 61]], dtype=object)"
     },
     "execution_count": 98,
     "metadata": {},
     "output_type": "execute_result"
    }
   ],
   "source": [
    "scientists.values"
   ],
   "metadata": {
    "collapsed": false,
    "ExecuteTime": {
     "start_time": "2023-06-03T19:08:45.824855Z",
     "end_time": "2023-06-03T19:08:45.882714Z"
    }
   }
  },
  {
   "cell_type": "markdown",
   "metadata": {
    "tags": []
   },
   "source": [
    "## 2.4 시리즈의 기초 통계 메서드 사용하기"
   ]
  },
  {
   "cell_type": "markdown",
   "metadata": {},
   "source": [
    "### 시리즈 메서드 정리\n",
    "\n",
    "| 시리즈 메서드    | 설명 |\n",
    "| ----------------| --- |\n",
    "| append          | 2개 이상의 시리즈 연결 |\n",
    "| describe        | 요약 통계량 계산 |\n",
    "| drop_duplicates | 중복값이 없는 시리즈 반환 |\n",
    "| equals          | 시리즈에 해당 값을 가진 요소가 있는지 확인 |\n",
    "| get_values      | 시리즈 값 구하기 (values 속성과 동일) |\n",
    "| isin            | 시리즈에 포함된 값이 있는지 확인 |\n",
    "| min             | 최솟값 반환 |\n",
    "| max             | 최댓값 반환 |\n",
    "| mean            | 산술 평균 반환 |\n",
    "| median          | 중간값 반환 |\n",
    "| replace         | 특정 값을 가진 시리즈 값을 교체 |\n",
    "| sample          | 시리즈에서 임의의 값을 반환 |\n",
    "| sort_values     | 값을 정렬 |\n",
    "| to_frame        | 시리즈를 데이터프레임으로 변환 |"
   ]
  },
  {
   "cell_type": "markdown",
   "metadata": {},
   "source": [
    "### scientiest 에서 평균 나이 ('Age'열) 구하기"
   ]
  },
  {
   "cell_type": "code",
   "execution_count": 101,
   "outputs": [
    {
     "name": "stdout",
     "output_type": "stream",
     "text": [
      "                     Occupation        Born        Died  Age\n",
      "Rosaline Franklin    Programmer  1920-07-25  1958-04-16   37\n",
      "William Gosset     Statistician  1876-06-13  1937-10-16   61\n",
      "49.0\n"
     ]
    }
   ],
   "source": [
    "print(scientists)\n",
    "\n",
    "print(scientists['Age'].mean())"
   ],
   "metadata": {
    "collapsed": false,
    "ExecuteTime": {
     "start_time": "2023-06-03T19:10:16.242083Z",
     "end_time": "2023-06-03T19:10:16.353783Z"
    }
   }
  },
  {
   "cell_type": "markdown",
   "metadata": {},
   "source": [
    "### scientiest 에서 최대 나이 ('Age'열) 구하기"
   ]
  },
  {
   "cell_type": "code",
   "execution_count": 102,
   "outputs": [
    {
     "name": "stdout",
     "output_type": "stream",
     "text": [
      "61\n"
     ]
    }
   ],
   "source": [
    "print(scientists['Age'].max())"
   ],
   "metadata": {
    "collapsed": false,
    "ExecuteTime": {
     "start_time": "2023-06-03T19:10:34.979179Z",
     "end_time": "2023-06-03T19:10:35.018075Z"
    }
   }
  },
  {
   "cell_type": "markdown",
   "metadata": {},
   "source": [
    "### scientiest 에서 최소 나이 ('Age'열) 구하기"
   ]
  },
  {
   "cell_type": "code",
   "execution_count": 103,
   "outputs": [
    {
     "name": "stdout",
     "output_type": "stream",
     "text": [
      "49.0\n"
     ]
    }
   ],
   "source": [
    "print(scientists['Age'].mean())"
   ],
   "metadata": {
    "collapsed": false,
    "ExecuteTime": {
     "start_time": "2023-06-03T19:10:46.274520Z",
     "end_time": "2023-06-03T19:10:46.324385Z"
    }
   }
  },
  {
   "cell_type": "markdown",
   "metadata": {},
   "source": [
    "### scientiest 에서 나이('Age'열)에 대한 표준편차 구하기"
   ]
  },
  {
   "cell_type": "code",
   "execution_count": 104,
   "outputs": [
    {
     "name": "stdout",
     "output_type": "stream",
     "text": [
      "16.97056274847714\n"
     ]
    }
   ],
   "source": [
    "print(scientists['Age'].std())"
   ],
   "metadata": {
    "collapsed": false,
    "ExecuteTime": {
     "start_time": "2023-06-03T19:11:06.252056Z",
     "end_time": "2023-06-03T19:11:06.305975Z"
    }
   }
  },
  {
   "cell_type": "markdown",
   "metadata": {
    "tags": []
   },
   "source": [
    "## 2.5 시리즈 다루기 - 응용"
   ]
  },
  {
   "cell_type": "code",
   "execution_count": 105,
   "metadata": {
    "tags": [],
    "ExecuteTime": {
     "start_time": "2023-06-03T19:11:09.183482Z",
     "end_time": "2023-06-03T19:11:09.255291Z"
    }
   },
   "outputs": [
    {
     "name": "stdout",
     "output_type": "stream",
     "text": [
      "                   Name        Born        Died  Age          Occupation\n",
      "0     Rosaline Franklin  1920-07-25  1958-04-16   37             Chemist\n",
      "1        William Gosset  1876-06-13  1937-10-16   61        Statistician\n",
      "2  Florence Nightingale  1820-05-12  1910-08-13   90               Nurse\n",
      "3           Marie Curie  1867-11-07  1934-07-04   66             Chemist\n",
      "4         Rachel Carson  1907-05-27  1964-04-14   56           Biologist\n",
      "5             John Snow  1813-03-15  1858-06-16   45           Physician\n",
      "6           Alan Turing  1912-06-23  1954-06-07   41  Computer Scientist\n",
      "7          Johann Gauss  1777-04-30  1855-02-23   77       Mathematician\n"
     ]
    }
   ],
   "source": [
    "scientists = pd.read_csv('../data/scientists.csv')\n",
    "print(scientists)"
   ]
  },
  {
   "cell_type": "markdown",
   "metadata": {},
   "source": [
    "### 수명(Age)이 평균수명 보다 적은 과학자들의 수명 데이터(시리즈) 추출하기"
   ]
  },
  {
   "cell_type": "code",
   "execution_count": 109,
   "outputs": [
    {
     "name": "stdout",
     "output_type": "stream",
     "text": [
      "0    37\n",
      "4    56\n",
      "5    45\n",
      "6    41\n",
      "Name: Age, dtype: int64\n"
     ]
    }
   ],
   "source": [
    "ages = scientists['Age']\n",
    "\n",
    "print(ages[ages < ages.mean()])"
   ],
   "metadata": {
    "collapsed": false,
    "ExecuteTime": {
     "start_time": "2023-06-03T19:23:18.333498Z",
     "end_time": "2023-06-03T19:23:18.385394Z"
    }
   }
  },
  {
   "cell_type": "markdown",
   "metadata": {},
   "source": [
    "### 수명(Age)이 평균수명 보다 큰 과학자들의 이름(Name) 데이터(시리즈) 추출하기"
   ]
  },
  {
   "cell_type": "code",
   "execution_count": 110,
   "outputs": [
    {
     "name": "stdout",
     "output_type": "stream",
     "text": [
      "1    61\n",
      "2    90\n",
      "3    66\n",
      "7    77\n",
      "Name: Age, dtype: int64\n"
     ]
    }
   ],
   "source": [
    "ages = scientists['Age']\n",
    "\n",
    "print(ages[ages > ages.mean()])"
   ],
   "metadata": {
    "collapsed": false,
    "ExecuteTime": {
     "start_time": "2023-06-03T19:24:16.094864Z",
     "end_time": "2023-06-03T19:24:16.133116Z"
    }
   }
  },
  {
   "cell_type": "markdown",
   "metadata": {},
   "source": [
    "### 1800년대에 태어난 과학자들의 이름(Name) 데이터(시리즈) 추출하기 (& 연산자 사용)"
   ]
  },
  {
   "cell_type": "code",
   "execution_count": 121,
   "outputs": [
    {
     "name": "stdout",
     "output_type": "stream",
     "text": [
      "1          William Gosset\n",
      "2    Florence Nightingale\n",
      "3             Marie Curie\n",
      "5               John Snow\n",
      "Name: Name, dtype: object\n"
     ]
    }
   ],
   "source": [
    "name = scientists['Name']\n",
    "born = scientists['Born']\n",
    "\n",
    "# 1800-01-01 <= x < 1900-01-01\n",
    "print(name[('1800-01-01' <= born) & (born < '1900-01-01')])"
   ],
   "metadata": {
    "collapsed": false,
    "ExecuteTime": {
     "start_time": "2023-06-03T19:31:49.857015Z",
     "end_time": "2023-06-03T19:31:50.015593Z"
    }
   }
  },
  {
   "cell_type": "markdown",
   "metadata": {},
   "source": [
    "### 직업(Occupation)이 Chemist 또는 Physician 인 과학자들의 이름(Name) 데이터(시리즈) 추출하기 (| 연산자 사용)"
   ]
  },
  {
   "cell_type": "code",
   "execution_count": 126,
   "outputs": [
    {
     "name": "stdout",
     "output_type": "stream",
     "text": [
      "0    Rosaline Franklin\n",
      "3          Marie Curie\n",
      "5            John Snow\n",
      "Name: Name, dtype: object\n"
     ]
    }
   ],
   "source": [
    "name = scientists['Name']\n",
    "occu = scientists['Occupation']\n",
    "\n",
    "print(name[(occu == 'Chemist') | (occu == 'Physician')])"
   ],
   "metadata": {
    "collapsed": false,
    "ExecuteTime": {
     "start_time": "2023-06-03T19:34:22.466081Z",
     "end_time": "2023-06-03T19:34:22.512958Z"
    }
   }
  },
  {
   "cell_type": "markdown",
   "metadata": {
    "tags": []
   },
   "source": [
    "### 수명 데이터에 10 더하기"
   ]
  },
  {
   "cell_type": "code",
   "execution_count": 135,
   "outputs": [
    {
     "name": "stdout",
     "output_type": "stream",
     "text": [
      "0     47\n",
      "1     71\n",
      "2    100\n",
      "3     76\n",
      "4     66\n",
      "5     55\n",
      "6     51\n",
      "7     87\n",
      "Name: Age, dtype: int64\n"
     ]
    }
   ],
   "source": [
    "ages = scientists['Age']\n",
    "print(ages + 10)"
   ],
   "metadata": {
    "collapsed": false,
    "ExecuteTime": {
     "start_time": "2023-06-03T19:36:18.547336Z",
     "end_time": "2023-06-03T19:36:18.662024Z"
    }
   }
  },
  {
   "cell_type": "markdown",
   "metadata": {
    "tags": []
   },
   "source": [
    "## 2.6 데이터프레임 다루기"
   ]
  },
  {
   "cell_type": "markdown",
   "metadata": {
    "tags": []
   },
   "source": [
    "### 수명(Age)이 평균수명 보다 적은 과학자들의 전체 데이터(데이터프레임) 추출하기"
   ]
  },
  {
   "cell_type": "code",
   "execution_count": 140,
   "outputs": [
    {
     "name": "stdout",
     "output_type": "stream",
     "text": [
      "                   Name        Born        Died  Age          Occupation\n",
      "0     Rosaline Franklin  1920-07-25  1958-04-16   37             Chemist\n",
      "1        William Gosset  1876-06-13  1937-10-16   61        Statistician\n",
      "2  Florence Nightingale  1820-05-12  1910-08-13   90               Nurse\n",
      "3           Marie Curie  1867-11-07  1934-07-04   66             Chemist\n",
      "4         Rachel Carson  1907-05-27  1964-04-14   56           Biologist\n",
      "5             John Snow  1813-03-15  1858-06-16   45           Physician\n",
      "6           Alan Turing  1912-06-23  1954-06-07   41  Computer Scientist\n",
      "7          Johann Gauss  1777-04-30  1855-02-23   77       Mathematician\n",
      "                Name        Born        Died  Age          Occupation\n",
      "0  Rosaline Franklin  1920-07-25  1958-04-16   37             Chemist\n",
      "4      Rachel Carson  1907-05-27  1964-04-14   56           Biologist\n",
      "5          John Snow  1813-03-15  1858-06-16   45           Physician\n",
      "6        Alan Turing  1912-06-23  1954-06-07   41  Computer Scientist\n"
     ]
    }
   ],
   "source": [
    "print(scientists)\n",
    "\n",
    "ages = scientists['Age']\n",
    "ages_avg = scientists['Age'].mean()\n",
    "\n",
    "print(scientists[ages < ages_avg])"
   ],
   "metadata": {
    "collapsed": false,
    "ExecuteTime": {
     "start_time": "2023-06-03T20:44:48.012231Z",
     "end_time": "2023-06-03T20:44:48.095514Z"
    }
   }
  },
  {
   "cell_type": "markdown",
   "metadata": {},
   "source": [
    "### 출생일(Born) 데이터의 타입을 datetime 으로 변환하여 새로운 열(Born_dt)로 추가하기 (to_datetime 사용)"
   ]
  },
  {
   "cell_type": "code",
   "execution_count": 142,
   "outputs": [
    {
     "name": "stdout",
     "output_type": "stream",
     "text": [
      "                   Name        Born        Died  Age          Occupation   \n",
      "0     Rosaline Franklin  1920-07-25  1958-04-16   37             Chemist  \\\n",
      "1        William Gosset  1876-06-13  1937-10-16   61        Statistician   \n",
      "2  Florence Nightingale  1820-05-12  1910-08-13   90               Nurse   \n",
      "3           Marie Curie  1867-11-07  1934-07-04   66             Chemist   \n",
      "4         Rachel Carson  1907-05-27  1964-04-14   56           Biologist   \n",
      "5             John Snow  1813-03-15  1858-06-16   45           Physician   \n",
      "6           Alan Turing  1912-06-23  1954-06-07   41  Computer Scientist   \n",
      "7          Johann Gauss  1777-04-30  1855-02-23   77       Mathematician   \n",
      "\n",
      "     Born_dt  \n",
      "0 1920-07-25  \n",
      "1 1876-06-13  \n",
      "2 1820-05-12  \n",
      "3 1867-11-07  \n",
      "4 1907-05-27  \n",
      "5 1813-03-15  \n",
      "6 1912-06-23  \n",
      "7 1777-04-30  \n"
     ]
    }
   ],
   "source": [
    "scientists['Born_dt'] = pd.to_datetime(scientists['Born'], format='%Y-%m-%d')\n",
    "print(scientists)"
   ],
   "metadata": {
    "collapsed": false,
    "ExecuteTime": {
     "start_time": "2023-06-03T20:46:39.819302Z",
     "end_time": "2023-06-03T20:46:39.916795Z"
    }
   }
  },
  {
   "cell_type": "markdown",
   "metadata": {},
   "source": [
    "### 출생일(Born_dt) 데이터를 사용하여 1850년 이후에 태어난 과학자의 전체데이터(데이터프레임) 추출하기"
   ]
  },
  {
   "cell_type": "code",
   "execution_count": 146,
   "outputs": [
    {
     "name": "stdout",
     "output_type": "stream",
     "text": [
      "                Name        Born        Died  Age          Occupation   \n",
      "0  Rosaline Franklin  1920-07-25  1958-04-16   37             Chemist  \\\n",
      "1     William Gosset  1876-06-13  1937-10-16   61        Statistician   \n",
      "3        Marie Curie  1867-11-07  1934-07-04   66             Chemist   \n",
      "4      Rachel Carson  1907-05-27  1964-04-14   56           Biologist   \n",
      "6        Alan Turing  1912-06-23  1954-06-07   41  Computer Scientist   \n",
      "\n",
      "     Born_dt  \n",
      "0 1920-07-25  \n",
      "1 1876-06-13  \n",
      "3 1867-11-07  \n",
      "4 1907-05-27  \n",
      "6 1912-06-23  \n",
      "------------------------------------\n",
      "                Name        Born        Died  Age          Occupation   \n",
      "0  Rosaline Franklin  1920-07-25  1958-04-16   37             Chemist  \\\n",
      "1     William Gosset  1876-06-13  1937-10-16   61        Statistician   \n",
      "3        Marie Curie  1867-11-07  1934-07-04   66             Chemist   \n",
      "4      Rachel Carson  1907-05-27  1964-04-14   56           Biologist   \n",
      "6        Alan Turing  1912-06-23  1954-06-07   41  Computer Scientist   \n",
      "\n",
      "     Born_dt  \n",
      "0 1920-07-25  \n",
      "1 1876-06-13  \n",
      "3 1867-11-07  \n",
      "4 1907-05-27  \n",
      "6 1912-06-23  \n"
     ]
    }
   ],
   "source": [
    "born_dt = scientists['Born_dt']\n",
    "\n",
    "print(scientists[born_dt > '1850'])\n",
    "print(\"------------------------------------\")\n",
    "print(scientists[scientists['Born_dt'].dt.year > 1850])"
   ],
   "metadata": {
    "collapsed": false,
    "ExecuteTime": {
     "start_time": "2023-06-03T20:49:33.343610Z",
     "end_time": "2023-06-03T20:49:33.457001Z"
    }
   }
  },
  {
   "cell_type": "markdown",
   "metadata": {
    "tags": []
   },
   "source": [
    "### Born_dt 열 삭제하기 (drop 함수 사용)"
   ]
  },
  {
   "cell_type": "code",
   "execution_count": 147,
   "outputs": [
    {
     "name": "stdout",
     "output_type": "stream",
     "text": [
      "                   Name        Born        Died  Age          Occupation\n",
      "0     Rosaline Franklin  1920-07-25  1958-04-16   37             Chemist\n",
      "1        William Gosset  1876-06-13  1937-10-16   61        Statistician\n",
      "2  Florence Nightingale  1820-05-12  1910-08-13   90               Nurse\n",
      "3           Marie Curie  1867-11-07  1934-07-04   66             Chemist\n",
      "4         Rachel Carson  1907-05-27  1964-04-14   56           Biologist\n",
      "5             John Snow  1813-03-15  1858-06-16   45           Physician\n",
      "6           Alan Turing  1912-06-23  1954-06-07   41  Computer Scientist\n",
      "7          Johann Gauss  1777-04-30  1855-02-23   77       Mathematician\n"
     ]
    }
   ],
   "source": [
    "scientists.drop('Born_dt', axis=1, inplace=True)\n",
    "print(scientists)"
   ],
   "metadata": {
    "collapsed": false,
    "ExecuteTime": {
     "start_time": "2023-06-03T20:50:13.472390Z",
     "end_time": "2023-06-03T20:50:13.520492Z"
    }
   }
  },
  {
   "cell_type": "markdown",
   "metadata": {
    "jp-MarkdownHeadingCollapsed": true,
    "tags": []
   },
   "source": [
    "# 3. Data Assembly, Tidy Data, Data Types and Groupby\n",
    "***"
   ]
  },
  {
   "cell_type": "markdown",
   "metadata": {
    "tags": []
   },
   "source": [
    "## 3.1 데이터 불러오기"
   ]
  },
  {
   "cell_type": "code",
   "execution_count": 148,
   "metadata": {
    "ExecuteTime": {
     "start_time": "2023-06-03T20:50:18.397500Z",
     "end_time": "2023-06-03T20:50:18.438389Z"
    }
   },
   "outputs": [],
   "source": [
    "import pandas as pd"
   ]
  },
  {
   "cell_type": "code",
   "execution_count": 149,
   "metadata": {
    "ExecuteTime": {
     "start_time": "2023-06-03T20:50:19.759193Z",
     "end_time": "2023-06-03T20:50:19.882859Z"
    }
   },
   "outputs": [],
   "source": [
    "scores_1_1 = pd.read_csv('../data/scores_1_1.csv', header=None)\n",
    "scores_1_2 = pd.read_csv('../data/scores_1_2.csv', header=None)\n",
    "scores_2_1 = pd.read_csv('../data/scores_2_1.csv', header=None)\n",
    "scores_2_2 = pd.read_csv('../data/scores_2_2.csv', header=None)"
   ]
  },
  {
   "cell_type": "markdown",
   "metadata": {},
   "source": [
    "## 3.2 데이터 합치기"
   ]
  },
  {
   "cell_type": "markdown",
   "metadata": {
    "tags": []
   },
   "source": [
    "### scores_1_1 와 scores_1_2 를 열기준(axis=1) 으로 합쳐 scores_1 변수에 저장하기 (concat)"
   ]
  },
  {
   "cell_type": "code",
   "execution_count": 151,
   "outputs": [
    {
     "name": "stdout",
     "output_type": "stream",
     "text": [
      "     0   1   2    3    4   5   6   7    8   9   ...  15  16   17  18  19  20   \n",
      "0   NaN   0   0  0.0  1.0   0   0   1  0.0   0  ...   0   0  0.0   1   0   1  \\\n",
      "1   1.0   1   1  0.0  1.0   0   1   1  1.0   0  ...   0   0  0.0   1   1   0   \n",
      "2   0.0   0   1  1.0  1.0   1   0   1  0.0   0  ...   0   0  0.0   0   0   0   \n",
      "3   1.0   1   1  1.0  1.0   1   1   1  1.0   0  ...   1   1  1.0   1   1   0   \n",
      "4   1.0   1   1  0.0  1.0   0   0   1  1.0   0  ...   1   0  0.0   0   1   1   \n",
      "5   1.0   1   0  1.0  1.0   1   0   1  1.0   0  ...   1   0  1.0   1   1   1   \n",
      "6   1.0   1   0  1.0  0.0   1   1   1  1.0   0  ...   0   0  0.0   0   1   0   \n",
      "7   1.0   1   0  0.0  1.0   0   0   1  0.0   0  ...   1   0  0.0   1   1   0   \n",
      "8   1.0   0   1  1.0  1.0   0   0   1  1.0   0  ...   1   0  0.0   1   1   0   \n",
      "9   1.0   0   1  0.0  1.0   0   0   0  0.0   0  ...   0   0  1.0   0   0   1   \n",
      "10  1.0   0   0  0.0  1.0   0   0   1  0.0   0  ...   1   1  1.0   1   0   0   \n",
      "11  1.0   1   0  0.0  1.0   0   0   0  1.0   0  ...   1   0  0.0   0   0   0   \n",
      "12  1.0   1   0  0.0  0.0   0   0   1  0.0   0  ...   0   0  0.0   1   1   0   \n",
      "13  1.0   1   1  0.0  1.0   0   1   1  1.0   1  ...   1   1  0.0   0   1   0   \n",
      "14  1.0   1   0  1.0  1.0   1   0   1  1.0   1  ...   1   0  1.0   1   1   1   \n",
      "15  1.0   1   1  0.0  1.0   0   0   1  1.0   1  ...   1   1  1.0   1   1   0   \n",
      "16  1.0   1   0  0.0  0.0   0   0   0  1.0   0  ...   0   0  0.0   0   0   1   \n",
      "17  1.0   0   0  0.0  1.0   0   0   1  0.0   0  ...   1   1  1.0   1   1   0   \n",
      "18  1.0   1   0  0.0  1.0   0   0   1  0.0   0  ...   1   0  1.0   0   0   0   \n",
      "19  1.0   1   1  0.0  1.0   0   0   1  1.0   1  ...   0   0  0.0   1   0   0   \n",
      "20  1.0   1   1  0.0  0.0   0   0   1  0.0   1  ...   0   0  0.0   1   0   0   \n",
      "21  1.0   0   1  0.0  1.0   0   0   0  1.0   0  ...   1   0  0.0   0   1   0   \n",
      "22  1.0   0   1  0.0  0.0   0   0   0  0.0   0  ...   0   0  0.0   0   0   0   \n",
      "23  1.0   0   1  NaN  1.0   0   0   1  0.0   1  ...   0   1  0.0   1   0   0   \n",
      "24  1.0   0   1  0.0  0.0   0   1   0  1.0   0  ...   0   0  0.0   0   1   0   \n",
      "25  1.0   1   1  0.0  0.0   0   0   1  0.0   0  ...   1   0  0.0   1   0   1   \n",
      "26  1.0   0   0  0.0  NaN   1   0   0  1.0   1  ...   0   0  1.0   0   0   0   \n",
      "27  1.0   1   1  0.0  0.0   1   1   1  0.0   0  ...   0   0  NaN   0   0   1   \n",
      "28  1.0   0   0  0.0  1.0   0   0   0  1.0   1  ...   0   1  0.0   1   0   0   \n",
      "29  1.0   1   0  1.0  1.0   1   1   1  1.0   1  ...   1   1  1.0   1   1   0   \n",
      "30  1.0   0   1  0.0  1.0   0   0   1  1.0   0  ...   1   0  0.0   1   1   0   \n",
      "31  1.0   0   1  0.0  1.0   0   0   0  1.0   0  ...   0   0  0.0   0   0   1   \n",
      "32  1.0   0   1  0.0  1.0   0   0   0  1.0   0  ...   0   0  0.0   1   1   0   \n",
      "33  0.0   0   1  1.0  0.0   0   0   0  0.0   0  ...   0   0  0.0   0   1   1   \n",
      "34  1.0   0   1  1.0  0.0   1   0   1  0.0   0  ...   0   0  1.0   0   0   1   \n",
      "35  1.0   1   1  0.0  1.0   0   1   1  0.0   0  ...   1   1  1.0   1   1   1   \n",
      "36  1.0   1   0  1.0  0.0   1   0   0  NaN   0  ...   0   1  0.0   0   1   0   \n",
      "37  1.0   0   0  0.0  1.0   0   0   0  1.0   0  ...   1   0  0.0   1   1   1   \n",
      "\n",
      "     21   22   23  24  \n",
      "0   1.0  1.0  0.0   1  \n",
      "1   1.0  1.0  0.0   1  \n",
      "2   0.0  0.0  0.0   1  \n",
      "3   1.0  1.0  1.0   1  \n",
      "4   1.0  1.0  1.0   1  \n",
      "5   1.0  1.0  1.0   1  \n",
      "6   0.0  1.0  1.0   0  \n",
      "7   1.0  1.0  1.0   1  \n",
      "8   1.0  1.0  1.0   1  \n",
      "9   1.0  1.0  0.0   1  \n",
      "10  1.0  1.0  0.0   1  \n",
      "11  1.0  1.0  0.0   1  \n",
      "12  1.0  1.0  0.0   0  \n",
      "13  1.0  1.0  1.0   1  \n",
      "14  1.0  1.0  0.0   0  \n",
      "15  1.0  1.0  1.0   1  \n",
      "16  1.0  NaN  1.0   0  \n",
      "17  0.0  0.0  0.0   1  \n",
      "18  1.0  1.0  0.0   1  \n",
      "19  1.0  1.0  1.0   0  \n",
      "20  0.0  0.0  0.0   0  \n",
      "21  1.0  0.0  0.0   1  \n",
      "22  0.0  0.0  0.0   1  \n",
      "23  0.0  1.0  0.0   0  \n",
      "24  NaN  0.0  1.0   1  \n",
      "25  1.0  1.0  0.0   0  \n",
      "26  0.0  0.0  0.0   0  \n",
      "27  0.0  1.0  1.0   0  \n",
      "28  0.0  0.0  0.0   1  \n",
      "29  1.0  1.0  1.0   1  \n",
      "30  1.0  1.0  1.0   1  \n",
      "31  0.0  1.0  0.0   0  \n",
      "32  0.0  0.0  1.0   1  \n",
      "33  0.0  1.0  0.0   1  \n",
      "34  0.0  0.0  NaN   1  \n",
      "35  1.0  1.0  1.0   1  \n",
      "36  1.0  0.0  1.0   0  \n",
      "37  0.0  0.0  1.0   1  \n",
      "\n",
      "[38 rows x 25 columns]\n"
     ]
    }
   ],
   "source": [
    "scores_1 = pd.concat([scores_1_1, scores_1_2], axis=1, ignore_index=True)\n",
    "\n",
    "print(scores_1)"
   ],
   "metadata": {
    "collapsed": false,
    "ExecuteTime": {
     "start_time": "2023-06-03T20:54:16.002348Z",
     "end_time": "2023-06-03T20:54:16.105977Z"
    }
   }
  },
  {
   "cell_type": "markdown",
   "metadata": {},
   "source": [
    "### scores_1 의 열이름을 1, 2, 3, ... 로 변경하기"
   ]
  },
  {
   "cell_type": "code",
   "execution_count": 155,
   "outputs": [
    {
     "name": "stdout",
     "output_type": "stream",
     "text": [
      "     1   2   3    4    5   6   7   8    9   10  ...  16  17   18  19  20  21   \n",
      "0   NaN   0   0  0.0  1.0   0   0   1  0.0   0  ...   0   0  0.0   1   0   1  \\\n",
      "1   1.0   1   1  0.0  1.0   0   1   1  1.0   0  ...   0   0  0.0   1   1   0   \n",
      "2   0.0   0   1  1.0  1.0   1   0   1  0.0   0  ...   0   0  0.0   0   0   0   \n",
      "3   1.0   1   1  1.0  1.0   1   1   1  1.0   0  ...   1   1  1.0   1   1   0   \n",
      "4   1.0   1   1  0.0  1.0   0   0   1  1.0   0  ...   1   0  0.0   0   1   1   \n",
      "5   1.0   1   0  1.0  1.0   1   0   1  1.0   0  ...   1   0  1.0   1   1   1   \n",
      "6   1.0   1   0  1.0  0.0   1   1   1  1.0   0  ...   0   0  0.0   0   1   0   \n",
      "7   1.0   1   0  0.0  1.0   0   0   1  0.0   0  ...   1   0  0.0   1   1   0   \n",
      "8   1.0   0   1  1.0  1.0   0   0   1  1.0   0  ...   1   0  0.0   1   1   0   \n",
      "9   1.0   0   1  0.0  1.0   0   0   0  0.0   0  ...   0   0  1.0   0   0   1   \n",
      "10  1.0   0   0  0.0  1.0   0   0   1  0.0   0  ...   1   1  1.0   1   0   0   \n",
      "11  1.0   1   0  0.0  1.0   0   0   0  1.0   0  ...   1   0  0.0   0   0   0   \n",
      "12  1.0   1   0  0.0  0.0   0   0   1  0.0   0  ...   0   0  0.0   1   1   0   \n",
      "13  1.0   1   1  0.0  1.0   0   1   1  1.0   1  ...   1   1  0.0   0   1   0   \n",
      "14  1.0   1   0  1.0  1.0   1   0   1  1.0   1  ...   1   0  1.0   1   1   1   \n",
      "15  1.0   1   1  0.0  1.0   0   0   1  1.0   1  ...   1   1  1.0   1   1   0   \n",
      "16  1.0   1   0  0.0  0.0   0   0   0  1.0   0  ...   0   0  0.0   0   0   1   \n",
      "17  1.0   0   0  0.0  1.0   0   0   1  0.0   0  ...   1   1  1.0   1   1   0   \n",
      "18  1.0   1   0  0.0  1.0   0   0   1  0.0   0  ...   1   0  1.0   0   0   0   \n",
      "19  1.0   1   1  0.0  1.0   0   0   1  1.0   1  ...   0   0  0.0   1   0   0   \n",
      "20  1.0   1   1  0.0  0.0   0   0   1  0.0   1  ...   0   0  0.0   1   0   0   \n",
      "21  1.0   0   1  0.0  1.0   0   0   0  1.0   0  ...   1   0  0.0   0   1   0   \n",
      "22  1.0   0   1  0.0  0.0   0   0   0  0.0   0  ...   0   0  0.0   0   0   0   \n",
      "23  1.0   0   1  NaN  1.0   0   0   1  0.0   1  ...   0   1  0.0   1   0   0   \n",
      "24  1.0   0   1  0.0  0.0   0   1   0  1.0   0  ...   0   0  0.0   0   1   0   \n",
      "25  1.0   1   1  0.0  0.0   0   0   1  0.0   0  ...   1   0  0.0   1   0   1   \n",
      "26  1.0   0   0  0.0  NaN   1   0   0  1.0   1  ...   0   0  1.0   0   0   0   \n",
      "27  1.0   1   1  0.0  0.0   1   1   1  0.0   0  ...   0   0  NaN   0   0   1   \n",
      "28  1.0   0   0  0.0  1.0   0   0   0  1.0   1  ...   0   1  0.0   1   0   0   \n",
      "29  1.0   1   0  1.0  1.0   1   1   1  1.0   1  ...   1   1  1.0   1   1   0   \n",
      "30  1.0   0   1  0.0  1.0   0   0   1  1.0   0  ...   1   0  0.0   1   1   0   \n",
      "31  1.0   0   1  0.0  1.0   0   0   0  1.0   0  ...   0   0  0.0   0   0   1   \n",
      "32  1.0   0   1  0.0  1.0   0   0   0  1.0   0  ...   0   0  0.0   1   1   0   \n",
      "33  0.0   0   1  1.0  0.0   0   0   0  0.0   0  ...   0   0  0.0   0   1   1   \n",
      "34  1.0   0   1  1.0  0.0   1   0   1  0.0   0  ...   0   0  1.0   0   0   1   \n",
      "35  1.0   1   1  0.0  1.0   0   1   1  0.0   0  ...   1   1  1.0   1   1   1   \n",
      "36  1.0   1   0  1.0  0.0   1   0   0  NaN   0  ...   0   1  0.0   0   1   0   \n",
      "37  1.0   0   0  0.0  1.0   0   0   0  1.0   0  ...   1   0  0.0   1   1   1   \n",
      "\n",
      "     22   23   24  25  \n",
      "0   1.0  1.0  0.0   1  \n",
      "1   1.0  1.0  0.0   1  \n",
      "2   0.0  0.0  0.0   1  \n",
      "3   1.0  1.0  1.0   1  \n",
      "4   1.0  1.0  1.0   1  \n",
      "5   1.0  1.0  1.0   1  \n",
      "6   0.0  1.0  1.0   0  \n",
      "7   1.0  1.0  1.0   1  \n",
      "8   1.0  1.0  1.0   1  \n",
      "9   1.0  1.0  0.0   1  \n",
      "10  1.0  1.0  0.0   1  \n",
      "11  1.0  1.0  0.0   1  \n",
      "12  1.0  1.0  0.0   0  \n",
      "13  1.0  1.0  1.0   1  \n",
      "14  1.0  1.0  0.0   0  \n",
      "15  1.0  1.0  1.0   1  \n",
      "16  1.0  NaN  1.0   0  \n",
      "17  0.0  0.0  0.0   1  \n",
      "18  1.0  1.0  0.0   1  \n",
      "19  1.0  1.0  1.0   0  \n",
      "20  0.0  0.0  0.0   0  \n",
      "21  1.0  0.0  0.0   1  \n",
      "22  0.0  0.0  0.0   1  \n",
      "23  0.0  1.0  0.0   0  \n",
      "24  NaN  0.0  1.0   1  \n",
      "25  1.0  1.0  0.0   0  \n",
      "26  0.0  0.0  0.0   0  \n",
      "27  0.0  1.0  1.0   0  \n",
      "28  0.0  0.0  0.0   1  \n",
      "29  1.0  1.0  1.0   1  \n",
      "30  1.0  1.0  1.0   1  \n",
      "31  0.0  1.0  0.0   0  \n",
      "32  0.0  0.0  1.0   1  \n",
      "33  0.0  1.0  0.0   1  \n",
      "34  0.0  0.0  NaN   1  \n",
      "35  1.0  1.0  1.0   1  \n",
      "36  1.0  0.0  1.0   0  \n",
      "37  0.0  0.0  1.0   1  \n",
      "\n",
      "[38 rows x 25 columns]\n"
     ]
    }
   ],
   "source": [
    "scores_1.columns = range(1, len(scores_1.columns) + 1)\n",
    "print(scores_1)"
   ],
   "metadata": {
    "collapsed": false,
    "ExecuteTime": {
     "start_time": "2023-06-03T20:56:16.820297Z",
     "end_time": "2023-06-03T20:56:16.909056Z"
    }
   }
  },
  {
   "cell_type": "markdown",
   "metadata": {
    "tags": []
   },
   "source": [
    "### scores_1 에서 누락 데이터를 0 으로 채우기 (fillna)"
   ]
  },
  {
   "cell_type": "code",
   "execution_count": 158,
   "outputs": [
    {
     "name": "stdout",
     "output_type": "stream",
     "text": [
      "     1   2   3    4    5   6   7   8    9   10  ...  16  17   18  19  20  21   \n",
      "0   0.0   0   0  0.0  1.0   0   0   1  0.0   0  ...   0   0  0.0   1   0   1  \\\n",
      "1   1.0   1   1  0.0  1.0   0   1   1  1.0   0  ...   0   0  0.0   1   1   0   \n",
      "2   0.0   0   1  1.0  1.0   1   0   1  0.0   0  ...   0   0  0.0   0   0   0   \n",
      "3   1.0   1   1  1.0  1.0   1   1   1  1.0   0  ...   1   1  1.0   1   1   0   \n",
      "4   1.0   1   1  0.0  1.0   0   0   1  1.0   0  ...   1   0  0.0   0   1   1   \n",
      "5   1.0   1   0  1.0  1.0   1   0   1  1.0   0  ...   1   0  1.0   1   1   1   \n",
      "6   1.0   1   0  1.0  0.0   1   1   1  1.0   0  ...   0   0  0.0   0   1   0   \n",
      "7   1.0   1   0  0.0  1.0   0   0   1  0.0   0  ...   1   0  0.0   1   1   0   \n",
      "8   1.0   0   1  1.0  1.0   0   0   1  1.0   0  ...   1   0  0.0   1   1   0   \n",
      "9   1.0   0   1  0.0  1.0   0   0   0  0.0   0  ...   0   0  1.0   0   0   1   \n",
      "10  1.0   0   0  0.0  1.0   0   0   1  0.0   0  ...   1   1  1.0   1   0   0   \n",
      "11  1.0   1   0  0.0  1.0   0   0   0  1.0   0  ...   1   0  0.0   0   0   0   \n",
      "12  1.0   1   0  0.0  0.0   0   0   1  0.0   0  ...   0   0  0.0   1   1   0   \n",
      "13  1.0   1   1  0.0  1.0   0   1   1  1.0   1  ...   1   1  0.0   0   1   0   \n",
      "14  1.0   1   0  1.0  1.0   1   0   1  1.0   1  ...   1   0  1.0   1   1   1   \n",
      "15  1.0   1   1  0.0  1.0   0   0   1  1.0   1  ...   1   1  1.0   1   1   0   \n",
      "16  1.0   1   0  0.0  0.0   0   0   0  1.0   0  ...   0   0  0.0   0   0   1   \n",
      "17  1.0   0   0  0.0  1.0   0   0   1  0.0   0  ...   1   1  1.0   1   1   0   \n",
      "18  1.0   1   0  0.0  1.0   0   0   1  0.0   0  ...   1   0  1.0   0   0   0   \n",
      "19  1.0   1   1  0.0  1.0   0   0   1  1.0   1  ...   0   0  0.0   1   0   0   \n",
      "20  1.0   1   1  0.0  0.0   0   0   1  0.0   1  ...   0   0  0.0   1   0   0   \n",
      "21  1.0   0   1  0.0  1.0   0   0   0  1.0   0  ...   1   0  0.0   0   1   0   \n",
      "22  1.0   0   1  0.0  0.0   0   0   0  0.0   0  ...   0   0  0.0   0   0   0   \n",
      "23  1.0   0   1  0.0  1.0   0   0   1  0.0   1  ...   0   1  0.0   1   0   0   \n",
      "24  1.0   0   1  0.0  0.0   0   1   0  1.0   0  ...   0   0  0.0   0   1   0   \n",
      "25  1.0   1   1  0.0  0.0   0   0   1  0.0   0  ...   1   0  0.0   1   0   1   \n",
      "26  1.0   0   0  0.0  0.0   1   0   0  1.0   1  ...   0   0  1.0   0   0   0   \n",
      "27  1.0   1   1  0.0  0.0   1   1   1  0.0   0  ...   0   0  0.0   0   0   1   \n",
      "28  1.0   0   0  0.0  1.0   0   0   0  1.0   1  ...   0   1  0.0   1   0   0   \n",
      "29  1.0   1   0  1.0  1.0   1   1   1  1.0   1  ...   1   1  1.0   1   1   0   \n",
      "30  1.0   0   1  0.0  1.0   0   0   1  1.0   0  ...   1   0  0.0   1   1   0   \n",
      "31  1.0   0   1  0.0  1.0   0   0   0  1.0   0  ...   0   0  0.0   0   0   1   \n",
      "32  1.0   0   1  0.0  1.0   0   0   0  1.0   0  ...   0   0  0.0   1   1   0   \n",
      "33  0.0   0   1  1.0  0.0   0   0   0  0.0   0  ...   0   0  0.0   0   1   1   \n",
      "34  1.0   0   1  1.0  0.0   1   0   1  0.0   0  ...   0   0  1.0   0   0   1   \n",
      "35  1.0   1   1  0.0  1.0   0   1   1  0.0   0  ...   1   1  1.0   1   1   1   \n",
      "36  1.0   1   0  1.0  0.0   1   0   0  0.0   0  ...   0   1  0.0   0   1   0   \n",
      "37  1.0   0   0  0.0  1.0   0   0   0  1.0   0  ...   1   0  0.0   1   1   1   \n",
      "\n",
      "     22   23   24  25  \n",
      "0   1.0  1.0  0.0   1  \n",
      "1   1.0  1.0  0.0   1  \n",
      "2   0.0  0.0  0.0   1  \n",
      "3   1.0  1.0  1.0   1  \n",
      "4   1.0  1.0  1.0   1  \n",
      "5   1.0  1.0  1.0   1  \n",
      "6   0.0  1.0  1.0   0  \n",
      "7   1.0  1.0  1.0   1  \n",
      "8   1.0  1.0  1.0   1  \n",
      "9   1.0  1.0  0.0   1  \n",
      "10  1.0  1.0  0.0   1  \n",
      "11  1.0  1.0  0.0   1  \n",
      "12  1.0  1.0  0.0   0  \n",
      "13  1.0  1.0  1.0   1  \n",
      "14  1.0  1.0  0.0   0  \n",
      "15  1.0  1.0  1.0   1  \n",
      "16  1.0  0.0  1.0   0  \n",
      "17  0.0  0.0  0.0   1  \n",
      "18  1.0  1.0  0.0   1  \n",
      "19  1.0  1.0  1.0   0  \n",
      "20  0.0  0.0  0.0   0  \n",
      "21  1.0  0.0  0.0   1  \n",
      "22  0.0  0.0  0.0   1  \n",
      "23  0.0  1.0  0.0   0  \n",
      "24  0.0  0.0  1.0   1  \n",
      "25  1.0  1.0  0.0   0  \n",
      "26  0.0  0.0  0.0   0  \n",
      "27  0.0  1.0  1.0   0  \n",
      "28  0.0  0.0  0.0   1  \n",
      "29  1.0  1.0  1.0   1  \n",
      "30  1.0  1.0  1.0   1  \n",
      "31  0.0  1.0  0.0   0  \n",
      "32  0.0  0.0  1.0   1  \n",
      "33  0.0  1.0  0.0   1  \n",
      "34  0.0  0.0  0.0   1  \n",
      "35  1.0  1.0  1.0   1  \n",
      "36  1.0  0.0  1.0   0  \n",
      "37  0.0  0.0  1.0   1  \n",
      "\n",
      "[38 rows x 25 columns]\n"
     ]
    }
   ],
   "source": [
    "scores_1.fillna(0, inplace=True)\n",
    "\n",
    "print(scores_1)"
   ],
   "metadata": {
    "collapsed": false,
    "ExecuteTime": {
     "start_time": "2023-06-03T20:57:09.943293Z",
     "end_time": "2023-06-03T20:57:10.070951Z"
    }
   }
  },
  {
   "cell_type": "markdown",
   "metadata": {},
   "source": [
    "### scores_1 모든 데이터타입을 int32 으로 변경하기 (astype)"
   ]
  },
  {
   "cell_type": "code",
   "execution_count": 159,
   "outputs": [
    {
     "data": {
      "text/plain": "    1   2   3   4   5   6   7   8   9   10  ...  16  17  18  19  20  21  22   \n0    0   0   0   0   1   0   0   1   0   0  ...   0   0   0   1   0   1   1  \\\n1    1   1   1   0   1   0   1   1   1   0  ...   0   0   0   1   1   0   1   \n2    0   0   1   1   1   1   0   1   0   0  ...   0   0   0   0   0   0   0   \n3    1   1   1   1   1   1   1   1   1   0  ...   1   1   1   1   1   0   1   \n4    1   1   1   0   1   0   0   1   1   0  ...   1   0   0   0   1   1   1   \n5    1   1   0   1   1   1   0   1   1   0  ...   1   0   1   1   1   1   1   \n6    1   1   0   1   0   1   1   1   1   0  ...   0   0   0   0   1   0   0   \n7    1   1   0   0   1   0   0   1   0   0  ...   1   0   0   1   1   0   1   \n8    1   0   1   1   1   0   0   1   1   0  ...   1   0   0   1   1   0   1   \n9    1   0   1   0   1   0   0   0   0   0  ...   0   0   1   0   0   1   1   \n10   1   0   0   0   1   0   0   1   0   0  ...   1   1   1   1   0   0   1   \n11   1   1   0   0   1   0   0   0   1   0  ...   1   0   0   0   0   0   1   \n12   1   1   0   0   0   0   0   1   0   0  ...   0   0   0   1   1   0   1   \n13   1   1   1   0   1   0   1   1   1   1  ...   1   1   0   0   1   0   1   \n14   1   1   0   1   1   1   0   1   1   1  ...   1   0   1   1   1   1   1   \n15   1   1   1   0   1   0   0   1   1   1  ...   1   1   1   1   1   0   1   \n16   1   1   0   0   0   0   0   0   1   0  ...   0   0   0   0   0   1   1   \n17   1   0   0   0   1   0   0   1   0   0  ...   1   1   1   1   1   0   0   \n18   1   1   0   0   1   0   0   1   0   0  ...   1   0   1   0   0   0   1   \n19   1   1   1   0   1   0   0   1   1   1  ...   0   0   0   1   0   0   1   \n20   1   1   1   0   0   0   0   1   0   1  ...   0   0   0   1   0   0   0   \n21   1   0   1   0   1   0   0   0   1   0  ...   1   0   0   0   1   0   1   \n22   1   0   1   0   0   0   0   0   0   0  ...   0   0   0   0   0   0   0   \n23   1   0   1   0   1   0   0   1   0   1  ...   0   1   0   1   0   0   0   \n24   1   0   1   0   0   0   1   0   1   0  ...   0   0   0   0   1   0   0   \n25   1   1   1   0   0   0   0   1   0   0  ...   1   0   0   1   0   1   1   \n26   1   0   0   0   0   1   0   0   1   1  ...   0   0   1   0   0   0   0   \n27   1   1   1   0   0   1   1   1   0   0  ...   0   0   0   0   0   1   0   \n28   1   0   0   0   1   0   0   0   1   1  ...   0   1   0   1   0   0   0   \n29   1   1   0   1   1   1   1   1   1   1  ...   1   1   1   1   1   0   1   \n30   1   0   1   0   1   0   0   1   1   0  ...   1   0   0   1   1   0   1   \n31   1   0   1   0   1   0   0   0   1   0  ...   0   0   0   0   0   1   0   \n32   1   0   1   0   1   0   0   0   1   0  ...   0   0   0   1   1   0   0   \n33   0   0   1   1   0   0   0   0   0   0  ...   0   0   0   0   1   1   0   \n34   1   0   1   1   0   1   0   1   0   0  ...   0   0   1   0   0   1   0   \n35   1   1   1   0   1   0   1   1   0   0  ...   1   1   1   1   1   1   1   \n36   1   1   0   1   0   1   0   0   0   0  ...   0   1   0   0   1   0   1   \n37   1   0   0   0   1   0   0   0   1   0  ...   1   0   0   1   1   1   0   \n\n    23  24  25  \n0    1   0   1  \n1    1   0   1  \n2    0   0   1  \n3    1   1   1  \n4    1   1   1  \n5    1   1   1  \n6    1   1   0  \n7    1   1   1  \n8    1   1   1  \n9    1   0   1  \n10   1   0   1  \n11   1   0   1  \n12   1   0   0  \n13   1   1   1  \n14   1   0   0  \n15   1   1   1  \n16   0   1   0  \n17   0   0   1  \n18   1   0   1  \n19   1   1   0  \n20   0   0   0  \n21   0   0   1  \n22   0   0   1  \n23   1   0   0  \n24   0   1   1  \n25   1   0   0  \n26   0   0   0  \n27   1   1   0  \n28   0   0   1  \n29   1   1   1  \n30   1   1   1  \n31   1   0   0  \n32   0   1   1  \n33   1   0   1  \n34   0   0   1  \n35   1   1   1  \n36   0   1   0  \n37   0   1   1  \n\n[38 rows x 25 columns]",
      "text/html": "<div>\n<style scoped>\n    .dataframe tbody tr th:only-of-type {\n        vertical-align: middle;\n    }\n\n    .dataframe tbody tr th {\n        vertical-align: top;\n    }\n\n    .dataframe thead th {\n        text-align: right;\n    }\n</style>\n<table border=\"1\" class=\"dataframe\">\n  <thead>\n    <tr style=\"text-align: right;\">\n      <th></th>\n      <th>1</th>\n      <th>2</th>\n      <th>3</th>\n      <th>4</th>\n      <th>5</th>\n      <th>6</th>\n      <th>7</th>\n      <th>8</th>\n      <th>9</th>\n      <th>10</th>\n      <th>...</th>\n      <th>16</th>\n      <th>17</th>\n      <th>18</th>\n      <th>19</th>\n      <th>20</th>\n      <th>21</th>\n      <th>22</th>\n      <th>23</th>\n      <th>24</th>\n      <th>25</th>\n    </tr>\n  </thead>\n  <tbody>\n    <tr>\n      <th>0</th>\n      <td>0</td>\n      <td>0</td>\n      <td>0</td>\n      <td>0</td>\n      <td>1</td>\n      <td>0</td>\n      <td>0</td>\n      <td>1</td>\n      <td>0</td>\n      <td>0</td>\n      <td>...</td>\n      <td>0</td>\n      <td>0</td>\n      <td>0</td>\n      <td>1</td>\n      <td>0</td>\n      <td>1</td>\n      <td>1</td>\n      <td>1</td>\n      <td>0</td>\n      <td>1</td>\n    </tr>\n    <tr>\n      <th>1</th>\n      <td>1</td>\n      <td>1</td>\n      <td>1</td>\n      <td>0</td>\n      <td>1</td>\n      <td>0</td>\n      <td>1</td>\n      <td>1</td>\n      <td>1</td>\n      <td>0</td>\n      <td>...</td>\n      <td>0</td>\n      <td>0</td>\n      <td>0</td>\n      <td>1</td>\n      <td>1</td>\n      <td>0</td>\n      <td>1</td>\n      <td>1</td>\n      <td>0</td>\n      <td>1</td>\n    </tr>\n    <tr>\n      <th>2</th>\n      <td>0</td>\n      <td>0</td>\n      <td>1</td>\n      <td>1</td>\n      <td>1</td>\n      <td>1</td>\n      <td>0</td>\n      <td>1</td>\n      <td>0</td>\n      <td>0</td>\n      <td>...</td>\n      <td>0</td>\n      <td>0</td>\n      <td>0</td>\n      <td>0</td>\n      <td>0</td>\n      <td>0</td>\n      <td>0</td>\n      <td>0</td>\n      <td>0</td>\n      <td>1</td>\n    </tr>\n    <tr>\n      <th>3</th>\n      <td>1</td>\n      <td>1</td>\n      <td>1</td>\n      <td>1</td>\n      <td>1</td>\n      <td>1</td>\n      <td>1</td>\n      <td>1</td>\n      <td>1</td>\n      <td>0</td>\n      <td>...</td>\n      <td>1</td>\n      <td>1</td>\n      <td>1</td>\n      <td>1</td>\n      <td>1</td>\n      <td>0</td>\n      <td>1</td>\n      <td>1</td>\n      <td>1</td>\n      <td>1</td>\n    </tr>\n    <tr>\n      <th>4</th>\n      <td>1</td>\n      <td>1</td>\n      <td>1</td>\n      <td>0</td>\n      <td>1</td>\n      <td>0</td>\n      <td>0</td>\n      <td>1</td>\n      <td>1</td>\n      <td>0</td>\n      <td>...</td>\n      <td>1</td>\n      <td>0</td>\n      <td>0</td>\n      <td>0</td>\n      <td>1</td>\n      <td>1</td>\n      <td>1</td>\n      <td>1</td>\n      <td>1</td>\n      <td>1</td>\n    </tr>\n    <tr>\n      <th>5</th>\n      <td>1</td>\n      <td>1</td>\n      <td>0</td>\n      <td>1</td>\n      <td>1</td>\n      <td>1</td>\n      <td>0</td>\n      <td>1</td>\n      <td>1</td>\n      <td>0</td>\n      <td>...</td>\n      <td>1</td>\n      <td>0</td>\n      <td>1</td>\n      <td>1</td>\n      <td>1</td>\n      <td>1</td>\n      <td>1</td>\n      <td>1</td>\n      <td>1</td>\n      <td>1</td>\n    </tr>\n    <tr>\n      <th>6</th>\n      <td>1</td>\n      <td>1</td>\n      <td>0</td>\n      <td>1</td>\n      <td>0</td>\n      <td>1</td>\n      <td>1</td>\n      <td>1</td>\n      <td>1</td>\n      <td>0</td>\n      <td>...</td>\n      <td>0</td>\n      <td>0</td>\n      <td>0</td>\n      <td>0</td>\n      <td>1</td>\n      <td>0</td>\n      <td>0</td>\n      <td>1</td>\n      <td>1</td>\n      <td>0</td>\n    </tr>\n    <tr>\n      <th>7</th>\n      <td>1</td>\n      <td>1</td>\n      <td>0</td>\n      <td>0</td>\n      <td>1</td>\n      <td>0</td>\n      <td>0</td>\n      <td>1</td>\n      <td>0</td>\n      <td>0</td>\n      <td>...</td>\n      <td>1</td>\n      <td>0</td>\n      <td>0</td>\n      <td>1</td>\n      <td>1</td>\n      <td>0</td>\n      <td>1</td>\n      <td>1</td>\n      <td>1</td>\n      <td>1</td>\n    </tr>\n    <tr>\n      <th>8</th>\n      <td>1</td>\n      <td>0</td>\n      <td>1</td>\n      <td>1</td>\n      <td>1</td>\n      <td>0</td>\n      <td>0</td>\n      <td>1</td>\n      <td>1</td>\n      <td>0</td>\n      <td>...</td>\n      <td>1</td>\n      <td>0</td>\n      <td>0</td>\n      <td>1</td>\n      <td>1</td>\n      <td>0</td>\n      <td>1</td>\n      <td>1</td>\n      <td>1</td>\n      <td>1</td>\n    </tr>\n    <tr>\n      <th>9</th>\n      <td>1</td>\n      <td>0</td>\n      <td>1</td>\n      <td>0</td>\n      <td>1</td>\n      <td>0</td>\n      <td>0</td>\n      <td>0</td>\n      <td>0</td>\n      <td>0</td>\n      <td>...</td>\n      <td>0</td>\n      <td>0</td>\n      <td>1</td>\n      <td>0</td>\n      <td>0</td>\n      <td>1</td>\n      <td>1</td>\n      <td>1</td>\n      <td>0</td>\n      <td>1</td>\n    </tr>\n    <tr>\n      <th>10</th>\n      <td>1</td>\n      <td>0</td>\n      <td>0</td>\n      <td>0</td>\n      <td>1</td>\n      <td>0</td>\n      <td>0</td>\n      <td>1</td>\n      <td>0</td>\n      <td>0</td>\n      <td>...</td>\n      <td>1</td>\n      <td>1</td>\n      <td>1</td>\n      <td>1</td>\n      <td>0</td>\n      <td>0</td>\n      <td>1</td>\n      <td>1</td>\n      <td>0</td>\n      <td>1</td>\n    </tr>\n    <tr>\n      <th>11</th>\n      <td>1</td>\n      <td>1</td>\n      <td>0</td>\n      <td>0</td>\n      <td>1</td>\n      <td>0</td>\n      <td>0</td>\n      <td>0</td>\n      <td>1</td>\n      <td>0</td>\n      <td>...</td>\n      <td>1</td>\n      <td>0</td>\n      <td>0</td>\n      <td>0</td>\n      <td>0</td>\n      <td>0</td>\n      <td>1</td>\n      <td>1</td>\n      <td>0</td>\n      <td>1</td>\n    </tr>\n    <tr>\n      <th>12</th>\n      <td>1</td>\n      <td>1</td>\n      <td>0</td>\n      <td>0</td>\n      <td>0</td>\n      <td>0</td>\n      <td>0</td>\n      <td>1</td>\n      <td>0</td>\n      <td>0</td>\n      <td>...</td>\n      <td>0</td>\n      <td>0</td>\n      <td>0</td>\n      <td>1</td>\n      <td>1</td>\n      <td>0</td>\n      <td>1</td>\n      <td>1</td>\n      <td>0</td>\n      <td>0</td>\n    </tr>\n    <tr>\n      <th>13</th>\n      <td>1</td>\n      <td>1</td>\n      <td>1</td>\n      <td>0</td>\n      <td>1</td>\n      <td>0</td>\n      <td>1</td>\n      <td>1</td>\n      <td>1</td>\n      <td>1</td>\n      <td>...</td>\n      <td>1</td>\n      <td>1</td>\n      <td>0</td>\n      <td>0</td>\n      <td>1</td>\n      <td>0</td>\n      <td>1</td>\n      <td>1</td>\n      <td>1</td>\n      <td>1</td>\n    </tr>\n    <tr>\n      <th>14</th>\n      <td>1</td>\n      <td>1</td>\n      <td>0</td>\n      <td>1</td>\n      <td>1</td>\n      <td>1</td>\n      <td>0</td>\n      <td>1</td>\n      <td>1</td>\n      <td>1</td>\n      <td>...</td>\n      <td>1</td>\n      <td>0</td>\n      <td>1</td>\n      <td>1</td>\n      <td>1</td>\n      <td>1</td>\n      <td>1</td>\n      <td>1</td>\n      <td>0</td>\n      <td>0</td>\n    </tr>\n    <tr>\n      <th>15</th>\n      <td>1</td>\n      <td>1</td>\n      <td>1</td>\n      <td>0</td>\n      <td>1</td>\n      <td>0</td>\n      <td>0</td>\n      <td>1</td>\n      <td>1</td>\n      <td>1</td>\n      <td>...</td>\n      <td>1</td>\n      <td>1</td>\n      <td>1</td>\n      <td>1</td>\n      <td>1</td>\n      <td>0</td>\n      <td>1</td>\n      <td>1</td>\n      <td>1</td>\n      <td>1</td>\n    </tr>\n    <tr>\n      <th>16</th>\n      <td>1</td>\n      <td>1</td>\n      <td>0</td>\n      <td>0</td>\n      <td>0</td>\n      <td>0</td>\n      <td>0</td>\n      <td>0</td>\n      <td>1</td>\n      <td>0</td>\n      <td>...</td>\n      <td>0</td>\n      <td>0</td>\n      <td>0</td>\n      <td>0</td>\n      <td>0</td>\n      <td>1</td>\n      <td>1</td>\n      <td>0</td>\n      <td>1</td>\n      <td>0</td>\n    </tr>\n    <tr>\n      <th>17</th>\n      <td>1</td>\n      <td>0</td>\n      <td>0</td>\n      <td>0</td>\n      <td>1</td>\n      <td>0</td>\n      <td>0</td>\n      <td>1</td>\n      <td>0</td>\n      <td>0</td>\n      <td>...</td>\n      <td>1</td>\n      <td>1</td>\n      <td>1</td>\n      <td>1</td>\n      <td>1</td>\n      <td>0</td>\n      <td>0</td>\n      <td>0</td>\n      <td>0</td>\n      <td>1</td>\n    </tr>\n    <tr>\n      <th>18</th>\n      <td>1</td>\n      <td>1</td>\n      <td>0</td>\n      <td>0</td>\n      <td>1</td>\n      <td>0</td>\n      <td>0</td>\n      <td>1</td>\n      <td>0</td>\n      <td>0</td>\n      <td>...</td>\n      <td>1</td>\n      <td>0</td>\n      <td>1</td>\n      <td>0</td>\n      <td>0</td>\n      <td>0</td>\n      <td>1</td>\n      <td>1</td>\n      <td>0</td>\n      <td>1</td>\n    </tr>\n    <tr>\n      <th>19</th>\n      <td>1</td>\n      <td>1</td>\n      <td>1</td>\n      <td>0</td>\n      <td>1</td>\n      <td>0</td>\n      <td>0</td>\n      <td>1</td>\n      <td>1</td>\n      <td>1</td>\n      <td>...</td>\n      <td>0</td>\n      <td>0</td>\n      <td>0</td>\n      <td>1</td>\n      <td>0</td>\n      <td>0</td>\n      <td>1</td>\n      <td>1</td>\n      <td>1</td>\n      <td>0</td>\n    </tr>\n    <tr>\n      <th>20</th>\n      <td>1</td>\n      <td>1</td>\n      <td>1</td>\n      <td>0</td>\n      <td>0</td>\n      <td>0</td>\n      <td>0</td>\n      <td>1</td>\n      <td>0</td>\n      <td>1</td>\n      <td>...</td>\n      <td>0</td>\n      <td>0</td>\n      <td>0</td>\n      <td>1</td>\n      <td>0</td>\n      <td>0</td>\n      <td>0</td>\n      <td>0</td>\n      <td>0</td>\n      <td>0</td>\n    </tr>\n    <tr>\n      <th>21</th>\n      <td>1</td>\n      <td>0</td>\n      <td>1</td>\n      <td>0</td>\n      <td>1</td>\n      <td>0</td>\n      <td>0</td>\n      <td>0</td>\n      <td>1</td>\n      <td>0</td>\n      <td>...</td>\n      <td>1</td>\n      <td>0</td>\n      <td>0</td>\n      <td>0</td>\n      <td>1</td>\n      <td>0</td>\n      <td>1</td>\n      <td>0</td>\n      <td>0</td>\n      <td>1</td>\n    </tr>\n    <tr>\n      <th>22</th>\n      <td>1</td>\n      <td>0</td>\n      <td>1</td>\n      <td>0</td>\n      <td>0</td>\n      <td>0</td>\n      <td>0</td>\n      <td>0</td>\n      <td>0</td>\n      <td>0</td>\n      <td>...</td>\n      <td>0</td>\n      <td>0</td>\n      <td>0</td>\n      <td>0</td>\n      <td>0</td>\n      <td>0</td>\n      <td>0</td>\n      <td>0</td>\n      <td>0</td>\n      <td>1</td>\n    </tr>\n    <tr>\n      <th>23</th>\n      <td>1</td>\n      <td>0</td>\n      <td>1</td>\n      <td>0</td>\n      <td>1</td>\n      <td>0</td>\n      <td>0</td>\n      <td>1</td>\n      <td>0</td>\n      <td>1</td>\n      <td>...</td>\n      <td>0</td>\n      <td>1</td>\n      <td>0</td>\n      <td>1</td>\n      <td>0</td>\n      <td>0</td>\n      <td>0</td>\n      <td>1</td>\n      <td>0</td>\n      <td>0</td>\n    </tr>\n    <tr>\n      <th>24</th>\n      <td>1</td>\n      <td>0</td>\n      <td>1</td>\n      <td>0</td>\n      <td>0</td>\n      <td>0</td>\n      <td>1</td>\n      <td>0</td>\n      <td>1</td>\n      <td>0</td>\n      <td>...</td>\n      <td>0</td>\n      <td>0</td>\n      <td>0</td>\n      <td>0</td>\n      <td>1</td>\n      <td>0</td>\n      <td>0</td>\n      <td>0</td>\n      <td>1</td>\n      <td>1</td>\n    </tr>\n    <tr>\n      <th>25</th>\n      <td>1</td>\n      <td>1</td>\n      <td>1</td>\n      <td>0</td>\n      <td>0</td>\n      <td>0</td>\n      <td>0</td>\n      <td>1</td>\n      <td>0</td>\n      <td>0</td>\n      <td>...</td>\n      <td>1</td>\n      <td>0</td>\n      <td>0</td>\n      <td>1</td>\n      <td>0</td>\n      <td>1</td>\n      <td>1</td>\n      <td>1</td>\n      <td>0</td>\n      <td>0</td>\n    </tr>\n    <tr>\n      <th>26</th>\n      <td>1</td>\n      <td>0</td>\n      <td>0</td>\n      <td>0</td>\n      <td>0</td>\n      <td>1</td>\n      <td>0</td>\n      <td>0</td>\n      <td>1</td>\n      <td>1</td>\n      <td>...</td>\n      <td>0</td>\n      <td>0</td>\n      <td>1</td>\n      <td>0</td>\n      <td>0</td>\n      <td>0</td>\n      <td>0</td>\n      <td>0</td>\n      <td>0</td>\n      <td>0</td>\n    </tr>\n    <tr>\n      <th>27</th>\n      <td>1</td>\n      <td>1</td>\n      <td>1</td>\n      <td>0</td>\n      <td>0</td>\n      <td>1</td>\n      <td>1</td>\n      <td>1</td>\n      <td>0</td>\n      <td>0</td>\n      <td>...</td>\n      <td>0</td>\n      <td>0</td>\n      <td>0</td>\n      <td>0</td>\n      <td>0</td>\n      <td>1</td>\n      <td>0</td>\n      <td>1</td>\n      <td>1</td>\n      <td>0</td>\n    </tr>\n    <tr>\n      <th>28</th>\n      <td>1</td>\n      <td>0</td>\n      <td>0</td>\n      <td>0</td>\n      <td>1</td>\n      <td>0</td>\n      <td>0</td>\n      <td>0</td>\n      <td>1</td>\n      <td>1</td>\n      <td>...</td>\n      <td>0</td>\n      <td>1</td>\n      <td>0</td>\n      <td>1</td>\n      <td>0</td>\n      <td>0</td>\n      <td>0</td>\n      <td>0</td>\n      <td>0</td>\n      <td>1</td>\n    </tr>\n    <tr>\n      <th>29</th>\n      <td>1</td>\n      <td>1</td>\n      <td>0</td>\n      <td>1</td>\n      <td>1</td>\n      <td>1</td>\n      <td>1</td>\n      <td>1</td>\n      <td>1</td>\n      <td>1</td>\n      <td>...</td>\n      <td>1</td>\n      <td>1</td>\n      <td>1</td>\n      <td>1</td>\n      <td>1</td>\n      <td>0</td>\n      <td>1</td>\n      <td>1</td>\n      <td>1</td>\n      <td>1</td>\n    </tr>\n    <tr>\n      <th>30</th>\n      <td>1</td>\n      <td>0</td>\n      <td>1</td>\n      <td>0</td>\n      <td>1</td>\n      <td>0</td>\n      <td>0</td>\n      <td>1</td>\n      <td>1</td>\n      <td>0</td>\n      <td>...</td>\n      <td>1</td>\n      <td>0</td>\n      <td>0</td>\n      <td>1</td>\n      <td>1</td>\n      <td>0</td>\n      <td>1</td>\n      <td>1</td>\n      <td>1</td>\n      <td>1</td>\n    </tr>\n    <tr>\n      <th>31</th>\n      <td>1</td>\n      <td>0</td>\n      <td>1</td>\n      <td>0</td>\n      <td>1</td>\n      <td>0</td>\n      <td>0</td>\n      <td>0</td>\n      <td>1</td>\n      <td>0</td>\n      <td>...</td>\n      <td>0</td>\n      <td>0</td>\n      <td>0</td>\n      <td>0</td>\n      <td>0</td>\n      <td>1</td>\n      <td>0</td>\n      <td>1</td>\n      <td>0</td>\n      <td>0</td>\n    </tr>\n    <tr>\n      <th>32</th>\n      <td>1</td>\n      <td>0</td>\n      <td>1</td>\n      <td>0</td>\n      <td>1</td>\n      <td>0</td>\n      <td>0</td>\n      <td>0</td>\n      <td>1</td>\n      <td>0</td>\n      <td>...</td>\n      <td>0</td>\n      <td>0</td>\n      <td>0</td>\n      <td>1</td>\n      <td>1</td>\n      <td>0</td>\n      <td>0</td>\n      <td>0</td>\n      <td>1</td>\n      <td>1</td>\n    </tr>\n    <tr>\n      <th>33</th>\n      <td>0</td>\n      <td>0</td>\n      <td>1</td>\n      <td>1</td>\n      <td>0</td>\n      <td>0</td>\n      <td>0</td>\n      <td>0</td>\n      <td>0</td>\n      <td>0</td>\n      <td>...</td>\n      <td>0</td>\n      <td>0</td>\n      <td>0</td>\n      <td>0</td>\n      <td>1</td>\n      <td>1</td>\n      <td>0</td>\n      <td>1</td>\n      <td>0</td>\n      <td>1</td>\n    </tr>\n    <tr>\n      <th>34</th>\n      <td>1</td>\n      <td>0</td>\n      <td>1</td>\n      <td>1</td>\n      <td>0</td>\n      <td>1</td>\n      <td>0</td>\n      <td>1</td>\n      <td>0</td>\n      <td>0</td>\n      <td>...</td>\n      <td>0</td>\n      <td>0</td>\n      <td>1</td>\n      <td>0</td>\n      <td>0</td>\n      <td>1</td>\n      <td>0</td>\n      <td>0</td>\n      <td>0</td>\n      <td>1</td>\n    </tr>\n    <tr>\n      <th>35</th>\n      <td>1</td>\n      <td>1</td>\n      <td>1</td>\n      <td>0</td>\n      <td>1</td>\n      <td>0</td>\n      <td>1</td>\n      <td>1</td>\n      <td>0</td>\n      <td>0</td>\n      <td>...</td>\n      <td>1</td>\n      <td>1</td>\n      <td>1</td>\n      <td>1</td>\n      <td>1</td>\n      <td>1</td>\n      <td>1</td>\n      <td>1</td>\n      <td>1</td>\n      <td>1</td>\n    </tr>\n    <tr>\n      <th>36</th>\n      <td>1</td>\n      <td>1</td>\n      <td>0</td>\n      <td>1</td>\n      <td>0</td>\n      <td>1</td>\n      <td>0</td>\n      <td>0</td>\n      <td>0</td>\n      <td>0</td>\n      <td>...</td>\n      <td>0</td>\n      <td>1</td>\n      <td>0</td>\n      <td>0</td>\n      <td>1</td>\n      <td>0</td>\n      <td>1</td>\n      <td>0</td>\n      <td>1</td>\n      <td>0</td>\n    </tr>\n    <tr>\n      <th>37</th>\n      <td>1</td>\n      <td>0</td>\n      <td>0</td>\n      <td>0</td>\n      <td>1</td>\n      <td>0</td>\n      <td>0</td>\n      <td>0</td>\n      <td>1</td>\n      <td>0</td>\n      <td>...</td>\n      <td>1</td>\n      <td>0</td>\n      <td>0</td>\n      <td>1</td>\n      <td>1</td>\n      <td>1</td>\n      <td>0</td>\n      <td>0</td>\n      <td>1</td>\n      <td>1</td>\n    </tr>\n  </tbody>\n</table>\n<p>38 rows × 25 columns</p>\n</div>"
     },
     "execution_count": 159,
     "metadata": {},
     "output_type": "execute_result"
    }
   ],
   "source": [
    "scores_1.astype('int32')"
   ],
   "metadata": {
    "collapsed": false,
    "ExecuteTime": {
     "start_time": "2023-06-03T20:57:28.184936Z",
     "end_time": "2023-06-03T20:57:28.304624Z"
    }
   }
  },
  {
   "cell_type": "markdown",
   "metadata": {},
   "source": [
    "### scores_1 의 모든 데이터에 4를 곱한 값으로 재지정 하기 (브로드캐스팅)"
   ]
  },
  {
   "cell_type": "code",
   "execution_count": 160,
   "outputs": [
    {
     "name": "stdout",
     "output_type": "stream",
     "text": [
      "     1   2   3    4    5   6   7   8    9   10  ...  16  17   18  19  20  21   \n",
      "0   0.0   0   0  0.0  4.0   0   0   4  0.0   0  ...   0   0  0.0   4   0   4  \\\n",
      "1   4.0   4   4  0.0  4.0   0   4   4  4.0   0  ...   0   0  0.0   4   4   0   \n",
      "2   0.0   0   4  4.0  4.0   4   0   4  0.0   0  ...   0   0  0.0   0   0   0   \n",
      "3   4.0   4   4  4.0  4.0   4   4   4  4.0   0  ...   4   4  4.0   4   4   0   \n",
      "4   4.0   4   4  0.0  4.0   0   0   4  4.0   0  ...   4   0  0.0   0   4   4   \n",
      "5   4.0   4   0  4.0  4.0   4   0   4  4.0   0  ...   4   0  4.0   4   4   4   \n",
      "6   4.0   4   0  4.0  0.0   4   4   4  4.0   0  ...   0   0  0.0   0   4   0   \n",
      "7   4.0   4   0  0.0  4.0   0   0   4  0.0   0  ...   4   0  0.0   4   4   0   \n",
      "8   4.0   0   4  4.0  4.0   0   0   4  4.0   0  ...   4   0  0.0   4   4   0   \n",
      "9   4.0   0   4  0.0  4.0   0   0   0  0.0   0  ...   0   0  4.0   0   0   4   \n",
      "10  4.0   0   0  0.0  4.0   0   0   4  0.0   0  ...   4   4  4.0   4   0   0   \n",
      "11  4.0   4   0  0.0  4.0   0   0   0  4.0   0  ...   4   0  0.0   0   0   0   \n",
      "12  4.0   4   0  0.0  0.0   0   0   4  0.0   0  ...   0   0  0.0   4   4   0   \n",
      "13  4.0   4   4  0.0  4.0   0   4   4  4.0   4  ...   4   4  0.0   0   4   0   \n",
      "14  4.0   4   0  4.0  4.0   4   0   4  4.0   4  ...   4   0  4.0   4   4   4   \n",
      "15  4.0   4   4  0.0  4.0   0   0   4  4.0   4  ...   4   4  4.0   4   4   0   \n",
      "16  4.0   4   0  0.0  0.0   0   0   0  4.0   0  ...   0   0  0.0   0   0   4   \n",
      "17  4.0   0   0  0.0  4.0   0   0   4  0.0   0  ...   4   4  4.0   4   4   0   \n",
      "18  4.0   4   0  0.0  4.0   0   0   4  0.0   0  ...   4   0  4.0   0   0   0   \n",
      "19  4.0   4   4  0.0  4.0   0   0   4  4.0   4  ...   0   0  0.0   4   0   0   \n",
      "20  4.0   4   4  0.0  0.0   0   0   4  0.0   4  ...   0   0  0.0   4   0   0   \n",
      "21  4.0   0   4  0.0  4.0   0   0   0  4.0   0  ...   4   0  0.0   0   4   0   \n",
      "22  4.0   0   4  0.0  0.0   0   0   0  0.0   0  ...   0   0  0.0   0   0   0   \n",
      "23  4.0   0   4  0.0  4.0   0   0   4  0.0   4  ...   0   4  0.0   4   0   0   \n",
      "24  4.0   0   4  0.0  0.0   0   4   0  4.0   0  ...   0   0  0.0   0   4   0   \n",
      "25  4.0   4   4  0.0  0.0   0   0   4  0.0   0  ...   4   0  0.0   4   0   4   \n",
      "26  4.0   0   0  0.0  0.0   4   0   0  4.0   4  ...   0   0  4.0   0   0   0   \n",
      "27  4.0   4   4  0.0  0.0   4   4   4  0.0   0  ...   0   0  0.0   0   0   4   \n",
      "28  4.0   0   0  0.0  4.0   0   0   0  4.0   4  ...   0   4  0.0   4   0   0   \n",
      "29  4.0   4   0  4.0  4.0   4   4   4  4.0   4  ...   4   4  4.0   4   4   0   \n",
      "30  4.0   0   4  0.0  4.0   0   0   4  4.0   0  ...   4   0  0.0   4   4   0   \n",
      "31  4.0   0   4  0.0  4.0   0   0   0  4.0   0  ...   0   0  0.0   0   0   4   \n",
      "32  4.0   0   4  0.0  4.0   0   0   0  4.0   0  ...   0   0  0.0   4   4   0   \n",
      "33  0.0   0   4  4.0  0.0   0   0   0  0.0   0  ...   0   0  0.0   0   4   4   \n",
      "34  4.0   0   4  4.0  0.0   4   0   4  0.0   0  ...   0   0  4.0   0   0   4   \n",
      "35  4.0   4   4  0.0  4.0   0   4   4  0.0   0  ...   4   4  4.0   4   4   4   \n",
      "36  4.0   4   0  4.0  0.0   4   0   0  0.0   0  ...   0   4  0.0   0   4   0   \n",
      "37  4.0   0   0  0.0  4.0   0   0   0  4.0   0  ...   4   0  0.0   4   4   4   \n",
      "\n",
      "     22   23   24  25  \n",
      "0   4.0  4.0  0.0   4  \n",
      "1   4.0  4.0  0.0   4  \n",
      "2   0.0  0.0  0.0   4  \n",
      "3   4.0  4.0  4.0   4  \n",
      "4   4.0  4.0  4.0   4  \n",
      "5   4.0  4.0  4.0   4  \n",
      "6   0.0  4.0  4.0   0  \n",
      "7   4.0  4.0  4.0   4  \n",
      "8   4.0  4.0  4.0   4  \n",
      "9   4.0  4.0  0.0   4  \n",
      "10  4.0  4.0  0.0   4  \n",
      "11  4.0  4.0  0.0   4  \n",
      "12  4.0  4.0  0.0   0  \n",
      "13  4.0  4.0  4.0   4  \n",
      "14  4.0  4.0  0.0   0  \n",
      "15  4.0  4.0  4.0   4  \n",
      "16  4.0  0.0  4.0   0  \n",
      "17  0.0  0.0  0.0   4  \n",
      "18  4.0  4.0  0.0   4  \n",
      "19  4.0  4.0  4.0   0  \n",
      "20  0.0  0.0  0.0   0  \n",
      "21  4.0  0.0  0.0   4  \n",
      "22  0.0  0.0  0.0   4  \n",
      "23  0.0  4.0  0.0   0  \n",
      "24  0.0  0.0  4.0   4  \n",
      "25  4.0  4.0  0.0   0  \n",
      "26  0.0  0.0  0.0   0  \n",
      "27  0.0  4.0  4.0   0  \n",
      "28  0.0  0.0  0.0   4  \n",
      "29  4.0  4.0  4.0   4  \n",
      "30  4.0  4.0  4.0   4  \n",
      "31  0.0  4.0  0.0   0  \n",
      "32  0.0  0.0  4.0   4  \n",
      "33  0.0  4.0  0.0   4  \n",
      "34  0.0  0.0  0.0   4  \n",
      "35  4.0  4.0  4.0   4  \n",
      "36  4.0  0.0  4.0   0  \n",
      "37  0.0  0.0  4.0   4  \n",
      "\n",
      "[38 rows x 25 columns]\n"
     ]
    }
   ],
   "source": [
    "scores_1 = scores_1 * 4\n",
    "print(scores_1)"
   ],
   "metadata": {
    "collapsed": false,
    "ExecuteTime": {
     "start_time": "2023-06-03T20:58:28.185065Z",
     "end_time": "2023-06-03T20:58:28.328101Z"
    }
   }
  },
  {
   "cell_type": "markdown",
   "metadata": {
    "tags": []
   },
   "source": [
    "### scores_1 에 새로운 class 열 추가하기(class 데이터 값은 모두 '1반')"
   ]
  },
  {
   "cell_type": "code",
   "execution_count": 162,
   "outputs": [
    {
     "name": "stdout",
     "output_type": "stream",
     "text": [
      "      1  2  3    4    5  6  7  8    9  10  ...  17   18  19  20  21   22   23   \n",
      "0   0.0  0  0  0.0  4.0  0  0  4  0.0   0  ...   0  0.0   4   0   4  4.0  4.0  \\\n",
      "1   4.0  4  4  0.0  4.0  0  4  4  4.0   0  ...   0  0.0   4   4   0  4.0  4.0   \n",
      "2   0.0  0  4  4.0  4.0  4  0  4  0.0   0  ...   0  0.0   0   0   0  0.0  0.0   \n",
      "3   4.0  4  4  4.0  4.0  4  4  4  4.0   0  ...   4  4.0   4   4   0  4.0  4.0   \n",
      "4   4.0  4  4  0.0  4.0  0  0  4  4.0   0  ...   0  0.0   0   4   4  4.0  4.0   \n",
      "5   4.0  4  0  4.0  4.0  4  0  4  4.0   0  ...   0  4.0   4   4   4  4.0  4.0   \n",
      "6   4.0  4  0  4.0  0.0  4  4  4  4.0   0  ...   0  0.0   0   4   0  0.0  4.0   \n",
      "7   4.0  4  0  0.0  4.0  0  0  4  0.0   0  ...   0  0.0   4   4   0  4.0  4.0   \n",
      "8   4.0  0  4  4.0  4.0  0  0  4  4.0   0  ...   0  0.0   4   4   0  4.0  4.0   \n",
      "9   4.0  0  4  0.0  4.0  0  0  0  0.0   0  ...   0  4.0   0   0   4  4.0  4.0   \n",
      "10  4.0  0  0  0.0  4.0  0  0  4  0.0   0  ...   4  4.0   4   0   0  4.0  4.0   \n",
      "11  4.0  4  0  0.0  4.0  0  0  0  4.0   0  ...   0  0.0   0   0   0  4.0  4.0   \n",
      "12  4.0  4  0  0.0  0.0  0  0  4  0.0   0  ...   0  0.0   4   4   0  4.0  4.0   \n",
      "13  4.0  4  4  0.0  4.0  0  4  4  4.0   4  ...   4  0.0   0   4   0  4.0  4.0   \n",
      "14  4.0  4  0  4.0  4.0  4  0  4  4.0   4  ...   0  4.0   4   4   4  4.0  4.0   \n",
      "15  4.0  4  4  0.0  4.0  0  0  4  4.0   4  ...   4  4.0   4   4   0  4.0  4.0   \n",
      "16  4.0  4  0  0.0  0.0  0  0  0  4.0   0  ...   0  0.0   0   0   4  4.0  0.0   \n",
      "17  4.0  0  0  0.0  4.0  0  0  4  0.0   0  ...   4  4.0   4   4   0  0.0  0.0   \n",
      "18  4.0  4  0  0.0  4.0  0  0  4  0.0   0  ...   0  4.0   0   0   0  4.0  4.0   \n",
      "19  4.0  4  4  0.0  4.0  0  0  4  4.0   4  ...   0  0.0   4   0   0  4.0  4.0   \n",
      "20  4.0  4  4  0.0  0.0  0  0  4  0.0   4  ...   0  0.0   4   0   0  0.0  0.0   \n",
      "21  4.0  0  4  0.0  4.0  0  0  0  4.0   0  ...   0  0.0   0   4   0  4.0  0.0   \n",
      "22  4.0  0  4  0.0  0.0  0  0  0  0.0   0  ...   0  0.0   0   0   0  0.0  0.0   \n",
      "23  4.0  0  4  0.0  4.0  0  0  4  0.0   4  ...   4  0.0   4   0   0  0.0  4.0   \n",
      "24  4.0  0  4  0.0  0.0  0  4  0  4.0   0  ...   0  0.0   0   4   0  0.0  0.0   \n",
      "25  4.0  4  4  0.0  0.0  0  0  4  0.0   0  ...   0  0.0   4   0   4  4.0  4.0   \n",
      "26  4.0  0  0  0.0  0.0  4  0  0  4.0   4  ...   0  4.0   0   0   0  0.0  0.0   \n",
      "27  4.0  4  4  0.0  0.0  4  4  4  0.0   0  ...   0  0.0   0   0   4  0.0  4.0   \n",
      "28  4.0  0  0  0.0  4.0  0  0  0  4.0   4  ...   4  0.0   4   0   0  0.0  0.0   \n",
      "29  4.0  4  0  4.0  4.0  4  4  4  4.0   4  ...   4  4.0   4   4   0  4.0  4.0   \n",
      "30  4.0  0  4  0.0  4.0  0  0  4  4.0   0  ...   0  0.0   4   4   0  4.0  4.0   \n",
      "31  4.0  0  4  0.0  4.0  0  0  0  4.0   0  ...   0  0.0   0   0   4  0.0  4.0   \n",
      "32  4.0  0  4  0.0  4.0  0  0  0  4.0   0  ...   0  0.0   4   4   0  0.0  0.0   \n",
      "33  0.0  0  4  4.0  0.0  0  0  0  0.0   0  ...   0  0.0   0   4   4  0.0  4.0   \n",
      "34  4.0  0  4  4.0  0.0  4  0  4  0.0   0  ...   0  4.0   0   0   4  0.0  0.0   \n",
      "35  4.0  4  4  0.0  4.0  0  4  4  0.0   0  ...   4  4.0   4   4   4  4.0  4.0   \n",
      "36  4.0  4  0  4.0  0.0  4  0  0  0.0   0  ...   4  0.0   0   4   0  4.0  0.0   \n",
      "37  4.0  0  0  0.0  4.0  0  0  0  4.0   0  ...   0  0.0   4   4   4  0.0  0.0   \n",
      "\n",
      "     24  25  class  \n",
      "0   0.0   4     1반  \n",
      "1   0.0   4     1반  \n",
      "2   0.0   4     1반  \n",
      "3   4.0   4     1반  \n",
      "4   4.0   4     1반  \n",
      "5   4.0   4     1반  \n",
      "6   4.0   0     1반  \n",
      "7   4.0   4     1반  \n",
      "8   4.0   4     1반  \n",
      "9   0.0   4     1반  \n",
      "10  0.0   4     1반  \n",
      "11  0.0   4     1반  \n",
      "12  0.0   0     1반  \n",
      "13  4.0   4     1반  \n",
      "14  0.0   0     1반  \n",
      "15  4.0   4     1반  \n",
      "16  4.0   0     1반  \n",
      "17  0.0   4     1반  \n",
      "18  0.0   4     1반  \n",
      "19  4.0   0     1반  \n",
      "20  0.0   0     1반  \n",
      "21  0.0   4     1반  \n",
      "22  0.0   4     1반  \n",
      "23  0.0   0     1반  \n",
      "24  4.0   4     1반  \n",
      "25  0.0   0     1반  \n",
      "26  0.0   0     1반  \n",
      "27  4.0   0     1반  \n",
      "28  0.0   4     1반  \n",
      "29  4.0   4     1반  \n",
      "30  4.0   4     1반  \n",
      "31  0.0   0     1반  \n",
      "32  4.0   4     1반  \n",
      "33  0.0   4     1반  \n",
      "34  0.0   4     1반  \n",
      "35  4.0   4     1반  \n",
      "36  4.0   0     1반  \n",
      "37  4.0   4     1반  \n",
      "\n",
      "[38 rows x 26 columns]\n"
     ]
    }
   ],
   "source": [
    "scores_1['class'] = '1반'\n",
    "print(scores_1)"
   ],
   "metadata": {
    "collapsed": false,
    "ExecuteTime": {
     "start_time": "2023-06-03T20:59:10.789849Z",
     "end_time": "2023-06-03T20:59:10.896418Z"
    }
   }
  },
  {
   "cell_type": "markdown",
   "metadata": {
    "tags": []
   },
   "source": [
    "### scores_2_1 와 scores_2_2 를 열기준(axis=1) 으로 합쳐 scores_2 변수에 저장하기 (concat)"
   ]
  },
  {
   "cell_type": "code",
   "execution_count": 164,
   "outputs": [
    {
     "name": "stdout",
     "output_type": "stream",
     "text": [
      "    0    1   2   3   4   5    6   7   8   9   ...  15  16  17  18  19  20  21   \n",
      "0    1  0.0   1   0   1   0  1.0   1   1   0  ...   0   1   0   1   1   1   0  \\\n",
      "1    1  1.0   1   0   1   0  1.0   1   1   1  ...   1   1   1   1   1   0   1   \n",
      "2    0  1.0   1   0   1   0  1.0   1   1   0  ...   1   0   1   0   0   1   0   \n",
      "3    1  0.0   0   1   1   1  1.0   0   0   0  ...   1   0   0   1   0   0   0   \n",
      "4    1  1.0   0   1   1   1  0.0   1   1   0  ...   0   0   0   0   0   1   0   \n",
      "5    0  0.0   0   1   1   1  NaN   0   1   0  ...   0   0   0   0   0   1   0   \n",
      "6    1  1.0   0   0   1   0  1.0   0   1   0  ...   1   0   0   0   0   1   1   \n",
      "7    1  1.0   1   1   1   1  0.0   0   1   0  ...   1   0   0   0   1   1   0   \n",
      "8    1  1.0   0   1   1   0  0.0   1   1   0  ...   1   0   0   1   0   1   1   \n",
      "9    1  1.0   0   1   1   1  1.0   1   1   0  ...   1   0   0   1   1   0   1   \n",
      "10   1  1.0   1   0   1   0  1.0   1   1   0  ...   1   0   0   1   1   1   1   \n",
      "11   1  0.0   0   1   1   1  0.0   1   0   1  ...   1   0   0   0   0   0   1   \n",
      "12   0  0.0   0   0   0   0  0.0   0   0   0  ...   0   0   0   0   0   0   0   \n",
      "13   1  1.0   1   1   1   0  0.0   1   1   0  ...   1   1   1   1   1   1   1   \n",
      "14   1  1.0   1   0   1   0  0.0   0   1   0  ...   0   0   0   0   0   1   0   \n",
      "15   1  0.0   0   0   0   0  0.0   0   1   0  ...   0   0   0   1   1   0   0   \n",
      "16   0  0.0   0   0   0   0  1.0   0   0   1  ...   0   1   0   1   0   0   0   \n",
      "17   1  0.0   1   0   1   0  0.0   1   1   0  ...   1   1   1   1   0   1   1   \n",
      "18   1  0.0   1   0   1   0  0.0   0   1   0  ...   0   1   0   1   0   1   0   \n",
      "19   1  1.0   0   0   0   0  0.0   0   1   0  ...   0   0   0   0   1   1   0   \n",
      "20   1  0.0   0   0   0   0  0.0   0   1   1  ...   1   0   0   0   1   1   0   \n",
      "21   1  1.0   1   0   0   0  0.0   1   1   0  ...   1   0   1   1   0   1   1   \n",
      "22   1  1.0   0   1   1   1  0.0   1   0   1  ...   1   0   0   1   1   1   1   \n",
      "23   1  0.0   1   0   0   0  0.0   0   1   0  ...   0   0   0   0   1   1   0   \n",
      "24   1  1.0   0   0   0   0  0.0   0   0   1  ...   0   0   0   0   0   0   1   \n",
      "25   1  1.0   0   0   1   0  0.0   0   0   1  ...   0   0   0   0   0   0   0   \n",
      "26   1  0.0   0   0   0   1  0.0   0   0   1  ...   0   0   0   0   0   1   0   \n",
      "27   1  0.0   0   0   0   0  0.0   1   0   0  ...   0   0   0   1   0   0   0   \n",
      "28   0  0.0   1   0   0   0  0.0   0   0   0  ...   0   0   0   1   1   1   0   \n",
      "29   1  1.0   0   1   1   1  0.0   0   0   0  ...   1   0   0   1   0   0   0   \n",
      "30   0  1.0   0   0   1   0  0.0   0   1   0  ...   1   0   0   0   0   0   0   \n",
      "31   1  1.0   1   0   1   0  0.0   1   1   0  ...   1   0   1   0   1   1   1   \n",
      "32   1  0.0   1   0   0   0  0.0   1   0   0  ...   1   0   0   1   1   1   0   \n",
      "33   1  1.0   1   1   1   1  1.0   0   1   0  ...   1   0   0   1   0   1   0   \n",
      "34   1  1.0   0   0   1   0  1.0   1   1   0  ...   0   0   0   1   0   0   1   \n",
      "35   1  0.0   1   0   1   0  1.0   0   1   1  ...   1   0   0   0   1   0   0   \n",
      "36   0  0.0   0   0   0   0  0.0   0   0   0  ...   0   0   0   0   0   0   0   \n",
      "37   1  NaN   1   0   1   0  0.0   1   1   0  ...   0   1   0   1   0   0   1   \n",
      "\n",
      "    22  23  24  \n",
      "0    1   1   1  \n",
      "1    1   1   1  \n",
      "2    0   1   1  \n",
      "3    0   0   1  \n",
      "4    1   1   1  \n",
      "5    0   0   1  \n",
      "6    1   0   0  \n",
      "7    1   1   1  \n",
      "8    0   1   1  \n",
      "9    1   1   1  \n",
      "10   1   1   1  \n",
      "11   1   1   1  \n",
      "12   0   0   0  \n",
      "13   1   1   1  \n",
      "14   0   0   1  \n",
      "15   0   1   1  \n",
      "16   0   1   0  \n",
      "17   1   1   1  \n",
      "18   1   1   1  \n",
      "19   0   0   0  \n",
      "20   0   0   1  \n",
      "21   1   0   0  \n",
      "22   1   1   1  \n",
      "23   0   0   1  \n",
      "24   1   1   1  \n",
      "25   0   0   1  \n",
      "26   0   1   1  \n",
      "27   1   0   1  \n",
      "28   0   0   1  \n",
      "29   0   1   0  \n",
      "30   1   1   1  \n",
      "31   1   0   1  \n",
      "32   0   0   1  \n",
      "33   1   0   1  \n",
      "34   1   1   0  \n",
      "35   0   0   1  \n",
      "36   0   0   0  \n",
      "37   1   0   1  \n",
      "\n",
      "[38 rows x 25 columns]\n"
     ]
    }
   ],
   "source": [
    "scores_2 = pd.concat([scores_2_1, scores_2_2], axis=1, ignore_index=True)\n",
    "print(scores_2)"
   ],
   "metadata": {
    "collapsed": false,
    "ExecuteTime": {
     "start_time": "2023-06-03T21:00:28.748206Z",
     "end_time": "2023-06-03T21:00:28.846883Z"
    }
   }
  },
  {
   "cell_type": "markdown",
   "metadata": {},
   "source": [
    "### scores_2 의 열이름을 1, 2, 3, ... 로 변경하기 (range)"
   ]
  },
  {
   "cell_type": "code",
   "execution_count": 165,
   "outputs": [
    {
     "name": "stdout",
     "output_type": "stream",
     "text": [
      "    1    2   3   4   5   6    7   8   9   10  ...  16  17  18  19  20  21  22   \n",
      "0    1  0.0   1   0   1   0  1.0   1   1   0  ...   0   1   0   1   1   1   0  \\\n",
      "1    1  1.0   1   0   1   0  1.0   1   1   1  ...   1   1   1   1   1   0   1   \n",
      "2    0  1.0   1   0   1   0  1.0   1   1   0  ...   1   0   1   0   0   1   0   \n",
      "3    1  0.0   0   1   1   1  1.0   0   0   0  ...   1   0   0   1   0   0   0   \n",
      "4    1  1.0   0   1   1   1  0.0   1   1   0  ...   0   0   0   0   0   1   0   \n",
      "5    0  0.0   0   1   1   1  NaN   0   1   0  ...   0   0   0   0   0   1   0   \n",
      "6    1  1.0   0   0   1   0  1.0   0   1   0  ...   1   0   0   0   0   1   1   \n",
      "7    1  1.0   1   1   1   1  0.0   0   1   0  ...   1   0   0   0   1   1   0   \n",
      "8    1  1.0   0   1   1   0  0.0   1   1   0  ...   1   0   0   1   0   1   1   \n",
      "9    1  1.0   0   1   1   1  1.0   1   1   0  ...   1   0   0   1   1   0   1   \n",
      "10   1  1.0   1   0   1   0  1.0   1   1   0  ...   1   0   0   1   1   1   1   \n",
      "11   1  0.0   0   1   1   1  0.0   1   0   1  ...   1   0   0   0   0   0   1   \n",
      "12   0  0.0   0   0   0   0  0.0   0   0   0  ...   0   0   0   0   0   0   0   \n",
      "13   1  1.0   1   1   1   0  0.0   1   1   0  ...   1   1   1   1   1   1   1   \n",
      "14   1  1.0   1   0   1   0  0.0   0   1   0  ...   0   0   0   0   0   1   0   \n",
      "15   1  0.0   0   0   0   0  0.0   0   1   0  ...   0   0   0   1   1   0   0   \n",
      "16   0  0.0   0   0   0   0  1.0   0   0   1  ...   0   1   0   1   0   0   0   \n",
      "17   1  0.0   1   0   1   0  0.0   1   1   0  ...   1   1   1   1   0   1   1   \n",
      "18   1  0.0   1   0   1   0  0.0   0   1   0  ...   0   1   0   1   0   1   0   \n",
      "19   1  1.0   0   0   0   0  0.0   0   1   0  ...   0   0   0   0   1   1   0   \n",
      "20   1  0.0   0   0   0   0  0.0   0   1   1  ...   1   0   0   0   1   1   0   \n",
      "21   1  1.0   1   0   0   0  0.0   1   1   0  ...   1   0   1   1   0   1   1   \n",
      "22   1  1.0   0   1   1   1  0.0   1   0   1  ...   1   0   0   1   1   1   1   \n",
      "23   1  0.0   1   0   0   0  0.0   0   1   0  ...   0   0   0   0   1   1   0   \n",
      "24   1  1.0   0   0   0   0  0.0   0   0   1  ...   0   0   0   0   0   0   1   \n",
      "25   1  1.0   0   0   1   0  0.0   0   0   1  ...   0   0   0   0   0   0   0   \n",
      "26   1  0.0   0   0   0   1  0.0   0   0   1  ...   0   0   0   0   0   1   0   \n",
      "27   1  0.0   0   0   0   0  0.0   1   0   0  ...   0   0   0   1   0   0   0   \n",
      "28   0  0.0   1   0   0   0  0.0   0   0   0  ...   0   0   0   1   1   1   0   \n",
      "29   1  1.0   0   1   1   1  0.0   0   0   0  ...   1   0   0   1   0   0   0   \n",
      "30   0  1.0   0   0   1   0  0.0   0   1   0  ...   1   0   0   0   0   0   0   \n",
      "31   1  1.0   1   0   1   0  0.0   1   1   0  ...   1   0   1   0   1   1   1   \n",
      "32   1  0.0   1   0   0   0  0.0   1   0   0  ...   1   0   0   1   1   1   0   \n",
      "33   1  1.0   1   1   1   1  1.0   0   1   0  ...   1   0   0   1   0   1   0   \n",
      "34   1  1.0   0   0   1   0  1.0   1   1   0  ...   0   0   0   1   0   0   1   \n",
      "35   1  0.0   1   0   1   0  1.0   0   1   1  ...   1   0   0   0   1   0   0   \n",
      "36   0  0.0   0   0   0   0  0.0   0   0   0  ...   0   0   0   0   0   0   0   \n",
      "37   1  NaN   1   0   1   0  0.0   1   1   0  ...   0   1   0   1   0   0   1   \n",
      "\n",
      "    23  24  25  \n",
      "0    1   1   1  \n",
      "1    1   1   1  \n",
      "2    0   1   1  \n",
      "3    0   0   1  \n",
      "4    1   1   1  \n",
      "5    0   0   1  \n",
      "6    1   0   0  \n",
      "7    1   1   1  \n",
      "8    0   1   1  \n",
      "9    1   1   1  \n",
      "10   1   1   1  \n",
      "11   1   1   1  \n",
      "12   0   0   0  \n",
      "13   1   1   1  \n",
      "14   0   0   1  \n",
      "15   0   1   1  \n",
      "16   0   1   0  \n",
      "17   1   1   1  \n",
      "18   1   1   1  \n",
      "19   0   0   0  \n",
      "20   0   0   1  \n",
      "21   1   0   0  \n",
      "22   1   1   1  \n",
      "23   0   0   1  \n",
      "24   1   1   1  \n",
      "25   0   0   1  \n",
      "26   0   1   1  \n",
      "27   1   0   1  \n",
      "28   0   0   1  \n",
      "29   0   1   0  \n",
      "30   1   1   1  \n",
      "31   1   0   1  \n",
      "32   0   0   1  \n",
      "33   1   0   1  \n",
      "34   1   1   0  \n",
      "35   0   0   1  \n",
      "36   0   0   0  \n",
      "37   1   0   1  \n",
      "\n",
      "[38 rows x 25 columns]\n"
     ]
    }
   ],
   "source": [
    "scores_2.columns = range(1, len(scores_2.columns) + 1)\n",
    "print(scores_2)"
   ],
   "metadata": {
    "collapsed": false,
    "ExecuteTime": {
     "start_time": "2023-06-03T21:01:54.518606Z",
     "end_time": "2023-06-03T21:01:54.770931Z"
    }
   }
  },
  {
   "cell_type": "markdown",
   "metadata": {
    "tags": []
   },
   "source": [
    "### scores_2 에서 누락 데이터를 0 으로 채우기 (fillna)"
   ]
  },
  {
   "cell_type": "code",
   "execution_count": 168,
   "outputs": [],
   "source": [
    "scores_2.fillna(0, inplace=True)"
   ],
   "metadata": {
    "collapsed": false,
    "ExecuteTime": {
     "start_time": "2023-06-03T21:02:33.316509Z",
     "end_time": "2023-06-03T21:02:33.431232Z"
    }
   }
  },
  {
   "cell_type": "markdown",
   "metadata": {},
   "source": [
    "### scores_2 의 모든 데이터타입을 int32 으로 변경하기 (astype)"
   ]
  },
  {
   "cell_type": "code",
   "execution_count": 169,
   "outputs": [
    {
     "data": {
      "text/plain": "    1   2   3   4   5   6   7   8   9   10  ...  16  17  18  19  20  21  22   \n0    1   0   1   0   1   0   1   1   1   0  ...   0   1   0   1   1   1   0  \\\n1    1   1   1   0   1   0   1   1   1   1  ...   1   1   1   1   1   0   1   \n2    0   1   1   0   1   0   1   1   1   0  ...   1   0   1   0   0   1   0   \n3    1   0   0   1   1   1   1   0   0   0  ...   1   0   0   1   0   0   0   \n4    1   1   0   1   1   1   0   1   1   0  ...   0   0   0   0   0   1   0   \n5    0   0   0   1   1   1   0   0   1   0  ...   0   0   0   0   0   1   0   \n6    1   1   0   0   1   0   1   0   1   0  ...   1   0   0   0   0   1   1   \n7    1   1   1   1   1   1   0   0   1   0  ...   1   0   0   0   1   1   0   \n8    1   1   0   1   1   0   0   1   1   0  ...   1   0   0   1   0   1   1   \n9    1   1   0   1   1   1   1   1   1   0  ...   1   0   0   1   1   0   1   \n10   1   1   1   0   1   0   1   1   1   0  ...   1   0   0   1   1   1   1   \n11   1   0   0   1   1   1   0   1   0   1  ...   1   0   0   0   0   0   1   \n12   0   0   0   0   0   0   0   0   0   0  ...   0   0   0   0   0   0   0   \n13   1   1   1   1   1   0   0   1   1   0  ...   1   1   1   1   1   1   1   \n14   1   1   1   0   1   0   0   0   1   0  ...   0   0   0   0   0   1   0   \n15   1   0   0   0   0   0   0   0   1   0  ...   0   0   0   1   1   0   0   \n16   0   0   0   0   0   0   1   0   0   1  ...   0   1   0   1   0   0   0   \n17   1   0   1   0   1   0   0   1   1   0  ...   1   1   1   1   0   1   1   \n18   1   0   1   0   1   0   0   0   1   0  ...   0   1   0   1   0   1   0   \n19   1   1   0   0   0   0   0   0   1   0  ...   0   0   0   0   1   1   0   \n20   1   0   0   0   0   0   0   0   1   1  ...   1   0   0   0   1   1   0   \n21   1   1   1   0   0   0   0   1   1   0  ...   1   0   1   1   0   1   1   \n22   1   1   0   1   1   1   0   1   0   1  ...   1   0   0   1   1   1   1   \n23   1   0   1   0   0   0   0   0   1   0  ...   0   0   0   0   1   1   0   \n24   1   1   0   0   0   0   0   0   0   1  ...   0   0   0   0   0   0   1   \n25   1   1   0   0   1   0   0   0   0   1  ...   0   0   0   0   0   0   0   \n26   1   0   0   0   0   1   0   0   0   1  ...   0   0   0   0   0   1   0   \n27   1   0   0   0   0   0   0   1   0   0  ...   0   0   0   1   0   0   0   \n28   0   0   1   0   0   0   0   0   0   0  ...   0   0   0   1   1   1   0   \n29   1   1   0   1   1   1   0   0   0   0  ...   1   0   0   1   0   0   0   \n30   0   1   0   0   1   0   0   0   1   0  ...   1   0   0   0   0   0   0   \n31   1   1   1   0   1   0   0   1   1   0  ...   1   0   1   0   1   1   1   \n32   1   0   1   0   0   0   0   1   0   0  ...   1   0   0   1   1   1   0   \n33   1   1   1   1   1   1   1   0   1   0  ...   1   0   0   1   0   1   0   \n34   1   1   0   0   1   0   1   1   1   0  ...   0   0   0   1   0   0   1   \n35   1   0   1   0   1   0   1   0   1   1  ...   1   0   0   0   1   0   0   \n36   0   0   0   0   0   0   0   0   0   0  ...   0   0   0   0   0   0   0   \n37   1   0   1   0   1   0   0   1   1   0  ...   0   1   0   1   0   0   1   \n\n    23  24  25  \n0    1   1   1  \n1    1   1   1  \n2    0   1   1  \n3    0   0   1  \n4    1   1   1  \n5    0   0   1  \n6    1   0   0  \n7    1   1   1  \n8    0   1   1  \n9    1   1   1  \n10   1   1   1  \n11   1   1   1  \n12   0   0   0  \n13   1   1   1  \n14   0   0   1  \n15   0   1   1  \n16   0   1   0  \n17   1   1   1  \n18   1   1   1  \n19   0   0   0  \n20   0   0   1  \n21   1   0   0  \n22   1   1   1  \n23   0   0   1  \n24   1   1   1  \n25   0   0   1  \n26   0   1   1  \n27   1   0   1  \n28   0   0   1  \n29   0   1   0  \n30   1   1   1  \n31   1   0   1  \n32   0   0   1  \n33   1   0   1  \n34   1   1   0  \n35   0   0   1  \n36   0   0   0  \n37   1   0   1  \n\n[38 rows x 25 columns]",
      "text/html": "<div>\n<style scoped>\n    .dataframe tbody tr th:only-of-type {\n        vertical-align: middle;\n    }\n\n    .dataframe tbody tr th {\n        vertical-align: top;\n    }\n\n    .dataframe thead th {\n        text-align: right;\n    }\n</style>\n<table border=\"1\" class=\"dataframe\">\n  <thead>\n    <tr style=\"text-align: right;\">\n      <th></th>\n      <th>1</th>\n      <th>2</th>\n      <th>3</th>\n      <th>4</th>\n      <th>5</th>\n      <th>6</th>\n      <th>7</th>\n      <th>8</th>\n      <th>9</th>\n      <th>10</th>\n      <th>...</th>\n      <th>16</th>\n      <th>17</th>\n      <th>18</th>\n      <th>19</th>\n      <th>20</th>\n      <th>21</th>\n      <th>22</th>\n      <th>23</th>\n      <th>24</th>\n      <th>25</th>\n    </tr>\n  </thead>\n  <tbody>\n    <tr>\n      <th>0</th>\n      <td>1</td>\n      <td>0</td>\n      <td>1</td>\n      <td>0</td>\n      <td>1</td>\n      <td>0</td>\n      <td>1</td>\n      <td>1</td>\n      <td>1</td>\n      <td>0</td>\n      <td>...</td>\n      <td>0</td>\n      <td>1</td>\n      <td>0</td>\n      <td>1</td>\n      <td>1</td>\n      <td>1</td>\n      <td>0</td>\n      <td>1</td>\n      <td>1</td>\n      <td>1</td>\n    </tr>\n    <tr>\n      <th>1</th>\n      <td>1</td>\n      <td>1</td>\n      <td>1</td>\n      <td>0</td>\n      <td>1</td>\n      <td>0</td>\n      <td>1</td>\n      <td>1</td>\n      <td>1</td>\n      <td>1</td>\n      <td>...</td>\n      <td>1</td>\n      <td>1</td>\n      <td>1</td>\n      <td>1</td>\n      <td>1</td>\n      <td>0</td>\n      <td>1</td>\n      <td>1</td>\n      <td>1</td>\n      <td>1</td>\n    </tr>\n    <tr>\n      <th>2</th>\n      <td>0</td>\n      <td>1</td>\n      <td>1</td>\n      <td>0</td>\n      <td>1</td>\n      <td>0</td>\n      <td>1</td>\n      <td>1</td>\n      <td>1</td>\n      <td>0</td>\n      <td>...</td>\n      <td>1</td>\n      <td>0</td>\n      <td>1</td>\n      <td>0</td>\n      <td>0</td>\n      <td>1</td>\n      <td>0</td>\n      <td>0</td>\n      <td>1</td>\n      <td>1</td>\n    </tr>\n    <tr>\n      <th>3</th>\n      <td>1</td>\n      <td>0</td>\n      <td>0</td>\n      <td>1</td>\n      <td>1</td>\n      <td>1</td>\n      <td>1</td>\n      <td>0</td>\n      <td>0</td>\n      <td>0</td>\n      <td>...</td>\n      <td>1</td>\n      <td>0</td>\n      <td>0</td>\n      <td>1</td>\n      <td>0</td>\n      <td>0</td>\n      <td>0</td>\n      <td>0</td>\n      <td>0</td>\n      <td>1</td>\n    </tr>\n    <tr>\n      <th>4</th>\n      <td>1</td>\n      <td>1</td>\n      <td>0</td>\n      <td>1</td>\n      <td>1</td>\n      <td>1</td>\n      <td>0</td>\n      <td>1</td>\n      <td>1</td>\n      <td>0</td>\n      <td>...</td>\n      <td>0</td>\n      <td>0</td>\n      <td>0</td>\n      <td>0</td>\n      <td>0</td>\n      <td>1</td>\n      <td>0</td>\n      <td>1</td>\n      <td>1</td>\n      <td>1</td>\n    </tr>\n    <tr>\n      <th>5</th>\n      <td>0</td>\n      <td>0</td>\n      <td>0</td>\n      <td>1</td>\n      <td>1</td>\n      <td>1</td>\n      <td>0</td>\n      <td>0</td>\n      <td>1</td>\n      <td>0</td>\n      <td>...</td>\n      <td>0</td>\n      <td>0</td>\n      <td>0</td>\n      <td>0</td>\n      <td>0</td>\n      <td>1</td>\n      <td>0</td>\n      <td>0</td>\n      <td>0</td>\n      <td>1</td>\n    </tr>\n    <tr>\n      <th>6</th>\n      <td>1</td>\n      <td>1</td>\n      <td>0</td>\n      <td>0</td>\n      <td>1</td>\n      <td>0</td>\n      <td>1</td>\n      <td>0</td>\n      <td>1</td>\n      <td>0</td>\n      <td>...</td>\n      <td>1</td>\n      <td>0</td>\n      <td>0</td>\n      <td>0</td>\n      <td>0</td>\n      <td>1</td>\n      <td>1</td>\n      <td>1</td>\n      <td>0</td>\n      <td>0</td>\n    </tr>\n    <tr>\n      <th>7</th>\n      <td>1</td>\n      <td>1</td>\n      <td>1</td>\n      <td>1</td>\n      <td>1</td>\n      <td>1</td>\n      <td>0</td>\n      <td>0</td>\n      <td>1</td>\n      <td>0</td>\n      <td>...</td>\n      <td>1</td>\n      <td>0</td>\n      <td>0</td>\n      <td>0</td>\n      <td>1</td>\n      <td>1</td>\n      <td>0</td>\n      <td>1</td>\n      <td>1</td>\n      <td>1</td>\n    </tr>\n    <tr>\n      <th>8</th>\n      <td>1</td>\n      <td>1</td>\n      <td>0</td>\n      <td>1</td>\n      <td>1</td>\n      <td>0</td>\n      <td>0</td>\n      <td>1</td>\n      <td>1</td>\n      <td>0</td>\n      <td>...</td>\n      <td>1</td>\n      <td>0</td>\n      <td>0</td>\n      <td>1</td>\n      <td>0</td>\n      <td>1</td>\n      <td>1</td>\n      <td>0</td>\n      <td>1</td>\n      <td>1</td>\n    </tr>\n    <tr>\n      <th>9</th>\n      <td>1</td>\n      <td>1</td>\n      <td>0</td>\n      <td>1</td>\n      <td>1</td>\n      <td>1</td>\n      <td>1</td>\n      <td>1</td>\n      <td>1</td>\n      <td>0</td>\n      <td>...</td>\n      <td>1</td>\n      <td>0</td>\n      <td>0</td>\n      <td>1</td>\n      <td>1</td>\n      <td>0</td>\n      <td>1</td>\n      <td>1</td>\n      <td>1</td>\n      <td>1</td>\n    </tr>\n    <tr>\n      <th>10</th>\n      <td>1</td>\n      <td>1</td>\n      <td>1</td>\n      <td>0</td>\n      <td>1</td>\n      <td>0</td>\n      <td>1</td>\n      <td>1</td>\n      <td>1</td>\n      <td>0</td>\n      <td>...</td>\n      <td>1</td>\n      <td>0</td>\n      <td>0</td>\n      <td>1</td>\n      <td>1</td>\n      <td>1</td>\n      <td>1</td>\n      <td>1</td>\n      <td>1</td>\n      <td>1</td>\n    </tr>\n    <tr>\n      <th>11</th>\n      <td>1</td>\n      <td>0</td>\n      <td>0</td>\n      <td>1</td>\n      <td>1</td>\n      <td>1</td>\n      <td>0</td>\n      <td>1</td>\n      <td>0</td>\n      <td>1</td>\n      <td>...</td>\n      <td>1</td>\n      <td>0</td>\n      <td>0</td>\n      <td>0</td>\n      <td>0</td>\n      <td>0</td>\n      <td>1</td>\n      <td>1</td>\n      <td>1</td>\n      <td>1</td>\n    </tr>\n    <tr>\n      <th>12</th>\n      <td>0</td>\n      <td>0</td>\n      <td>0</td>\n      <td>0</td>\n      <td>0</td>\n      <td>0</td>\n      <td>0</td>\n      <td>0</td>\n      <td>0</td>\n      <td>0</td>\n      <td>...</td>\n      <td>0</td>\n      <td>0</td>\n      <td>0</td>\n      <td>0</td>\n      <td>0</td>\n      <td>0</td>\n      <td>0</td>\n      <td>0</td>\n      <td>0</td>\n      <td>0</td>\n    </tr>\n    <tr>\n      <th>13</th>\n      <td>1</td>\n      <td>1</td>\n      <td>1</td>\n      <td>1</td>\n      <td>1</td>\n      <td>0</td>\n      <td>0</td>\n      <td>1</td>\n      <td>1</td>\n      <td>0</td>\n      <td>...</td>\n      <td>1</td>\n      <td>1</td>\n      <td>1</td>\n      <td>1</td>\n      <td>1</td>\n      <td>1</td>\n      <td>1</td>\n      <td>1</td>\n      <td>1</td>\n      <td>1</td>\n    </tr>\n    <tr>\n      <th>14</th>\n      <td>1</td>\n      <td>1</td>\n      <td>1</td>\n      <td>0</td>\n      <td>1</td>\n      <td>0</td>\n      <td>0</td>\n      <td>0</td>\n      <td>1</td>\n      <td>0</td>\n      <td>...</td>\n      <td>0</td>\n      <td>0</td>\n      <td>0</td>\n      <td>0</td>\n      <td>0</td>\n      <td>1</td>\n      <td>0</td>\n      <td>0</td>\n      <td>0</td>\n      <td>1</td>\n    </tr>\n    <tr>\n      <th>15</th>\n      <td>1</td>\n      <td>0</td>\n      <td>0</td>\n      <td>0</td>\n      <td>0</td>\n      <td>0</td>\n      <td>0</td>\n      <td>0</td>\n      <td>1</td>\n      <td>0</td>\n      <td>...</td>\n      <td>0</td>\n      <td>0</td>\n      <td>0</td>\n      <td>1</td>\n      <td>1</td>\n      <td>0</td>\n      <td>0</td>\n      <td>0</td>\n      <td>1</td>\n      <td>1</td>\n    </tr>\n    <tr>\n      <th>16</th>\n      <td>0</td>\n      <td>0</td>\n      <td>0</td>\n      <td>0</td>\n      <td>0</td>\n      <td>0</td>\n      <td>1</td>\n      <td>0</td>\n      <td>0</td>\n      <td>1</td>\n      <td>...</td>\n      <td>0</td>\n      <td>1</td>\n      <td>0</td>\n      <td>1</td>\n      <td>0</td>\n      <td>0</td>\n      <td>0</td>\n      <td>0</td>\n      <td>1</td>\n      <td>0</td>\n    </tr>\n    <tr>\n      <th>17</th>\n      <td>1</td>\n      <td>0</td>\n      <td>1</td>\n      <td>0</td>\n      <td>1</td>\n      <td>0</td>\n      <td>0</td>\n      <td>1</td>\n      <td>1</td>\n      <td>0</td>\n      <td>...</td>\n      <td>1</td>\n      <td>1</td>\n      <td>1</td>\n      <td>1</td>\n      <td>0</td>\n      <td>1</td>\n      <td>1</td>\n      <td>1</td>\n      <td>1</td>\n      <td>1</td>\n    </tr>\n    <tr>\n      <th>18</th>\n      <td>1</td>\n      <td>0</td>\n      <td>1</td>\n      <td>0</td>\n      <td>1</td>\n      <td>0</td>\n      <td>0</td>\n      <td>0</td>\n      <td>1</td>\n      <td>0</td>\n      <td>...</td>\n      <td>0</td>\n      <td>1</td>\n      <td>0</td>\n      <td>1</td>\n      <td>0</td>\n      <td>1</td>\n      <td>0</td>\n      <td>1</td>\n      <td>1</td>\n      <td>1</td>\n    </tr>\n    <tr>\n      <th>19</th>\n      <td>1</td>\n      <td>1</td>\n      <td>0</td>\n      <td>0</td>\n      <td>0</td>\n      <td>0</td>\n      <td>0</td>\n      <td>0</td>\n      <td>1</td>\n      <td>0</td>\n      <td>...</td>\n      <td>0</td>\n      <td>0</td>\n      <td>0</td>\n      <td>0</td>\n      <td>1</td>\n      <td>1</td>\n      <td>0</td>\n      <td>0</td>\n      <td>0</td>\n      <td>0</td>\n    </tr>\n    <tr>\n      <th>20</th>\n      <td>1</td>\n      <td>0</td>\n      <td>0</td>\n      <td>0</td>\n      <td>0</td>\n      <td>0</td>\n      <td>0</td>\n      <td>0</td>\n      <td>1</td>\n      <td>1</td>\n      <td>...</td>\n      <td>1</td>\n      <td>0</td>\n      <td>0</td>\n      <td>0</td>\n      <td>1</td>\n      <td>1</td>\n      <td>0</td>\n      <td>0</td>\n      <td>0</td>\n      <td>1</td>\n    </tr>\n    <tr>\n      <th>21</th>\n      <td>1</td>\n      <td>1</td>\n      <td>1</td>\n      <td>0</td>\n      <td>0</td>\n      <td>0</td>\n      <td>0</td>\n      <td>1</td>\n      <td>1</td>\n      <td>0</td>\n      <td>...</td>\n      <td>1</td>\n      <td>0</td>\n      <td>1</td>\n      <td>1</td>\n      <td>0</td>\n      <td>1</td>\n      <td>1</td>\n      <td>1</td>\n      <td>0</td>\n      <td>0</td>\n    </tr>\n    <tr>\n      <th>22</th>\n      <td>1</td>\n      <td>1</td>\n      <td>0</td>\n      <td>1</td>\n      <td>1</td>\n      <td>1</td>\n      <td>0</td>\n      <td>1</td>\n      <td>0</td>\n      <td>1</td>\n      <td>...</td>\n      <td>1</td>\n      <td>0</td>\n      <td>0</td>\n      <td>1</td>\n      <td>1</td>\n      <td>1</td>\n      <td>1</td>\n      <td>1</td>\n      <td>1</td>\n      <td>1</td>\n    </tr>\n    <tr>\n      <th>23</th>\n      <td>1</td>\n      <td>0</td>\n      <td>1</td>\n      <td>0</td>\n      <td>0</td>\n      <td>0</td>\n      <td>0</td>\n      <td>0</td>\n      <td>1</td>\n      <td>0</td>\n      <td>...</td>\n      <td>0</td>\n      <td>0</td>\n      <td>0</td>\n      <td>0</td>\n      <td>1</td>\n      <td>1</td>\n      <td>0</td>\n      <td>0</td>\n      <td>0</td>\n      <td>1</td>\n    </tr>\n    <tr>\n      <th>24</th>\n      <td>1</td>\n      <td>1</td>\n      <td>0</td>\n      <td>0</td>\n      <td>0</td>\n      <td>0</td>\n      <td>0</td>\n      <td>0</td>\n      <td>0</td>\n      <td>1</td>\n      <td>...</td>\n      <td>0</td>\n      <td>0</td>\n      <td>0</td>\n      <td>0</td>\n      <td>0</td>\n      <td>0</td>\n      <td>1</td>\n      <td>1</td>\n      <td>1</td>\n      <td>1</td>\n    </tr>\n    <tr>\n      <th>25</th>\n      <td>1</td>\n      <td>1</td>\n      <td>0</td>\n      <td>0</td>\n      <td>1</td>\n      <td>0</td>\n      <td>0</td>\n      <td>0</td>\n      <td>0</td>\n      <td>1</td>\n      <td>...</td>\n      <td>0</td>\n      <td>0</td>\n      <td>0</td>\n      <td>0</td>\n      <td>0</td>\n      <td>0</td>\n      <td>0</td>\n      <td>0</td>\n      <td>0</td>\n      <td>1</td>\n    </tr>\n    <tr>\n      <th>26</th>\n      <td>1</td>\n      <td>0</td>\n      <td>0</td>\n      <td>0</td>\n      <td>0</td>\n      <td>1</td>\n      <td>0</td>\n      <td>0</td>\n      <td>0</td>\n      <td>1</td>\n      <td>...</td>\n      <td>0</td>\n      <td>0</td>\n      <td>0</td>\n      <td>0</td>\n      <td>0</td>\n      <td>1</td>\n      <td>0</td>\n      <td>0</td>\n      <td>1</td>\n      <td>1</td>\n    </tr>\n    <tr>\n      <th>27</th>\n      <td>1</td>\n      <td>0</td>\n      <td>0</td>\n      <td>0</td>\n      <td>0</td>\n      <td>0</td>\n      <td>0</td>\n      <td>1</td>\n      <td>0</td>\n      <td>0</td>\n      <td>...</td>\n      <td>0</td>\n      <td>0</td>\n      <td>0</td>\n      <td>1</td>\n      <td>0</td>\n      <td>0</td>\n      <td>0</td>\n      <td>1</td>\n      <td>0</td>\n      <td>1</td>\n    </tr>\n    <tr>\n      <th>28</th>\n      <td>0</td>\n      <td>0</td>\n      <td>1</td>\n      <td>0</td>\n      <td>0</td>\n      <td>0</td>\n      <td>0</td>\n      <td>0</td>\n      <td>0</td>\n      <td>0</td>\n      <td>...</td>\n      <td>0</td>\n      <td>0</td>\n      <td>0</td>\n      <td>1</td>\n      <td>1</td>\n      <td>1</td>\n      <td>0</td>\n      <td>0</td>\n      <td>0</td>\n      <td>1</td>\n    </tr>\n    <tr>\n      <th>29</th>\n      <td>1</td>\n      <td>1</td>\n      <td>0</td>\n      <td>1</td>\n      <td>1</td>\n      <td>1</td>\n      <td>0</td>\n      <td>0</td>\n      <td>0</td>\n      <td>0</td>\n      <td>...</td>\n      <td>1</td>\n      <td>0</td>\n      <td>0</td>\n      <td>1</td>\n      <td>0</td>\n      <td>0</td>\n      <td>0</td>\n      <td>0</td>\n      <td>1</td>\n      <td>0</td>\n    </tr>\n    <tr>\n      <th>30</th>\n      <td>0</td>\n      <td>1</td>\n      <td>0</td>\n      <td>0</td>\n      <td>1</td>\n      <td>0</td>\n      <td>0</td>\n      <td>0</td>\n      <td>1</td>\n      <td>0</td>\n      <td>...</td>\n      <td>1</td>\n      <td>0</td>\n      <td>0</td>\n      <td>0</td>\n      <td>0</td>\n      <td>0</td>\n      <td>0</td>\n      <td>1</td>\n      <td>1</td>\n      <td>1</td>\n    </tr>\n    <tr>\n      <th>31</th>\n      <td>1</td>\n      <td>1</td>\n      <td>1</td>\n      <td>0</td>\n      <td>1</td>\n      <td>0</td>\n      <td>0</td>\n      <td>1</td>\n      <td>1</td>\n      <td>0</td>\n      <td>...</td>\n      <td>1</td>\n      <td>0</td>\n      <td>1</td>\n      <td>0</td>\n      <td>1</td>\n      <td>1</td>\n      <td>1</td>\n      <td>1</td>\n      <td>0</td>\n      <td>1</td>\n    </tr>\n    <tr>\n      <th>32</th>\n      <td>1</td>\n      <td>0</td>\n      <td>1</td>\n      <td>0</td>\n      <td>0</td>\n      <td>0</td>\n      <td>0</td>\n      <td>1</td>\n      <td>0</td>\n      <td>0</td>\n      <td>...</td>\n      <td>1</td>\n      <td>0</td>\n      <td>0</td>\n      <td>1</td>\n      <td>1</td>\n      <td>1</td>\n      <td>0</td>\n      <td>0</td>\n      <td>0</td>\n      <td>1</td>\n    </tr>\n    <tr>\n      <th>33</th>\n      <td>1</td>\n      <td>1</td>\n      <td>1</td>\n      <td>1</td>\n      <td>1</td>\n      <td>1</td>\n      <td>1</td>\n      <td>0</td>\n      <td>1</td>\n      <td>0</td>\n      <td>...</td>\n      <td>1</td>\n      <td>0</td>\n      <td>0</td>\n      <td>1</td>\n      <td>0</td>\n      <td>1</td>\n      <td>0</td>\n      <td>1</td>\n      <td>0</td>\n      <td>1</td>\n    </tr>\n    <tr>\n      <th>34</th>\n      <td>1</td>\n      <td>1</td>\n      <td>0</td>\n      <td>0</td>\n      <td>1</td>\n      <td>0</td>\n      <td>1</td>\n      <td>1</td>\n      <td>1</td>\n      <td>0</td>\n      <td>...</td>\n      <td>0</td>\n      <td>0</td>\n      <td>0</td>\n      <td>1</td>\n      <td>0</td>\n      <td>0</td>\n      <td>1</td>\n      <td>1</td>\n      <td>1</td>\n      <td>0</td>\n    </tr>\n    <tr>\n      <th>35</th>\n      <td>1</td>\n      <td>0</td>\n      <td>1</td>\n      <td>0</td>\n      <td>1</td>\n      <td>0</td>\n      <td>1</td>\n      <td>0</td>\n      <td>1</td>\n      <td>1</td>\n      <td>...</td>\n      <td>1</td>\n      <td>0</td>\n      <td>0</td>\n      <td>0</td>\n      <td>1</td>\n      <td>0</td>\n      <td>0</td>\n      <td>0</td>\n      <td>0</td>\n      <td>1</td>\n    </tr>\n    <tr>\n      <th>36</th>\n      <td>0</td>\n      <td>0</td>\n      <td>0</td>\n      <td>0</td>\n      <td>0</td>\n      <td>0</td>\n      <td>0</td>\n      <td>0</td>\n      <td>0</td>\n      <td>0</td>\n      <td>...</td>\n      <td>0</td>\n      <td>0</td>\n      <td>0</td>\n      <td>0</td>\n      <td>0</td>\n      <td>0</td>\n      <td>0</td>\n      <td>0</td>\n      <td>0</td>\n      <td>0</td>\n    </tr>\n    <tr>\n      <th>37</th>\n      <td>1</td>\n      <td>0</td>\n      <td>1</td>\n      <td>0</td>\n      <td>1</td>\n      <td>0</td>\n      <td>0</td>\n      <td>1</td>\n      <td>1</td>\n      <td>0</td>\n      <td>...</td>\n      <td>0</td>\n      <td>1</td>\n      <td>0</td>\n      <td>1</td>\n      <td>0</td>\n      <td>0</td>\n      <td>1</td>\n      <td>1</td>\n      <td>0</td>\n      <td>1</td>\n    </tr>\n  </tbody>\n</table>\n<p>38 rows × 25 columns</p>\n</div>"
     },
     "execution_count": 169,
     "metadata": {},
     "output_type": "execute_result"
    }
   ],
   "source": [
    "scores_2.astype('int32')"
   ],
   "metadata": {
    "collapsed": false,
    "ExecuteTime": {
     "start_time": "2023-06-03T21:03:05.275525Z",
     "end_time": "2023-06-03T21:03:05.370959Z"
    }
   }
  },
  {
   "cell_type": "markdown",
   "metadata": {},
   "source": [
    "### scores_2 의 모든 데이터에 4를 곱한 값으로 재지정하기 (브로드캐스팅)"
   ]
  },
  {
   "cell_type": "code",
   "execution_count": 170,
   "outputs": [],
   "source": [
    "scores_2 = scores_2 * 4"
   ],
   "metadata": {
    "collapsed": false,
    "ExecuteTime": {
     "start_time": "2023-06-03T21:03:14.181643Z",
     "end_time": "2023-06-03T21:03:14.255447Z"
    }
   }
  },
  {
   "cell_type": "markdown",
   "metadata": {},
   "source": [
    "### sores_2 에 새로운 class열 추가하기(class 데이터 값은 모두 '2반')"
   ]
  },
  {
   "cell_type": "code",
   "execution_count": 172,
   "outputs": [],
   "source": [
    "scores_2['class'] = '2반'"
   ],
   "metadata": {
    "collapsed": false,
    "ExecuteTime": {
     "start_time": "2023-06-03T21:04:30.611030Z",
     "end_time": "2023-06-03T21:04:30.686223Z"
    }
   }
  },
  {
   "cell_type": "markdown",
   "metadata": {},
   "source": [
    "### scores_1 과 scores_2 를 행기준(axis=0) 으로 합쳐 scores 변수에 저장하기 (concat)"
   ]
  },
  {
   "cell_type": "code",
   "execution_count": 174,
   "outputs": [
    {
     "name": "stdout",
     "output_type": "stream",
     "text": [
      "      1    2  3    4    5  6    7  8    9  10  ...  17   18  19  20  21   22   \n",
      "0   0.0  0.0  0  0.0  4.0  0  0.0  4  0.0   0  ...   0  0.0   4   0   4  4.0  \\\n",
      "1   4.0  4.0  4  0.0  4.0  0  4.0  4  4.0   0  ...   0  0.0   4   4   0  4.0   \n",
      "2   0.0  0.0  4  4.0  4.0  4  0.0  4  0.0   0  ...   0  0.0   0   0   0  0.0   \n",
      "3   4.0  4.0  4  4.0  4.0  4  4.0  4  4.0   0  ...   4  4.0   4   4   0  4.0   \n",
      "4   4.0  4.0  4  0.0  4.0  0  0.0  4  4.0   0  ...   0  0.0   0   4   4  4.0   \n",
      "..  ...  ... ..  ...  ... ..  ... ..  ...  ..  ...  ..  ...  ..  ..  ..  ...   \n",
      "71  4.0  4.0  4  4.0  4.0  4  4.0  0  4.0   0  ...   0  0.0   4   0   4  0.0   \n",
      "72  4.0  4.0  0  0.0  4.0  0  4.0  4  4.0   0  ...   0  0.0   4   0   0  4.0   \n",
      "73  4.0  0.0  4  0.0  4.0  0  4.0  0  4.0   4  ...   0  0.0   0   4   0  0.0   \n",
      "74  0.0  0.0  0  0.0  0.0  0  0.0  0  0.0   0  ...   0  0.0   0   0   0  0.0   \n",
      "75  4.0  0.0  4  0.0  4.0  0  0.0  4  4.0   0  ...   4  0.0   4   0   0  4.0   \n",
      "\n",
      "     23   24  25  class  \n",
      "0   4.0  0.0   4     1반  \n",
      "1   4.0  0.0   4     1반  \n",
      "2   0.0  0.0   4     1반  \n",
      "3   4.0  4.0   4     1반  \n",
      "4   4.0  4.0   4     1반  \n",
      "..  ...  ...  ..    ...  \n",
      "71  4.0  0.0   4     2반  \n",
      "72  4.0  4.0   0     2반  \n",
      "73  0.0  0.0   4     2반  \n",
      "74  0.0  0.0   0     2반  \n",
      "75  4.0  0.0   4     2반  \n",
      "\n",
      "[76 rows x 26 columns]\n"
     ]
    }
   ],
   "source": [
    "scores = pd.concat([scores_1, scores_2], axis=0, ignore_index=True)\n",
    "\n",
    "print(scores)"
   ],
   "metadata": {
    "collapsed": false,
    "ExecuteTime": {
     "start_time": "2023-06-03T21:05:43.856832Z",
     "end_time": "2023-06-03T21:05:44.009426Z"
    }
   }
  },
  {
   "cell_type": "markdown",
   "metadata": {},
   "source": [
    "### scores에 새로운 id열(values = 1, 2, 3, ...) 추가하기"
   ]
  },
  {
   "cell_type": "code",
   "execution_count": 178,
   "outputs": [
    {
     "name": "stdout",
     "output_type": "stream",
     "text": [
      "      1    2  3    4    5  6    7  8    9  10  ...   18  19  20  21   22   23   \n",
      "0   0.0  0.0  0  0.0  4.0  0  0.0  4  0.0   0  ...  0.0   4   0   4  4.0  4.0  \\\n",
      "1   4.0  4.0  4  0.0  4.0  0  4.0  4  4.0   0  ...  0.0   4   4   0  4.0  4.0   \n",
      "2   0.0  0.0  4  4.0  4.0  4  0.0  4  0.0   0  ...  0.0   0   0   0  0.0  0.0   \n",
      "3   4.0  4.0  4  4.0  4.0  4  4.0  4  4.0   0  ...  4.0   4   4   0  4.0  4.0   \n",
      "4   4.0  4.0  4  0.0  4.0  0  0.0  4  4.0   0  ...  0.0   0   4   4  4.0  4.0   \n",
      "..  ...  ... ..  ...  ... ..  ... ..  ...  ..  ...  ...  ..  ..  ..  ...  ...   \n",
      "71  4.0  4.0  4  4.0  4.0  4  4.0  0  4.0   0  ...  0.0   4   0   4  0.0  4.0   \n",
      "72  4.0  4.0  0  0.0  4.0  0  4.0  4  4.0   0  ...  0.0   4   0   0  4.0  4.0   \n",
      "73  4.0  0.0  4  0.0  4.0  0  4.0  0  4.0   4  ...  0.0   0   4   0  0.0  0.0   \n",
      "74  0.0  0.0  0  0.0  0.0  0  0.0  0  0.0   0  ...  0.0   0   0   0  0.0  0.0   \n",
      "75  4.0  0.0  4  0.0  4.0  0  0.0  4  4.0   0  ...  0.0   4   0   0  4.0  4.0   \n",
      "\n",
      "     24  25  class  id  \n",
      "0   0.0   4     1반   1  \n",
      "1   0.0   4     1반   2  \n",
      "2   0.0   4     1반   3  \n",
      "3   4.0   4     1반   4  \n",
      "4   4.0   4     1반   5  \n",
      "..  ...  ..    ...  ..  \n",
      "71  0.0   4     2반  72  \n",
      "72  4.0   0     2반  73  \n",
      "73  0.0   4     2반  74  \n",
      "74  0.0   0     2반  75  \n",
      "75  0.0   4     2반  76  \n",
      "\n",
      "[76 rows x 27 columns]\n"
     ]
    }
   ],
   "source": [
    "scores['id'] = range(1, len(scores) + 1)\n",
    "\n",
    "print(scores)"
   ],
   "metadata": {
    "collapsed": false,
    "ExecuteTime": {
     "start_time": "2023-06-03T21:08:21.547654Z",
     "end_time": "2023-06-03T21:08:21.647106Z"
    }
   }
  },
  {
   "cell_type": "markdown",
   "metadata": {},
   "source": [
    "### class 열의 데이터타입을 category 로 변경하기 (astype)"
   ]
  },
  {
   "cell_type": "code",
   "execution_count": 183,
   "outputs": [
    {
     "name": "stdout",
     "output_type": "stream",
     "text": [
      "1         float64\n",
      "2         float64\n",
      "3           int64\n",
      "4         float64\n",
      "5         float64\n",
      "6           int64\n",
      "7         float64\n",
      "8           int64\n",
      "9         float64\n",
      "10          int64\n",
      "11          int64\n",
      "12          int64\n",
      "13        float64\n",
      "14          int64\n",
      "15          int64\n",
      "16          int64\n",
      "17          int64\n",
      "18        float64\n",
      "19          int64\n",
      "20          int64\n",
      "21          int64\n",
      "22        float64\n",
      "23        float64\n",
      "24        float64\n",
      "25          int64\n",
      "class    category\n",
      "id          int64\n",
      "dtype: object\n"
     ]
    }
   ],
   "source": [
    "scores['class'] = scores['class'].astype('category')\n",
    "\n",
    "print(scores.dtypes)"
   ],
   "metadata": {
    "collapsed": false,
    "ExecuteTime": {
     "start_time": "2023-06-03T21:10:08.311410Z",
     "end_time": "2023-06-03T21:10:08.447187Z"
    }
   }
  },
  {
   "cell_type": "markdown",
   "metadata": {},
   "source": [
    "## 3.3 분석하기"
   ]
  },
  {
   "cell_type": "markdown",
   "metadata": {
    "tags": []
   },
   "source": [
    "### class, id 열을 고정하고, 나머지 열을 피벗하여 scores_long 변수에 저장하기 (melt - var_name='question', value_name='score')"
   ]
  },
  {
   "cell_type": "code",
   "execution_count": 185,
   "outputs": [
    {
     "name": "stdout",
     "output_type": "stream",
     "text": [
      "     class  id question  score\n",
      "0       1반   1        1    0.0\n",
      "1       1반   2        1    4.0\n",
      "2       1반   3        1    0.0\n",
      "3       1반   4        1    4.0\n",
      "4       1반   5        1    4.0\n",
      "...    ...  ..      ...    ...\n",
      "1895    2반  72       25    4.0\n",
      "1896    2반  73       25    0.0\n",
      "1897    2반  74       25    4.0\n",
      "1898    2반  75       25    0.0\n",
      "1899    2반  76       25    4.0\n",
      "\n",
      "[1900 rows x 4 columns]\n"
     ]
    }
   ],
   "source": [
    "scores_long = pd.melt(scores, id_vars=['class', 'id'], var_name='question', value_name='score')\n",
    "\n",
    "print(scores_long)"
   ],
   "metadata": {
    "collapsed": false,
    "ExecuteTime": {
     "start_time": "2023-06-03T21:13:00.051466Z",
     "end_time": "2023-06-03T21:13:00.165721Z"
    }
   }
  },
  {
   "cell_type": "markdown",
   "metadata": {
    "tags": []
   },
   "source": [
    "### scores_long 에서 학생별 점수 구하기 (groupby, sum)"
   ]
  },
  {
   "cell_type": "code",
   "execution_count": 186,
   "outputs": [
    {
     "name": "stdout",
     "output_type": "stream",
     "text": [
      "id\n",
      "1     40.0\n",
      "2     56.0\n",
      "3     40.0\n",
      "4     88.0\n",
      "5     60.0\n",
      "      ... \n",
      "72    72.0\n",
      "73    48.0\n",
      "74    52.0\n",
      "75     0.0\n",
      "76    52.0\n",
      "Name: score, Length: 76, dtype: float64\n"
     ]
    }
   ],
   "source": [
    "print(scores_long.groupby('id').score.sum())"
   ],
   "metadata": {
    "collapsed": false,
    "ExecuteTime": {
     "start_time": "2023-06-03T21:14:10.150497Z",
     "end_time": "2023-06-03T21:14:10.279853Z"
    }
   }
  },
  {
   "cell_type": "markdown",
   "metadata": {},
   "source": [
    "### scores_long 에서 반/학생별 평균 점수 구하여 class_scores 변수에 저장하기 (groupby, sum, reset_index)"
   ]
  },
  {
   "cell_type": "code",
   "execution_count": 192,
   "outputs": [
    {
     "name": "stdout",
     "output_type": "stream",
     "text": [
      "    class  id question  score\n",
      "0      1반   1      325   40.0\n",
      "1      1반   2      325   56.0\n",
      "2      1반   3      325   40.0\n",
      "3      1반   4      325   88.0\n",
      "4      1반   5      325   60.0\n",
      "..    ...  ..      ...    ...\n",
      "147    2반  72      325   72.0\n",
      "148    2반  73      325   48.0\n",
      "149    2반  74      325   52.0\n",
      "150    2반  75      325    0.0\n",
      "151    2반  76      325   52.0\n",
      "\n",
      "[152 rows x 4 columns]\n"
     ]
    }
   ],
   "source": [
    "class_scores = scores_long.groupby(['class', 'id']).sum().reset_index()\n",
    "print(class_scores)"
   ],
   "metadata": {
    "collapsed": false,
    "ExecuteTime": {
     "start_time": "2023-06-03T21:21:57.664740Z",
     "end_time": "2023-06-03T21:21:57.820334Z"
    }
   }
  },
  {
   "cell_type": "markdown",
   "metadata": {},
   "source": [
    "### class_scores에서 반별 평균 점수 구하기 (groupby, mean)"
   ]
  },
  {
   "cell_type": "code",
   "execution_count": 194,
   "outputs": [
    {
     "name": "stdout",
     "output_type": "stream",
     "text": [
      "         id question      score\n",
      "class                          \n",
      "1반     38.5    162.5  25.789474\n",
      "2반     38.5    162.5  23.526316\n"
     ]
    }
   ],
   "source": [
    "print(class_scores.groupby(['class']).mean())"
   ],
   "metadata": {
    "collapsed": false,
    "ExecuteTime": {
     "start_time": "2023-06-03T21:24:45.224305Z",
     "end_time": "2023-06-03T21:24:45.341995Z"
    }
   }
  },
  {
   "cell_type": "markdown",
   "metadata": {},
   "source": [
    "### class_scores에서 반별 기술통계 항목 구하기 (groupby, describe)"
   ]
  },
  {
   "cell_type": "code",
   "execution_count": 195,
   "outputs": [
    {
     "name": "stdout",
     "output_type": "stream",
     "text": [
      "         id                                                 score              \n",
      "      count  mean        std  min    25%   50%    75%   max count       mean   \n",
      "class                                                                          \n",
      "1반     76.0  38.5  22.083176  1.0  19.75  38.5  57.25  76.0  76.0  25.789474  \\\n",
      "2반     76.0  38.5  22.083176  1.0  19.75  38.5  57.25  76.0  76.0  23.526316   \n",
      "\n",
      "                                              \n",
      "             std  min  25%   50%   75%   max  \n",
      "class                                         \n",
      "1반     28.430179  0.0  0.0  10.0  48.0  88.0  \n",
      "2반     27.542681  0.0  0.0   0.0  48.0  88.0  \n"
     ]
    }
   ],
   "source": [
    "print(class_scores.groupby('class').describe())"
   ],
   "metadata": {
    "collapsed": false,
    "ExecuteTime": {
     "start_time": "2023-06-03T21:25:09.443795Z",
     "end_time": "2023-06-03T21:25:09.595388Z"
    }
   }
  },
  {
   "cell_type": "markdown",
   "metadata": {
    "jp-MarkdownHeadingCollapsed": true,
    "tags": []
   },
   "source": [
    "# 4. Regular Expression\n",
    "***"
   ]
  },
  {
   "cell_type": "markdown",
   "metadata": {
    "tags": []
   },
   "source": [
    "## 4.1 문자열에서 찾기"
   ]
  },
  {
   "cell_type": "code",
   "execution_count": 11,
   "metadata": {
    "ExecuteTime": {
     "start_time": "2023-06-03T21:59:52.775925Z",
     "end_time": "2023-06-03T21:59:52.828782Z"
    }
   },
   "outputs": [],
   "source": [
    "import pandas as pd\n",
    "import re\n",
    "\n",
    "sample = \"\"\"\n",
    "750101-1123146 01012345677\n",
    "900201-2123121 010-2234-7799\n",
    "950722-2027193 010-2987-7222\n",
    "000321-3123142 011_1234_9087\n",
    "001105-4333127 010 4422 1485\n",
    "0009213876575  01045845987\n",
    "\"\"\""
   ]
  },
  {
   "cell_type": "markdown",
   "metadata": {},
   "source": [
    "### 전화번호 추출하기"
   ]
  },
  {
   "cell_type": "code",
   "execution_count": 217,
   "outputs": [
    {
     "name": "stdout",
     "output_type": "stream",
     "text": [
      "['01012345677', '010-2234-7799', '010-2987-7222', '011_1234_9087', '010 4422 1485', '01045845987']\n"
     ]
    }
   ],
   "source": [
    "p = re.compile('\\d{3}[-_\\s]?\\d{4}[-_\\s]?\\d{4}$', re.MULTILINE)\n",
    "print(p.findall(sample))"
   ],
   "metadata": {
    "collapsed": false,
    "ExecuteTime": {
     "start_time": "2023-06-03T21:48:57.564808Z",
     "end_time": "2023-06-03T21:48:57.604701Z"
    }
   }
  },
  {
   "cell_type": "markdown",
   "metadata": {
    "tags": []
   },
   "source": [
    "### 주민등록번호 추출하기"
   ]
  },
  {
   "cell_type": "code",
   "execution_count": 4,
   "outputs": [
    {
     "name": "stdout",
     "output_type": "stream",
     "text": [
      "['750101-1123146', '900201-2123121', '950722-2027193', '000321-3123142', '001105-4333127', '0009213876575']\n"
     ]
    }
   ],
   "source": [
    "p = re.compile('\\d{6}-?\\d{7}', re.MULTILINE)\n",
    "print(p.findall(sample))"
   ],
   "metadata": {
    "collapsed": false,
    "ExecuteTime": {
     "start_time": "2023-06-03T21:55:17.083762Z",
     "end_time": "2023-06-03T21:55:17.133642Z"
    }
   }
  },
  {
   "cell_type": "markdown",
   "metadata": {},
   "source": [
    "### 여성 주민등록번호 추출하기"
   ]
  },
  {
   "cell_type": "code",
   "execution_count": 5,
   "outputs": [
    {
     "name": "stdout",
     "output_type": "stream",
     "text": [
      "['900201-2123121', '950722-2027193', '001105-4333127']\n"
     ]
    }
   ],
   "source": [
    "p = re.compile('\\d{6}-?[24]\\d{6}')\n",
    "print(p.findall(sample))"
   ],
   "metadata": {
    "collapsed": false,
    "ExecuteTime": {
     "start_time": "2023-06-03T21:57:07.376719Z",
     "end_time": "2023-06-03T21:57:07.629041Z"
    }
   }
  },
  {
   "cell_type": "markdown",
   "metadata": {
    "tags": []
   },
   "source": [
    "## 4.2 데이터프레임에서 찾기"
   ]
  },
  {
   "cell_type": "code",
   "execution_count": 13,
   "outputs": [
    {
     "name": "stdout",
     "output_type": "stream",
     "text": [
      "                   Name        Born        Died  Age          Occupation\n",
      "0     Rosaline Franklin  1920-07-25  1958-04-16   37             Chemist\n",
      "1        William Gosset  1876-06-13  1937-10-16   61        Statistician\n",
      "2  Florence Nightingale  1820-05-12  1910-08-13   90               Nurse\n",
      "3           Marie Curie  1867-11-07  1934-07-04   66             Chemist\n",
      "4         Rachel Carson  1907-05-27  1964-04-14   56           Biologist\n",
      "5             John Snow  1813-03-15  1858-06-16   45           Physician\n",
      "6           Alan Turing  1912-06-23  1954-06-07   41  Computer Scientist\n",
      "7          Johann Gauss  1777-04-30  1855-02-23   77       Mathematician\n"
     ]
    }
   ],
   "source": [
    "scientists = pd.read_csv('../data/scientists.csv')\n",
    "print(scientists)"
   ],
   "metadata": {
    "collapsed": false,
    "ExecuteTime": {
     "start_time": "2023-06-03T21:59:59.185813Z",
     "end_time": "2023-06-03T21:59:59.340904Z"
    }
   }
  },
  {
   "cell_type": "markdown",
   "metadata": {},
   "source": [
    "### 5월에 태어난 과학자 추출"
   ]
  },
  {
   "cell_type": "code",
   "execution_count": 18,
   "outputs": [
    {
     "name": "stdout",
     "output_type": "stream",
     "text": [
      "                   Name        Born        Died  Age Occupation\n",
      "2  Florence Nightingale  1820-05-12  1910-08-13   90      Nurse\n",
      "4         Rachel Carson  1907-05-27  1964-04-14   56  Biologist\n"
     ]
    }
   ],
   "source": [
    "print(scientists[scientists['Born'].str.match('\\d{4}-05-\\d{2}')])"
   ],
   "metadata": {
    "collapsed": false,
    "ExecuteTime": {
     "start_time": "2023-06-03T22:02:18.291110Z",
     "end_time": "2023-06-03T22:02:18.420759Z"
    }
   }
  },
  {
   "cell_type": "markdown",
   "metadata": {},
   "source": [
    "### 성(last name)이 C로 시작하는 과학자 추출"
   ]
  },
  {
   "cell_type": "code",
   "execution_count": 22,
   "outputs": [
    {
     "name": "stdout",
     "output_type": "stream",
     "text": [
      "            Name        Born        Died  Age Occupation\n",
      "3    Marie Curie  1867-11-07  1934-07-04   66    Chemist\n",
      "4  Rachel Carson  1907-05-27  1964-04-14   56  Biologist\n"
     ]
    }
   ],
   "source": [
    "print(scientists[scientists['Name'].str.match('\\w+\\s[cC]\\w+')])"
   ],
   "metadata": {
    "collapsed": false,
    "ExecuteTime": {
     "start_time": "2023-06-03T22:05:54.965165Z",
     "end_time": "2023-06-03T22:05:55.023271Z"
    }
   }
  }
 ],
 "metadata": {
  "kernelspec": {
   "name": "python3",
   "language": "python",
   "display_name": "Python 3 (ipykernel)"
  },
  "language_info": {
   "codemirror_mode": {
    "name": "ipython",
    "version": 3
   },
   "file_extension": ".py",
   "mimetype": "text/x-python",
   "name": "python",
   "nbconvert_exporter": "python",
   "pygments_lexer": "ipython3",
   "version": "3.9.12"
  }
 },
 "nbformat": 4,
 "nbformat_minor": 4
}
