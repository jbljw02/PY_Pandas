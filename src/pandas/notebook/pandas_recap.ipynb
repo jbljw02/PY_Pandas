{
 "cells": [
  {
   "cell_type": "markdown",
   "metadata": {},
   "source": [
    "# Pandas Recap"
   ]
  },
  {
   "cell_type": "markdown",
   "metadata": {
    "jp-MarkdownHeadingCollapsed": true,
    "tags": []
   },
   "source": [
    "# 1. Pandas DataFrame Basics\n",
    "***"
   ]
  },
  {
   "cell_type": "markdown",
   "metadata": {
    "tags": []
   },
   "source": [
    "## 1.1 데이터 집합 불러오기"
   ]
  },
  {
   "cell_type": "code",
   "execution_count": 102,
   "metadata": {
    "ExecuteTime": {
     "start_time": "2023-06-08T23:58:04.350576Z",
     "end_time": "2023-06-08T23:58:04.377504Z"
    }
   },
   "outputs": [],
   "source": [
    "import pandas as pd\n",
    "df = pd.read_csv('../data/gapminder.tsv', sep='\\t')"
   ]
  },
  {
   "cell_type": "code",
   "execution_count": 103,
   "metadata": {
    "ExecuteTime": {
     "start_time": "2023-06-08T23:58:04.379498Z",
     "end_time": "2023-06-08T23:58:04.512356Z"
    }
   },
   "outputs": [
    {
     "data": {
      "text/plain": "       country continent  year  lifeExp       pop   gdpPercap\n0  Afghanistan      Asia  1952   28.801   8425333  779.445314\n1  Afghanistan      Asia  1957   30.332   9240934  820.853030\n2  Afghanistan      Asia  1962   31.997  10267083  853.100710\n3  Afghanistan      Asia  1967   34.020  11537966  836.197138\n4  Afghanistan      Asia  1972   36.088  13079460  739.981106",
      "text/html": "<div>\n<style scoped>\n    .dataframe tbody tr th:only-of-type {\n        vertical-align: middle;\n    }\n\n    .dataframe tbody tr th {\n        vertical-align: top;\n    }\n\n    .dataframe thead th {\n        text-align: right;\n    }\n</style>\n<table border=\"1\" class=\"dataframe\">\n  <thead>\n    <tr style=\"text-align: right;\">\n      <th></th>\n      <th>country</th>\n      <th>continent</th>\n      <th>year</th>\n      <th>lifeExp</th>\n      <th>pop</th>\n      <th>gdpPercap</th>\n    </tr>\n  </thead>\n  <tbody>\n    <tr>\n      <th>0</th>\n      <td>Afghanistan</td>\n      <td>Asia</td>\n      <td>1952</td>\n      <td>28.801</td>\n      <td>8425333</td>\n      <td>779.445314</td>\n    </tr>\n    <tr>\n      <th>1</th>\n      <td>Afghanistan</td>\n      <td>Asia</td>\n      <td>1957</td>\n      <td>30.332</td>\n      <td>9240934</td>\n      <td>820.853030</td>\n    </tr>\n    <tr>\n      <th>2</th>\n      <td>Afghanistan</td>\n      <td>Asia</td>\n      <td>1962</td>\n      <td>31.997</td>\n      <td>10267083</td>\n      <td>853.100710</td>\n    </tr>\n    <tr>\n      <th>3</th>\n      <td>Afghanistan</td>\n      <td>Asia</td>\n      <td>1967</td>\n      <td>34.020</td>\n      <td>11537966</td>\n      <td>836.197138</td>\n    </tr>\n    <tr>\n      <th>4</th>\n      <td>Afghanistan</td>\n      <td>Asia</td>\n      <td>1972</td>\n      <td>36.088</td>\n      <td>13079460</td>\n      <td>739.981106</td>\n    </tr>\n  </tbody>\n</table>\n</div>"
     },
     "execution_count": 103,
     "metadata": {},
     "output_type": "execute_result"
    }
   ],
   "source": [
    "df.head()"
   ]
  },
  {
   "cell_type": "markdown",
   "metadata": {
    "tags": []
   },
   "source": [
    "## 1.2 열단위 데이터 추출"
   ]
  },
  {
   "cell_type": "markdown",
   "metadata": {
    "tags": []
   },
   "source": [
    "### df에서 'country'열을 추출하여 country_sr 변수에 저장하기. (country_sr의 타입은 Series 가 되어야 한다)"
   ]
  },
  {
   "cell_type": "code",
   "execution_count": 104,
   "outputs": [],
   "source": [
    "country_sr = df['country']"
   ],
   "metadata": {
    "collapsed": false,
    "ExecuteTime": {
     "start_time": "2023-06-09T00:03:36.338582Z",
     "end_time": "2023-06-09T00:03:36.387448Z"
    }
   }
  },
  {
   "cell_type": "markdown",
   "metadata": {},
   "source": [
    "### 'year'열과 'pop'열을 동시에 추출하여 year_pop_df 변수에 저장하기. (year_pop_df의 타입은 DataFrame이 되어야 한다)"
   ]
  },
  {
   "cell_type": "code",
   "execution_count": 105,
   "outputs": [],
   "source": [
    "year_pop_df = [['year', 'pop']]"
   ],
   "metadata": {
    "collapsed": false,
    "ExecuteTime": {
     "start_time": "2023-06-09T00:04:01.304157Z",
     "end_time": "2023-06-09T00:04:01.445781Z"
    }
   }
  },
  {
   "cell_type": "markdown",
   "metadata": {},
   "source": [
    "### 'year'열을 추출하여 year_df 변수에 저장하기. (year_df의 타입은 DataFrame이 되어야 한다)"
   ]
  },
  {
   "cell_type": "code",
   "execution_count": 107,
   "outputs": [],
   "source": [
    "year_df = df[['year']]"
   ],
   "metadata": {
    "collapsed": false,
    "ExecuteTime": {
     "start_time": "2023-06-09T00:04:21.728992Z",
     "end_time": "2023-06-09T00:04:21.783445Z"
    }
   }
  },
  {
   "cell_type": "markdown",
   "metadata": {
    "tags": []
   },
   "source": [
    "## 1.3 행단위 데이터 추출"
   ]
  },
  {
   "cell_type": "code",
   "execution_count": 109,
   "outputs": [
    {
     "name": "stdout",
     "output_type": "stream",
     "text": [
      "          country continent  year  lifeExp       pop   gdpPercap\n",
      "0     Afghanistan      Asia  1952   28.801   8425333  779.445314\n",
      "1     Afghanistan      Asia  1957   30.332   9240934  820.853030\n",
      "2     Afghanistan      Asia  1962   31.997  10267083  853.100710\n",
      "3     Afghanistan      Asia  1967   34.020  11537966  836.197138\n",
      "4     Afghanistan      Asia  1972   36.088  13079460  739.981106\n",
      "...           ...       ...   ...      ...       ...         ...\n",
      "1699     Zimbabwe    Africa  1987   62.351   9216418  706.157306\n",
      "1700     Zimbabwe    Africa  1992   60.377  10704340  693.420786\n",
      "1701     Zimbabwe    Africa  1997   46.809  11404948  792.449960\n",
      "1702     Zimbabwe    Africa  2002   39.989  11926563  672.038623\n",
      "1703     Zimbabwe    Africa  2007   43.487  12311143  469.709298\n",
      "\n",
      "[1704 rows x 6 columns]\n"
     ]
    }
   ],
   "source": [
    "print(df)"
   ],
   "metadata": {
    "collapsed": false,
    "ExecuteTime": {
     "start_time": "2023-06-09T00:04:38.034377Z",
     "end_time": "2023-06-09T00:04:38.084251Z"
    }
   }
  },
  {
   "cell_type": "markdown",
   "metadata": {
    "tags": []
   },
   "source": [
    "### df에서 2번째 행 데이터 추출하기 (loc 속성 이용)"
   ]
  },
  {
   "cell_type": "code",
   "execution_count": 108,
   "outputs": [
    {
     "data": {
      "text/plain": "country      Afghanistan\ncontinent           Asia\nyear                1957\nlifeExp           30.332\npop              9240934\ngdpPercap      820.85303\nName: 1, dtype: object"
     },
     "execution_count": 108,
     "metadata": {},
     "output_type": "execute_result"
    }
   ],
   "source": [
    "df.loc[1]"
   ],
   "metadata": {
    "collapsed": false,
    "ExecuteTime": {
     "start_time": "2023-06-09T00:04:32.470351Z",
     "end_time": "2023-06-09T00:04:32.590033Z"
    }
   }
  },
  {
   "cell_type": "markdown",
   "metadata": {},
   "source": [
    "### df에서 2번째 행 데이터 추출하기 (iloc 속성 이용)"
   ]
  },
  {
   "cell_type": "code",
   "execution_count": 110,
   "outputs": [
    {
     "data": {
      "text/plain": "country      Afghanistan\ncontinent           Asia\nyear                1957\nlifeExp           30.332\npop              9240934\ngdpPercap      820.85303\nName: 1, dtype: object"
     },
     "execution_count": 110,
     "metadata": {},
     "output_type": "execute_result"
    }
   ],
   "source": [
    "df.iloc[1]"
   ],
   "metadata": {
    "collapsed": false,
    "ExecuteTime": {
     "start_time": "2023-06-09T00:04:43.888012Z",
     "end_time": "2023-06-09T00:04:44.062487Z"
    }
   }
  },
  {
   "cell_type": "markdown",
   "metadata": {},
   "source": [
    "### df에서 마지막 행 데이터 추출하기 (loc 속성 이용)"
   ]
  },
  {
   "cell_type": "code",
   "execution_count": 111,
   "outputs": [
    {
     "data": {
      "text/plain": "country        Zimbabwe\ncontinent        Africa\nyear               2007\nlifeExp          43.487\npop            12311143\ngdpPercap    469.709298\nName: 1703, dtype: object"
     },
     "execution_count": 111,
     "metadata": {},
     "output_type": "execute_result"
    }
   ],
   "source": [
    "df.loc[df.shape[0]-1]"
   ],
   "metadata": {
    "collapsed": false,
    "ExecuteTime": {
     "start_time": "2023-06-09T00:04:55.195211Z",
     "end_time": "2023-06-09T00:04:55.256049Z"
    }
   }
  },
  {
   "cell_type": "markdown",
   "metadata": {},
   "source": [
    "### df에서 마지막 행 데이터 추출하기 (iloc 속성 이용)"
   ]
  },
  {
   "cell_type": "code",
   "execution_count": 112,
   "outputs": [
    {
     "data": {
      "text/plain": "country        Zimbabwe\ncontinent        Africa\nyear               2007\nlifeExp          43.487\npop            12311143\ngdpPercap    469.709298\nName: 1703, dtype: object"
     },
     "execution_count": 112,
     "metadata": {},
     "output_type": "execute_result"
    }
   ],
   "source": [
    "df.iloc[-1]"
   ],
   "metadata": {
    "collapsed": false,
    "ExecuteTime": {
     "start_time": "2023-06-09T00:05:03.735953Z",
     "end_time": "2023-06-09T00:05:03.891898Z"
    }
   }
  },
  {
   "cell_type": "markdown",
   "metadata": {
    "tags": []
   },
   "source": [
    "## 1.4 loc, iloc 속성 자유자재로 사용하기 - [ [ 행 ], [ 열 ] ]"
   ]
  },
  {
   "cell_type": "markdown",
   "metadata": {
    "tags": []
   },
   "source": [
    "### 'country', 'year', 'gdpPercap' 열에 대해 모든 행 데이터 추출하기(loc 사용)"
   ]
  },
  {
   "cell_type": "code",
   "execution_count": 113,
   "outputs": [
    {
     "data": {
      "text/plain": "          country  year   gdpPercap\n0     Afghanistan  1952  779.445314\n1     Afghanistan  1957  820.853030\n2     Afghanistan  1962  853.100710\n3     Afghanistan  1967  836.197138\n4     Afghanistan  1972  739.981106\n...           ...   ...         ...\n1699     Zimbabwe  1987  706.157306\n1700     Zimbabwe  1992  693.420786\n1701     Zimbabwe  1997  792.449960\n1702     Zimbabwe  2002  672.038623\n1703     Zimbabwe  2007  469.709298\n\n[1704 rows x 3 columns]",
      "text/html": "<div>\n<style scoped>\n    .dataframe tbody tr th:only-of-type {\n        vertical-align: middle;\n    }\n\n    .dataframe tbody tr th {\n        vertical-align: top;\n    }\n\n    .dataframe thead th {\n        text-align: right;\n    }\n</style>\n<table border=\"1\" class=\"dataframe\">\n  <thead>\n    <tr style=\"text-align: right;\">\n      <th></th>\n      <th>country</th>\n      <th>year</th>\n      <th>gdpPercap</th>\n    </tr>\n  </thead>\n  <tbody>\n    <tr>\n      <th>0</th>\n      <td>Afghanistan</td>\n      <td>1952</td>\n      <td>779.445314</td>\n    </tr>\n    <tr>\n      <th>1</th>\n      <td>Afghanistan</td>\n      <td>1957</td>\n      <td>820.853030</td>\n    </tr>\n    <tr>\n      <th>2</th>\n      <td>Afghanistan</td>\n      <td>1962</td>\n      <td>853.100710</td>\n    </tr>\n    <tr>\n      <th>3</th>\n      <td>Afghanistan</td>\n      <td>1967</td>\n      <td>836.197138</td>\n    </tr>\n    <tr>\n      <th>4</th>\n      <td>Afghanistan</td>\n      <td>1972</td>\n      <td>739.981106</td>\n    </tr>\n    <tr>\n      <th>...</th>\n      <td>...</td>\n      <td>...</td>\n      <td>...</td>\n    </tr>\n    <tr>\n      <th>1699</th>\n      <td>Zimbabwe</td>\n      <td>1987</td>\n      <td>706.157306</td>\n    </tr>\n    <tr>\n      <th>1700</th>\n      <td>Zimbabwe</td>\n      <td>1992</td>\n      <td>693.420786</td>\n    </tr>\n    <tr>\n      <th>1701</th>\n      <td>Zimbabwe</td>\n      <td>1997</td>\n      <td>792.449960</td>\n    </tr>\n    <tr>\n      <th>1702</th>\n      <td>Zimbabwe</td>\n      <td>2002</td>\n      <td>672.038623</td>\n    </tr>\n    <tr>\n      <th>1703</th>\n      <td>Zimbabwe</td>\n      <td>2007</td>\n      <td>469.709298</td>\n    </tr>\n  </tbody>\n</table>\n<p>1704 rows × 3 columns</p>\n</div>"
     },
     "execution_count": 113,
     "metadata": {},
     "output_type": "execute_result"
    }
   ],
   "source": [
    "df.loc[:, ['country', 'year', 'gdpPercap']]"
   ],
   "metadata": {
    "collapsed": false,
    "ExecuteTime": {
     "start_time": "2023-06-09T00:05:21.236881Z",
     "end_time": "2023-06-09T00:05:21.358557Z"
    }
   }
  },
  {
   "cell_type": "markdown",
   "metadata": {},
   "source": [
    "### 'country', 'year', 'gdpPercap' 열에 대해 처음부터 100개 행 데이터 추출하기(loc 사용)"
   ]
  },
  {
   "cell_type": "code",
   "execution_count": 114,
   "outputs": [
    {
     "data": {
      "text/plain": "        country  year     gdpPercap\n0   Afghanistan  1952    779.445314\n1   Afghanistan  1957    820.853030\n2   Afghanistan  1962    853.100710\n3   Afghanistan  1967    836.197138\n4   Afghanistan  1972    739.981106\n..          ...   ...           ...\n95      Bahrain  2007  29796.048340\n96   Bangladesh  1952    684.244172\n97   Bangladesh  1957    661.637458\n98   Bangladesh  1962    686.341554\n99   Bangladesh  1967    721.186086\n\n[100 rows x 3 columns]",
      "text/html": "<div>\n<style scoped>\n    .dataframe tbody tr th:only-of-type {\n        vertical-align: middle;\n    }\n\n    .dataframe tbody tr th {\n        vertical-align: top;\n    }\n\n    .dataframe thead th {\n        text-align: right;\n    }\n</style>\n<table border=\"1\" class=\"dataframe\">\n  <thead>\n    <tr style=\"text-align: right;\">\n      <th></th>\n      <th>country</th>\n      <th>year</th>\n      <th>gdpPercap</th>\n    </tr>\n  </thead>\n  <tbody>\n    <tr>\n      <th>0</th>\n      <td>Afghanistan</td>\n      <td>1952</td>\n      <td>779.445314</td>\n    </tr>\n    <tr>\n      <th>1</th>\n      <td>Afghanistan</td>\n      <td>1957</td>\n      <td>820.853030</td>\n    </tr>\n    <tr>\n      <th>2</th>\n      <td>Afghanistan</td>\n      <td>1962</td>\n      <td>853.100710</td>\n    </tr>\n    <tr>\n      <th>3</th>\n      <td>Afghanistan</td>\n      <td>1967</td>\n      <td>836.197138</td>\n    </tr>\n    <tr>\n      <th>4</th>\n      <td>Afghanistan</td>\n      <td>1972</td>\n      <td>739.981106</td>\n    </tr>\n    <tr>\n      <th>...</th>\n      <td>...</td>\n      <td>...</td>\n      <td>...</td>\n    </tr>\n    <tr>\n      <th>95</th>\n      <td>Bahrain</td>\n      <td>2007</td>\n      <td>29796.048340</td>\n    </tr>\n    <tr>\n      <th>96</th>\n      <td>Bangladesh</td>\n      <td>1952</td>\n      <td>684.244172</td>\n    </tr>\n    <tr>\n      <th>97</th>\n      <td>Bangladesh</td>\n      <td>1957</td>\n      <td>661.637458</td>\n    </tr>\n    <tr>\n      <th>98</th>\n      <td>Bangladesh</td>\n      <td>1962</td>\n      <td>686.341554</td>\n    </tr>\n    <tr>\n      <th>99</th>\n      <td>Bangladesh</td>\n      <td>1967</td>\n      <td>721.186086</td>\n    </tr>\n  </tbody>\n</table>\n<p>100 rows × 3 columns</p>\n</div>"
     },
     "execution_count": 114,
     "metadata": {},
     "output_type": "execute_result"
    }
   ],
   "source": [
    "df.loc[:99, ['country', 'year', 'gdpPercap']]"
   ],
   "metadata": {
    "collapsed": false,
    "ExecuteTime": {
     "start_time": "2023-06-09T00:05:44.724537Z",
     "end_time": "2023-06-09T00:05:44.857060Z"
    }
   }
  },
  {
   "cell_type": "markdown",
   "metadata": {},
   "source": [
    "### 'country', 'year', 'gdpPercap' 열에 대해 처음부터 100개 행 데이터 추출하기(iloc 사용)"
   ]
  },
  {
   "cell_type": "code",
   "execution_count": 115,
   "outputs": [
    {
     "data": {
      "text/plain": "        country  year     gdpPercap\n0   Afghanistan  1952    779.445314\n1   Afghanistan  1957    820.853030\n2   Afghanistan  1962    853.100710\n3   Afghanistan  1967    836.197138\n4   Afghanistan  1972    739.981106\n..          ...   ...           ...\n95      Bahrain  2007  29796.048340\n96   Bangladesh  1952    684.244172\n97   Bangladesh  1957    661.637458\n98   Bangladesh  1962    686.341554\n99   Bangladesh  1967    721.186086\n\n[100 rows x 3 columns]",
      "text/html": "<div>\n<style scoped>\n    .dataframe tbody tr th:only-of-type {\n        vertical-align: middle;\n    }\n\n    .dataframe tbody tr th {\n        vertical-align: top;\n    }\n\n    .dataframe thead th {\n        text-align: right;\n    }\n</style>\n<table border=\"1\" class=\"dataframe\">\n  <thead>\n    <tr style=\"text-align: right;\">\n      <th></th>\n      <th>country</th>\n      <th>year</th>\n      <th>gdpPercap</th>\n    </tr>\n  </thead>\n  <tbody>\n    <tr>\n      <th>0</th>\n      <td>Afghanistan</td>\n      <td>1952</td>\n      <td>779.445314</td>\n    </tr>\n    <tr>\n      <th>1</th>\n      <td>Afghanistan</td>\n      <td>1957</td>\n      <td>820.853030</td>\n    </tr>\n    <tr>\n      <th>2</th>\n      <td>Afghanistan</td>\n      <td>1962</td>\n      <td>853.100710</td>\n    </tr>\n    <tr>\n      <th>3</th>\n      <td>Afghanistan</td>\n      <td>1967</td>\n      <td>836.197138</td>\n    </tr>\n    <tr>\n      <th>4</th>\n      <td>Afghanistan</td>\n      <td>1972</td>\n      <td>739.981106</td>\n    </tr>\n    <tr>\n      <th>...</th>\n      <td>...</td>\n      <td>...</td>\n      <td>...</td>\n    </tr>\n    <tr>\n      <th>95</th>\n      <td>Bahrain</td>\n      <td>2007</td>\n      <td>29796.048340</td>\n    </tr>\n    <tr>\n      <th>96</th>\n      <td>Bangladesh</td>\n      <td>1952</td>\n      <td>684.244172</td>\n    </tr>\n    <tr>\n      <th>97</th>\n      <td>Bangladesh</td>\n      <td>1957</td>\n      <td>661.637458</td>\n    </tr>\n    <tr>\n      <th>98</th>\n      <td>Bangladesh</td>\n      <td>1962</td>\n      <td>686.341554</td>\n    </tr>\n    <tr>\n      <th>99</th>\n      <td>Bangladesh</td>\n      <td>1967</td>\n      <td>721.186086</td>\n    </tr>\n  </tbody>\n</table>\n<p>100 rows × 3 columns</p>\n</div>"
     },
     "execution_count": 115,
     "metadata": {},
     "output_type": "execute_result"
    }
   ],
   "source": [
    "df.iloc[:100, [0, 2, 5]]"
   ],
   "metadata": {
    "collapsed": false,
    "ExecuteTime": {
     "start_time": "2023-06-09T00:05:59.750117Z",
     "end_time": "2023-06-09T00:05:59.919661Z"
    }
   }
  },
  {
   "cell_type": "markdown",
   "metadata": {
    "jp-MarkdownHeadingCollapsed": true,
    "tags": []
   },
   "source": [
    "# 2. Pandas Data Structures\n",
    "***"
   ]
  },
  {
   "cell_type": "markdown",
   "metadata": {
    "tags": []
   },
   "source": [
    "## 2.1 데이터 만들기"
   ]
  },
  {
   "cell_type": "code",
   "execution_count": 116,
   "metadata": {
    "ExecuteTime": {
     "start_time": "2023-06-09T00:06:04.489727Z",
     "end_time": "2023-06-09T00:06:04.535602Z"
    }
   },
   "outputs": [],
   "source": [
    "import pandas as pd"
   ]
  },
  {
   "cell_type": "code",
   "execution_count": 119,
   "metadata": {
    "ExecuteTime": {
     "start_time": "2023-06-09T00:06:39.055332Z",
     "end_time": "2023-06-09T00:06:39.097383Z"
    }
   },
   "outputs": [
    {
     "name": "stdout",
     "output_type": "stream",
     "text": [
      "                     Occupation        Born        Died  Age\n",
      "Rosaline Franklin       Chemist  1920-07-25  1958-04-16   37\n",
      "William Gosset     Statistician  1876-06-13  1937-10-16   61\n"
     ]
    }
   ],
   "source": [
    "scientists = pd.DataFrame(\n",
    "    data={'Occupation': ['Chemist', 'Statistician'], \n",
    "          'Born': ['1920-07-25', '1876-06-13'], \n",
    "          'Died': ['1958-04-16', '1937-10-16'],\n",
    "          'Age': [37, 61]},\n",
    "    index=['Rosaline Franklin', 'William Gosset'],\n",
    "    columns=['Occupation', 'Born', 'Died', 'Age'])\n",
    "\n",
    "print(scientists)"
   ]
  },
  {
   "cell_type": "markdown",
   "metadata": {},
   "source": [
    "## 2.2 데이터 추출"
   ]
  },
  {
   "cell_type": "markdown",
   "metadata": {
    "tags": []
   },
   "source": [
    "### 'William Gosset' 행 데이터 추출하기 (loc 사용)"
   ]
  },
  {
   "cell_type": "code",
   "execution_count": 118,
   "outputs": [
    {
     "data": {
      "text/plain": "Occupation    Statistician\nBorn            1876-06-13\nDied            1937-10-16\nAge                     61\nName: William Gosset, dtype: object"
     },
     "execution_count": 118,
     "metadata": {},
     "output_type": "execute_result"
    }
   ],
   "source": [
    "scientists.loc['William Gosset']"
   ],
   "metadata": {
    "collapsed": false,
    "ExecuteTime": {
     "start_time": "2023-06-09T00:06:22.134022Z",
     "end_time": "2023-06-09T00:06:22.277636Z"
    }
   }
  },
  {
   "cell_type": "markdown",
   "metadata": {},
   "source": [
    "### 'William Gosset' 행 데이터 추출하기 (iloc 사용)"
   ]
  },
  {
   "cell_type": "code",
   "execution_count": 120,
   "outputs": [
    {
     "data": {
      "text/plain": "Occupation    Statistician\nBorn            1876-06-13\nDied            1937-10-16\nAge                     61\nName: William Gosset, dtype: object"
     },
     "execution_count": 120,
     "metadata": {},
     "output_type": "execute_result"
    }
   ],
   "source": [
    "scientists.iloc[1]"
   ],
   "metadata": {
    "collapsed": false,
    "ExecuteTime": {
     "start_time": "2023-06-09T00:06:48.048880Z",
     "end_time": "2023-06-09T00:06:48.160138Z"
    }
   }
  },
  {
   "cell_type": "markdown",
   "metadata": {},
   "source": [
    "### 'William Gosset'의 Occupation 추출 (loc 사용)"
   ]
  },
  {
   "cell_type": "code",
   "execution_count": 121,
   "outputs": [
    {
     "data": {
      "text/plain": "'Statistician'"
     },
     "execution_count": 121,
     "metadata": {},
     "output_type": "execute_result"
    }
   ],
   "source": [
    "scientists.loc['William Gosset', 'Occupation']"
   ],
   "metadata": {
    "collapsed": false,
    "ExecuteTime": {
     "start_time": "2023-06-09T00:07:07.551078Z",
     "end_time": "2023-06-09T00:07:07.667807Z"
    }
   }
  },
  {
   "cell_type": "markdown",
   "metadata": {},
   "source": [
    "### 'Rosaline Franklin'의 Occupation을 Programmer 로 변경(iloc 사용)"
   ]
  },
  {
   "cell_type": "code",
   "execution_count": 122,
   "outputs": [
    {
     "data": {
      "text/plain": "                     Occupation        Born        Died  Age\nRosaline Franklin    Programmer  1920-07-25  1958-04-16   37\nWilliam Gosset     Statistician  1876-06-13  1937-10-16   61",
      "text/html": "<div>\n<style scoped>\n    .dataframe tbody tr th:only-of-type {\n        vertical-align: middle;\n    }\n\n    .dataframe tbody tr th {\n        vertical-align: top;\n    }\n\n    .dataframe thead th {\n        text-align: right;\n    }\n</style>\n<table border=\"1\" class=\"dataframe\">\n  <thead>\n    <tr style=\"text-align: right;\">\n      <th></th>\n      <th>Occupation</th>\n      <th>Born</th>\n      <th>Died</th>\n      <th>Age</th>\n    </tr>\n  </thead>\n  <tbody>\n    <tr>\n      <th>Rosaline Franklin</th>\n      <td>Programmer</td>\n      <td>1920-07-25</td>\n      <td>1958-04-16</td>\n      <td>37</td>\n    </tr>\n    <tr>\n      <th>William Gosset</th>\n      <td>Statistician</td>\n      <td>1876-06-13</td>\n      <td>1937-10-16</td>\n      <td>61</td>\n    </tr>\n  </tbody>\n</table>\n</div>"
     },
     "execution_count": 122,
     "metadata": {},
     "output_type": "execute_result"
    }
   ],
   "source": [
    "scientists.iloc[0, 0] = 'Programmer'\n",
    "scientists"
   ],
   "metadata": {
    "collapsed": false,
    "ExecuteTime": {
     "start_time": "2023-06-09T00:07:27.606247Z",
     "end_time": "2023-06-09T00:07:27.676326Z"
    }
   }
  },
  {
   "cell_type": "markdown",
   "metadata": {
    "tags": []
   },
   "source": [
    "## 2.3 index, columns, values 속성 사용하기"
   ]
  },
  {
   "cell_type": "markdown",
   "metadata": {
    "tags": []
   },
   "source": [
    "### scientists의 index 가져오기"
   ]
  },
  {
   "cell_type": "code",
   "execution_count": 123,
   "outputs": [
    {
     "data": {
      "text/plain": "Index(['Rosaline Franklin', 'William Gosset'], dtype='object')"
     },
     "execution_count": 123,
     "metadata": {},
     "output_type": "execute_result"
    }
   ],
   "source": [
    "scientists.index"
   ],
   "metadata": {
    "collapsed": false,
    "ExecuteTime": {
     "start_time": "2023-06-09T00:07:36.317118Z",
     "end_time": "2023-06-09T00:07:36.489659Z"
    }
   }
  },
  {
   "cell_type": "markdown",
   "metadata": {
    "tags": []
   },
   "source": [
    "### scientists의 columns 가져오기"
   ]
  },
  {
   "cell_type": "code",
   "execution_count": 124,
   "outputs": [
    {
     "data": {
      "text/plain": "Index(['Occupation', 'Born', 'Died', 'Age'], dtype='object')"
     },
     "execution_count": 124,
     "metadata": {},
     "output_type": "execute_result"
    }
   ],
   "source": [
    "scientists.columns"
   ],
   "metadata": {
    "collapsed": false,
    "ExecuteTime": {
     "start_time": "2023-06-09T00:07:40.140822Z",
     "end_time": "2023-06-09T00:07:40.187411Z"
    }
   }
  },
  {
   "cell_type": "markdown",
   "metadata": {},
   "source": [
    "### scientists의 모든 values 가져오기"
   ]
  },
  {
   "cell_type": "code",
   "execution_count": 125,
   "outputs": [
    {
     "data": {
      "text/plain": "array([['Programmer', '1920-07-25', '1958-04-16', 37],\n       ['Statistician', '1876-06-13', '1937-10-16', 61]], dtype=object)"
     },
     "execution_count": 125,
     "metadata": {},
     "output_type": "execute_result"
    }
   ],
   "source": [
    "scientists.values"
   ],
   "metadata": {
    "collapsed": false,
    "ExecuteTime": {
     "start_time": "2023-06-09T00:07:42.966591Z",
     "end_time": "2023-06-09T00:07:43.035406Z"
    }
   }
  },
  {
   "cell_type": "markdown",
   "metadata": {
    "tags": []
   },
   "source": [
    "## 2.4 시리즈의 기초 통계 메서드 사용하기"
   ]
  },
  {
   "cell_type": "markdown",
   "metadata": {},
   "source": [
    "### 시리즈 메서드 정리\n",
    "\n",
    "| 시리즈 메서드    | 설명 |\n",
    "| ----------------| --- |\n",
    "| append          | 2개 이상의 시리즈 연결 |\n",
    "| describe        | 요약 통계량 계산 |\n",
    "| drop_duplicates | 중복값이 없는 시리즈 반환 |\n",
    "| equals          | 시리즈에 해당 값을 가진 요소가 있는지 확인 |\n",
    "| get_values      | 시리즈 값 구하기 (values 속성과 동일) |\n",
    "| isin            | 시리즈에 포함된 값이 있는지 확인 |\n",
    "| min             | 최솟값 반환 |\n",
    "| max             | 최댓값 반환 |\n",
    "| mean            | 산술 평균 반환 |\n",
    "| median          | 중간값 반환 |\n",
    "| replace         | 특정 값을 가진 시리즈 값을 교체 |\n",
    "| sample          | 시리즈에서 임의의 값을 반환 |\n",
    "| sort_values     | 값을 정렬 |\n",
    "| to_frame        | 시리즈를 데이터프레임으로 변환 |"
   ]
  },
  {
   "cell_type": "markdown",
   "metadata": {},
   "source": [
    "### scientiest 에서 평균 나이 ('Age'열) 구하기"
   ]
  },
  {
   "cell_type": "code",
   "execution_count": 126,
   "outputs": [
    {
     "data": {
      "text/plain": "49.0"
     },
     "execution_count": 126,
     "metadata": {},
     "output_type": "execute_result"
    }
   ],
   "source": [
    "scientists['Age'].mean()"
   ],
   "metadata": {
    "collapsed": false,
    "ExecuteTime": {
     "start_time": "2023-06-09T00:07:57.767930Z",
     "end_time": "2023-06-09T00:07:57.821789Z"
    }
   }
  },
  {
   "cell_type": "markdown",
   "metadata": {},
   "source": [
    "### scientiest 에서 최대 나이 ('Age'열) 구하기"
   ]
  },
  {
   "cell_type": "code",
   "execution_count": 127,
   "outputs": [
    {
     "data": {
      "text/plain": "61"
     },
     "execution_count": 127,
     "metadata": {},
     "output_type": "execute_result"
    }
   ],
   "source": [
    "scientists['Age'].max()"
   ],
   "metadata": {
    "collapsed": false,
    "ExecuteTime": {
     "start_time": "2023-06-09T00:08:06.504782Z",
     "end_time": "2023-06-09T00:08:06.615825Z"
    }
   }
  },
  {
   "cell_type": "markdown",
   "metadata": {},
   "source": [
    "### scientiest 에서 최소 나이 ('Age'열) 구하기"
   ]
  },
  {
   "cell_type": "code",
   "execution_count": 128,
   "outputs": [
    {
     "data": {
      "text/plain": "49.0"
     },
     "execution_count": 128,
     "metadata": {},
     "output_type": "execute_result"
    }
   ],
   "source": [
    "scientists['Age'].mean()"
   ],
   "metadata": {
    "collapsed": false,
    "ExecuteTime": {
     "start_time": "2023-06-09T00:08:13.197783Z",
     "end_time": "2023-06-09T00:08:13.235247Z"
    }
   }
  },
  {
   "cell_type": "markdown",
   "metadata": {},
   "source": [
    "### scientiest 에서 나이('Age'열)에 대한 표준편차 구하기"
   ]
  },
  {
   "cell_type": "code",
   "execution_count": 129,
   "outputs": [
    {
     "data": {
      "text/plain": "16.97056274847714"
     },
     "execution_count": 129,
     "metadata": {},
     "output_type": "execute_result"
    }
   ],
   "source": [
    "scientists['Age'].std()"
   ],
   "metadata": {
    "collapsed": false,
    "ExecuteTime": {
     "start_time": "2023-06-09T00:08:19.158773Z",
     "end_time": "2023-06-09T00:08:19.228590Z"
    }
   }
  },
  {
   "cell_type": "markdown",
   "metadata": {
    "tags": []
   },
   "source": [
    "## 2.5 시리즈 다루기 - 응용"
   ]
  },
  {
   "cell_type": "code",
   "execution_count": 130,
   "metadata": {
    "tags": [],
    "ExecuteTime": {
     "start_time": "2023-06-09T00:08:22.662828Z",
     "end_time": "2023-06-09T00:08:22.782061Z"
    }
   },
   "outputs": [
    {
     "name": "stdout",
     "output_type": "stream",
     "text": [
      "                   Name        Born        Died  Age          Occupation\n",
      "0     Rosaline Franklin  1920-07-25  1958-04-16   37             Chemist\n",
      "1        William Gosset  1876-06-13  1937-10-16   61        Statistician\n",
      "2  Florence Nightingale  1820-05-12  1910-08-13   90               Nurse\n",
      "3           Marie Curie  1867-11-07  1934-07-04   66             Chemist\n",
      "4         Rachel Carson  1907-05-27  1964-04-14   56           Biologist\n",
      "5             John Snow  1813-03-15  1858-06-16   45           Physician\n",
      "6           Alan Turing  1912-06-23  1954-06-07   41  Computer Scientist\n",
      "7          Johann Gauss  1777-04-30  1855-02-23   77       Mathematician\n"
     ]
    }
   ],
   "source": [
    "scientists = pd.read_csv('../data/scientists.csv')\n",
    "print(scientists)"
   ]
  },
  {
   "cell_type": "markdown",
   "metadata": {},
   "source": [
    "### 수명(Age)이 평균수명 보다 적은 과학자들의 수명 데이터(시리즈) 추출하기"
   ]
  },
  {
   "cell_type": "code",
   "execution_count": 131,
   "outputs": [
    {
     "data": {
      "text/plain": "0    37\n4    56\n5    45\n6    41\nName: Age, dtype: int64"
     },
     "execution_count": 131,
     "metadata": {},
     "output_type": "execute_result"
    }
   ],
   "source": [
    "scientists['Age'][scientists['Age'] < scientists['Age'].mean()]"
   ],
   "metadata": {
    "collapsed": false,
    "ExecuteTime": {
     "start_time": "2023-06-09T00:08:46.965397Z",
     "end_time": "2023-06-09T00:08:47.036208Z"
    }
   }
  },
  {
   "cell_type": "markdown",
   "metadata": {},
   "source": [
    "### 수명(Age)이 평균수명 보다 큰 과학자들의 이름(Name) 데이터(시리즈) 추출하기"
   ]
  },
  {
   "cell_type": "code",
   "execution_count": 133,
   "outputs": [
    {
     "data": {
      "text/plain": "1          William Gosset\n2    Florence Nightingale\n3             Marie Curie\n7            Johann Gauss\nName: Name, dtype: object"
     },
     "execution_count": 133,
     "metadata": {},
     "output_type": "execute_result"
    }
   ],
   "source": [
    "scientists['Name'][scientists['Age'] > scientists['Age'].mean()]"
   ],
   "metadata": {
    "collapsed": false,
    "ExecuteTime": {
     "start_time": "2023-06-09T00:09:18.860707Z",
     "end_time": "2023-06-09T00:09:18.916345Z"
    }
   }
  },
  {
   "cell_type": "markdown",
   "metadata": {},
   "source": [
    "### 1800년대에 태어난 과학자들의 이름(Name) 데이터(시리즈) 추출하기 (& 연산자 사용)"
   ]
  },
  {
   "cell_type": "code",
   "execution_count": 134,
   "outputs": [
    {
     "data": {
      "text/plain": "1          William Gosset\n2    Florence Nightingale\n3             Marie Curie\n5               John Snow\nName: Name, dtype: object"
     },
     "execution_count": 134,
     "metadata": {},
     "output_type": "execute_result"
    }
   ],
   "source": [
    "scientists['Name'][('1800-01-01' <= scientists['Born']) & (scientists['Born'] < '1900-01-01')]"
   ],
   "metadata": {
    "collapsed": false,
    "ExecuteTime": {
     "start_time": "2023-06-09T00:10:15.859510Z",
     "end_time": "2023-06-09T00:10:15.913366Z"
    }
   }
  },
  {
   "cell_type": "markdown",
   "metadata": {},
   "source": [
    "### 직업(Occupation)이 Chemist 또는 Physician 인 과학자들의 이름(Name) 데이터(시리즈) 추출하기 (| 연산자 사용)"
   ]
  },
  {
   "cell_type": "code",
   "execution_count": 136,
   "outputs": [
    {
     "data": {
      "text/plain": "0    Rosaline Franklin\n3          Marie Curie\n5            John Snow\nName: Name, dtype: object"
     },
     "execution_count": 136,
     "metadata": {},
     "output_type": "execute_result"
    }
   ],
   "source": [
    "scientists['Name'][(scientists['Occupation'] == 'Chemist') | (scientists['Occupation'] == 'Physician')]"
   ],
   "metadata": {
    "collapsed": false,
    "ExecuteTime": {
     "start_time": "2023-06-09T00:11:27.349442Z",
     "end_time": "2023-06-09T00:11:27.399296Z"
    }
   }
  },
  {
   "cell_type": "markdown",
   "metadata": {
    "tags": []
   },
   "source": [
    "### 수명 데이터에 10 더하기"
   ]
  },
  {
   "cell_type": "code",
   "execution_count": 137,
   "outputs": [
    {
     "data": {
      "text/plain": "0     47\n1     71\n2    100\n3     76\n4     66\n5     55\n6     51\n7     87\nName: Age, dtype: int64"
     },
     "execution_count": 137,
     "metadata": {},
     "output_type": "execute_result"
    }
   ],
   "source": [
    "scientists['Age'] + 10"
   ],
   "metadata": {
    "collapsed": false,
    "ExecuteTime": {
     "start_time": "2023-06-09T00:11:32.863234Z",
     "end_time": "2023-06-09T00:11:32.931037Z"
    }
   }
  },
  {
   "cell_type": "markdown",
   "metadata": {
    "tags": []
   },
   "source": [
    "## 2.6 데이터프레임 다루기"
   ]
  },
  {
   "cell_type": "markdown",
   "metadata": {
    "tags": []
   },
   "source": [
    "### 수명(Age)이 평균수명 보다 적은 과학자들의 전체 데이터(데이터프레임) 추출하기"
   ]
  },
  {
   "cell_type": "code",
   "execution_count": 138,
   "outputs": [
    {
     "data": {
      "text/plain": "                Name        Born        Died  Age          Occupation\n0  Rosaline Franklin  1920-07-25  1958-04-16   37             Chemist\n4      Rachel Carson  1907-05-27  1964-04-14   56           Biologist\n5          John Snow  1813-03-15  1858-06-16   45           Physician\n6        Alan Turing  1912-06-23  1954-06-07   41  Computer Scientist",
      "text/html": "<div>\n<style scoped>\n    .dataframe tbody tr th:only-of-type {\n        vertical-align: middle;\n    }\n\n    .dataframe tbody tr th {\n        vertical-align: top;\n    }\n\n    .dataframe thead th {\n        text-align: right;\n    }\n</style>\n<table border=\"1\" class=\"dataframe\">\n  <thead>\n    <tr style=\"text-align: right;\">\n      <th></th>\n      <th>Name</th>\n      <th>Born</th>\n      <th>Died</th>\n      <th>Age</th>\n      <th>Occupation</th>\n    </tr>\n  </thead>\n  <tbody>\n    <tr>\n      <th>0</th>\n      <td>Rosaline Franklin</td>\n      <td>1920-07-25</td>\n      <td>1958-04-16</td>\n      <td>37</td>\n      <td>Chemist</td>\n    </tr>\n    <tr>\n      <th>4</th>\n      <td>Rachel Carson</td>\n      <td>1907-05-27</td>\n      <td>1964-04-14</td>\n      <td>56</td>\n      <td>Biologist</td>\n    </tr>\n    <tr>\n      <th>5</th>\n      <td>John Snow</td>\n      <td>1813-03-15</td>\n      <td>1858-06-16</td>\n      <td>45</td>\n      <td>Physician</td>\n    </tr>\n    <tr>\n      <th>6</th>\n      <td>Alan Turing</td>\n      <td>1912-06-23</td>\n      <td>1954-06-07</td>\n      <td>41</td>\n      <td>Computer Scientist</td>\n    </tr>\n  </tbody>\n</table>\n</div>"
     },
     "execution_count": 138,
     "metadata": {},
     "output_type": "execute_result"
    }
   ],
   "source": [
    "scientists[scientists['Age'] < scientists['Age'].mean()]"
   ],
   "metadata": {
    "collapsed": false,
    "ExecuteTime": {
     "start_time": "2023-06-09T00:11:49.121332Z",
     "end_time": "2023-06-09T00:11:49.165146Z"
    }
   }
  },
  {
   "cell_type": "markdown",
   "metadata": {},
   "source": [
    "### 출생일(Born) 데이터의 타입을 datetime 으로 변환하여 새로운 열(Born_dt)로 추가하기 (to_datetime 사용)"
   ]
  },
  {
   "cell_type": "code",
   "execution_count": 139,
   "outputs": [],
   "source": [
    "scientists['Born_dt'] = pd.to_datetime(scientists['Born'], format='%Y-%m-%d')"
   ],
   "metadata": {
    "collapsed": false,
    "ExecuteTime": {
     "start_time": "2023-06-09T00:12:28.019258Z",
     "end_time": "2023-06-09T00:12:28.102075Z"
    }
   }
  },
  {
   "cell_type": "markdown",
   "metadata": {},
   "source": [
    "### 출생일(Born_dt) 데이터를 사용하여 1850년 이후에 태어난 과학자의 전체데이터(데이터프레임) 추출하기"
   ]
  },
  {
   "cell_type": "code",
   "execution_count": 140,
   "outputs": [
    {
     "data": {
      "text/plain": "                Name        Born        Died  Age          Occupation   \n0  Rosaline Franklin  1920-07-25  1958-04-16   37             Chemist  \\\n1     William Gosset  1876-06-13  1937-10-16   61        Statistician   \n3        Marie Curie  1867-11-07  1934-07-04   66             Chemist   \n4      Rachel Carson  1907-05-27  1964-04-14   56           Biologist   \n6        Alan Turing  1912-06-23  1954-06-07   41  Computer Scientist   \n\n     Born_dt  \n0 1920-07-25  \n1 1876-06-13  \n3 1867-11-07  \n4 1907-05-27  \n6 1912-06-23  ",
      "text/html": "<div>\n<style scoped>\n    .dataframe tbody tr th:only-of-type {\n        vertical-align: middle;\n    }\n\n    .dataframe tbody tr th {\n        vertical-align: top;\n    }\n\n    .dataframe thead th {\n        text-align: right;\n    }\n</style>\n<table border=\"1\" class=\"dataframe\">\n  <thead>\n    <tr style=\"text-align: right;\">\n      <th></th>\n      <th>Name</th>\n      <th>Born</th>\n      <th>Died</th>\n      <th>Age</th>\n      <th>Occupation</th>\n      <th>Born_dt</th>\n    </tr>\n  </thead>\n  <tbody>\n    <tr>\n      <th>0</th>\n      <td>Rosaline Franklin</td>\n      <td>1920-07-25</td>\n      <td>1958-04-16</td>\n      <td>37</td>\n      <td>Chemist</td>\n      <td>1920-07-25</td>\n    </tr>\n    <tr>\n      <th>1</th>\n      <td>William Gosset</td>\n      <td>1876-06-13</td>\n      <td>1937-10-16</td>\n      <td>61</td>\n      <td>Statistician</td>\n      <td>1876-06-13</td>\n    </tr>\n    <tr>\n      <th>3</th>\n      <td>Marie Curie</td>\n      <td>1867-11-07</td>\n      <td>1934-07-04</td>\n      <td>66</td>\n      <td>Chemist</td>\n      <td>1867-11-07</td>\n    </tr>\n    <tr>\n      <th>4</th>\n      <td>Rachel Carson</td>\n      <td>1907-05-27</td>\n      <td>1964-04-14</td>\n      <td>56</td>\n      <td>Biologist</td>\n      <td>1907-05-27</td>\n    </tr>\n    <tr>\n      <th>6</th>\n      <td>Alan Turing</td>\n      <td>1912-06-23</td>\n      <td>1954-06-07</td>\n      <td>41</td>\n      <td>Computer Scientist</td>\n      <td>1912-06-23</td>\n    </tr>\n  </tbody>\n</table>\n</div>"
     },
     "execution_count": 140,
     "metadata": {},
     "output_type": "execute_result"
    }
   ],
   "source": [
    "scientists[scientists['Born_dt'] >= '1850-01-01']"
   ],
   "metadata": {
    "collapsed": false,
    "ExecuteTime": {
     "start_time": "2023-06-09T00:12:58.838099Z",
     "end_time": "2023-06-09T00:12:59.027591Z"
    }
   }
  },
  {
   "cell_type": "markdown",
   "metadata": {
    "tags": []
   },
   "source": [
    "### Born_dt 열 삭제하기 (drop 함수 사용)"
   ]
  },
  {
   "cell_type": "code",
   "execution_count": 141,
   "outputs": [],
   "source": [
    "scientists.drop('Born_dt', axis=1, inplace=True)"
   ],
   "metadata": {
    "collapsed": false,
    "ExecuteTime": {
     "start_time": "2023-06-09T00:13:25.620294Z",
     "end_time": "2023-06-09T00:13:25.680092Z"
    }
   }
  },
  {
   "cell_type": "markdown",
   "metadata": {
    "jp-MarkdownHeadingCollapsed": true,
    "tags": []
   },
   "source": [
    "# 3. Data Assembly, Tidy Data, Data Types and Groupby\n",
    "***"
   ]
  },
  {
   "cell_type": "markdown",
   "metadata": {
    "tags": []
   },
   "source": [
    "## 3.1 데이터 불러오기"
   ]
  },
  {
   "cell_type": "code",
   "execution_count": 142,
   "metadata": {
    "ExecuteTime": {
     "start_time": "2023-06-09T00:13:31.286787Z",
     "end_time": "2023-06-09T00:13:31.340640Z"
    }
   },
   "outputs": [],
   "source": [
    "import pandas as pd"
   ]
  },
  {
   "cell_type": "code",
   "execution_count": 143,
   "metadata": {
    "ExecuteTime": {
     "start_time": "2023-06-09T00:13:31.490243Z",
     "end_time": "2023-06-09T00:13:31.635851Z"
    }
   },
   "outputs": [],
   "source": [
    "scores_1_1 = pd.read_csv('../data/scores_1_1.csv', header=None)\n",
    "scores_1_2 = pd.read_csv('../data/scores_1_2.csv', header=None)\n",
    "scores_2_1 = pd.read_csv('../data/scores_2_1.csv', header=None)\n",
    "scores_2_2 = pd.read_csv('../data/scores_2_2.csv', header=None)"
   ]
  },
  {
   "cell_type": "markdown",
   "metadata": {},
   "source": [
    "## 3.2 데이터 합치기"
   ]
  },
  {
   "cell_type": "markdown",
   "metadata": {
    "tags": []
   },
   "source": [
    "### scores_1_1 와 scores_1_2 를 열기준(axis=1) 으로 합쳐 scores_1 변수에 저장하기 (concat)"
   ]
  },
  {
   "cell_type": "code",
   "execution_count": 144,
   "outputs": [],
   "source": [
    "scores_1 = pd.concat([scores_1_1, scores_1_2], axis=1, ignore_index=True)"
   ],
   "metadata": {
    "collapsed": false,
    "ExecuteTime": {
     "start_time": "2023-06-09T00:14:13.643023Z",
     "end_time": "2023-06-09T00:14:13.709035Z"
    }
   }
  },
  {
   "cell_type": "markdown",
   "metadata": {},
   "source": [
    "### scores_1 의 열이름을 1, 2, 3, ... 로 변경하기"
   ]
  },
  {
   "cell_type": "code",
   "execution_count": 145,
   "outputs": [],
   "source": [
    "scores_1.columns = range(1, len(scores_1.columns) + 1)"
   ],
   "metadata": {
    "collapsed": false,
    "ExecuteTime": {
     "start_time": "2023-06-09T00:14:32.144441Z",
     "end_time": "2023-06-09T00:14:32.251959Z"
    }
   }
  },
  {
   "cell_type": "markdown",
   "metadata": {
    "tags": []
   },
   "source": [
    "### scores_1 에서 누락 데이터를 0 으로 채우기 (fillna)"
   ]
  },
  {
   "cell_type": "code",
   "execution_count": 147,
   "outputs": [],
   "source": [
    "scores_1.fillna(0, inplace=True)"
   ],
   "metadata": {
    "collapsed": false,
    "ExecuteTime": {
     "start_time": "2023-06-09T00:14:53.621453Z",
     "end_time": "2023-06-09T00:14:53.663580Z"
    }
   }
  },
  {
   "cell_type": "markdown",
   "metadata": {},
   "source": [
    "### scores_1 모든 데이터타입을 int32 으로 변경하기 (astype)"
   ]
  },
  {
   "cell_type": "code",
   "execution_count": 148,
   "outputs": [],
   "source": [
    "scores_1 = scores_1.astype('int32')"
   ],
   "metadata": {
    "collapsed": false,
    "ExecuteTime": {
     "start_time": "2023-06-09T00:15:10.548319Z",
     "end_time": "2023-06-09T00:15:10.596598Z"
    }
   }
  },
  {
   "cell_type": "markdown",
   "metadata": {},
   "source": [
    "### scores_1 의 모든 데이터에 4를 곱한 값으로 재지정 하기 (브로드캐스팅)"
   ]
  },
  {
   "cell_type": "code",
   "execution_count": 149,
   "outputs": [],
   "source": [
    "scores_1 = scores_1 * 4"
   ],
   "metadata": {
    "collapsed": false,
    "ExecuteTime": {
     "start_time": "2023-06-09T00:15:15.044264Z",
     "end_time": "2023-06-09T00:15:15.086466Z"
    }
   }
  },
  {
   "cell_type": "markdown",
   "metadata": {
    "tags": []
   },
   "source": [
    "### scores_1 에 새로운 class 열 추가하기(class 데이터 값은 모두 '1반')"
   ]
  },
  {
   "cell_type": "code",
   "execution_count": 150,
   "outputs": [],
   "source": [
    "scores_1['class'] = '1반'"
   ],
   "metadata": {
    "collapsed": false,
    "ExecuteTime": {
     "start_time": "2023-06-09T00:15:21.897402Z",
     "end_time": "2023-06-09T00:15:22.089887Z"
    }
   }
  },
  {
   "cell_type": "markdown",
   "metadata": {
    "tags": []
   },
   "source": [
    "### scores_2_1 와 scores_2_2 를 열기준(axis=1) 으로 합쳐 scores_2 변수에 저장하기 (concat)"
   ]
  },
  {
   "cell_type": "code",
   "execution_count": 151,
   "outputs": [],
   "source": [
    "scores_2 = pd.concat([scores_2_1, scores_2_2], axis=1, ignore_index=True)"
   ],
   "metadata": {
    "collapsed": false,
    "ExecuteTime": {
     "start_time": "2023-06-09T00:15:50.969057Z",
     "end_time": "2023-06-09T00:15:51.076068Z"
    }
   }
  },
  {
   "cell_type": "markdown",
   "metadata": {},
   "source": [
    "### scores_2 의 열이름을 1, 2, 3, ... 로 변경하기 (range)"
   ]
  },
  {
   "cell_type": "code",
   "execution_count": 153,
   "outputs": [],
   "source": [
    "scores_2.columns = range(1, len(scores_2.columns) + 1)"
   ],
   "metadata": {
    "collapsed": false,
    "ExecuteTime": {
     "start_time": "2023-06-09T00:16:08.974807Z",
     "end_time": "2023-06-09T00:16:09.034470Z"
    }
   }
  },
  {
   "cell_type": "markdown",
   "metadata": {
    "tags": []
   },
   "source": [
    "### scores_2 에서 누락 데이터를 0 으로 채우기 (fillna)"
   ]
  },
  {
   "cell_type": "code",
   "execution_count": 154,
   "outputs": [],
   "source": [
    "scores_2.fillna(0, inplace=True)"
   ],
   "metadata": {
    "collapsed": false,
    "ExecuteTime": {
     "start_time": "2023-06-09T00:16:14.955036Z",
     "end_time": "2023-06-09T00:16:14.997969Z"
    }
   }
  },
  {
   "cell_type": "markdown",
   "metadata": {},
   "source": [
    "### scores_2 의 모든 데이터타입을 int32 으로 변경하기 (astype)"
   ]
  },
  {
   "cell_type": "code",
   "execution_count": 155,
   "outputs": [],
   "source": [
    "scores_2 = scores_2.astype('int32')"
   ],
   "metadata": {
    "collapsed": false,
    "ExecuteTime": {
     "start_time": "2023-06-09T00:16:22.944635Z",
     "end_time": "2023-06-09T00:16:22.986524Z"
    }
   }
  },
  {
   "cell_type": "markdown",
   "metadata": {},
   "source": [
    "### scores_2 의 모든 데이터에 4를 곱한 값으로 재지정하기 (브로드캐스팅)"
   ]
  },
  {
   "cell_type": "code",
   "execution_count": 156,
   "outputs": [],
   "source": [
    "scores_2 = scores_2 * 4"
   ],
   "metadata": {
    "collapsed": false,
    "ExecuteTime": {
     "start_time": "2023-06-09T00:16:28.255210Z",
     "end_time": "2023-06-09T00:16:28.297809Z"
    }
   }
  },
  {
   "cell_type": "markdown",
   "metadata": {},
   "source": [
    "### sores_2 에 새로운 class열 추가하기(class 데이터 값은 모두 '2반')"
   ]
  },
  {
   "cell_type": "code",
   "execution_count": 157,
   "outputs": [],
   "source": [
    "scores_2['class'] = '2반'"
   ],
   "metadata": {
    "collapsed": false,
    "ExecuteTime": {
     "start_time": "2023-06-09T00:16:40.556739Z",
     "end_time": "2023-06-09T00:16:40.638520Z"
    }
   }
  },
  {
   "cell_type": "markdown",
   "metadata": {},
   "source": [
    "### scores_1 과 scores_2 를 행기준(axis=0) 으로 합쳐 scores 변수에 저장하기 (concat)"
   ]
  },
  {
   "cell_type": "code",
   "execution_count": 158,
   "outputs": [],
   "source": [
    "scores = pd.concat([scores_1, scores_2], axis=0, ignore_index=True)"
   ],
   "metadata": {
    "collapsed": false,
    "ExecuteTime": {
     "start_time": "2023-06-09T00:17:02.651746Z",
     "end_time": "2023-06-09T00:17:02.750034Z"
    }
   }
  },
  {
   "cell_type": "markdown",
   "metadata": {},
   "source": [
    "### scores에 새로운 id열(values = 1, 2, 3, ...) 추가하기"
   ]
  },
  {
   "cell_type": "code",
   "execution_count": 160,
   "outputs": [],
   "source": [
    "scores['id'] = range(1, len(scores) + 1)"
   ],
   "metadata": {
    "collapsed": false,
    "ExecuteTime": {
     "start_time": "2023-06-09T00:20:04.898837Z",
     "end_time": "2023-06-09T00:20:04.963760Z"
    }
   }
  },
  {
   "cell_type": "markdown",
   "metadata": {},
   "source": [
    "### class 열의 데이터타입을 category 로 변경하기 (astype)"
   ]
  },
  {
   "cell_type": "code",
   "execution_count": 161,
   "outputs": [],
   "source": [
    "scores['class'] = scores['class'].astype('category')"
   ],
   "metadata": {
    "collapsed": false,
    "ExecuteTime": {
     "start_time": "2023-06-09T00:20:22.452910Z",
     "end_time": "2023-06-09T00:20:22.584557Z"
    }
   }
  },
  {
   "cell_type": "markdown",
   "metadata": {},
   "source": [
    "## 3.3 분석하기"
   ]
  },
  {
   "cell_type": "markdown",
   "metadata": {
    "tags": []
   },
   "source": [
    "### class, id 열을 고정하고, 나머지 열을 피벗하여 scores_long 변수에 저장하기 (melt - var_name='question', value_name='score')"
   ]
  },
  {
   "cell_type": "code",
   "execution_count": 165,
   "outputs": [
    {
     "data": {
      "text/plain": "     class  id question  score\n0       1반   1        1      0\n1       1반   2        1      4\n2       1반   3        1      0\n3       1반   4        1      4\n4       1반   5        1      4\n...    ...  ..      ...    ...\n1895    2반  72       25      4\n1896    2반  73       25      0\n1897    2반  74       25      4\n1898    2반  75       25      0\n1899    2반  76       25      4\n\n[1900 rows x 4 columns]",
      "text/html": "<div>\n<style scoped>\n    .dataframe tbody tr th:only-of-type {\n        vertical-align: middle;\n    }\n\n    .dataframe tbody tr th {\n        vertical-align: top;\n    }\n\n    .dataframe thead th {\n        text-align: right;\n    }\n</style>\n<table border=\"1\" class=\"dataframe\">\n  <thead>\n    <tr style=\"text-align: right;\">\n      <th></th>\n      <th>class</th>\n      <th>id</th>\n      <th>question</th>\n      <th>score</th>\n    </tr>\n  </thead>\n  <tbody>\n    <tr>\n      <th>0</th>\n      <td>1반</td>\n      <td>1</td>\n      <td>1</td>\n      <td>0</td>\n    </tr>\n    <tr>\n      <th>1</th>\n      <td>1반</td>\n      <td>2</td>\n      <td>1</td>\n      <td>4</td>\n    </tr>\n    <tr>\n      <th>2</th>\n      <td>1반</td>\n      <td>3</td>\n      <td>1</td>\n      <td>0</td>\n    </tr>\n    <tr>\n      <th>3</th>\n      <td>1반</td>\n      <td>4</td>\n      <td>1</td>\n      <td>4</td>\n    </tr>\n    <tr>\n      <th>4</th>\n      <td>1반</td>\n      <td>5</td>\n      <td>1</td>\n      <td>4</td>\n    </tr>\n    <tr>\n      <th>...</th>\n      <td>...</td>\n      <td>...</td>\n      <td>...</td>\n      <td>...</td>\n    </tr>\n    <tr>\n      <th>1895</th>\n      <td>2반</td>\n      <td>72</td>\n      <td>25</td>\n      <td>4</td>\n    </tr>\n    <tr>\n      <th>1896</th>\n      <td>2반</td>\n      <td>73</td>\n      <td>25</td>\n      <td>0</td>\n    </tr>\n    <tr>\n      <th>1897</th>\n      <td>2반</td>\n      <td>74</td>\n      <td>25</td>\n      <td>4</td>\n    </tr>\n    <tr>\n      <th>1898</th>\n      <td>2반</td>\n      <td>75</td>\n      <td>25</td>\n      <td>0</td>\n    </tr>\n    <tr>\n      <th>1899</th>\n      <td>2반</td>\n      <td>76</td>\n      <td>25</td>\n      <td>4</td>\n    </tr>\n  </tbody>\n</table>\n<p>1900 rows × 4 columns</p>\n</div>"
     },
     "execution_count": 165,
     "metadata": {},
     "output_type": "execute_result"
    }
   ],
   "source": [
    "scores_long = pd.melt(scores, id_vars=['class', 'id'], var_name='question', value_name='score')\n",
    "scores_long"
   ],
   "metadata": {
    "collapsed": false,
    "ExecuteTime": {
     "start_time": "2023-06-09T00:21:25.667601Z",
     "end_time": "2023-06-09T00:21:25.793514Z"
    }
   }
  },
  {
   "cell_type": "markdown",
   "metadata": {
    "tags": []
   },
   "source": [
    "### scores_long 에서 학생별 점수 구하기 (groupby, sum)"
   ]
  },
  {
   "cell_type": "code",
   "execution_count": 172,
   "outputs": [
    {
     "data": {
      "text/plain": "id\n1     40\n2     56\n3     40\n4     88\n5     60\n      ..\n72    72\n73    48\n74    52\n75     0\n76    52\nName: score, Length: 76, dtype: int32"
     },
     "execution_count": 172,
     "metadata": {},
     "output_type": "execute_result"
    }
   ],
   "source": [
    "scores_long.groupby('id').score.sum()"
   ],
   "metadata": {
    "collapsed": false,
    "ExecuteTime": {
     "start_time": "2023-06-09T00:22:57.802235Z",
     "end_time": "2023-06-09T00:22:57.890998Z"
    }
   }
  },
  {
   "cell_type": "markdown",
   "metadata": {},
   "source": [
    "### scores_long 에서 반/학생별 평균 점수 구하여 class_scores 변수에 저장하기 (groupby, sum, reset_index)"
   ]
  },
  {
   "cell_type": "code",
   "execution_count": 179,
   "outputs": [],
   "source": [
    "class_scores = scores_long.groupby(['class', 'id'])['score'].sum().reset_index()"
   ],
   "metadata": {
    "collapsed": false,
    "ExecuteTime": {
     "start_time": "2023-06-09T00:24:15.649772Z",
     "end_time": "2023-06-09T00:24:15.744792Z"
    }
   }
  },
  {
   "cell_type": "markdown",
   "metadata": {},
   "source": [
    "### class_scores에서 반별 평균 점수 구하기 (groupby, mean)"
   ]
  },
  {
   "cell_type": "code",
   "execution_count": 181,
   "outputs": [
    {
     "data": {
      "text/plain": "class\n1반    25.789474\n2반    23.526316\nName: score, dtype: float64"
     },
     "execution_count": 181,
     "metadata": {},
     "output_type": "execute_result"
    }
   ],
   "source": [
    "class_scores.groupby('class')['score'].mean()"
   ],
   "metadata": {
    "collapsed": false,
    "ExecuteTime": {
     "start_time": "2023-06-09T00:25:02.537816Z",
     "end_time": "2023-06-09T00:25:02.647406Z"
    }
   }
  },
  {
   "cell_type": "markdown",
   "metadata": {},
   "source": [
    "### class_scores에서 반별 기술통계 항목 구하기 (groupby, describe)"
   ]
  },
  {
   "cell_type": "code",
   "execution_count": 182,
   "outputs": [
    {
     "data": {
      "text/plain": "       count       mean        std  min  25%   50%   75%   max\nclass                                                         \n1반      76.0  25.789474  28.430179  0.0  0.0  10.0  48.0  88.0\n2반      76.0  23.526316  27.542681  0.0  0.0   0.0  48.0  88.0",
      "text/html": "<div>\n<style scoped>\n    .dataframe tbody tr th:only-of-type {\n        vertical-align: middle;\n    }\n\n    .dataframe tbody tr th {\n        vertical-align: top;\n    }\n\n    .dataframe thead th {\n        text-align: right;\n    }\n</style>\n<table border=\"1\" class=\"dataframe\">\n  <thead>\n    <tr style=\"text-align: right;\">\n      <th></th>\n      <th>count</th>\n      <th>mean</th>\n      <th>std</th>\n      <th>min</th>\n      <th>25%</th>\n      <th>50%</th>\n      <th>75%</th>\n      <th>max</th>\n    </tr>\n    <tr>\n      <th>class</th>\n      <th></th>\n      <th></th>\n      <th></th>\n      <th></th>\n      <th></th>\n      <th></th>\n      <th></th>\n      <th></th>\n    </tr>\n  </thead>\n  <tbody>\n    <tr>\n      <th>1반</th>\n      <td>76.0</td>\n      <td>25.789474</td>\n      <td>28.430179</td>\n      <td>0.0</td>\n      <td>0.0</td>\n      <td>10.0</td>\n      <td>48.0</td>\n      <td>88.0</td>\n    </tr>\n    <tr>\n      <th>2반</th>\n      <td>76.0</td>\n      <td>23.526316</td>\n      <td>27.542681</td>\n      <td>0.0</td>\n      <td>0.0</td>\n      <td>0.0</td>\n      <td>48.0</td>\n      <td>88.0</td>\n    </tr>\n  </tbody>\n</table>\n</div>"
     },
     "execution_count": 182,
     "metadata": {},
     "output_type": "execute_result"
    }
   ],
   "source": [
    "class_scores.groupby('class')['score'].describe()"
   ],
   "metadata": {
    "collapsed": false,
    "ExecuteTime": {
     "start_time": "2023-06-09T00:25:25.377062Z",
     "end_time": "2023-06-09T00:25:25.672273Z"
    }
   }
  },
  {
   "cell_type": "markdown",
   "metadata": {
    "jp-MarkdownHeadingCollapsed": true,
    "tags": []
   },
   "source": [
    "# 4. Regular Expression\n",
    "***"
   ]
  },
  {
   "cell_type": "markdown",
   "metadata": {
    "tags": []
   },
   "source": [
    "## 4.1 문자열에서 찾기"
   ]
  },
  {
   "cell_type": "code",
   "execution_count": 183,
   "metadata": {
    "ExecuteTime": {
     "start_time": "2023-06-09T00:25:27.853887Z",
     "end_time": "2023-06-09T00:25:27.889688Z"
    }
   },
   "outputs": [],
   "source": [
    "import pandas as pd\n",
    "import re\n",
    "\n",
    "sample = \"\"\"\n",
    "750101-1123146 01012345677\n",
    "900201-2123121 010-2234-7799\n",
    "950722-2027193 010-2987-7222\n",
    "000321-3123142 011_1234_9087\n",
    "001105-4333127 010 4422 1485\n",
    "0009213876575  01045845987\n",
    "\"\"\""
   ]
  },
  {
   "cell_type": "markdown",
   "metadata": {},
   "source": [
    "### 전화번호 추출하기"
   ]
  },
  {
   "cell_type": "code",
   "execution_count": 185,
   "outputs": [
    {
     "name": "stdout",
     "output_type": "stream",
     "text": [
      "['01012345677', '010-2234-7799', '010-2987-7222', '011_1234_9087', '010 4422 1485', '01045845987']\n"
     ]
    }
   ],
   "source": [
    "p = re.compile('\\d{3}[-_\\s]?\\d{4}[-_\\s]?\\d{4}$', re.MULTILINE)\n",
    "print(p.findall(sample))"
   ],
   "metadata": {
    "collapsed": false,
    "ExecuteTime": {
     "start_time": "2023-06-09T00:26:35.049731Z",
     "end_time": "2023-06-09T00:26:35.105587Z"
    }
   }
  },
  {
   "cell_type": "markdown",
   "metadata": {
    "tags": []
   },
   "source": [
    "### 주민등록번호 추출하기"
   ]
  },
  {
   "cell_type": "code",
   "execution_count": 193,
   "outputs": [
    {
     "name": "stdout",
     "output_type": "stream",
     "text": [
      "['750101-1123146', '900201-2123121', '950722-2027193', '000321-3123142', '001105-4333127', '0009213876575']\n"
     ]
    }
   ],
   "source": [
    "p = re.compile('\\d{6}-?\\d{7}')\n",
    "print(p.findall(sample))"
   ],
   "metadata": {
    "collapsed": false,
    "ExecuteTime": {
     "start_time": "2023-06-09T00:30:14.954693Z",
     "end_time": "2023-06-09T00:30:15.020516Z"
    }
   }
  },
  {
   "cell_type": "markdown",
   "metadata": {},
   "source": [
    "### 여성 주민등록번호 추출하기"
   ]
  },
  {
   "cell_type": "code",
   "execution_count": 188,
   "outputs": [
    {
     "name": "stdout",
     "output_type": "stream",
     "text": [
      "['900201-2123121', '950722-2027193', '001105-4333127']\n"
     ]
    }
   ],
   "source": [
    "p = re.compile('\\d{6}-?[24]\\d{6}')\n",
    "print(p.findall(sample))"
   ],
   "metadata": {
    "collapsed": false,
    "ExecuteTime": {
     "start_time": "2023-06-09T00:28:20.299171Z",
     "end_time": "2023-06-09T00:28:20.433809Z"
    }
   }
  },
  {
   "cell_type": "markdown",
   "metadata": {
    "tags": []
   },
   "source": [
    "## 4.2 데이터프레임에서 찾기"
   ]
  },
  {
   "cell_type": "code",
   "execution_count": 189,
   "outputs": [
    {
     "name": "stdout",
     "output_type": "stream",
     "text": [
      "                   Name        Born        Died  Age          Occupation\n",
      "0     Rosaline Franklin  1920-07-25  1958-04-16   37             Chemist\n",
      "1        William Gosset  1876-06-13  1937-10-16   61        Statistician\n",
      "2  Florence Nightingale  1820-05-12  1910-08-13   90               Nurse\n",
      "3           Marie Curie  1867-11-07  1934-07-04   66             Chemist\n",
      "4         Rachel Carson  1907-05-27  1964-04-14   56           Biologist\n",
      "5             John Snow  1813-03-15  1858-06-16   45           Physician\n",
      "6           Alan Turing  1912-06-23  1954-06-07   41  Computer Scientist\n",
      "7          Johann Gauss  1777-04-30  1855-02-23   77       Mathematician\n"
     ]
    }
   ],
   "source": [
    "scientists = pd.read_csv('../data/scientists.csv')\n",
    "print(scientists)"
   ],
   "metadata": {
    "collapsed": false,
    "ExecuteTime": {
     "start_time": "2023-06-09T00:28:30.094425Z",
     "end_time": "2023-06-09T00:28:30.431782Z"
    }
   }
  },
  {
   "cell_type": "markdown",
   "metadata": {},
   "source": [
    "### 5월에 태어난 과학자 추출"
   ]
  },
  {
   "cell_type": "code",
   "execution_count": 190,
   "outputs": [
    {
     "data": {
      "text/plain": "                   Name        Born        Died  Age Occupation\n2  Florence Nightingale  1820-05-12  1910-08-13   90      Nurse\n4         Rachel Carson  1907-05-27  1964-04-14   56  Biologist",
      "text/html": "<div>\n<style scoped>\n    .dataframe tbody tr th:only-of-type {\n        vertical-align: middle;\n    }\n\n    .dataframe tbody tr th {\n        vertical-align: top;\n    }\n\n    .dataframe thead th {\n        text-align: right;\n    }\n</style>\n<table border=\"1\" class=\"dataframe\">\n  <thead>\n    <tr style=\"text-align: right;\">\n      <th></th>\n      <th>Name</th>\n      <th>Born</th>\n      <th>Died</th>\n      <th>Age</th>\n      <th>Occupation</th>\n    </tr>\n  </thead>\n  <tbody>\n    <tr>\n      <th>2</th>\n      <td>Florence Nightingale</td>\n      <td>1820-05-12</td>\n      <td>1910-08-13</td>\n      <td>90</td>\n      <td>Nurse</td>\n    </tr>\n    <tr>\n      <th>4</th>\n      <td>Rachel Carson</td>\n      <td>1907-05-27</td>\n      <td>1964-04-14</td>\n      <td>56</td>\n      <td>Biologist</td>\n    </tr>\n  </tbody>\n</table>\n</div>"
     },
     "execution_count": 190,
     "metadata": {},
     "output_type": "execute_result"
    }
   ],
   "source": [
    "scientists[scientists['Born'].str.match('\\d{4}-05-\\d{2}')]"
   ],
   "metadata": {
    "collapsed": false,
    "ExecuteTime": {
     "start_time": "2023-06-09T00:29:00.284513Z",
     "end_time": "2023-06-09T00:29:00.396245Z"
    }
   }
  },
  {
   "cell_type": "markdown",
   "metadata": {},
   "source": [
    "### 성(last name)이 C로 시작하는 과학자 추출"
   ]
  },
  {
   "cell_type": "code",
   "execution_count": 195,
   "outputs": [
    {
     "data": {
      "text/plain": "            Name        Born        Died  Age Occupation\n3    Marie Curie  1867-11-07  1934-07-04   66    Chemist\n4  Rachel Carson  1907-05-27  1964-04-14   56  Biologist",
      "text/html": "<div>\n<style scoped>\n    .dataframe tbody tr th:only-of-type {\n        vertical-align: middle;\n    }\n\n    .dataframe tbody tr th {\n        vertical-align: top;\n    }\n\n    .dataframe thead th {\n        text-align: right;\n    }\n</style>\n<table border=\"1\" class=\"dataframe\">\n  <thead>\n    <tr style=\"text-align: right;\">\n      <th></th>\n      <th>Name</th>\n      <th>Born</th>\n      <th>Died</th>\n      <th>Age</th>\n      <th>Occupation</th>\n    </tr>\n  </thead>\n  <tbody>\n    <tr>\n      <th>3</th>\n      <td>Marie Curie</td>\n      <td>1867-11-07</td>\n      <td>1934-07-04</td>\n      <td>66</td>\n      <td>Chemist</td>\n    </tr>\n    <tr>\n      <th>4</th>\n      <td>Rachel Carson</td>\n      <td>1907-05-27</td>\n      <td>1964-04-14</td>\n      <td>56</td>\n      <td>Biologist</td>\n    </tr>\n  </tbody>\n</table>\n</div>"
     },
     "execution_count": 195,
     "metadata": {},
     "output_type": "execute_result"
    }
   ],
   "source": [
    "scientists[scientists['Name'].str.match('\\w+\\s[cC]\\w+')]"
   ],
   "metadata": {
    "collapsed": false,
    "ExecuteTime": {
     "start_time": "2023-06-09T00:30:35.228323Z",
     "end_time": "2023-06-09T00:30:35.303122Z"
    }
   }
  }
 ],
 "metadata": {
  "kernelspec": {
   "name": "python3",
   "language": "python",
   "display_name": "Python 3 (ipykernel)"
  },
  "language_info": {
   "codemirror_mode": {
    "name": "ipython",
    "version": 3
   },
   "file_extension": ".py",
   "mimetype": "text/x-python",
   "name": "python",
   "nbconvert_exporter": "python",
   "pygments_lexer": "ipython3",
   "version": "3.9.12"
  }
 },
 "nbformat": 4,
 "nbformat_minor": 4
}
